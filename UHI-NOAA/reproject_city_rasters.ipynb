{
 "cells": [
  {
   "cell_type": "code",
   "execution_count": 1,
   "metadata": {},
   "outputs": [],
   "source": [
    "import urllib.request\n",
    "import gzip\n",
    "import zipfile\n",
    "import pandas as pd\n",
    "import geopandas as gpd\n",
    "import os\n",
    "from scipy import stats\n",
    "import matplotlib.pyplot as plt\n",
    "import rasterio as rio\n",
    "import numpy as np\n",
    "from pyproj import Proj, transform\n",
    "from scipy.spatial import cKDTree  \n",
    "from scipy import stats\n",
    "from shapely.geometry import Point\n",
    "import urllib.request\n",
    "\n",
    "from sklearn import linear_model\n",
    "from osgeo import gdal\n",
    "\n",
    "%matplotlib inline\n",
    "plt.rcParams['figure.figsize'] = (14.0, 10.0) # larger plots"
   ]
  },
  {
   "cell_type": "code",
   "execution_count": 8,
   "metadata": {},
   "outputs": [],
   "source": [
    "mainDir= \"Cities_raster\" #directory with all the raster files\n",
    "newproj = \"+proj=moll +datum=WGS84 +ellps=WGS84 +units=m +no_defs\" #molleweide projection"
   ]
  },
  {
   "cell_type": "code",
   "execution_count": 68,
   "metadata": {},
   "outputs": [
    {
     "name": "stdout",
     "output_type": "stream",
     "text": [
      "Cities_raster/cities_moll/Xiamen.tif\n",
      "Cities_raster/cities_moll/Addis_Ababa.tif\n",
      "Cities_raster/cities_moll/Aracaju.tif\n",
      "Cities_raster/cities_moll/Bahia_Blanca.tif\n",
      "Cities_raster/cities_moll/Bangkok.tif\n",
      "Cities_raster/cities_moll/Barcelona.tif\n",
      "Cities_raster/cities_moll/Bogor.tif\n",
      "Cities_raster/cities_moll/Bologna.tif\n",
      "Cities_raster/cities_moll/Caracas.tif\n",
      "Cities_raster/cities_moll/Chandigarh.tif\n",
      "Cities_raster/cities_moll/Changsha.tif\n",
      "Cities_raster/cities_moll/Changsha.tif\n",
      "Cities_raster/cities_moll/Colombo.tif\n",
      "Cities_raster/cities_moll/Dar_es_Salaam.tif\n",
      "Cities_raster/cities_moll/Faisalabad.tif\n",
      "Cities_raster/cities_moll/Guangzhou.tif\n",
      "Cities_raster/cities_moll/Hangzhou.tif\n",
      "Cities_raster/cities_moll/Hong_Kong.tif\n",
      "Cities_raster/cities_moll/Houston.tif\n",
      "Cities_raster/cities_moll/Johannesburg.tif\n",
      "Cities_raster/cities_moll/Khartoum.tif\n",
      "Cities_raster/cities_moll/Kolkata.tif\n",
      "Cities_raster/cities_moll/Kuala_Lumpur.tif\n",
      "Cities_raster/cities_moll/Lima.tif\n",
      "Cities_raster/cities_moll/Matsuyama.tif\n",
      "Cities_raster/cities_moll/Mexico_City.tif\n",
      "Cities_raster/cities_moll/Milan.tif\n",
      "Cities_raster/cities_moll/Montevideo.tif\n",
      "Cities_raster/cities_moll/Nanjing.tif\n",
      "Cities_raster/cities_moll/Phoenix.tif\n",
      "Cities_raster/cities_moll/Phoenix.tif\n",
      "Cities_raster/cities_moll/Rio_de_Janeiro.tif\n",
      "Cities_raster/cities_moll/San_Juan.tif\n",
      "Cities_raster/cities_moll/Sao_Paulo.tif\n",
      "Cities_raster/cities_moll/Sfax.tif\n",
      "Cities_raster/cities_moll/Shanghai.tif\n",
      "Cities_raster/cities_moll/Singapore.tif\n",
      "Cities_raster/cities_moll/Suzhou.tif\n",
      "Cities_raster/cities_moll/Sydney.tif\n",
      "Cities_raster/cities_moll/Tainan.tif\n",
      "Cities_raster/cities_moll/Thessaloniki.tif\n",
      "Cities_raster/cities_moll/Venice.tif\n",
      "Cities_raster/cities_moll/Vitoria.tif\n",
      "Cities_raster/cities_moll/Washington_DC.tif\n",
      "Cities_raster/cities_moll/Wuhan.tif\n",
      "Cities_raster/cities_moll/Wuxi.tif\n",
      "Cities_raster/cities_moll/Xiamen.tif\n"
     ]
    }
   ],
   "source": [
    "#loop through the files in the folder, reprojects them to moll and saves the new rasters in a new folder\n",
    "\n",
    "for filename in os.listdir(mainDir):\n",
    "    if filename.endswith('.tif'):\n",
    "        inputras=gdal.Open(os.path.join(r\"Cities_raster/\", filename))\n",
    "        outputras=os.path.join(r\"Cities_raster/cities_moll/\", filename)\n",
    "        gdal.Warp(outputras, inputras, dstSRS=newproj)\n",
    "    print(outputras)"
   ]
  },
  {
   "cell_type": "code",
   "execution_count": null,
   "metadata": {},
   "outputs": [],
   "source": [
    "#This code is to reproject the rasters individually\n",
    "\n",
    "filename=r\"Cities_raster/Addis_Ababa.tif\"\n",
    "inputras=gdal.Open(filename)\n",
    "outputras=r\"Cities_raster/cities_moll/Addis_Ababa_moll.tif\"\n",
    "\n",
    "gdal.Warp(outputras, inputras, dstSRS='+proj=moll +lon_0=0 +x_0=0 +y_0=0 +datum=WGS84 +units=m +no_defs')\n"
   ]
  }
 ],
 "metadata": {
  "kernelspec": {
   "display_name": "Python 3",
   "language": "python",
   "name": "python3"
  },
  "language_info": {
   "codemirror_mode": {
    "name": "ipython",
    "version": 3
   },
   "file_extension": ".py",
   "mimetype": "text/x-python",
   "name": "python",
   "nbconvert_exporter": "python",
   "pygments_lexer": "ipython3",
   "version": "3.7.6"
  }
 },
 "nbformat": 4,
 "nbformat_minor": 4
}
