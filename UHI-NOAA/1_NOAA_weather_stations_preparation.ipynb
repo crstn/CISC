{
 "cells": [
  {
   "cell_type": "markdown",
   "metadata": {
    "colab_type": "text",
    "id": "YwFA50NyM_Sh"
   },
   "source": [
    "# Part 1: Data preparation\n",
    "\n",
    "We'll try to figure out whether there is a systematic relationship between elevated urban air temperatures and population density based on an archive of weather station data from [NOAA's GHCN](https://www.ncdc.noaa.gov/data-access/land-based-station-data/land-based-datasets/global-historical-climatology-network-ghcn) and population data from the [GHSL](https://ghsl.jrc.ec.europa.eu/). \n",
    "\n",
    "This notebook prepares the station data by joining information about population numbers at different points in time, region, climate zone, and nearest neighbor station to it.\n",
    "\n",
    "\n",
    "# ⚠ \n",
    "\n",
    "Some parts of this analysis take quite a while. Look for the fields marked with a \n",
    "\n",
    "# 🏁\n",
    "\n",
    "these indicate where intermediate results have been stored and can simply be re-used instead of running the analysis again.\n",
    "\n",
    "Import some libraries we'll use:\n"
   ]
  },
  {
   "cell_type": "code",
   "execution_count": 6,
   "metadata": {
    "colab": {},
    "colab_type": "code",
    "id": "_-6gbN01F4cC"
   },
   "outputs": [],
   "source": [
    "import urllib.request\n",
    "import gzip\n",
    "import zipfile\n",
    "import pandas as pd\n",
    "import geopandas as gpd\n",
    "import os\n",
    "from scipy import stats\n",
    "import matplotlib.pyplot as plt\n",
    "import rasterio as rio\n",
    "import numpy as np\n",
    "from pyproj import Proj, transform\n",
    "from scipy.spatial import cKDTree  \n",
    "from scipy import stats\n",
    "from shapely.geometry import Point\n",
    "import urllib.request\n",
    "from rasterstats import zonal_stats\n",
    "\n",
    "from sklearn import linear_model\n",
    "\n",
    "%matplotlib inline\n",
    "plt.rcParams['figure.figsize'] = (14.0, 10.0) # larger plots"
   ]
  },
  {
   "cell_type": "markdown",
   "metadata": {
    "colab_type": "text",
    "id": "nDGnYKEztMSA"
   },
   "source": [
    "# Get NOAA weather stations\n",
    "\n",
    "First, let's get the [list of NOAA weather stations](https://www1.ncdc.noaa.gov/pub/data/ghcn/daily/ghcnd-stations.txt) so that we have a lat/lon location for each:\n",
    "\n",
    "🏁"
   ]
  },
  {
   "cell_type": "code",
   "execution_count": 4,
   "metadata": {
    "colab": {
     "base_uri": "https://localhost:8080/",
     "height": 206
    },
    "colab_type": "code",
    "id": "s6malE0lr16p",
    "outputId": "3a949fa6-fe36-4dea-ffdf-857b3f752aa7"
   },
   "outputs": [
    {
     "name": "stdout",
     "output_type": "stream",
     "text": [
      "Using online stations file directly.\n"
     ]
    },
    {
     "data": {
      "text/html": [
       "<div>\n",
       "<style scoped>\n",
       "    .dataframe tbody tr th:only-of-type {\n",
       "        vertical-align: middle;\n",
       "    }\n",
       "\n",
       "    .dataframe tbody tr th {\n",
       "        vertical-align: top;\n",
       "    }\n",
       "\n",
       "    .dataframe thead th {\n",
       "        text-align: right;\n",
       "    }\n",
       "</style>\n",
       "<table border=\"1\" class=\"dataframe\">\n",
       "  <thead>\n",
       "    <tr style=\"text-align: right;\">\n",
       "      <th></th>\n",
       "      <th>station</th>\n",
       "      <th>lat</th>\n",
       "      <th>lon</th>\n",
       "      <th>elevation</th>\n",
       "      <th>name</th>\n",
       "    </tr>\n",
       "  </thead>\n",
       "  <tbody>\n",
       "    <tr>\n",
       "      <th>0</th>\n",
       "      <td>ACW00011604</td>\n",
       "      <td>17.1167</td>\n",
       "      <td>-61.7833</td>\n",
       "      <td>10.1</td>\n",
       "      <td>ST JOHNS COOLIDGE FLD</td>\n",
       "    </tr>\n",
       "    <tr>\n",
       "      <th>1</th>\n",
       "      <td>ACW00011647</td>\n",
       "      <td>17.1333</td>\n",
       "      <td>-61.7833</td>\n",
       "      <td>19.2</td>\n",
       "      <td>ST JOHNS</td>\n",
       "    </tr>\n",
       "    <tr>\n",
       "      <th>2</th>\n",
       "      <td>AE000041196</td>\n",
       "      <td>25.3330</td>\n",
       "      <td>55.5170</td>\n",
       "      <td>34.0</td>\n",
       "      <td>SHARJAH INTER. AIRP</td>\n",
       "    </tr>\n",
       "    <tr>\n",
       "      <th>3</th>\n",
       "      <td>AEM00041194</td>\n",
       "      <td>25.2550</td>\n",
       "      <td>55.3640</td>\n",
       "      <td>10.4</td>\n",
       "      <td>DUBAI INTL</td>\n",
       "    </tr>\n",
       "    <tr>\n",
       "      <th>4</th>\n",
       "      <td>AEM00041217</td>\n",
       "      <td>24.4330</td>\n",
       "      <td>54.6510</td>\n",
       "      <td>26.8</td>\n",
       "      <td>ABU DHABI INTL</td>\n",
       "    </tr>\n",
       "  </tbody>\n",
       "</table>\n",
       "</div>"
      ],
      "text/plain": [
       "       station      lat      lon  elevation                   name\n",
       "0  ACW00011604  17.1167 -61.7833       10.1  ST JOHNS COOLIDGE FLD\n",
       "1  ACW00011647  17.1333 -61.7833       19.2               ST JOHNS\n",
       "2  AE000041196  25.3330  55.5170       34.0    SHARJAH INTER. AIRP\n",
       "3  AEM00041194  25.2550  55.3640       10.4             DUBAI INTL\n",
       "4  AEM00041217  24.4330  54.6510       26.8         ABU DHABI INTL"
      ]
     },
     "execution_count": 4,
     "metadata": {},
     "output_type": "execute_result"
    }
   ],
   "source": [
    "file = 'ghcnd-stations.txt'\n",
    "\n",
    "if os.path.isfile(file):\n",
    "    print('Stations already downloaded, using local file.')\n",
    "else:\n",
    "    print('Using online stations file directly.')\n",
    "    file = 'https://www1.ncdc.noaa.gov/pub/data/ghcn/daily/ghcnd-stations.txt'\n",
    "\n",
    "# we are using 100000 rows here to let pandas figure out the column widths - this is a bit slower, \n",
    "# but makes sure that we get all the stations way out west or south correctly without chopping of the minus sign \n",
    "stations = pd.read_fwf(file, \n",
    "            infer_nrows=100000, # how many rows to use to infer the column widths\n",
    "            usecols = [0,1,2,3,5],\n",
    "            names = [\"station\", \"lat\", \"lon\", \"elevation\", \"name\"])\n",
    "\n",
    "stations.head()"
   ]
  },
  {
   "cell_type": "markdown",
   "metadata": {},
   "source": [
    "Check the range of the lat and lon columns to make sure the coordinates have been parsed correctly:"
   ]
  },
  {
   "cell_type": "code",
   "execution_count": 5,
   "metadata": {},
   "outputs": [
    {
     "name": "stdout",
     "output_type": "stream",
     "text": [
      "Lats go from -90.0 to 83.65\n",
      "Lons go from -179.983 to 179.32\n"
     ]
    }
   ],
   "source": [
    "print(f'Lats go from {stations.lat.min()} to {stations.lat.max()}')\n",
    "print(f'Lons go from {stations.lon.min()} to {stations.lon.max()}')"
   ]
  },
  {
   "cell_type": "markdown",
   "metadata": {
    "colab_type": "text",
    "id": "s0cvrcUPyifc"
   },
   "source": [
    "Pull out the country ID from the station column (first two letters):"
   ]
  },
  {
   "cell_type": "code",
   "execution_count": 6,
   "metadata": {
    "colab": {
     "base_uri": "https://localhost:8080/",
     "height": 206
    },
    "colab_type": "code",
    "id": "SgIQgawttmqa",
    "outputId": "43331dc8-8fef-4f8f-e7e1-d34d636c8e43"
   },
   "outputs": [
    {
     "data": {
      "text/html": [
       "<div>\n",
       "<style scoped>\n",
       "    .dataframe tbody tr th:only-of-type {\n",
       "        vertical-align: middle;\n",
       "    }\n",
       "\n",
       "    .dataframe tbody tr th {\n",
       "        vertical-align: top;\n",
       "    }\n",
       "\n",
       "    .dataframe thead th {\n",
       "        text-align: right;\n",
       "    }\n",
       "</style>\n",
       "<table border=\"1\" class=\"dataframe\">\n",
       "  <thead>\n",
       "    <tr style=\"text-align: right;\">\n",
       "      <th></th>\n",
       "      <th>station</th>\n",
       "      <th>lat</th>\n",
       "      <th>lon</th>\n",
       "      <th>elevation</th>\n",
       "      <th>name</th>\n",
       "      <th>country</th>\n",
       "    </tr>\n",
       "  </thead>\n",
       "  <tbody>\n",
       "    <tr>\n",
       "      <th>0</th>\n",
       "      <td>ACW00011604</td>\n",
       "      <td>17.1167</td>\n",
       "      <td>-61.7833</td>\n",
       "      <td>10.1</td>\n",
       "      <td>ST JOHNS COOLIDGE FLD</td>\n",
       "      <td>AC</td>\n",
       "    </tr>\n",
       "    <tr>\n",
       "      <th>1</th>\n",
       "      <td>ACW00011647</td>\n",
       "      <td>17.1333</td>\n",
       "      <td>-61.7833</td>\n",
       "      <td>19.2</td>\n",
       "      <td>ST JOHNS</td>\n",
       "      <td>AC</td>\n",
       "    </tr>\n",
       "    <tr>\n",
       "      <th>2</th>\n",
       "      <td>AE000041196</td>\n",
       "      <td>25.3330</td>\n",
       "      <td>55.5170</td>\n",
       "      <td>34.0</td>\n",
       "      <td>SHARJAH INTER. AIRP</td>\n",
       "      <td>AE</td>\n",
       "    </tr>\n",
       "    <tr>\n",
       "      <th>3</th>\n",
       "      <td>AEM00041194</td>\n",
       "      <td>25.2550</td>\n",
       "      <td>55.3640</td>\n",
       "      <td>10.4</td>\n",
       "      <td>DUBAI INTL</td>\n",
       "      <td>AE</td>\n",
       "    </tr>\n",
       "    <tr>\n",
       "      <th>4</th>\n",
       "      <td>AEM00041217</td>\n",
       "      <td>24.4330</td>\n",
       "      <td>54.6510</td>\n",
       "      <td>26.8</td>\n",
       "      <td>ABU DHABI INTL</td>\n",
       "      <td>AE</td>\n",
       "    </tr>\n",
       "  </tbody>\n",
       "</table>\n",
       "</div>"
      ],
      "text/plain": [
       "       station      lat      lon  elevation                   name country\n",
       "0  ACW00011604  17.1167 -61.7833       10.1  ST JOHNS COOLIDGE FLD      AC\n",
       "1  ACW00011647  17.1333 -61.7833       19.2               ST JOHNS      AC\n",
       "2  AE000041196  25.3330  55.5170       34.0    SHARJAH INTER. AIRP      AE\n",
       "3  AEM00041194  25.2550  55.3640       10.4             DUBAI INTL      AE\n",
       "4  AEM00041217  24.4330  54.6510       26.8         ABU DHABI INTL      AE"
      ]
     },
     "execution_count": 6,
     "metadata": {},
     "output_type": "execute_result"
    }
   ],
   "source": [
    "stations[\"country\"] = stations[\"station\"].astype(str).str[0:2]\n",
    "stations.head()"
   ]
  },
  {
   "cell_type": "markdown",
   "metadata": {},
   "source": [
    "Since the GHSL data we'll be using later is in Mollweide projection, we'll need to [project](https://github.com/pyproj4/pyproj) the lat/lon to the World Mollweide projection that the raster uses and pick up the values at those projected coordinates:\n",
    "\n",
    "🏁"
   ]
  },
  {
   "cell_type": "code",
   "execution_count": 7,
   "metadata": {},
   "outputs": [
    {
     "name": "stderr",
     "output_type": "stream",
     "text": [
      "/Users/carsten/miniconda3/envs/UHI-NOAA/lib/python3.7/site-packages/pyproj/crs/crs.py:53: FutureWarning: '+init=<authority>:<code>' syntax is deprecated. '<authority>:<code>' is the preferred initialization method. When making the change, be mindful of axis order changes: https://pyproj4.github.io/pyproj/stable/gotchas.html#axis-order-changes-in-proj-6\n",
      "  return _prepare_from_string(\" \".join(pjargs))\n",
      "/Users/carsten/miniconda3/envs/UHI-NOAA/lib/python3.7/site-packages/pyproj/crs/crs.py:294: FutureWarning: '+init=<authority>:<code>' syntax is deprecated. '<authority>:<code>' is the preferred initialization method. When making the change, be mindful of axis order changes: https://pyproj4.github.io/pyproj/stable/gotchas.html#axis-order-changes-in-proj-6\n",
      "  projstring = _prepare_from_string(\" \".join((projstring, projkwargs)))\n"
     ]
    },
    {
     "data": {
      "text/html": [
       "<div>\n",
       "<style scoped>\n",
       "    .dataframe tbody tr th:only-of-type {\n",
       "        vertical-align: middle;\n",
       "    }\n",
       "\n",
       "    .dataframe tbody tr th {\n",
       "        vertical-align: top;\n",
       "    }\n",
       "\n",
       "    .dataframe thead th {\n",
       "        text-align: right;\n",
       "    }\n",
       "</style>\n",
       "<table border=\"1\" class=\"dataframe\">\n",
       "  <thead>\n",
       "    <tr style=\"text-align: right;\">\n",
       "      <th></th>\n",
       "      <th>station</th>\n",
       "      <th>lat</th>\n",
       "      <th>lon</th>\n",
       "      <th>elevation</th>\n",
       "      <th>name</th>\n",
       "      <th>country</th>\n",
       "      <th>mollX</th>\n",
       "      <th>mollY</th>\n",
       "    </tr>\n",
       "  </thead>\n",
       "  <tbody>\n",
       "    <tr>\n",
       "      <th>0</th>\n",
       "      <td>ACW00011604</td>\n",
       "      <td>17.1167</td>\n",
       "      <td>-61.7833</td>\n",
       "      <td>10.1</td>\n",
       "      <td>ST JOHNS COOLIDGE FLD</td>\n",
       "      <td>AC</td>\n",
       "      <td>-6.021233e+06</td>\n",
       "      <td>2.104299e+06</td>\n",
       "    </tr>\n",
       "    <tr>\n",
       "      <th>1</th>\n",
       "      <td>ACW00011647</td>\n",
       "      <td>17.1333</td>\n",
       "      <td>-61.7833</td>\n",
       "      <td>19.2</td>\n",
       "      <td>ST JOHNS</td>\n",
       "      <td>AC</td>\n",
       "      <td>-6.020901e+06</td>\n",
       "      <td>2.106316e+06</td>\n",
       "    </tr>\n",
       "    <tr>\n",
       "      <th>2</th>\n",
       "      <td>AE000041196</td>\n",
       "      <td>25.3330</td>\n",
       "      <td>55.5170</td>\n",
       "      <td>34.0</td>\n",
       "      <td>SHARJAH INTER. AIRP</td>\n",
       "      <td>AE</td>\n",
       "      <td>5.226731e+06</td>\n",
       "      <td>3.092960e+06</td>\n",
       "    </tr>\n",
       "    <tr>\n",
       "      <th>3</th>\n",
       "      <td>AEM00041194</td>\n",
       "      <td>25.2550</td>\n",
       "      <td>55.3640</td>\n",
       "      <td>10.4</td>\n",
       "      <td>DUBAI INTL</td>\n",
       "      <td>AE</td>\n",
       "      <td>5.214407e+06</td>\n",
       "      <td>3.083680e+06</td>\n",
       "    </tr>\n",
       "    <tr>\n",
       "      <th>4</th>\n",
       "      <td>AEM00041217</td>\n",
       "      <td>24.4330</td>\n",
       "      <td>54.6510</td>\n",
       "      <td>26.8</td>\n",
       "      <td>ABU DHABI INTL</td>\n",
       "      <td>AE</td>\n",
       "      <td>5.168502e+06</td>\n",
       "      <td>2.985740e+06</td>\n",
       "    </tr>\n",
       "  </tbody>\n",
       "</table>\n",
       "</div>"
      ],
      "text/plain": [
       "       station      lat      lon  elevation                   name country  \\\n",
       "0  ACW00011604  17.1167 -61.7833       10.1  ST JOHNS COOLIDGE FLD      AC   \n",
       "1  ACW00011647  17.1333 -61.7833       19.2               ST JOHNS      AC   \n",
       "2  AE000041196  25.3330  55.5170       34.0    SHARJAH INTER. AIRP      AE   \n",
       "3  AEM00041194  25.2550  55.3640       10.4             DUBAI INTL      AE   \n",
       "4  AEM00041217  24.4330  54.6510       26.8         ABU DHABI INTL      AE   \n",
       "\n",
       "          mollX         mollY  \n",
       "0 -6.021233e+06  2.104299e+06  \n",
       "1 -6.020901e+06  2.106316e+06  \n",
       "2  5.226731e+06  3.092960e+06  \n",
       "3  5.214407e+06  3.083680e+06  \n",
       "4  5.168502e+06  2.985740e+06  "
      ]
     },
     "execution_count": 7,
     "metadata": {},
     "output_type": "execute_result"
    }
   ],
   "source": [
    "file = 'stations_moll.csv'\n",
    "\n",
    "if os.path.isfile(file):\n",
    "    print('Stations already projected to Mollweide, using local file.')\n",
    "    stations = pd.read_csv(file, index_col=0)\n",
    "else:\n",
    "    inProj = Proj(init='epsg:4326')   # lat/lon \n",
    "    outProj = Proj('+proj=moll +lon_0=0 +x_0=0 +y_0=0 +datum=WGS84 +units=m +no_defs', preserve_flags=True) # Mollweide\n",
    "\n",
    "    projectedLocations = []\n",
    "\n",
    "    # go through the list of stations and project each one to Mollweide\n",
    "    for index, station in stations.iterrows():\n",
    "        projectedLocations.append((transform(inProj,outProj,station['lon'],station['lat'])))\n",
    "\n",
    "    # add the projected coordinates back to the stations dataframe\n",
    "    stations['mollX'], stations['mollY'] = zip(*projectedLocations)  # 'unzip' with the *\n",
    "    stations.to_csv(file)\n",
    "\n",
    "\n",
    "stations.head()"
   ]
  },
  {
   "cell_type": "markdown",
   "metadata": {},
   "source": [
    "# Spatial Index\n",
    "\n",
    "Next, we'll build a spatial index of the stations, so we can quickly look up the nearest neighbors of any station. We'll be using the [scipy.spatial.cKDTree](https://docs.scipy.org/doc/scipy/reference/generated/scipy.spatial.cKDTree.query.html) (based on [this hint](https://gis.stackexchange.com/a/301935/33224).). For that, we'll pull out just the Mollweide coordinates and build the index based on those (otherwise SciPy will make a multidimensional index using all columns):"
   ]
  },
  {
   "cell_type": "code",
   "execution_count": 8,
   "metadata": {},
   "outputs": [],
   "source": [
    "stationsIndex = cKDTree(stations[['mollX','mollY']].values)"
   ]
  },
  {
   "cell_type": "markdown",
   "metadata": {},
   "source": [
    "Let's try to find the closest stations to a specific one by name:"
   ]
  },
  {
   "cell_type": "code",
   "execution_count": 9,
   "metadata": {},
   "outputs": [],
   "source": [
    "def queryStation(stationID, stations, stationsIndex, k=1):\n",
    "    queryCoords = stations[stations.station==stationID][['mollX','mollY']].values\n",
    "    dd, ii = stationsIndex.query(queryCoords, \n",
    "                             k=range(2,2+k), # start at 2, otherwise we get the station itself as first result\n",
    "                             n_jobs=-1,      # use all CPUs\n",
    "                             p=2   )         # p-norm 2 = euclidian distance\n",
    "    \n",
    "    knn = stations.iloc[ii[0]]\n",
    "    knn = knn.copy()  # otherwise we might be modifying the stations dataframe...\n",
    "    knn['distance'] = dd[0]\n",
    "    return knn"
   ]
  },
  {
   "cell_type": "markdown",
   "metadata": {},
   "source": [
    "Test:"
   ]
  },
  {
   "cell_type": "code",
   "execution_count": 10,
   "metadata": {
    "scrolled": true
   },
   "outputs": [
    {
     "data": {
      "text/html": [
       "<div>\n",
       "<style scoped>\n",
       "    .dataframe tbody tr th:only-of-type {\n",
       "        vertical-align: middle;\n",
       "    }\n",
       "\n",
       "    .dataframe tbody tr th {\n",
       "        vertical-align: top;\n",
       "    }\n",
       "\n",
       "    .dataframe thead th {\n",
       "        text-align: right;\n",
       "    }\n",
       "</style>\n",
       "<table border=\"1\" class=\"dataframe\">\n",
       "  <thead>\n",
       "    <tr style=\"text-align: right;\">\n",
       "      <th></th>\n",
       "      <th>station</th>\n",
       "      <th>lat</th>\n",
       "      <th>lon</th>\n",
       "      <th>elevation</th>\n",
       "      <th>name</th>\n",
       "      <th>country</th>\n",
       "      <th>mollX</th>\n",
       "      <th>mollY</th>\n",
       "      <th>distance</th>\n",
       "    </tr>\n",
       "  </thead>\n",
       "  <tbody>\n",
       "    <tr>\n",
       "      <th>47281</th>\n",
       "      <td>RQC00660053</td>\n",
       "      <td>18.1614</td>\n",
       "      <td>-66.7222</td>\n",
       "      <td>506.0</td>\n",
       "      <td>ADJUNTAS 1 S</td>\n",
       "      <td>RQ</td>\n",
       "      <td>-6.479289e+06</td>\n",
       "      <td>2.231113e+06</td>\n",
       "      <td>1924.820868</td>\n",
       "    </tr>\n",
       "    <tr>\n",
       "      <th>47406</th>\n",
       "      <td>RQC00668684</td>\n",
       "      <td>18.1333</td>\n",
       "      <td>-66.7333</td>\n",
       "      <td>868.7</td>\n",
       "      <td>SALTILLO 2 ADJUNTAS</td>\n",
       "      <td>RQ</td>\n",
       "      <td>-6.481011e+06</td>\n",
       "      <td>2.227706e+06</td>\n",
       "      <td>2060.888936</td>\n",
       "    </tr>\n",
       "    <tr>\n",
       "      <th>47341</th>\n",
       "      <td>RQC00664614</td>\n",
       "      <td>18.1506</td>\n",
       "      <td>-66.7719</td>\n",
       "      <td>2.7</td>\n",
       "      <td>HUMACAO NATURAL RESERVE</td>\n",
       "      <td>RQ</td>\n",
       "      <td>-6.484363e+06</td>\n",
       "      <td>2.229804e+06</td>\n",
       "      <td>3735.475164</td>\n",
       "    </tr>\n",
       "    <tr>\n",
       "      <th>47282</th>\n",
       "      <td>RQC00660061</td>\n",
       "      <td>18.1747</td>\n",
       "      <td>-66.7978</td>\n",
       "      <td>557.8</td>\n",
       "      <td>ADJUNTAS SUBSTN</td>\n",
       "      <td>RQ</td>\n",
       "      <td>-6.486324e+06</td>\n",
       "      <td>2.232726e+06</td>\n",
       "      <td>6435.610695</td>\n",
       "    </tr>\n",
       "    <tr>\n",
       "      <th>47384</th>\n",
       "      <td>RQC00666982</td>\n",
       "      <td>18.0833</td>\n",
       "      <td>-66.7333</td>\n",
       "      <td>349.9</td>\n",
       "      <td>PENUELAS SALTO GARZAS</td>\n",
       "      <td>RQ</td>\n",
       "      <td>-6.482155e+06</td>\n",
       "      <td>2.221642e+06</td>\n",
       "      <td>8231.252200</td>\n",
       "    </tr>\n",
       "  </tbody>\n",
       "</table>\n",
       "</div>"
      ],
      "text/plain": [
       "           station      lat      lon  elevation                     name  \\\n",
       "47281  RQC00660053  18.1614 -66.7222      506.0             ADJUNTAS 1 S   \n",
       "47406  RQC00668684  18.1333 -66.7333      868.7      SALTILLO 2 ADJUNTAS   \n",
       "47341  RQC00664614  18.1506 -66.7719        2.7  HUMACAO NATURAL RESERVE   \n",
       "47282  RQC00660061  18.1747 -66.7978      557.8          ADJUNTAS SUBSTN   \n",
       "47384  RQC00666982  18.0833 -66.7333      349.9    PENUELAS SALTO GARZAS   \n",
       "\n",
       "      country         mollX         mollY     distance  \n",
       "47281      RQ -6.479289e+06  2.231113e+06  1924.820868  \n",
       "47406      RQ -6.481011e+06  2.227706e+06  2060.888936  \n",
       "47341      RQ -6.484363e+06  2.229804e+06  3735.475164  \n",
       "47282      RQ -6.486324e+06  2.232726e+06  6435.610695  \n",
       "47384      RQ -6.482155e+06  2.221642e+06  8231.252200  "
      ]
     },
     "execution_count": 10,
     "metadata": {},
     "output_type": "execute_result"
    }
   ],
   "source": [
    "stationID = 'RQC00663871'   # GARZAS station\n",
    "queryStation(stationID, stations, stationsIndex, k=5)"
   ]
  },
  {
   "cell_type": "markdown",
   "metadata": {},
   "source": [
    "# Get [GHSL population data](https://ghsl.jrc.ec.europa.eu/ghs_pop.php) for 2015\n",
    "\n",
    "Download dir at http://cidportal.jrc.ec.europa.eu/ftp/jrc-opendata/GHSL/GHS_POP_GPW4_GLOBE_R2015A/\n",
    "\n",
    "At this point, we only use this dataset to make sure we only keep stations for which we actually have population data, and get rid of those in the far North and South (they are quite unlikely to experience UHI anyway... 🥶)\n",
    "\n",
    "🏁"
   ]
  },
  {
   "cell_type": "code",
   "execution_count": 11,
   "metadata": {},
   "outputs": [
    {
     "name": "stdout",
     "output_type": "stream",
     "text": [
      "Downloading data...\n",
      "Unzipping...\n",
      "Cleaning up...\n",
      "Done.\n"
     ]
    }
   ],
   "source": [
    "file = 'GHS_POP_GPW42015_GLOBE_R2015A_54009_250_v1_0/GHS_POP_GPW42015_GLOBE_R2015A_54009_250_v1_0.tif'\n",
    "file_zip = 'GHS_POP_GPW42015_GLOBE_R2015A_54009_250_v1_0.zip'\n",
    "\n",
    "if os.path.isfile(file):\n",
    "    print('GHSL population data for 2015 already downloaded.')\n",
    "else:\n",
    "    print('Downloading data...')\n",
    "    url = 'http://cidportal.jrc.ec.europa.eu/ftp/jrc-opendata/GHSL/GHS_POP_GPW4_GLOBE_R2015A/GHS_POP_GPW42015_GLOBE_R2015A_54009_250/V1-0/GHS_POP_GPW42015_GLOBE_R2015A_54009_250_v1_0.zip'\n",
    "    urllib.request.urlretrieve(url, file_zip)\n",
    "\n",
    "    print('Unzipping...')\n",
    "    zip_ref = zipfile.ZipFile(file_zip, 'r')\n",
    "    zip_ref.extractall('.')\n",
    "    zip_ref.close()\n",
    "\n",
    "    print('Cleaning up...')    \n",
    "    # remove the ZIP file and the extracted overview file - we don't need it and the .ovr file is huge (3GB!)\n",
    "    os.remove(file_zip)\n",
    "    os.remove('GHS_POP_GPW42015_GLOBE_R2015A_54009_250_v1_0/GHS_POP_GPW42015_GLOBE_R2015A_54009_250_v1_0.tif.ovr')\n",
    "    print('Done.')"
   ]
  },
  {
   "cell_type": "markdown",
   "metadata": {},
   "source": [
    "We'll use the data to assign each station an estimate of the population density in the GHSL cell that it is in. Since GHSL is in an equal area projection (i.e. all cells have the same area), we can safely do that.\n",
    "\n",
    "We'll use [rasterio's sample method](https://gis.stackexchange.com/questions/190423/getting-pixel-values-at-single-point-using-rasterio) for that. Let's read in the GeoTIFF first:"
   ]
  },
  {
   "cell_type": "code",
   "execution_count": 12,
   "metadata": {},
   "outputs": [
    {
     "data": {
      "text/plain": [
       "<open DatasetReader name='GHS_POP_GPW42015_GLOBE_R2015A_54009_250_v1_0/GHS_POP_GPW42015_GLOBE_R2015A_54009_250_v1_0.tif' mode='r'>"
      ]
     },
     "execution_count": 12,
     "metadata": {},
     "output_type": "execute_result"
    }
   ],
   "source": [
    "pop2015 = rio.open(file)\n",
    "pop2015"
   ]
  },
  {
   "cell_type": "markdown",
   "metadata": {},
   "source": [
    "Check that all coordinates are in the raster's bounding box:"
   ]
  },
  {
   "cell_type": "code",
   "execution_count": 13,
   "metadata": {
    "scrolled": true
   },
   "outputs": [
    {
     "name": "stdout",
     "output_type": "stream",
     "text": [
      "True\n",
      "True\n",
      "False\n",
      "False\n"
     ]
    }
   ],
   "source": [
    "print(min(stations['mollX']) > pop2015.bounds.left)\n",
    "print(max(stations['mollX']) < pop2015.bounds.right)\n",
    "\n",
    "print(min(stations['mollY']) > pop2015.bounds.bottom)\n",
    "print(max(stations['mollY']) < pop2015.bounds.top)"
   ]
  },
  {
   "cell_type": "markdown",
   "metadata": {},
   "source": [
    "Okay, so there are some stations North and South of our raster. Remove the stations that are outside of our raster bounding box (they are not really useful for our UHI analysis anyway, and [rasterio seems trip over them](https://gis.stackexchange.com/questions/323481/error-using-rasterios-sample-method)):"
   ]
  },
  {
   "cell_type": "code",
   "execution_count": 14,
   "metadata": {},
   "outputs": [
    {
     "name": "stdout",
     "output_type": "stream",
     "text": [
      "Before removal: 115082 stations.\n",
      "After removal: 114979 stations.\n"
     ]
    }
   ],
   "source": [
    "print(f'Before removal: {len(stations.index)} stations.')\n",
    "stations = stations.drop(stations[stations['mollY'] < pop2015.bounds.bottom].index)\n",
    "stations = stations.drop(stations[stations['mollY'] > pop2015.bounds.top].index)\n",
    "print(f'After removal: {len(stations.index)} stations.')"
   ]
  },
  {
   "cell_type": "markdown",
   "metadata": {},
   "source": [
    "Save to a CSV file again and re-build the spatial index, now that we have removed some stations:"
   ]
  },
  {
   "cell_type": "code",
   "execution_count": 15,
   "metadata": {},
   "outputs": [],
   "source": [
    "stations.to_csv('stations_moll_inraster.csv')\n",
    "stationsIndex = cKDTree(stations[['mollX','mollY']].values)"
   ]
  },
  {
   "cell_type": "markdown",
   "metadata": {},
   "source": [
    "Now we can use those remaining station locations to sample the raster and add a column with the population density in 2015:\n",
    "\n",
    "🏁"
   ]
  },
  {
   "cell_type": "code",
   "execution_count": 16,
   "metadata": {},
   "outputs": [
    {
     "data": {
      "text/html": [
       "<div>\n",
       "<style scoped>\n",
       "    .dataframe tbody tr th:only-of-type {\n",
       "        vertical-align: middle;\n",
       "    }\n",
       "\n",
       "    .dataframe tbody tr th {\n",
       "        vertical-align: top;\n",
       "    }\n",
       "\n",
       "    .dataframe thead th {\n",
       "        text-align: right;\n",
       "    }\n",
       "</style>\n",
       "<table border=\"1\" class=\"dataframe\">\n",
       "  <thead>\n",
       "    <tr style=\"text-align: right;\">\n",
       "      <th></th>\n",
       "      <th>station</th>\n",
       "      <th>lat</th>\n",
       "      <th>lon</th>\n",
       "      <th>elevation</th>\n",
       "      <th>name</th>\n",
       "      <th>country</th>\n",
       "      <th>mollX</th>\n",
       "      <th>mollY</th>\n",
       "      <th>pop2015</th>\n",
       "    </tr>\n",
       "  </thead>\n",
       "  <tbody>\n",
       "    <tr>\n",
       "      <th>0</th>\n",
       "      <td>ACW00011604</td>\n",
       "      <td>17.1167</td>\n",
       "      <td>-61.7833</td>\n",
       "      <td>10.1</td>\n",
       "      <td>ST JOHNS COOLIDGE FLD</td>\n",
       "      <td>AC</td>\n",
       "      <td>-6.021233e+06</td>\n",
       "      <td>2.104299e+06</td>\n",
       "      <td>0.000000</td>\n",
       "    </tr>\n",
       "    <tr>\n",
       "      <th>1</th>\n",
       "      <td>ACW00011647</td>\n",
       "      <td>17.1333</td>\n",
       "      <td>-61.7833</td>\n",
       "      <td>19.2</td>\n",
       "      <td>ST JOHNS</td>\n",
       "      <td>AC</td>\n",
       "      <td>-6.020901e+06</td>\n",
       "      <td>2.106316e+06</td>\n",
       "      <td>0.000000</td>\n",
       "    </tr>\n",
       "    <tr>\n",
       "      <th>2</th>\n",
       "      <td>AE000041196</td>\n",
       "      <td>25.3330</td>\n",
       "      <td>55.5170</td>\n",
       "      <td>34.0</td>\n",
       "      <td>SHARJAH INTER. AIRP</td>\n",
       "      <td>AE</td>\n",
       "      <td>5.226731e+06</td>\n",
       "      <td>3.092960e+06</td>\n",
       "      <td>0.000000</td>\n",
       "    </tr>\n",
       "    <tr>\n",
       "      <th>3</th>\n",
       "      <td>AEM00041194</td>\n",
       "      <td>25.2550</td>\n",
       "      <td>55.3640</td>\n",
       "      <td>10.4</td>\n",
       "      <td>DUBAI INTL</td>\n",
       "      <td>AE</td>\n",
       "      <td>5.214407e+06</td>\n",
       "      <td>3.083680e+06</td>\n",
       "      <td>103.520790</td>\n",
       "    </tr>\n",
       "    <tr>\n",
       "      <th>4</th>\n",
       "      <td>AEM00041217</td>\n",
       "      <td>24.4330</td>\n",
       "      <td>54.6510</td>\n",
       "      <td>26.8</td>\n",
       "      <td>ABU DHABI INTL</td>\n",
       "      <td>AE</td>\n",
       "      <td>5.168502e+06</td>\n",
       "      <td>2.985740e+06</td>\n",
       "      <td>180.376755</td>\n",
       "    </tr>\n",
       "  </tbody>\n",
       "</table>\n",
       "</div>"
      ],
      "text/plain": [
       "       station      lat      lon  elevation                   name country  \\\n",
       "0  ACW00011604  17.1167 -61.7833       10.1  ST JOHNS COOLIDGE FLD      AC   \n",
       "1  ACW00011647  17.1333 -61.7833       19.2               ST JOHNS      AC   \n",
       "2  AE000041196  25.3330  55.5170       34.0    SHARJAH INTER. AIRP      AE   \n",
       "3  AEM00041194  25.2550  55.3640       10.4             DUBAI INTL      AE   \n",
       "4  AEM00041217  24.4330  54.6510       26.8         ABU DHABI INTL      AE   \n",
       "\n",
       "          mollX         mollY     pop2015  \n",
       "0 -6.021233e+06  2.104299e+06    0.000000  \n",
       "1 -6.020901e+06  2.106316e+06    0.000000  \n",
       "2  5.226731e+06  3.092960e+06    0.000000  \n",
       "3  5.214407e+06  3.083680e+06  103.520790  \n",
       "4  5.168502e+06  2.985740e+06  180.376755  "
      ]
     },
     "execution_count": 16,
     "metadata": {},
     "output_type": "execute_result"
    }
   ],
   "source": [
    "file = 'stations_moll_inraster_pop2015.csv'\n",
    "\n",
    "if os.path.isfile(file):\n",
    "    print('Stations data with 2015 population already generated; reusing existing file.')\n",
    "    stations = pd.read_csv(file, index_col=0)\n",
    "else:\n",
    "\n",
    "    locations = list(zip(stations['mollX'], stations['mollY']))\n",
    "    pop2015col = []\n",
    "\n",
    "    for val in pop2015.sample(locations):\n",
    "        pop2015col.append(val[0])\n",
    "\n",
    "    # make this list a new column in our stations dataframe\n",
    "    stations['pop2015'] = pop2015col\n",
    "    stations.to_csv(file)\n",
    "\n",
    "stations.head()"
   ]
  },
  {
   "cell_type": "markdown",
   "metadata": {},
   "source": [
    "# Population 2000\n",
    "\n",
    "Download and attach the population data for 2000 the same way as above:"
   ]
  },
  {
   "cell_type": "code",
   "execution_count": 17,
   "metadata": {},
   "outputs": [
    {
     "name": "stdout",
     "output_type": "stream",
     "text": [
      "Downloading data...\n",
      "Unzipping...\n",
      "Cleaning up...\n",
      "Done.\n"
     ]
    }
   ],
   "source": [
    "file = 'GHS_POP_GPW42000_GLOBE_R2015A_54009_250_v1_0/GHS_POP_GPW42000_GLOBE_R2015A_54009_250_v1_0.tif'\n",
    "file_zip = 'GHS_POP_GPW42000_GLOBE_R2015A_54009_250_v1_0.zip'\n",
    "\n",
    "if os.path.isfile(file):\n",
    "    print('GHSL population data for 2000 already downloaded.')\n",
    "else:\n",
    "    print('Downloading data...')\n",
    "    url = 'http://cidportal.jrc.ec.europa.eu/ftp/jrc-opendata/GHSL/GHS_POP_GPW4_GLOBE_R2015A/GHS_POP_GPW42000_GLOBE_R2015A_54009_250/V1-0/GHS_POP_GPW42000_GLOBE_R2015A_54009_250_v1_0.zip'\n",
    "    urllib.request.urlretrieve(url, file_zip)\n",
    "\n",
    "    print('Unzipping...')\n",
    "    zip_ref = zipfile.ZipFile(file_zip, 'r')\n",
    "    zip_ref.extractall('.')\n",
    "    zip_ref.close()\n",
    "\n",
    "    print('Cleaning up...')    \n",
    "    # remove the ZIP file and the extracted overview file - we don't need it and the .ovr file is huge (3GB!)\n",
    "    os.remove(file_zip)\n",
    "    os.remove('GHS_POP_GPW42000_GLOBE_R2015A_54009_250_v1_0/GHS_POP_GPW42000_GLOBE_R2015A_54009_250_v1_0.tif.ovr')\n",
    "    print('Done.')\n",
    "\n",
    "pop2000 = rio.open(file)"
   ]
  },
  {
   "cell_type": "code",
   "execution_count": 18,
   "metadata": {},
   "outputs": [
    {
     "data": {
      "text/html": [
       "<div>\n",
       "<style scoped>\n",
       "    .dataframe tbody tr th:only-of-type {\n",
       "        vertical-align: middle;\n",
       "    }\n",
       "\n",
       "    .dataframe tbody tr th {\n",
       "        vertical-align: top;\n",
       "    }\n",
       "\n",
       "    .dataframe thead th {\n",
       "        text-align: right;\n",
       "    }\n",
       "</style>\n",
       "<table border=\"1\" class=\"dataframe\">\n",
       "  <thead>\n",
       "    <tr style=\"text-align: right;\">\n",
       "      <th></th>\n",
       "      <th>station</th>\n",
       "      <th>lat</th>\n",
       "      <th>lon</th>\n",
       "      <th>elevation</th>\n",
       "      <th>name</th>\n",
       "      <th>country</th>\n",
       "      <th>mollX</th>\n",
       "      <th>mollY</th>\n",
       "      <th>pop2015</th>\n",
       "      <th>pop2000</th>\n",
       "    </tr>\n",
       "  </thead>\n",
       "  <tbody>\n",
       "    <tr>\n",
       "      <th>0</th>\n",
       "      <td>ACW00011604</td>\n",
       "      <td>17.1167</td>\n",
       "      <td>-61.7833</td>\n",
       "      <td>10.1</td>\n",
       "      <td>ST JOHNS COOLIDGE FLD</td>\n",
       "      <td>AC</td>\n",
       "      <td>-6.021233e+06</td>\n",
       "      <td>2.104299e+06</td>\n",
       "      <td>0.000000</td>\n",
       "      <td>0.000000</td>\n",
       "    </tr>\n",
       "    <tr>\n",
       "      <th>1</th>\n",
       "      <td>ACW00011647</td>\n",
       "      <td>17.1333</td>\n",
       "      <td>-61.7833</td>\n",
       "      <td>19.2</td>\n",
       "      <td>ST JOHNS</td>\n",
       "      <td>AC</td>\n",
       "      <td>-6.020901e+06</td>\n",
       "      <td>2.106316e+06</td>\n",
       "      <td>0.000000</td>\n",
       "      <td>0.000000</td>\n",
       "    </tr>\n",
       "    <tr>\n",
       "      <th>2</th>\n",
       "      <td>AE000041196</td>\n",
       "      <td>25.3330</td>\n",
       "      <td>55.5170</td>\n",
       "      <td>34.0</td>\n",
       "      <td>SHARJAH INTER. AIRP</td>\n",
       "      <td>AE</td>\n",
       "      <td>5.226731e+06</td>\n",
       "      <td>3.092960e+06</td>\n",
       "      <td>0.000000</td>\n",
       "      <td>0.000000</td>\n",
       "    </tr>\n",
       "    <tr>\n",
       "      <th>3</th>\n",
       "      <td>AEM00041194</td>\n",
       "      <td>25.2550</td>\n",
       "      <td>55.3640</td>\n",
       "      <td>10.4</td>\n",
       "      <td>DUBAI INTL</td>\n",
       "      <td>AE</td>\n",
       "      <td>5.214407e+06</td>\n",
       "      <td>3.083680e+06</td>\n",
       "      <td>103.520790</td>\n",
       "      <td>16.931656</td>\n",
       "    </tr>\n",
       "    <tr>\n",
       "      <th>4</th>\n",
       "      <td>AEM00041217</td>\n",
       "      <td>24.4330</td>\n",
       "      <td>54.6510</td>\n",
       "      <td>26.8</td>\n",
       "      <td>ABU DHABI INTL</td>\n",
       "      <td>AE</td>\n",
       "      <td>5.168502e+06</td>\n",
       "      <td>2.985740e+06</td>\n",
       "      <td>180.376755</td>\n",
       "      <td>84.788246</td>\n",
       "    </tr>\n",
       "  </tbody>\n",
       "</table>\n",
       "</div>"
      ],
      "text/plain": [
       "       station      lat      lon  elevation                   name country  \\\n",
       "0  ACW00011604  17.1167 -61.7833       10.1  ST JOHNS COOLIDGE FLD      AC   \n",
       "1  ACW00011647  17.1333 -61.7833       19.2               ST JOHNS      AC   \n",
       "2  AE000041196  25.3330  55.5170       34.0    SHARJAH INTER. AIRP      AE   \n",
       "3  AEM00041194  25.2550  55.3640       10.4             DUBAI INTL      AE   \n",
       "4  AEM00041217  24.4330  54.6510       26.8         ABU DHABI INTL      AE   \n",
       "\n",
       "          mollX         mollY     pop2015    pop2000  \n",
       "0 -6.021233e+06  2.104299e+06    0.000000   0.000000  \n",
       "1 -6.020901e+06  2.106316e+06    0.000000   0.000000  \n",
       "2  5.226731e+06  3.092960e+06    0.000000   0.000000  \n",
       "3  5.214407e+06  3.083680e+06  103.520790  16.931656  \n",
       "4  5.168502e+06  2.985740e+06  180.376755  84.788246  "
      ]
     },
     "execution_count": 18,
     "metadata": {},
     "output_type": "execute_result"
    }
   ],
   "source": [
    "file = 'stations_moll_inraster_pop2015_2000.csv'\n",
    "\n",
    "if os.path.isfile(file):\n",
    "    print('Stations data with 2015 and 2000 population already generated; reusing existing file.')\n",
    "    stations = pd.read_csv(file, index_col=0)\n",
    "else:\n",
    "\n",
    "    locations = list(zip(stations['mollX'], stations['mollY']))\n",
    "    pop2000col = []\n",
    "\n",
    "    for val in pop2000.sample(locations):\n",
    "        pop2000col.append(val[0])\n",
    "\n",
    "    # make this list a new column in our stations dataframe\n",
    "    stations['pop2000'] = pop2000col\n",
    "    stations.to_csv(file)\n",
    "\n",
    "stations.head()"
   ]
  },
  {
   "cell_type": "markdown",
   "metadata": {},
   "source": [
    "# Population 1990\n",
    "\n",
    "Rinse and repeat..."
   ]
  },
  {
   "cell_type": "code",
   "execution_count": 19,
   "metadata": {},
   "outputs": [
    {
     "name": "stdout",
     "output_type": "stream",
     "text": [
      "Downloading data...\n",
      "Unzipping...\n",
      "Cleaning up...\n",
      "Done.\n"
     ]
    }
   ],
   "source": [
    "file = 'GHS_POP_GPW41990_GLOBE_R2015A_54009_250_v1_0/GHS_POP_GPW41990_GLOBE_R2015A_54009_250_v1_0.tif'\n",
    "file_zip = 'GHS_POP_GPW41990_GLOBE_R2015A_54009_250_v1_0.zip'\n",
    "\n",
    "if os.path.isfile(file):\n",
    "    print('GHSL population data for 1990 already downloaded.')\n",
    "else:\n",
    "    print('Downloading data...')\n",
    "    url = 'http://cidportal.jrc.ec.europa.eu/ftp/jrc-opendata/GHSL/GHS_POP_GPW4_GLOBE_R2015A/GHS_POP_GPW41990_GLOBE_R2015A_54009_250/V1-0/GHS_POP_GPW41990_GLOBE_R2015A_54009_250_v1_0.zip'\n",
    "    urllib.request.urlretrieve(url, file_zip)\n",
    "\n",
    "    print('Unzipping...')\n",
    "    zip_ref = zipfile.ZipFile(file_zip, 'r')\n",
    "    zip_ref.extractall('.')\n",
    "    zip_ref.close()\n",
    "\n",
    "    print('Cleaning up...')    \n",
    "    # remove the ZIP file and the extracted overview file - we don't need it and the .ovr file is huge (3GB!)\n",
    "    os.remove(file_zip)\n",
    "    os.remove('GHS_POP_GPW41990_GLOBE_R2015A_54009_250_v1_0/GHS_POP_GPW41990_GLOBE_R2015A_54009_250_v1_0.tif.ovr')\n",
    "    print('Done.')\n",
    "\n",
    "pop1990 = rio.open(file)"
   ]
  },
  {
   "cell_type": "code",
   "execution_count": 20,
   "metadata": {},
   "outputs": [
    {
     "data": {
      "text/html": [
       "<div>\n",
       "<style scoped>\n",
       "    .dataframe tbody tr th:only-of-type {\n",
       "        vertical-align: middle;\n",
       "    }\n",
       "\n",
       "    .dataframe tbody tr th {\n",
       "        vertical-align: top;\n",
       "    }\n",
       "\n",
       "    .dataframe thead th {\n",
       "        text-align: right;\n",
       "    }\n",
       "</style>\n",
       "<table border=\"1\" class=\"dataframe\">\n",
       "  <thead>\n",
       "    <tr style=\"text-align: right;\">\n",
       "      <th></th>\n",
       "      <th>station</th>\n",
       "      <th>lat</th>\n",
       "      <th>lon</th>\n",
       "      <th>elevation</th>\n",
       "      <th>name</th>\n",
       "      <th>country</th>\n",
       "      <th>mollX</th>\n",
       "      <th>mollY</th>\n",
       "      <th>pop2015</th>\n",
       "      <th>pop2000</th>\n",
       "      <th>pop1990</th>\n",
       "    </tr>\n",
       "  </thead>\n",
       "  <tbody>\n",
       "    <tr>\n",
       "      <th>0</th>\n",
       "      <td>ACW00011604</td>\n",
       "      <td>17.1167</td>\n",
       "      <td>-61.7833</td>\n",
       "      <td>10.1</td>\n",
       "      <td>ST JOHNS COOLIDGE FLD</td>\n",
       "      <td>AC</td>\n",
       "      <td>-6.021233e+06</td>\n",
       "      <td>2.104299e+06</td>\n",
       "      <td>0.000000</td>\n",
       "      <td>0.000000</td>\n",
       "      <td>0.000000</td>\n",
       "    </tr>\n",
       "    <tr>\n",
       "      <th>1</th>\n",
       "      <td>ACW00011647</td>\n",
       "      <td>17.1333</td>\n",
       "      <td>-61.7833</td>\n",
       "      <td>19.2</td>\n",
       "      <td>ST JOHNS</td>\n",
       "      <td>AC</td>\n",
       "      <td>-6.020901e+06</td>\n",
       "      <td>2.106316e+06</td>\n",
       "      <td>0.000000</td>\n",
       "      <td>0.000000</td>\n",
       "      <td>0.000000</td>\n",
       "    </tr>\n",
       "    <tr>\n",
       "      <th>2</th>\n",
       "      <td>AE000041196</td>\n",
       "      <td>25.3330</td>\n",
       "      <td>55.5170</td>\n",
       "      <td>34.0</td>\n",
       "      <td>SHARJAH INTER. AIRP</td>\n",
       "      <td>AE</td>\n",
       "      <td>5.226731e+06</td>\n",
       "      <td>3.092960e+06</td>\n",
       "      <td>0.000000</td>\n",
       "      <td>0.000000</td>\n",
       "      <td>0.000000</td>\n",
       "    </tr>\n",
       "    <tr>\n",
       "      <th>3</th>\n",
       "      <td>AEM00041194</td>\n",
       "      <td>25.2550</td>\n",
       "      <td>55.3640</td>\n",
       "      <td>10.4</td>\n",
       "      <td>DUBAI INTL</td>\n",
       "      <td>AE</td>\n",
       "      <td>5.214407e+06</td>\n",
       "      <td>3.083680e+06</td>\n",
       "      <td>103.520790</td>\n",
       "      <td>16.931656</td>\n",
       "      <td>9.649481</td>\n",
       "    </tr>\n",
       "    <tr>\n",
       "      <th>4</th>\n",
       "      <td>AEM00041217</td>\n",
       "      <td>24.4330</td>\n",
       "      <td>54.6510</td>\n",
       "      <td>26.8</td>\n",
       "      <td>ABU DHABI INTL</td>\n",
       "      <td>AE</td>\n",
       "      <td>5.168502e+06</td>\n",
       "      <td>2.985740e+06</td>\n",
       "      <td>180.376755</td>\n",
       "      <td>84.788246</td>\n",
       "      <td>54.742096</td>\n",
       "    </tr>\n",
       "    <tr>\n",
       "      <th>5</th>\n",
       "      <td>AEM00041218</td>\n",
       "      <td>24.2620</td>\n",
       "      <td>55.6090</td>\n",
       "      <td>264.9</td>\n",
       "      <td>AL AIN INTL</td>\n",
       "      <td>AE</td>\n",
       "      <td>5.263508e+06</td>\n",
       "      <td>2.965335e+06</td>\n",
       "      <td>0.000000</td>\n",
       "      <td>0.000000</td>\n",
       "      <td>0.000000</td>\n",
       "    </tr>\n",
       "    <tr>\n",
       "      <th>6</th>\n",
       "      <td>AF000040930</td>\n",
       "      <td>35.3170</td>\n",
       "      <td>69.0170</td>\n",
       "      <td>3366.0</td>\n",
       "      <td>NORTH-SALANG</td>\n",
       "      <td>AF</td>\n",
       "      <td>6.097232e+06</td>\n",
       "      <td>4.259532e+06</td>\n",
       "      <td>0.000000</td>\n",
       "      <td>0.000000</td>\n",
       "      <td>0.000000</td>\n",
       "    </tr>\n",
       "    <tr>\n",
       "      <th>7</th>\n",
       "      <td>AFM00040938</td>\n",
       "      <td>34.2100</td>\n",
       "      <td>62.2280</td>\n",
       "      <td>977.2</td>\n",
       "      <td>HERAT</td>\n",
       "      <td>AF</td>\n",
       "      <td>5.543622e+06</td>\n",
       "      <td>4.132507e+06</td>\n",
       "      <td>21.793083</td>\n",
       "      <td>0.000000</td>\n",
       "      <td>0.000000</td>\n",
       "    </tr>\n",
       "    <tr>\n",
       "      <th>8</th>\n",
       "      <td>AFM00040948</td>\n",
       "      <td>34.5660</td>\n",
       "      <td>69.2120</td>\n",
       "      <td>1791.3</td>\n",
       "      <td>KABUL INTL</td>\n",
       "      <td>AF</td>\n",
       "      <td>6.149475e+06</td>\n",
       "      <td>4.173426e+06</td>\n",
       "      <td>0.000000</td>\n",
       "      <td>0.000000</td>\n",
       "      <td>0.000000</td>\n",
       "    </tr>\n",
       "    <tr>\n",
       "      <th>9</th>\n",
       "      <td>AFM00040990</td>\n",
       "      <td>31.5000</td>\n",
       "      <td>65.8500</td>\n",
       "      <td>1010.0</td>\n",
       "      <td>KANDAHAR AIRPORT</td>\n",
       "      <td>AF</td>\n",
       "      <td>5.978977e+06</td>\n",
       "      <td>3.818927e+06</td>\n",
       "      <td>0.000000</td>\n",
       "      <td>0.000000</td>\n",
       "      <td>0.000000</td>\n",
       "    </tr>\n",
       "    <tr>\n",
       "      <th>10</th>\n",
       "      <td>AG000060390</td>\n",
       "      <td>36.7167</td>\n",
       "      <td>3.2500</td>\n",
       "      <td>24.0</td>\n",
       "      <td>ALGER-DAR EL BEIDA</td>\n",
       "      <td>AG</td>\n",
       "      <td>2.839534e+05</td>\n",
       "      <td>4.419206e+06</td>\n",
       "      <td>146.626266</td>\n",
       "      <td>0.000000</td>\n",
       "      <td>0.000000</td>\n",
       "    </tr>\n",
       "    <tr>\n",
       "      <th>11</th>\n",
       "      <td>AG000060590</td>\n",
       "      <td>30.5667</td>\n",
       "      <td>2.8667</td>\n",
       "      <td>397.0</td>\n",
       "      <td>EL-GOLEA</td>\n",
       "      <td>AG</td>\n",
       "      <td>2.618793e+05</td>\n",
       "      <td>3.710117e+06</td>\n",
       "      <td>0.000000</td>\n",
       "      <td>0.000000</td>\n",
       "      <td>0.000000</td>\n",
       "    </tr>\n",
       "    <tr>\n",
       "      <th>12</th>\n",
       "      <td>AG000060611</td>\n",
       "      <td>28.0500</td>\n",
       "      <td>9.6331</td>\n",
       "      <td>561.0</td>\n",
       "      <td>IN-AMENAS</td>\n",
       "      <td>AG</td>\n",
       "      <td>8.935975e+05</td>\n",
       "      <td>3.414765e+06</td>\n",
       "      <td>0.000000</td>\n",
       "      <td>0.000000</td>\n",
       "      <td>0.000000</td>\n",
       "    </tr>\n",
       "    <tr>\n",
       "      <th>13</th>\n",
       "      <td>AG000060680</td>\n",
       "      <td>22.8000</td>\n",
       "      <td>5.4331</td>\n",
       "      <td>1362.0</td>\n",
       "      <td>TAMANRASSET</td>\n",
       "      <td>AG</td>\n",
       "      <td>5.178085e+05</td>\n",
       "      <td>2.790460e+06</td>\n",
       "      <td>0.000000</td>\n",
       "      <td>0.000000</td>\n",
       "      <td>0.000000</td>\n",
       "    </tr>\n",
       "    <tr>\n",
       "      <th>14</th>\n",
       "      <td>AGE00135039</td>\n",
       "      <td>35.7297</td>\n",
       "      <td>0.6500</td>\n",
       "      <td>50.0</td>\n",
       "      <td>ORAN-HOPITAL MILITAIRE</td>\n",
       "      <td>AG</td>\n",
       "      <td>5.723966e+04</td>\n",
       "      <td>4.306722e+06</td>\n",
       "      <td>0.000000</td>\n",
       "      <td>0.000000</td>\n",
       "      <td>0.000000</td>\n",
       "    </tr>\n",
       "  </tbody>\n",
       "</table>\n",
       "</div>"
      ],
      "text/plain": [
       "        station      lat      lon  elevation                    name country  \\\n",
       "0   ACW00011604  17.1167 -61.7833       10.1   ST JOHNS COOLIDGE FLD      AC   \n",
       "1   ACW00011647  17.1333 -61.7833       19.2                ST JOHNS      AC   \n",
       "2   AE000041196  25.3330  55.5170       34.0     SHARJAH INTER. AIRP      AE   \n",
       "3   AEM00041194  25.2550  55.3640       10.4              DUBAI INTL      AE   \n",
       "4   AEM00041217  24.4330  54.6510       26.8          ABU DHABI INTL      AE   \n",
       "5   AEM00041218  24.2620  55.6090      264.9             AL AIN INTL      AE   \n",
       "6   AF000040930  35.3170  69.0170     3366.0            NORTH-SALANG      AF   \n",
       "7   AFM00040938  34.2100  62.2280      977.2                   HERAT      AF   \n",
       "8   AFM00040948  34.5660  69.2120     1791.3              KABUL INTL      AF   \n",
       "9   AFM00040990  31.5000  65.8500     1010.0        KANDAHAR AIRPORT      AF   \n",
       "10  AG000060390  36.7167   3.2500       24.0      ALGER-DAR EL BEIDA      AG   \n",
       "11  AG000060590  30.5667   2.8667      397.0                EL-GOLEA      AG   \n",
       "12  AG000060611  28.0500   9.6331      561.0               IN-AMENAS      AG   \n",
       "13  AG000060680  22.8000   5.4331     1362.0             TAMANRASSET      AG   \n",
       "14  AGE00135039  35.7297   0.6500       50.0  ORAN-HOPITAL MILITAIRE      AG   \n",
       "\n",
       "           mollX         mollY     pop2015    pop2000    pop1990  \n",
       "0  -6.021233e+06  2.104299e+06    0.000000   0.000000   0.000000  \n",
       "1  -6.020901e+06  2.106316e+06    0.000000   0.000000   0.000000  \n",
       "2   5.226731e+06  3.092960e+06    0.000000   0.000000   0.000000  \n",
       "3   5.214407e+06  3.083680e+06  103.520790  16.931656   9.649481  \n",
       "4   5.168502e+06  2.985740e+06  180.376755  84.788246  54.742096  \n",
       "5   5.263508e+06  2.965335e+06    0.000000   0.000000   0.000000  \n",
       "6   6.097232e+06  4.259532e+06    0.000000   0.000000   0.000000  \n",
       "7   5.543622e+06  4.132507e+06   21.793083   0.000000   0.000000  \n",
       "8   6.149475e+06  4.173426e+06    0.000000   0.000000   0.000000  \n",
       "9   5.978977e+06  3.818927e+06    0.000000   0.000000   0.000000  \n",
       "10  2.839534e+05  4.419206e+06  146.626266   0.000000   0.000000  \n",
       "11  2.618793e+05  3.710117e+06    0.000000   0.000000   0.000000  \n",
       "12  8.935975e+05  3.414765e+06    0.000000   0.000000   0.000000  \n",
       "13  5.178085e+05  2.790460e+06    0.000000   0.000000   0.000000  \n",
       "14  5.723966e+04  4.306722e+06    0.000000   0.000000   0.000000  "
      ]
     },
     "execution_count": 20,
     "metadata": {},
     "output_type": "execute_result"
    }
   ],
   "source": [
    "file = 'stations_moll_inraster_pop2015_2000_1990.csv'\n",
    "\n",
    "if os.path.isfile(file):\n",
    "    print('Stations data with 2015, 2000 and 1990 population already generated; reusing existing file.')\n",
    "    stations = pd.read_csv(file, index_col=0)\n",
    "else:\n",
    "\n",
    "    locations = list(zip(stations['mollX'], stations['mollY']))\n",
    "    pop1990col = []\n",
    "\n",
    "    for val in pop1990.sample(locations):\n",
    "        pop1990col.append(val[0])\n",
    "\n",
    "    # make this list a new column in our stations dataframe\n",
    "    stations['pop1990'] = pop1990col\n",
    "    stations.to_csv(file)\n",
    "\n",
    "stations.head(15)"
   ]
  },
  {
   "cell_type": "markdown",
   "metadata": {},
   "source": [
    "# Population 1975\n",
    "\n",
    "One more time... [🤖](https://www.youtube.com/watch?v=FGBhQbmPwH8)"
   ]
  },
  {
   "cell_type": "code",
   "execution_count": 21,
   "metadata": {},
   "outputs": [
    {
     "name": "stdout",
     "output_type": "stream",
     "text": [
      "Downloading data...\n",
      "Unzipping...\n",
      "Cleaning up...\n",
      "Done.\n"
     ]
    }
   ],
   "source": [
    "file = 'GHS_POP_GPW41975_GLOBE_R2015A_54009_250_v1_0/GHS_POP_GPW41975_GLOBE_R2015A_54009_250_v1_0.tif'\n",
    "file_zip = 'GHS_POP_GPW41975_GLOBE_R2015A_54009_250_v1_0.zip'\n",
    "\n",
    "if os.path.isfile(file):\n",
    "    print('GHSL population data for 1975 already downloaded.')\n",
    "else:\n",
    "    print('Downloading data...')\n",
    "    url = 'http://cidportal.jrc.ec.europa.eu/ftp/jrc-opendata/GHSL/GHS_POP_GPW4_GLOBE_R2015A/GHS_POP_GPW41975_GLOBE_R2015A_54009_250/V1-0/GHS_POP_GPW41975_GLOBE_R2015A_54009_250_v1_0.zip'\n",
    "    urllib.request.urlretrieve(url, file_zip)\n",
    "\n",
    "    print('Unzipping...')\n",
    "    zip_ref = zipfile.ZipFile(file_zip, 'r')\n",
    "    zip_ref.extractall('.')\n",
    "    zip_ref.close()\n",
    "\n",
    "    print('Cleaning up...')    \n",
    "    # remove the ZIP file and the extracted overview file - we don't need it and the .ovr file is huge (3GB!)\n",
    "    os.remove(file_zip)\n",
    "    os.remove('GHS_POP_GPW41975_GLOBE_R2015A_54009_250_v1_0/GHS_POP_GPW41975_GLOBE_R2015A_54009_250_v1_0.tif.ovr')\n",
    "    print('Done.')\n",
    "\n",
    "pop1975 = rio.open(file)"
   ]
  },
  {
   "cell_type": "code",
   "execution_count": 22,
   "metadata": {},
   "outputs": [
    {
     "data": {
      "text/html": [
       "<div>\n",
       "<style scoped>\n",
       "    .dataframe tbody tr th:only-of-type {\n",
       "        vertical-align: middle;\n",
       "    }\n",
       "\n",
       "    .dataframe tbody tr th {\n",
       "        vertical-align: top;\n",
       "    }\n",
       "\n",
       "    .dataframe thead th {\n",
       "        text-align: right;\n",
       "    }\n",
       "</style>\n",
       "<table border=\"1\" class=\"dataframe\">\n",
       "  <thead>\n",
       "    <tr style=\"text-align: right;\">\n",
       "      <th></th>\n",
       "      <th>station</th>\n",
       "      <th>lat</th>\n",
       "      <th>lon</th>\n",
       "      <th>elevation</th>\n",
       "      <th>name</th>\n",
       "      <th>country</th>\n",
       "      <th>mollX</th>\n",
       "      <th>mollY</th>\n",
       "      <th>pop2015</th>\n",
       "      <th>pop2000</th>\n",
       "      <th>pop1990</th>\n",
       "      <th>pop1975</th>\n",
       "    </tr>\n",
       "  </thead>\n",
       "  <tbody>\n",
       "    <tr>\n",
       "      <th>0</th>\n",
       "      <td>ACW00011604</td>\n",
       "      <td>17.1167</td>\n",
       "      <td>-61.7833</td>\n",
       "      <td>10.1</td>\n",
       "      <td>ST JOHNS COOLIDGE FLD</td>\n",
       "      <td>AC</td>\n",
       "      <td>-6.021233e+06</td>\n",
       "      <td>2.104299e+06</td>\n",
       "      <td>0.000000</td>\n",
       "      <td>0.000000</td>\n",
       "      <td>0.000000</td>\n",
       "      <td>0.000000</td>\n",
       "    </tr>\n",
       "    <tr>\n",
       "      <th>1</th>\n",
       "      <td>ACW00011647</td>\n",
       "      <td>17.1333</td>\n",
       "      <td>-61.7833</td>\n",
       "      <td>19.2</td>\n",
       "      <td>ST JOHNS</td>\n",
       "      <td>AC</td>\n",
       "      <td>-6.020901e+06</td>\n",
       "      <td>2.106316e+06</td>\n",
       "      <td>0.000000</td>\n",
       "      <td>0.000000</td>\n",
       "      <td>0.000000</td>\n",
       "      <td>0.000000</td>\n",
       "    </tr>\n",
       "    <tr>\n",
       "      <th>2</th>\n",
       "      <td>AE000041196</td>\n",
       "      <td>25.3330</td>\n",
       "      <td>55.5170</td>\n",
       "      <td>34.0</td>\n",
       "      <td>SHARJAH INTER. AIRP</td>\n",
       "      <td>AE</td>\n",
       "      <td>5.226731e+06</td>\n",
       "      <td>3.092960e+06</td>\n",
       "      <td>0.000000</td>\n",
       "      <td>0.000000</td>\n",
       "      <td>0.000000</td>\n",
       "      <td>0.000000</td>\n",
       "    </tr>\n",
       "    <tr>\n",
       "      <th>3</th>\n",
       "      <td>AEM00041194</td>\n",
       "      <td>25.2550</td>\n",
       "      <td>55.3640</td>\n",
       "      <td>10.4</td>\n",
       "      <td>DUBAI INTL</td>\n",
       "      <td>AE</td>\n",
       "      <td>5.214407e+06</td>\n",
       "      <td>3.083680e+06</td>\n",
       "      <td>103.520790</td>\n",
       "      <td>16.931656</td>\n",
       "      <td>9.649481</td>\n",
       "      <td>2.571450</td>\n",
       "    </tr>\n",
       "    <tr>\n",
       "      <th>4</th>\n",
       "      <td>AEM00041217</td>\n",
       "      <td>24.4330</td>\n",
       "      <td>54.6510</td>\n",
       "      <td>26.8</td>\n",
       "      <td>ABU DHABI INTL</td>\n",
       "      <td>AE</td>\n",
       "      <td>5.168502e+06</td>\n",
       "      <td>2.985740e+06</td>\n",
       "      <td>180.376755</td>\n",
       "      <td>84.788246</td>\n",
       "      <td>54.742096</td>\n",
       "      <td>21.834427</td>\n",
       "    </tr>\n",
       "    <tr>\n",
       "      <th>5</th>\n",
       "      <td>AEM00041218</td>\n",
       "      <td>24.2620</td>\n",
       "      <td>55.6090</td>\n",
       "      <td>264.9</td>\n",
       "      <td>AL AIN INTL</td>\n",
       "      <td>AE</td>\n",
       "      <td>5.263508e+06</td>\n",
       "      <td>2.965335e+06</td>\n",
       "      <td>0.000000</td>\n",
       "      <td>0.000000</td>\n",
       "      <td>0.000000</td>\n",
       "      <td>0.000000</td>\n",
       "    </tr>\n",
       "    <tr>\n",
       "      <th>6</th>\n",
       "      <td>AF000040930</td>\n",
       "      <td>35.3170</td>\n",
       "      <td>69.0170</td>\n",
       "      <td>3366.0</td>\n",
       "      <td>NORTH-SALANG</td>\n",
       "      <td>AF</td>\n",
       "      <td>6.097232e+06</td>\n",
       "      <td>4.259532e+06</td>\n",
       "      <td>0.000000</td>\n",
       "      <td>0.000000</td>\n",
       "      <td>0.000000</td>\n",
       "      <td>0.000000</td>\n",
       "    </tr>\n",
       "    <tr>\n",
       "      <th>7</th>\n",
       "      <td>AFM00040938</td>\n",
       "      <td>34.2100</td>\n",
       "      <td>62.2280</td>\n",
       "      <td>977.2</td>\n",
       "      <td>HERAT</td>\n",
       "      <td>AF</td>\n",
       "      <td>5.543622e+06</td>\n",
       "      <td>4.132507e+06</td>\n",
       "      <td>21.793083</td>\n",
       "      <td>0.000000</td>\n",
       "      <td>0.000000</td>\n",
       "      <td>0.000000</td>\n",
       "    </tr>\n",
       "    <tr>\n",
       "      <th>8</th>\n",
       "      <td>AFM00040948</td>\n",
       "      <td>34.5660</td>\n",
       "      <td>69.2120</td>\n",
       "      <td>1791.3</td>\n",
       "      <td>KABUL INTL</td>\n",
       "      <td>AF</td>\n",
       "      <td>6.149475e+06</td>\n",
       "      <td>4.173426e+06</td>\n",
       "      <td>0.000000</td>\n",
       "      <td>0.000000</td>\n",
       "      <td>0.000000</td>\n",
       "      <td>0.000000</td>\n",
       "    </tr>\n",
       "    <tr>\n",
       "      <th>9</th>\n",
       "      <td>AFM00040990</td>\n",
       "      <td>31.5000</td>\n",
       "      <td>65.8500</td>\n",
       "      <td>1010.0</td>\n",
       "      <td>KANDAHAR AIRPORT</td>\n",
       "      <td>AF</td>\n",
       "      <td>5.978977e+06</td>\n",
       "      <td>3.818927e+06</td>\n",
       "      <td>0.000000</td>\n",
       "      <td>0.000000</td>\n",
       "      <td>0.000000</td>\n",
       "      <td>0.000000</td>\n",
       "    </tr>\n",
       "    <tr>\n",
       "      <th>10</th>\n",
       "      <td>AG000060390</td>\n",
       "      <td>36.7167</td>\n",
       "      <td>3.2500</td>\n",
       "      <td>24.0</td>\n",
       "      <td>ALGER-DAR EL BEIDA</td>\n",
       "      <td>AG</td>\n",
       "      <td>2.839534e+05</td>\n",
       "      <td>4.419206e+06</td>\n",
       "      <td>146.626266</td>\n",
       "      <td>0.000000</td>\n",
       "      <td>0.000000</td>\n",
       "      <td>0.000000</td>\n",
       "    </tr>\n",
       "    <tr>\n",
       "      <th>11</th>\n",
       "      <td>AG000060590</td>\n",
       "      <td>30.5667</td>\n",
       "      <td>2.8667</td>\n",
       "      <td>397.0</td>\n",
       "      <td>EL-GOLEA</td>\n",
       "      <td>AG</td>\n",
       "      <td>2.618793e+05</td>\n",
       "      <td>3.710117e+06</td>\n",
       "      <td>0.000000</td>\n",
       "      <td>0.000000</td>\n",
       "      <td>0.000000</td>\n",
       "      <td>0.000000</td>\n",
       "    </tr>\n",
       "    <tr>\n",
       "      <th>12</th>\n",
       "      <td>AG000060611</td>\n",
       "      <td>28.0500</td>\n",
       "      <td>9.6331</td>\n",
       "      <td>561.0</td>\n",
       "      <td>IN-AMENAS</td>\n",
       "      <td>AG</td>\n",
       "      <td>8.935975e+05</td>\n",
       "      <td>3.414765e+06</td>\n",
       "      <td>0.000000</td>\n",
       "      <td>0.000000</td>\n",
       "      <td>0.000000</td>\n",
       "      <td>0.000000</td>\n",
       "    </tr>\n",
       "    <tr>\n",
       "      <th>13</th>\n",
       "      <td>AG000060680</td>\n",
       "      <td>22.8000</td>\n",
       "      <td>5.4331</td>\n",
       "      <td>1362.0</td>\n",
       "      <td>TAMANRASSET</td>\n",
       "      <td>AG</td>\n",
       "      <td>5.178085e+05</td>\n",
       "      <td>2.790460e+06</td>\n",
       "      <td>0.000000</td>\n",
       "      <td>0.000000</td>\n",
       "      <td>0.000000</td>\n",
       "      <td>0.000000</td>\n",
       "    </tr>\n",
       "    <tr>\n",
       "      <th>14</th>\n",
       "      <td>AGE00135039</td>\n",
       "      <td>35.7297</td>\n",
       "      <td>0.6500</td>\n",
       "      <td>50.0</td>\n",
       "      <td>ORAN-HOPITAL MILITAIRE</td>\n",
       "      <td>AG</td>\n",
       "      <td>5.723966e+04</td>\n",
       "      <td>4.306722e+06</td>\n",
       "      <td>0.000000</td>\n",
       "      <td>0.000000</td>\n",
       "      <td>0.000000</td>\n",
       "      <td>0.000000</td>\n",
       "    </tr>\n",
       "  </tbody>\n",
       "</table>\n",
       "</div>"
      ],
      "text/plain": [
       "        station      lat      lon  elevation                    name country  \\\n",
       "0   ACW00011604  17.1167 -61.7833       10.1   ST JOHNS COOLIDGE FLD      AC   \n",
       "1   ACW00011647  17.1333 -61.7833       19.2                ST JOHNS      AC   \n",
       "2   AE000041196  25.3330  55.5170       34.0     SHARJAH INTER. AIRP      AE   \n",
       "3   AEM00041194  25.2550  55.3640       10.4              DUBAI INTL      AE   \n",
       "4   AEM00041217  24.4330  54.6510       26.8          ABU DHABI INTL      AE   \n",
       "5   AEM00041218  24.2620  55.6090      264.9             AL AIN INTL      AE   \n",
       "6   AF000040930  35.3170  69.0170     3366.0            NORTH-SALANG      AF   \n",
       "7   AFM00040938  34.2100  62.2280      977.2                   HERAT      AF   \n",
       "8   AFM00040948  34.5660  69.2120     1791.3              KABUL INTL      AF   \n",
       "9   AFM00040990  31.5000  65.8500     1010.0        KANDAHAR AIRPORT      AF   \n",
       "10  AG000060390  36.7167   3.2500       24.0      ALGER-DAR EL BEIDA      AG   \n",
       "11  AG000060590  30.5667   2.8667      397.0                EL-GOLEA      AG   \n",
       "12  AG000060611  28.0500   9.6331      561.0               IN-AMENAS      AG   \n",
       "13  AG000060680  22.8000   5.4331     1362.0             TAMANRASSET      AG   \n",
       "14  AGE00135039  35.7297   0.6500       50.0  ORAN-HOPITAL MILITAIRE      AG   \n",
       "\n",
       "           mollX         mollY     pop2015    pop2000    pop1990    pop1975  \n",
       "0  -6.021233e+06  2.104299e+06    0.000000   0.000000   0.000000   0.000000  \n",
       "1  -6.020901e+06  2.106316e+06    0.000000   0.000000   0.000000   0.000000  \n",
       "2   5.226731e+06  3.092960e+06    0.000000   0.000000   0.000000   0.000000  \n",
       "3   5.214407e+06  3.083680e+06  103.520790  16.931656   9.649481   2.571450  \n",
       "4   5.168502e+06  2.985740e+06  180.376755  84.788246  54.742096  21.834427  \n",
       "5   5.263508e+06  2.965335e+06    0.000000   0.000000   0.000000   0.000000  \n",
       "6   6.097232e+06  4.259532e+06    0.000000   0.000000   0.000000   0.000000  \n",
       "7   5.543622e+06  4.132507e+06   21.793083   0.000000   0.000000   0.000000  \n",
       "8   6.149475e+06  4.173426e+06    0.000000   0.000000   0.000000   0.000000  \n",
       "9   5.978977e+06  3.818927e+06    0.000000   0.000000   0.000000   0.000000  \n",
       "10  2.839534e+05  4.419206e+06  146.626266   0.000000   0.000000   0.000000  \n",
       "11  2.618793e+05  3.710117e+06    0.000000   0.000000   0.000000   0.000000  \n",
       "12  8.935975e+05  3.414765e+06    0.000000   0.000000   0.000000   0.000000  \n",
       "13  5.178085e+05  2.790460e+06    0.000000   0.000000   0.000000   0.000000  \n",
       "14  5.723966e+04  4.306722e+06    0.000000   0.000000   0.000000   0.000000  "
      ]
     },
     "execution_count": 22,
     "metadata": {},
     "output_type": "execute_result"
    }
   ],
   "source": [
    "file = 'stations_moll_inraster_pop2015_2000_1990_1975.csv'\n",
    "\n",
    "if os.path.isfile(file):\n",
    "    print('Stations data with 2015, 2000, 1990 and 1975 population already generated; reusing existing file.')\n",
    "    stations = pd.read_csv(file, index_col=0)\n",
    "else:\n",
    "\n",
    "    locations = list(zip(stations['mollX'], stations['mollY']))\n",
    "    pop1975col = []\n",
    "\n",
    "    for val in pop1975.sample(locations):\n",
    "        pop1975col.append(val[0])\n",
    "\n",
    "    # make this list a new column in our stations dataframe\n",
    "    stations['pop1975'] = pop1975col\n",
    "    stations.to_csv(file)\n",
    "\n",
    "stations.head(15)"
   ]
  },
  {
   "cell_type": "markdown",
   "metadata": {},
   "source": [
    "## Population densities\n",
    "\n",
    "The cells in our population dataset are only [250x250m](https://ghsl.jrc.ec.europa.eu/ghs_pop2019.php), so to get population per km<sup>2</sup>, we actually have to multiply the number with 16 (just to make it a bit easier to compare to common measures of population density in people per km<sup>2</sup>:"
   ]
  },
  {
   "cell_type": "code",
   "execution_count": 23,
   "metadata": {},
   "outputs": [
    {
     "data": {
      "text/html": [
       "<div>\n",
       "<style scoped>\n",
       "    .dataframe tbody tr th:only-of-type {\n",
       "        vertical-align: middle;\n",
       "    }\n",
       "\n",
       "    .dataframe tbody tr th {\n",
       "        vertical-align: top;\n",
       "    }\n",
       "\n",
       "    .dataframe thead th {\n",
       "        text-align: right;\n",
       "    }\n",
       "</style>\n",
       "<table border=\"1\" class=\"dataframe\">\n",
       "  <thead>\n",
       "    <tr style=\"text-align: right;\">\n",
       "      <th></th>\n",
       "      <th>station</th>\n",
       "      <th>lat</th>\n",
       "      <th>lon</th>\n",
       "      <th>elevation</th>\n",
       "      <th>name</th>\n",
       "      <th>country</th>\n",
       "      <th>mollX</th>\n",
       "      <th>mollY</th>\n",
       "      <th>pop2015</th>\n",
       "      <th>pop2000</th>\n",
       "      <th>pop1990</th>\n",
       "      <th>pop1975</th>\n",
       "      <th>popdens2015</th>\n",
       "      <th>popdens2000</th>\n",
       "      <th>popdens1990</th>\n",
       "      <th>popdens1975</th>\n",
       "    </tr>\n",
       "  </thead>\n",
       "  <tbody>\n",
       "    <tr>\n",
       "      <th>0</th>\n",
       "      <td>ACW00011604</td>\n",
       "      <td>17.1167</td>\n",
       "      <td>-61.7833</td>\n",
       "      <td>10.1</td>\n",
       "      <td>ST JOHNS COOLIDGE FLD</td>\n",
       "      <td>AC</td>\n",
       "      <td>-6.021233e+06</td>\n",
       "      <td>2.104299e+06</td>\n",
       "      <td>0.000000</td>\n",
       "      <td>0.000000</td>\n",
       "      <td>0.000000</td>\n",
       "      <td>0.000000</td>\n",
       "      <td>0.000000</td>\n",
       "      <td>0.000000</td>\n",
       "      <td>0.000000</td>\n",
       "      <td>0.000000</td>\n",
       "    </tr>\n",
       "    <tr>\n",
       "      <th>1</th>\n",
       "      <td>ACW00011647</td>\n",
       "      <td>17.1333</td>\n",
       "      <td>-61.7833</td>\n",
       "      <td>19.2</td>\n",
       "      <td>ST JOHNS</td>\n",
       "      <td>AC</td>\n",
       "      <td>-6.020901e+06</td>\n",
       "      <td>2.106316e+06</td>\n",
       "      <td>0.000000</td>\n",
       "      <td>0.000000</td>\n",
       "      <td>0.000000</td>\n",
       "      <td>0.000000</td>\n",
       "      <td>0.000000</td>\n",
       "      <td>0.000000</td>\n",
       "      <td>0.000000</td>\n",
       "      <td>0.000000</td>\n",
       "    </tr>\n",
       "    <tr>\n",
       "      <th>2</th>\n",
       "      <td>AE000041196</td>\n",
       "      <td>25.3330</td>\n",
       "      <td>55.5170</td>\n",
       "      <td>34.0</td>\n",
       "      <td>SHARJAH INTER. AIRP</td>\n",
       "      <td>AE</td>\n",
       "      <td>5.226731e+06</td>\n",
       "      <td>3.092960e+06</td>\n",
       "      <td>0.000000</td>\n",
       "      <td>0.000000</td>\n",
       "      <td>0.000000</td>\n",
       "      <td>0.000000</td>\n",
       "      <td>0.000000</td>\n",
       "      <td>0.000000</td>\n",
       "      <td>0.000000</td>\n",
       "      <td>0.000000</td>\n",
       "    </tr>\n",
       "    <tr>\n",
       "      <th>3</th>\n",
       "      <td>AEM00041194</td>\n",
       "      <td>25.2550</td>\n",
       "      <td>55.3640</td>\n",
       "      <td>10.4</td>\n",
       "      <td>DUBAI INTL</td>\n",
       "      <td>AE</td>\n",
       "      <td>5.214407e+06</td>\n",
       "      <td>3.083680e+06</td>\n",
       "      <td>103.520790</td>\n",
       "      <td>16.931656</td>\n",
       "      <td>9.649481</td>\n",
       "      <td>2.571450</td>\n",
       "      <td>1656.332642</td>\n",
       "      <td>270.906494</td>\n",
       "      <td>154.391693</td>\n",
       "      <td>41.143192</td>\n",
       "    </tr>\n",
       "    <tr>\n",
       "      <th>4</th>\n",
       "      <td>AEM00041217</td>\n",
       "      <td>24.4330</td>\n",
       "      <td>54.6510</td>\n",
       "      <td>26.8</td>\n",
       "      <td>ABU DHABI INTL</td>\n",
       "      <td>AE</td>\n",
       "      <td>5.168502e+06</td>\n",
       "      <td>2.985740e+06</td>\n",
       "      <td>180.376755</td>\n",
       "      <td>84.788246</td>\n",
       "      <td>54.742096</td>\n",
       "      <td>21.834427</td>\n",
       "      <td>2886.028076</td>\n",
       "      <td>1356.611938</td>\n",
       "      <td>875.873535</td>\n",
       "      <td>349.350830</td>\n",
       "    </tr>\n",
       "  </tbody>\n",
       "</table>\n",
       "</div>"
      ],
      "text/plain": [
       "       station      lat      lon  elevation                   name country  \\\n",
       "0  ACW00011604  17.1167 -61.7833       10.1  ST JOHNS COOLIDGE FLD      AC   \n",
       "1  ACW00011647  17.1333 -61.7833       19.2               ST JOHNS      AC   \n",
       "2  AE000041196  25.3330  55.5170       34.0    SHARJAH INTER. AIRP      AE   \n",
       "3  AEM00041194  25.2550  55.3640       10.4             DUBAI INTL      AE   \n",
       "4  AEM00041217  24.4330  54.6510       26.8         ABU DHABI INTL      AE   \n",
       "\n",
       "          mollX         mollY     pop2015    pop2000    pop1990    pop1975  \\\n",
       "0 -6.021233e+06  2.104299e+06    0.000000   0.000000   0.000000   0.000000   \n",
       "1 -6.020901e+06  2.106316e+06    0.000000   0.000000   0.000000   0.000000   \n",
       "2  5.226731e+06  3.092960e+06    0.000000   0.000000   0.000000   0.000000   \n",
       "3  5.214407e+06  3.083680e+06  103.520790  16.931656   9.649481   2.571450   \n",
       "4  5.168502e+06  2.985740e+06  180.376755  84.788246  54.742096  21.834427   \n",
       "\n",
       "   popdens2015  popdens2000  popdens1990  popdens1975  \n",
       "0     0.000000     0.000000     0.000000     0.000000  \n",
       "1     0.000000     0.000000     0.000000     0.000000  \n",
       "2     0.000000     0.000000     0.000000     0.000000  \n",
       "3  1656.332642   270.906494   154.391693    41.143192  \n",
       "4  2886.028076  1356.611938   875.873535   349.350830  "
      ]
     },
     "execution_count": 23,
     "metadata": {},
     "output_type": "execute_result"
    }
   ],
   "source": [
    "stations[\"popdens2015\"] = stations[\"pop2015\"] * 16\n",
    "stations[\"popdens2000\"] = stations[\"pop2000\"] * 16\n",
    "stations[\"popdens1990\"] = stations[\"pop1990\"] * 16\n",
    "stations[\"popdens1975\"] = stations[\"pop1975\"] * 16\n",
    "\n",
    "stations.head()"
   ]
  },
  {
   "cell_type": "markdown",
   "metadata": {},
   "source": [
    "### Comparisons with nearest neighbor\n",
    "\n",
    "Let's find the closest neighbor for each station, so that we can later calculate differences in population density (for each year), elevation, and latitutde between nearest neighbor stations:"
   ]
  },
  {
   "cell_type": "code",
   "execution_count": 24,
   "metadata": {},
   "outputs": [
    {
     "data": {
      "text/html": [
       "<div>\n",
       "<style scoped>\n",
       "    .dataframe tbody tr th:only-of-type {\n",
       "        vertical-align: middle;\n",
       "    }\n",
       "\n",
       "    .dataframe tbody tr th {\n",
       "        vertical-align: top;\n",
       "    }\n",
       "\n",
       "    .dataframe thead th {\n",
       "        text-align: right;\n",
       "    }\n",
       "</style>\n",
       "<table border=\"1\" class=\"dataframe\">\n",
       "  <thead>\n",
       "    <tr style=\"text-align: right;\">\n",
       "      <th></th>\n",
       "      <th>station</th>\n",
       "      <th>lat</th>\n",
       "      <th>lon</th>\n",
       "      <th>elevation</th>\n",
       "      <th>name</th>\n",
       "      <th>country</th>\n",
       "      <th>mollX</th>\n",
       "      <th>mollY</th>\n",
       "      <th>pop2015</th>\n",
       "      <th>pop2000</th>\n",
       "      <th>...</th>\n",
       "      <th>NN_lat</th>\n",
       "      <th>NN_popdens2015</th>\n",
       "      <th>NN_popdens2000</th>\n",
       "      <th>NN_popdens1990</th>\n",
       "      <th>NN_popdens1975</th>\n",
       "      <th>NN_lat_diff</th>\n",
       "      <th>NN_popdens2015_diff</th>\n",
       "      <th>NN_popdens2000_diff</th>\n",
       "      <th>NN_popdens1990_diff</th>\n",
       "      <th>NN_popdens1975_diff</th>\n",
       "    </tr>\n",
       "  </thead>\n",
       "  <tbody>\n",
       "    <tr>\n",
       "      <th>0</th>\n",
       "      <td>ACW00011604</td>\n",
       "      <td>17.1167</td>\n",
       "      <td>-61.7833</td>\n",
       "      <td>10.1</td>\n",
       "      <td>ST JOHNS COOLIDGE FLD</td>\n",
       "      <td>AC</td>\n",
       "      <td>-6.021233e+06</td>\n",
       "      <td>2.104299e+06</td>\n",
       "      <td>0.000000</td>\n",
       "      <td>0.000000</td>\n",
       "      <td>...</td>\n",
       "      <td></td>\n",
       "      <td></td>\n",
       "      <td></td>\n",
       "      <td></td>\n",
       "      <td></td>\n",
       "      <td></td>\n",
       "      <td></td>\n",
       "      <td></td>\n",
       "      <td></td>\n",
       "      <td></td>\n",
       "    </tr>\n",
       "    <tr>\n",
       "      <th>1</th>\n",
       "      <td>ACW00011647</td>\n",
       "      <td>17.1333</td>\n",
       "      <td>-61.7833</td>\n",
       "      <td>19.2</td>\n",
       "      <td>ST JOHNS</td>\n",
       "      <td>AC</td>\n",
       "      <td>-6.020901e+06</td>\n",
       "      <td>2.106316e+06</td>\n",
       "      <td>0.000000</td>\n",
       "      <td>0.000000</td>\n",
       "      <td>...</td>\n",
       "      <td></td>\n",
       "      <td></td>\n",
       "      <td></td>\n",
       "      <td></td>\n",
       "      <td></td>\n",
       "      <td></td>\n",
       "      <td></td>\n",
       "      <td></td>\n",
       "      <td></td>\n",
       "      <td></td>\n",
       "    </tr>\n",
       "    <tr>\n",
       "      <th>2</th>\n",
       "      <td>AE000041196</td>\n",
       "      <td>25.3330</td>\n",
       "      <td>55.5170</td>\n",
       "      <td>34.0</td>\n",
       "      <td>SHARJAH INTER. AIRP</td>\n",
       "      <td>AE</td>\n",
       "      <td>5.226731e+06</td>\n",
       "      <td>3.092960e+06</td>\n",
       "      <td>0.000000</td>\n",
       "      <td>0.000000</td>\n",
       "      <td>...</td>\n",
       "      <td></td>\n",
       "      <td></td>\n",
       "      <td></td>\n",
       "      <td></td>\n",
       "      <td></td>\n",
       "      <td></td>\n",
       "      <td></td>\n",
       "      <td></td>\n",
       "      <td></td>\n",
       "      <td></td>\n",
       "    </tr>\n",
       "    <tr>\n",
       "      <th>3</th>\n",
       "      <td>AEM00041194</td>\n",
       "      <td>25.2550</td>\n",
       "      <td>55.3640</td>\n",
       "      <td>10.4</td>\n",
       "      <td>DUBAI INTL</td>\n",
       "      <td>AE</td>\n",
       "      <td>5.214407e+06</td>\n",
       "      <td>3.083680e+06</td>\n",
       "      <td>103.520790</td>\n",
       "      <td>16.931656</td>\n",
       "      <td>...</td>\n",
       "      <td></td>\n",
       "      <td></td>\n",
       "      <td></td>\n",
       "      <td></td>\n",
       "      <td></td>\n",
       "      <td></td>\n",
       "      <td></td>\n",
       "      <td></td>\n",
       "      <td></td>\n",
       "      <td></td>\n",
       "    </tr>\n",
       "    <tr>\n",
       "      <th>4</th>\n",
       "      <td>AEM00041217</td>\n",
       "      <td>24.4330</td>\n",
       "      <td>54.6510</td>\n",
       "      <td>26.8</td>\n",
       "      <td>ABU DHABI INTL</td>\n",
       "      <td>AE</td>\n",
       "      <td>5.168502e+06</td>\n",
       "      <td>2.985740e+06</td>\n",
       "      <td>180.376755</td>\n",
       "      <td>84.788246</td>\n",
       "      <td>...</td>\n",
       "      <td></td>\n",
       "      <td></td>\n",
       "      <td></td>\n",
       "      <td></td>\n",
       "      <td></td>\n",
       "      <td></td>\n",
       "      <td></td>\n",
       "      <td></td>\n",
       "      <td></td>\n",
       "      <td></td>\n",
       "    </tr>\n",
       "  </tbody>\n",
       "</table>\n",
       "<p>5 rows × 29 columns</p>\n",
       "</div>"
      ],
      "text/plain": [
       "       station      lat      lon  elevation                   name country  \\\n",
       "0  ACW00011604  17.1167 -61.7833       10.1  ST JOHNS COOLIDGE FLD      AC   \n",
       "1  ACW00011647  17.1333 -61.7833       19.2               ST JOHNS      AC   \n",
       "2  AE000041196  25.3330  55.5170       34.0    SHARJAH INTER. AIRP      AE   \n",
       "3  AEM00041194  25.2550  55.3640       10.4             DUBAI INTL      AE   \n",
       "4  AEM00041217  24.4330  54.6510       26.8         ABU DHABI INTL      AE   \n",
       "\n",
       "          mollX         mollY     pop2015    pop2000  ...  NN_lat  \\\n",
       "0 -6.021233e+06  2.104299e+06    0.000000   0.000000  ...           \n",
       "1 -6.020901e+06  2.106316e+06    0.000000   0.000000  ...           \n",
       "2  5.226731e+06  3.092960e+06    0.000000   0.000000  ...           \n",
       "3  5.214407e+06  3.083680e+06  103.520790  16.931656  ...           \n",
       "4  5.168502e+06  2.985740e+06  180.376755  84.788246  ...           \n",
       "\n",
       "   NN_popdens2015  NN_popdens2000  NN_popdens1990  NN_popdens1975  \\\n",
       "0                                                                   \n",
       "1                                                                   \n",
       "2                                                                   \n",
       "3                                                                   \n",
       "4                                                                   \n",
       "\n",
       "   NN_lat_diff NN_popdens2015_diff NN_popdens2000_diff NN_popdens1990_diff  \\\n",
       "0                                                                            \n",
       "1                                                                            \n",
       "2                                                                            \n",
       "3                                                                            \n",
       "4                                                                            \n",
       "\n",
       "  NN_popdens1975_diff  \n",
       "0                      \n",
       "1                      \n",
       "2                      \n",
       "3                      \n",
       "4                      \n",
       "\n",
       "[5 rows x 29 columns]"
      ]
     },
     "execution_count": 24,
     "metadata": {},
     "output_type": "execute_result"
    }
   ],
   "source": [
    "# add new columns to hold the ID of the nearest station and the distance to it\n",
    "\n",
    "stations[\"NN\"] = \"\"\n",
    "stations[\"NN_dist\"] = \"\"\n",
    "stations[\"NN_elev\"] = \"\"\n",
    "stations[\"NN_lat\"] = \"\"\n",
    "stations[\"NN_popdens2015\"] = \"\"\n",
    "stations[\"NN_popdens2000\"] = \"\"\n",
    "stations[\"NN_popdens1990\"] = \"\"\n",
    "stations[\"NN_popdens1975\"] = \"\"\n",
    "stations[\"NN_lat_diff\"] = \"\"\n",
    "stations[\"NN_popdens2015_diff\"] = \"\"\n",
    "stations[\"NN_popdens2000_diff\"] = \"\"\n",
    "stations[\"NN_popdens1990_diff\"] = \"\"\n",
    "stations[\"NN_popdens1975_diff\"] = \"\"\n",
    "\n",
    "stations.head()"
   ]
  },
  {
   "cell_type": "markdown",
   "metadata": {},
   "source": [
    "Iterate through the DF and fill these columns row by row. \n",
    "\n",
    "🔥 **TODO** This is reeeeally slow, I'm sure there must be a faster way to do this... for now, I'm at least making sure we only need to do this once by saving the results in a CSV that can just be loaded again\n",
    "\n",
    "🏁"
   ]
  },
  {
   "cell_type": "code",
   "execution_count": 25,
   "metadata": {},
   "outputs": [
    {
     "data": {
      "text/html": [
       "<div>\n",
       "<style scoped>\n",
       "    .dataframe tbody tr th:only-of-type {\n",
       "        vertical-align: middle;\n",
       "    }\n",
       "\n",
       "    .dataframe tbody tr th {\n",
       "        vertical-align: top;\n",
       "    }\n",
       "\n",
       "    .dataframe thead th {\n",
       "        text-align: right;\n",
       "    }\n",
       "</style>\n",
       "<table border=\"1\" class=\"dataframe\">\n",
       "  <thead>\n",
       "    <tr style=\"text-align: right;\">\n",
       "      <th></th>\n",
       "      <th>station</th>\n",
       "      <th>lat</th>\n",
       "      <th>lon</th>\n",
       "      <th>elevation</th>\n",
       "      <th>name</th>\n",
       "      <th>country</th>\n",
       "      <th>mollX</th>\n",
       "      <th>mollY</th>\n",
       "      <th>pop2015</th>\n",
       "      <th>pop2000</th>\n",
       "      <th>...</th>\n",
       "      <th>NN_lat</th>\n",
       "      <th>NN_popdens2015</th>\n",
       "      <th>NN_popdens2000</th>\n",
       "      <th>NN_popdens1990</th>\n",
       "      <th>NN_popdens1975</th>\n",
       "      <th>NN_lat_diff</th>\n",
       "      <th>NN_popdens2015_diff</th>\n",
       "      <th>NN_popdens2000_diff</th>\n",
       "      <th>NN_popdens1990_diff</th>\n",
       "      <th>NN_popdens1975_diff</th>\n",
       "    </tr>\n",
       "  </thead>\n",
       "  <tbody>\n",
       "    <tr>\n",
       "      <th>0</th>\n",
       "      <td>ACW00011604</td>\n",
       "      <td>17.1167</td>\n",
       "      <td>-61.7833</td>\n",
       "      <td>10.1</td>\n",
       "      <td>ST JOHNS COOLIDGE FLD</td>\n",
       "      <td>AC</td>\n",
       "      <td>-6.021233e+06</td>\n",
       "      <td>2.104299e+06</td>\n",
       "      <td>0.000000</td>\n",
       "      <td>0.000000</td>\n",
       "      <td>...</td>\n",
       "      <td>17.1333</td>\n",
       "      <td>0</td>\n",
       "      <td>0</td>\n",
       "      <td>0</td>\n",
       "      <td>0</td>\n",
       "      <td>-0.0166</td>\n",
       "      <td>0</td>\n",
       "      <td>0</td>\n",
       "      <td>0</td>\n",
       "      <td>0</td>\n",
       "    </tr>\n",
       "    <tr>\n",
       "      <th>1</th>\n",
       "      <td>ACW00011647</td>\n",
       "      <td>17.1333</td>\n",
       "      <td>-61.7833</td>\n",
       "      <td>19.2</td>\n",
       "      <td>ST JOHNS</td>\n",
       "      <td>AC</td>\n",
       "      <td>-6.020901e+06</td>\n",
       "      <td>2.106316e+06</td>\n",
       "      <td>0.000000</td>\n",
       "      <td>0.000000</td>\n",
       "      <td>...</td>\n",
       "      <td>17.1167</td>\n",
       "      <td>0</td>\n",
       "      <td>0</td>\n",
       "      <td>0</td>\n",
       "      <td>0</td>\n",
       "      <td>0.0166</td>\n",
       "      <td>0</td>\n",
       "      <td>0</td>\n",
       "      <td>0</td>\n",
       "      <td>0</td>\n",
       "    </tr>\n",
       "    <tr>\n",
       "      <th>2</th>\n",
       "      <td>AE000041196</td>\n",
       "      <td>25.3330</td>\n",
       "      <td>55.5170</td>\n",
       "      <td>34.0</td>\n",
       "      <td>SHARJAH INTER. AIRP</td>\n",
       "      <td>AE</td>\n",
       "      <td>5.226731e+06</td>\n",
       "      <td>3.092960e+06</td>\n",
       "      <td>0.000000</td>\n",
       "      <td>0.000000</td>\n",
       "      <td>...</td>\n",
       "      <td>25.255</td>\n",
       "      <td>1656.33</td>\n",
       "      <td>270.906</td>\n",
       "      <td>154.392</td>\n",
       "      <td>41.1432</td>\n",
       "      <td>0.078</td>\n",
       "      <td>-1656.33</td>\n",
       "      <td>-270.906</td>\n",
       "      <td>-154.392</td>\n",
       "      <td>-41.1432</td>\n",
       "    </tr>\n",
       "    <tr>\n",
       "      <th>3</th>\n",
       "      <td>AEM00041194</td>\n",
       "      <td>25.2550</td>\n",
       "      <td>55.3640</td>\n",
       "      <td>10.4</td>\n",
       "      <td>DUBAI INTL</td>\n",
       "      <td>AE</td>\n",
       "      <td>5.214407e+06</td>\n",
       "      <td>3.083680e+06</td>\n",
       "      <td>103.520790</td>\n",
       "      <td>16.931656</td>\n",
       "      <td>...</td>\n",
       "      <td>25.333</td>\n",
       "      <td>0</td>\n",
       "      <td>0</td>\n",
       "      <td>0</td>\n",
       "      <td>0</td>\n",
       "      <td>-0.078</td>\n",
       "      <td>1656.33</td>\n",
       "      <td>270.906</td>\n",
       "      <td>154.392</td>\n",
       "      <td>41.1432</td>\n",
       "    </tr>\n",
       "    <tr>\n",
       "      <th>4</th>\n",
       "      <td>AEM00041217</td>\n",
       "      <td>24.4330</td>\n",
       "      <td>54.6510</td>\n",
       "      <td>26.8</td>\n",
       "      <td>ABU DHABI INTL</td>\n",
       "      <td>AE</td>\n",
       "      <td>5.168502e+06</td>\n",
       "      <td>2.985740e+06</td>\n",
       "      <td>180.376755</td>\n",
       "      <td>84.788246</td>\n",
       "      <td>...</td>\n",
       "      <td>24.262</td>\n",
       "      <td>0</td>\n",
       "      <td>0</td>\n",
       "      <td>0</td>\n",
       "      <td>0</td>\n",
       "      <td>0.171</td>\n",
       "      <td>2886.03</td>\n",
       "      <td>1356.61</td>\n",
       "      <td>875.874</td>\n",
       "      <td>349.351</td>\n",
       "    </tr>\n",
       "  </tbody>\n",
       "</table>\n",
       "<p>5 rows × 29 columns</p>\n",
       "</div>"
      ],
      "text/plain": [
       "       station      lat      lon  elevation                   name country  \\\n",
       "0  ACW00011604  17.1167 -61.7833       10.1  ST JOHNS COOLIDGE FLD      AC   \n",
       "1  ACW00011647  17.1333 -61.7833       19.2               ST JOHNS      AC   \n",
       "2  AE000041196  25.3330  55.5170       34.0    SHARJAH INTER. AIRP      AE   \n",
       "3  AEM00041194  25.2550  55.3640       10.4             DUBAI INTL      AE   \n",
       "4  AEM00041217  24.4330  54.6510       26.8         ABU DHABI INTL      AE   \n",
       "\n",
       "          mollX         mollY     pop2015    pop2000  ...   NN_lat  \\\n",
       "0 -6.021233e+06  2.104299e+06    0.000000   0.000000  ...  17.1333   \n",
       "1 -6.020901e+06  2.106316e+06    0.000000   0.000000  ...  17.1167   \n",
       "2  5.226731e+06  3.092960e+06    0.000000   0.000000  ...   25.255   \n",
       "3  5.214407e+06  3.083680e+06  103.520790  16.931656  ...   25.333   \n",
       "4  5.168502e+06  2.985740e+06  180.376755  84.788246  ...   24.262   \n",
       "\n",
       "   NN_popdens2015  NN_popdens2000  NN_popdens1990  NN_popdens1975  \\\n",
       "0               0               0               0               0   \n",
       "1               0               0               0               0   \n",
       "2         1656.33         270.906         154.392         41.1432   \n",
       "3               0               0               0               0   \n",
       "4               0               0               0               0   \n",
       "\n",
       "   NN_lat_diff NN_popdens2015_diff NN_popdens2000_diff NN_popdens1990_diff  \\\n",
       "0      -0.0166                   0                   0                   0   \n",
       "1       0.0166                   0                   0                   0   \n",
       "2        0.078            -1656.33            -270.906            -154.392   \n",
       "3       -0.078             1656.33             270.906             154.392   \n",
       "4        0.171             2886.03             1356.61             875.874   \n",
       "\n",
       "  NN_popdens1975_diff  \n",
       "0                   0  \n",
       "1                   0  \n",
       "2            -41.1432  \n",
       "3             41.1432  \n",
       "4             349.351  \n",
       "\n",
       "[5 rows x 29 columns]"
      ]
     },
     "execution_count": 25,
     "metadata": {},
     "output_type": "execute_result"
    }
   ],
   "source": [
    "file = 'stations_with_nearest_neighbor_data.csv'\n",
    "\n",
    "if os.path.isfile(file):\n",
    "    print('Nearest neighbor data already computed, using local file.')\n",
    "    stations = pd.read_csv(file, index_col=0)\n",
    "else:\n",
    "    # nearest neighbor station:    \n",
    "    for index, row in stations.iterrows():\n",
    "        s = row['station']\n",
    "        \n",
    "        # look up nearest neighbor station\n",
    "        nn = queryStation(s, stations, stationsIndex)\n",
    "                    \n",
    "        # pick up values from nearest neighbor station\n",
    "        stations.loc[stations.station == s, 'NN']      = nn['station'].iloc[0]\n",
    "        stations.loc[stations.station == s, 'NN_dist'] = nn['distance'].iloc[0]        \n",
    "        stations.loc[stations.station == s, 'NN_elev'] = nn['elevation'].iloc[0]\n",
    "        stations.loc[stations.station == s, 'NN_lat']  = nn['lat'].iloc[0]\n",
    "        \n",
    "        stations.loc[stations.station == s, 'NN_popdens2015'] = nn['popdens2015'].iloc[0]\n",
    "        stations.loc[stations.station == s, 'NN_popdens2000'] = nn['popdens2000'].iloc[0]\n",
    "        stations.loc[stations.station == s, 'NN_popdens1990'] = nn['popdens1990'].iloc[0]\n",
    "        stations.loc[stations.station == s, 'NN_popdens1975'] = nn['popdens1975'].iloc[0]\n",
    "\n",
    "# calculate differences between station and nearest neighbor\n",
    "stations[\"NN_lat_diff\"]         = stations[\"lat\"] - stations[\"NN_lat\"]\n",
    "stations[\"NN_popdens2015_diff\"] = stations[\"popdens2015\"] - stations[\"NN_popdens2015\"]\n",
    "stations[\"NN_popdens2000_diff\"] = stations[\"popdens2000\"] - stations[\"NN_popdens2000\"]\n",
    "stations[\"NN_popdens1990_diff\"] = stations[\"popdens1990\"] - stations[\"NN_popdens1990\"]\n",
    "stations[\"NN_popdens1975_diff\"] = stations[\"popdens1975\"] - stations[\"NN_popdens1975\"]\n",
    "                \n",
    "stations.to_csv(file)\n",
    "        \n",
    "stations.head()"
   ]
  },
  {
   "cell_type": "code",
   "execution_count": 26,
   "metadata": {},
   "outputs": [
    {
     "data": {
      "text/html": [
       "<div>\n",
       "<style scoped>\n",
       "    .dataframe tbody tr th:only-of-type {\n",
       "        vertical-align: middle;\n",
       "    }\n",
       "\n",
       "    .dataframe tbody tr th {\n",
       "        vertical-align: top;\n",
       "    }\n",
       "\n",
       "    .dataframe thead th {\n",
       "        text-align: right;\n",
       "    }\n",
       "</style>\n",
       "<table border=\"1\" class=\"dataframe\">\n",
       "  <thead>\n",
       "    <tr style=\"text-align: right;\">\n",
       "      <th></th>\n",
       "      <th>station</th>\n",
       "      <th>NN</th>\n",
       "      <th>NN_dist</th>\n",
       "    </tr>\n",
       "  </thead>\n",
       "  <tbody>\n",
       "    <tr>\n",
       "      <th>0</th>\n",
       "      <td>ACW00011604</td>\n",
       "      <td>ACW00011647</td>\n",
       "      <td>2044.42</td>\n",
       "    </tr>\n",
       "    <tr>\n",
       "      <th>1</th>\n",
       "      <td>ACW00011647</td>\n",
       "      <td>ACW00011604</td>\n",
       "      <td>2044.42</td>\n",
       "    </tr>\n",
       "    <tr>\n",
       "      <th>2</th>\n",
       "      <td>AE000041196</td>\n",
       "      <td>AEM00041194</td>\n",
       "      <td>15427.6</td>\n",
       "    </tr>\n",
       "    <tr>\n",
       "      <th>3</th>\n",
       "      <td>AEM00041194</td>\n",
       "      <td>AE000041196</td>\n",
       "      <td>15427.6</td>\n",
       "    </tr>\n",
       "    <tr>\n",
       "      <th>4</th>\n",
       "      <td>AEM00041217</td>\n",
       "      <td>AEM00041218</td>\n",
       "      <td>97173</td>\n",
       "    </tr>\n",
       "    <tr>\n",
       "      <th>5</th>\n",
       "      <td>AEM00041218</td>\n",
       "      <td>MUM00041244</td>\n",
       "      <td>17560.4</td>\n",
       "    </tr>\n",
       "    <tr>\n",
       "      <th>6</th>\n",
       "      <td>AF000040930</td>\n",
       "      <td>AFM00040948</td>\n",
       "      <td>100714</td>\n",
       "    </tr>\n",
       "    <tr>\n",
       "      <th>7</th>\n",
       "      <td>AFM00040938</td>\n",
       "      <td>TX000038987</td>\n",
       "      <td>127736</td>\n",
       "    </tr>\n",
       "    <tr>\n",
       "      <th>8</th>\n",
       "      <td>AFM00040948</td>\n",
       "      <td>AF000040930</td>\n",
       "      <td>100714</td>\n",
       "    </tr>\n",
       "    <tr>\n",
       "      <th>9</th>\n",
       "      <td>AFM00040990</td>\n",
       "      <td>PKM00041660</td>\n",
       "      <td>207877</td>\n",
       "    </tr>\n",
       "    <tr>\n",
       "      <th>10</th>\n",
       "      <td>AG000060390</td>\n",
       "      <td>AGM00060369</td>\n",
       "      <td>14400.3</td>\n",
       "    </tr>\n",
       "    <tr>\n",
       "      <th>11</th>\n",
       "      <td>AG000060590</td>\n",
       "      <td>AGM00060566</td>\n",
       "      <td>226314</td>\n",
       "    </tr>\n",
       "    <tr>\n",
       "      <th>12</th>\n",
       "      <td>AG000060611</td>\n",
       "      <td>AGM00060640</td>\n",
       "      <td>179574</td>\n",
       "    </tr>\n",
       "    <tr>\n",
       "      <th>13</th>\n",
       "      <td>AG000060680</td>\n",
       "      <td>AGM00060690</td>\n",
       "      <td>391163</td>\n",
       "    </tr>\n",
       "    <tr>\n",
       "      <th>14</th>\n",
       "      <td>AGE00135039</td>\n",
       "      <td>AGE00147714</td>\n",
       "      <td>13967.2</td>\n",
       "    </tr>\n",
       "  </tbody>\n",
       "</table>\n",
       "</div>"
      ],
      "text/plain": [
       "        station           NN  NN_dist\n",
       "0   ACW00011604  ACW00011647  2044.42\n",
       "1   ACW00011647  ACW00011604  2044.42\n",
       "2   AE000041196  AEM00041194  15427.6\n",
       "3   AEM00041194  AE000041196  15427.6\n",
       "4   AEM00041217  AEM00041218    97173\n",
       "5   AEM00041218  MUM00041244  17560.4\n",
       "6   AF000040930  AFM00040948   100714\n",
       "7   AFM00040938  TX000038987   127736\n",
       "8   AFM00040948  AF000040930   100714\n",
       "9   AFM00040990  PKM00041660   207877\n",
       "10  AG000060390  AGM00060369  14400.3\n",
       "11  AG000060590  AGM00060566   226314\n",
       "12  AG000060611  AGM00060640   179574\n",
       "13  AG000060680  AGM00060690   391163\n",
       "14  AGE00135039  AGE00147714  13967.2"
      ]
     },
     "execution_count": 26,
     "metadata": {},
     "output_type": "execute_result"
    }
   ],
   "source": [
    "stations.head(15)[['station','NN','NN_dist']]"
   ]
  },
  {
   "cell_type": "markdown",
   "metadata": {},
   "source": [
    "While working with the data, I saw that some stations are missing elevation information (marked with `-999.9`), which we will be using later:"
   ]
  },
  {
   "cell_type": "code",
   "execution_count": 27,
   "metadata": {},
   "outputs": [
    {
     "name": "stdout",
     "output_type": "stream",
     "text": [
      "4620 out of 114979 lack elevation data.\n"
     ]
    }
   ],
   "source": [
    "print(str(len(stations[stations.elevation == -999.9])),'out of',str(len(stations)),'lack elevation data.')"
   ]
  },
  {
   "cell_type": "markdown",
   "metadata": {},
   "source": [
    "A small percentage, but let's still fix that. We'll use [GPS Visualizer's lookup service for that](https://www.gpsvisualizer.com/elevation). The API is not documented, but this was quite easy to figure out and saves us downloading gigabytes of data for the underlying [SRTM data](https://www2.jpl.nasa.gov/srtm/): "
   ]
  },
  {
   "cell_type": "code",
   "execution_count": 28,
   "metadata": {},
   "outputs": [],
   "source": [
    "def elevation_lookup(lat, lon):\n",
    "    url = 'https://www.gpsvisualizer.com/elevation_data/elev2018.js?coords='+str(lat)+'%2C'+str(lon)+'&gv_nocache=1563196454722'\n",
    "\n",
    "    with urllib.request.urlopen(url) as f:\n",
    "        response = f.read(100).decode('utf-8')\n",
    "        ele = response.split(\"(\")[1].split(\",\")[0]\n",
    "        if ele == 'null':\n",
    "            return 0.0\n",
    "        \n",
    "        number = float(ele)\n",
    "        if number == 0.0:\n",
    "            return number\n",
    "        \n",
    "        return (1./number) # I don't know if this is some kind of super-cheap encryption they do to make it harder to use their API, but they do the same operation and the output make sense\n",
    "\n",
    "    "
   ]
  },
  {
   "cell_type": "markdown",
   "metadata": {},
   "source": [
    "Loop through the rows with missing stations and look up the elevation at that lat/lon position using our function. This is going to take a while for ~4000 stations without elevation 😴\n",
    "\n",
    "🏁"
   ]
  },
  {
   "cell_type": "code",
   "execution_count": 30,
   "metadata": {},
   "outputs": [
    {
     "name": "stdout",
     "output_type": "stream",
     "text": [
      "Done looking up elevation values.\n"
     ]
    }
   ],
   "source": [
    "file = 'stations_with_nearest_neighbor_data_fixed_elevation.csv'\n",
    "\n",
    "if os.path.isfile(file):\n",
    "    print('Elevation already looked up, using local file.')\n",
    "    stations = pd.read_csv(file, index_col=0)\n",
    "else:\n",
    "    for index, row in stations[stations.elevation == -999.9].iterrows():\n",
    "        new_elev = elevation_lookup(row.lat, row.lon)\n",
    "        #print(new_elev)\n",
    "        stations.loc[stations.station == row.station, 'elevation']  = new_elev\n",
    "    \n",
    "    # recalculate elevation difference\n",
    "    stations['nn_elev_diff'] = stations['elevation'] - stations['NN_elev']\n",
    "        \n",
    "    stations.to_csv(file)\n",
    "    print('Done looking up elevation values.')\n"
   ]
  },
  {
   "cell_type": "markdown",
   "metadata": {},
   "source": [
    "Next, we will calculate the difference in latitude and poulation density for the four periods between the a given station and its nearest neighbor:"
   ]
  },
  {
   "cell_type": "code",
   "execution_count": 31,
   "metadata": {
    "scrolled": false
   },
   "outputs": [
    {
     "data": {
      "text/html": [
       "<div>\n",
       "<style scoped>\n",
       "    .dataframe tbody tr th:only-of-type {\n",
       "        vertical-align: middle;\n",
       "    }\n",
       "\n",
       "    .dataframe tbody tr th {\n",
       "        vertical-align: top;\n",
       "    }\n",
       "\n",
       "    .dataframe thead th {\n",
       "        text-align: right;\n",
       "    }\n",
       "</style>\n",
       "<table border=\"1\" class=\"dataframe\">\n",
       "  <thead>\n",
       "    <tr style=\"text-align: right;\">\n",
       "      <th></th>\n",
       "      <th>station</th>\n",
       "      <th>NN</th>\n",
       "      <th>NN_dist</th>\n",
       "      <th>nn_popdens2015_diff</th>\n",
       "      <th>nn_popdens2000_diff</th>\n",
       "      <th>nn_popdens1990_diff</th>\n",
       "      <th>nn_popdens1975_diff</th>\n",
       "      <th>nn_lat_diff</th>\n",
       "    </tr>\n",
       "  </thead>\n",
       "  <tbody>\n",
       "    <tr>\n",
       "      <th>0</th>\n",
       "      <td>ACW00011604</td>\n",
       "      <td>ACW00011647</td>\n",
       "      <td>2044.42</td>\n",
       "      <td>0</td>\n",
       "      <td>0</td>\n",
       "      <td>0</td>\n",
       "      <td>0</td>\n",
       "      <td>-0.0166</td>\n",
       "    </tr>\n",
       "    <tr>\n",
       "      <th>1</th>\n",
       "      <td>ACW00011647</td>\n",
       "      <td>ACW00011604</td>\n",
       "      <td>2044.42</td>\n",
       "      <td>0</td>\n",
       "      <td>0</td>\n",
       "      <td>0</td>\n",
       "      <td>0</td>\n",
       "      <td>0.0166</td>\n",
       "    </tr>\n",
       "    <tr>\n",
       "      <th>2</th>\n",
       "      <td>AE000041196</td>\n",
       "      <td>AEM00041194</td>\n",
       "      <td>15427.6</td>\n",
       "      <td>-1656.33</td>\n",
       "      <td>-270.906</td>\n",
       "      <td>-154.392</td>\n",
       "      <td>-41.1432</td>\n",
       "      <td>0.078</td>\n",
       "    </tr>\n",
       "    <tr>\n",
       "      <th>3</th>\n",
       "      <td>AEM00041194</td>\n",
       "      <td>AE000041196</td>\n",
       "      <td>15427.6</td>\n",
       "      <td>1656.33</td>\n",
       "      <td>270.906</td>\n",
       "      <td>154.392</td>\n",
       "      <td>41.1432</td>\n",
       "      <td>-0.078</td>\n",
       "    </tr>\n",
       "    <tr>\n",
       "      <th>4</th>\n",
       "      <td>AEM00041217</td>\n",
       "      <td>AEM00041218</td>\n",
       "      <td>97173</td>\n",
       "      <td>2886.03</td>\n",
       "      <td>1356.61</td>\n",
       "      <td>875.874</td>\n",
       "      <td>349.351</td>\n",
       "      <td>0.171</td>\n",
       "    </tr>\n",
       "    <tr>\n",
       "      <th>5</th>\n",
       "      <td>AEM00041218</td>\n",
       "      <td>MUM00041244</td>\n",
       "      <td>17560.4</td>\n",
       "      <td>-211.781</td>\n",
       "      <td>-1238.91</td>\n",
       "      <td>-1645.24</td>\n",
       "      <td>-1309.41</td>\n",
       "      <td>0.029</td>\n",
       "    </tr>\n",
       "    <tr>\n",
       "      <th>6</th>\n",
       "      <td>AF000040930</td>\n",
       "      <td>AFM00040948</td>\n",
       "      <td>100714</td>\n",
       "      <td>0</td>\n",
       "      <td>0</td>\n",
       "      <td>0</td>\n",
       "      <td>0</td>\n",
       "      <td>0.751</td>\n",
       "    </tr>\n",
       "    <tr>\n",
       "      <th>7</th>\n",
       "      <td>AFM00040938</td>\n",
       "      <td>TX000038987</td>\n",
       "      <td>127736</td>\n",
       "      <td>348.689</td>\n",
       "      <td>-4691.43</td>\n",
       "      <td>-1062.29</td>\n",
       "      <td>0</td>\n",
       "      <td>-1.0731</td>\n",
       "    </tr>\n",
       "    <tr>\n",
       "      <th>8</th>\n",
       "      <td>AFM00040948</td>\n",
       "      <td>AF000040930</td>\n",
       "      <td>100714</td>\n",
       "      <td>0</td>\n",
       "      <td>0</td>\n",
       "      <td>0</td>\n",
       "      <td>0</td>\n",
       "      <td>-0.751</td>\n",
       "    </tr>\n",
       "    <tr>\n",
       "      <th>9</th>\n",
       "      <td>AFM00040990</td>\n",
       "      <td>PKM00041660</td>\n",
       "      <td>207877</td>\n",
       "      <td>0</td>\n",
       "      <td>0</td>\n",
       "      <td>0</td>\n",
       "      <td>0</td>\n",
       "      <td>1.249</td>\n",
       "    </tr>\n",
       "    <tr>\n",
       "      <th>10</th>\n",
       "      <td>AG000060390</td>\n",
       "      <td>AGM00060369</td>\n",
       "      <td>14400.3</td>\n",
       "      <td>2346.02</td>\n",
       "      <td>0</td>\n",
       "      <td>0</td>\n",
       "      <td>0</td>\n",
       "      <td>-0.0503</td>\n",
       "    </tr>\n",
       "    <tr>\n",
       "      <th>11</th>\n",
       "      <td>AG000060590</td>\n",
       "      <td>AGM00060566</td>\n",
       "      <td>226314</td>\n",
       "      <td>-6002.03</td>\n",
       "      <td>-3143.16</td>\n",
       "      <td>-3203.2</td>\n",
       "      <td>-357.049</td>\n",
       "      <td>-1.8173</td>\n",
       "    </tr>\n",
       "    <tr>\n",
       "      <th>12</th>\n",
       "      <td>AG000060611</td>\n",
       "      <td>AGM00060640</td>\n",
       "      <td>179574</td>\n",
       "      <td>0</td>\n",
       "      <td>0</td>\n",
       "      <td>0</td>\n",
       "      <td>-0.0243937</td>\n",
       "      <td>1.326</td>\n",
       "    </tr>\n",
       "    <tr>\n",
       "      <th>13</th>\n",
       "      <td>AG000060680</td>\n",
       "      <td>AGM00060690</td>\n",
       "      <td>391163</td>\n",
       "      <td>-2734.33</td>\n",
       "      <td>0</td>\n",
       "      <td>-0.0706848</td>\n",
       "      <td>-0.0262538</td>\n",
       "      <td>3.233</td>\n",
       "    </tr>\n",
       "    <tr>\n",
       "      <th>14</th>\n",
       "      <td>AGE00135039</td>\n",
       "      <td>AGE00147714</td>\n",
       "      <td>13967.2</td>\n",
       "      <td>0</td>\n",
       "      <td>0</td>\n",
       "      <td>0</td>\n",
       "      <td>0</td>\n",
       "      <td>-0.0403</td>\n",
       "    </tr>\n",
       "  </tbody>\n",
       "</table>\n",
       "</div>"
      ],
      "text/plain": [
       "        station           NN  NN_dist nn_popdens2015_diff nn_popdens2000_diff  \\\n",
       "0   ACW00011604  ACW00011647  2044.42                   0                   0   \n",
       "1   ACW00011647  ACW00011604  2044.42                   0                   0   \n",
       "2   AE000041196  AEM00041194  15427.6            -1656.33            -270.906   \n",
       "3   AEM00041194  AE000041196  15427.6             1656.33             270.906   \n",
       "4   AEM00041217  AEM00041218    97173             2886.03             1356.61   \n",
       "5   AEM00041218  MUM00041244  17560.4            -211.781            -1238.91   \n",
       "6   AF000040930  AFM00040948   100714                   0                   0   \n",
       "7   AFM00040938  TX000038987   127736             348.689            -4691.43   \n",
       "8   AFM00040948  AF000040930   100714                   0                   0   \n",
       "9   AFM00040990  PKM00041660   207877                   0                   0   \n",
       "10  AG000060390  AGM00060369  14400.3             2346.02                   0   \n",
       "11  AG000060590  AGM00060566   226314            -6002.03            -3143.16   \n",
       "12  AG000060611  AGM00060640   179574                   0                   0   \n",
       "13  AG000060680  AGM00060690   391163            -2734.33                   0   \n",
       "14  AGE00135039  AGE00147714  13967.2                   0                   0   \n",
       "\n",
       "   nn_popdens1990_diff nn_popdens1975_diff nn_lat_diff  \n",
       "0                    0                   0     -0.0166  \n",
       "1                    0                   0      0.0166  \n",
       "2             -154.392            -41.1432       0.078  \n",
       "3              154.392             41.1432      -0.078  \n",
       "4              875.874             349.351       0.171  \n",
       "5             -1645.24            -1309.41       0.029  \n",
       "6                    0                   0       0.751  \n",
       "7             -1062.29                   0     -1.0731  \n",
       "8                    0                   0      -0.751  \n",
       "9                    0                   0       1.249  \n",
       "10                   0                   0     -0.0503  \n",
       "11             -3203.2            -357.049     -1.8173  \n",
       "12                   0          -0.0243937       1.326  \n",
       "13          -0.0706848          -0.0262538       3.233  \n",
       "14                   0                   0     -0.0403  "
      ]
     },
     "execution_count": 31,
     "metadata": {},
     "output_type": "execute_result"
    }
   ],
   "source": [
    "file = 'stations_with_nearest_neighbor_data_differences.csv'\n",
    "\n",
    "if os.path.isfile(file):\n",
    "    print('Differences already calculated, using local file.')\n",
    "    stations = pd.read_csv(file, index_col=0)\n",
    "else:\n",
    "    stations['nn_popdens2015_diff'] = stations['popdens2015'] - stations['NN_popdens2015']\n",
    "    stations['nn_popdens2000_diff'] = stations['popdens2000'] - stations['NN_popdens2000']\n",
    "    stations['nn_popdens1990_diff'] = stations['popdens1990'] - stations['NN_popdens1990']\n",
    "    stations['nn_popdens1975_diff'] = stations['popdens1975'] - stations['NN_popdens1975']\n",
    "    stations['nn_lat_diff'] = stations['lat'] - stations['NN_lat']\n",
    "    \n",
    "    stations.to_csv(file)\n",
    "\n",
    "    \n",
    "stations.head(15)[['station',\n",
    "                   'NN',\n",
    "                   'NN_dist',\n",
    "                   'nn_popdens2015_diff',\n",
    "                   'nn_popdens2000_diff',\n",
    "                   'nn_popdens1990_diff',\n",
    "                   'nn_popdens1975_diff',\n",
    "                   'nn_lat_diff']]"
   ]
  },
  {
   "cell_type": "markdown",
   "metadata": {},
   "source": [
    "# Climate Zones\n",
    "\n",
    "Now we'll add information about the climate zone each station is in, using these [world maps of the Köppen-Geiger Climate Classification](http://koeppen-geiger.vu-wien.ac.at/present.htm)."
   ]
  },
  {
   "cell_type": "code",
   "execution_count": 34,
   "metadata": {},
   "outputs": [
    {
     "name": "stdout",
     "output_type": "stream",
     "text": [
      "Climate zones already downloaded.\n"
     ]
    }
   ],
   "source": [
    "file = 'Map_KG-Global/KG_1986-2010.grd'\n",
    "file_zip = 'Map_KG-Global.zip'\n",
    "\n",
    "if os.path.isfile(file):\n",
    "    print('Climate zones already downloaded.')\n",
    "else:\n",
    "    print('Downloading data...')\n",
    "    url = 'http://koeppen-geiger.vu-wien.ac.at/Rcode/Map_KG-Global.zip'\n",
    "    urllib.request.urlretrieve(url, file_zip)\n",
    "\n",
    "    print('Unzipping...')\n",
    "    zip_ref = zipfile.ZipFile(file_zip, 'r')\n",
    "    zip_ref.extractall('.')\n",
    "    zip_ref.close()\n",
    "\n",
    "    print('Cleaning up...')    \n",
    "    # remove the ZIP file and the extracted overview file - we don't need it and the .ovr file is huge (3GB!)\n",
    "    os.remove(file_zip)\n",
    "    print('Done.')"
   ]
  },
  {
   "cell_type": "code",
   "execution_count": 35,
   "metadata": {},
   "outputs": [
    {
     "data": {
      "text/plain": [
       "<open DatasetReader name='Map_KG-Global/KG_1986-2010.grd' mode='r'>"
      ]
     },
     "execution_count": 35,
     "metadata": {},
     "output_type": "execute_result"
    }
   ],
   "source": [
    "climateZones = rio.open(file)\n",
    "climateZones"
   ]
  },
  {
   "cell_type": "code",
   "execution_count": 36,
   "metadata": {},
   "outputs": [
    {
     "data": {
      "text/html": [
       "<div>\n",
       "<style scoped>\n",
       "    .dataframe tbody tr th:only-of-type {\n",
       "        vertical-align: middle;\n",
       "    }\n",
       "\n",
       "    .dataframe tbody tr th {\n",
       "        vertical-align: top;\n",
       "    }\n",
       "\n",
       "    .dataframe thead th {\n",
       "        text-align: right;\n",
       "    }\n",
       "</style>\n",
       "<table border=\"1\" class=\"dataframe\">\n",
       "  <thead>\n",
       "    <tr style=\"text-align: right;\">\n",
       "      <th></th>\n",
       "      <th>station</th>\n",
       "      <th>lat</th>\n",
       "      <th>lon</th>\n",
       "      <th>elevation</th>\n",
       "      <th>name</th>\n",
       "      <th>country</th>\n",
       "      <th>mollX</th>\n",
       "      <th>mollY</th>\n",
       "      <th>pop2015</th>\n",
       "      <th>pop2000</th>\n",
       "      <th>...</th>\n",
       "      <th>NN_popdens2000_diff</th>\n",
       "      <th>NN_popdens1990_diff</th>\n",
       "      <th>NN_popdens1975_diff</th>\n",
       "      <th>nn_elev_diff</th>\n",
       "      <th>nn_popdens2015_diff</th>\n",
       "      <th>nn_popdens2000_diff</th>\n",
       "      <th>nn_popdens1990_diff</th>\n",
       "      <th>nn_popdens1975_diff</th>\n",
       "      <th>nn_lat_diff</th>\n",
       "      <th>climatezone</th>\n",
       "    </tr>\n",
       "  </thead>\n",
       "  <tbody>\n",
       "    <tr>\n",
       "      <th>0</th>\n",
       "      <td>ACW00011604</td>\n",
       "      <td>17.1167</td>\n",
       "      <td>-61.7833</td>\n",
       "      <td>10.1</td>\n",
       "      <td>ST JOHNS COOLIDGE FLD</td>\n",
       "      <td>AC</td>\n",
       "      <td>-6.021233e+06</td>\n",
       "      <td>2.104299e+06</td>\n",
       "      <td>0.000000</td>\n",
       "      <td>0.000000</td>\n",
       "      <td>...</td>\n",
       "      <td>0</td>\n",
       "      <td>0</td>\n",
       "      <td>0</td>\n",
       "      <td>-9.1</td>\n",
       "      <td>0</td>\n",
       "      <td>0</td>\n",
       "      <td>0</td>\n",
       "      <td>0</td>\n",
       "      <td>-0.0166</td>\n",
       "      <td>2</td>\n",
       "    </tr>\n",
       "    <tr>\n",
       "      <th>1</th>\n",
       "      <td>ACW00011647</td>\n",
       "      <td>17.1333</td>\n",
       "      <td>-61.7833</td>\n",
       "      <td>19.2</td>\n",
       "      <td>ST JOHNS</td>\n",
       "      <td>AC</td>\n",
       "      <td>-6.020901e+06</td>\n",
       "      <td>2.106316e+06</td>\n",
       "      <td>0.000000</td>\n",
       "      <td>0.000000</td>\n",
       "      <td>...</td>\n",
       "      <td>0</td>\n",
       "      <td>0</td>\n",
       "      <td>0</td>\n",
       "      <td>9.1</td>\n",
       "      <td>0</td>\n",
       "      <td>0</td>\n",
       "      <td>0</td>\n",
       "      <td>0</td>\n",
       "      <td>0.0166</td>\n",
       "      <td>2</td>\n",
       "    </tr>\n",
       "    <tr>\n",
       "      <th>2</th>\n",
       "      <td>AE000041196</td>\n",
       "      <td>25.3330</td>\n",
       "      <td>55.5170</td>\n",
       "      <td>34.0</td>\n",
       "      <td>SHARJAH INTER. AIRP</td>\n",
       "      <td>AE</td>\n",
       "      <td>5.226731e+06</td>\n",
       "      <td>3.092960e+06</td>\n",
       "      <td>0.000000</td>\n",
       "      <td>0.000000</td>\n",
       "      <td>...</td>\n",
       "      <td>-270.906</td>\n",
       "      <td>-154.392</td>\n",
       "      <td>-41.1432</td>\n",
       "      <td>23.6</td>\n",
       "      <td>-1656.33</td>\n",
       "      <td>-270.906</td>\n",
       "      <td>-154.392</td>\n",
       "      <td>-41.1432</td>\n",
       "      <td>0.078</td>\n",
       "      <td>7</td>\n",
       "    </tr>\n",
       "    <tr>\n",
       "      <th>3</th>\n",
       "      <td>AEM00041194</td>\n",
       "      <td>25.2550</td>\n",
       "      <td>55.3640</td>\n",
       "      <td>10.4</td>\n",
       "      <td>DUBAI INTL</td>\n",
       "      <td>AE</td>\n",
       "      <td>5.214407e+06</td>\n",
       "      <td>3.083680e+06</td>\n",
       "      <td>103.520790</td>\n",
       "      <td>16.931656</td>\n",
       "      <td>...</td>\n",
       "      <td>270.906</td>\n",
       "      <td>154.392</td>\n",
       "      <td>41.1432</td>\n",
       "      <td>-23.6</td>\n",
       "      <td>1656.33</td>\n",
       "      <td>270.906</td>\n",
       "      <td>154.392</td>\n",
       "      <td>41.1432</td>\n",
       "      <td>-0.078</td>\n",
       "      <td>7</td>\n",
       "    </tr>\n",
       "    <tr>\n",
       "      <th>4</th>\n",
       "      <td>AEM00041217</td>\n",
       "      <td>24.4330</td>\n",
       "      <td>54.6510</td>\n",
       "      <td>26.8</td>\n",
       "      <td>ABU DHABI INTL</td>\n",
       "      <td>AE</td>\n",
       "      <td>5.168502e+06</td>\n",
       "      <td>2.985740e+06</td>\n",
       "      <td>180.376755</td>\n",
       "      <td>84.788246</td>\n",
       "      <td>...</td>\n",
       "      <td>1356.61</td>\n",
       "      <td>875.874</td>\n",
       "      <td>349.351</td>\n",
       "      <td>-238.1</td>\n",
       "      <td>2886.03</td>\n",
       "      <td>1356.61</td>\n",
       "      <td>875.874</td>\n",
       "      <td>349.351</td>\n",
       "      <td>0.171</td>\n",
       "      <td>7</td>\n",
       "    </tr>\n",
       "  </tbody>\n",
       "</table>\n",
       "<p>5 rows × 36 columns</p>\n",
       "</div>"
      ],
      "text/plain": [
       "       station      lat      lon  elevation                   name country  \\\n",
       "0  ACW00011604  17.1167 -61.7833       10.1  ST JOHNS COOLIDGE FLD      AC   \n",
       "1  ACW00011647  17.1333 -61.7833       19.2               ST JOHNS      AC   \n",
       "2  AE000041196  25.3330  55.5170       34.0    SHARJAH INTER. AIRP      AE   \n",
       "3  AEM00041194  25.2550  55.3640       10.4             DUBAI INTL      AE   \n",
       "4  AEM00041217  24.4330  54.6510       26.8         ABU DHABI INTL      AE   \n",
       "\n",
       "          mollX         mollY     pop2015    pop2000  ...  \\\n",
       "0 -6.021233e+06  2.104299e+06    0.000000   0.000000  ...   \n",
       "1 -6.020901e+06  2.106316e+06    0.000000   0.000000  ...   \n",
       "2  5.226731e+06  3.092960e+06    0.000000   0.000000  ...   \n",
       "3  5.214407e+06  3.083680e+06  103.520790  16.931656  ...   \n",
       "4  5.168502e+06  2.985740e+06  180.376755  84.788246  ...   \n",
       "\n",
       "   NN_popdens2000_diff  NN_popdens1990_diff  NN_popdens1975_diff  \\\n",
       "0                    0                    0                    0   \n",
       "1                    0                    0                    0   \n",
       "2             -270.906             -154.392             -41.1432   \n",
       "3              270.906              154.392              41.1432   \n",
       "4              1356.61              875.874              349.351   \n",
       "\n",
       "   nn_elev_diff  nn_popdens2015_diff  nn_popdens2000_diff nn_popdens1990_diff  \\\n",
       "0          -9.1                    0                    0                   0   \n",
       "1           9.1                    0                    0                   0   \n",
       "2          23.6             -1656.33             -270.906            -154.392   \n",
       "3         -23.6              1656.33              270.906             154.392   \n",
       "4        -238.1              2886.03              1356.61             875.874   \n",
       "\n",
       "  nn_popdens1975_diff nn_lat_diff climatezone  \n",
       "0                   0     -0.0166           2  \n",
       "1                   0      0.0166           2  \n",
       "2            -41.1432       0.078           7  \n",
       "3             41.1432      -0.078           7  \n",
       "4             349.351       0.171           7  \n",
       "\n",
       "[5 rows x 36 columns]"
      ]
     },
     "execution_count": 36,
     "metadata": {},
     "output_type": "execute_result"
    }
   ],
   "source": [
    "file = 'stations_with_climate_zones.csv'\n",
    "\n",
    "\n",
    "if os.path.isfile(file):\n",
    "    print('Climate zones already attached, using local file.')\n",
    "    stations = pd.read_csv(file, index_col=0)\n",
    "else:\n",
    "    locations = list(zip(stations['lon'], stations['lat']))\n",
    "    zones = []\n",
    "\n",
    "    for val in climateZones.sample(locations):\n",
    "        zones.append(val[0])\n",
    "\n",
    "    # make this list a new column in our stations dataframe\n",
    "    stations['climatezone'] = zones\n",
    "    stations.to_csv(file)\n",
    "\n",
    "stations.head()"
   ]
  },
  {
   "cell_type": "markdown",
   "metadata": {},
   "source": [
    "# World regions\n",
    "\n",
    "Next, we'll load a shapefile with world regions and spatially join that to our station points.\n",
    "\n",
    "**TODO**: Add source for the regions file (ask Peter)"
   ]
  },
  {
   "cell_type": "code",
   "execution_count": 68,
   "metadata": {},
   "outputs": [
    {
     "name": "stdout",
     "output_type": "stream",
     "text": [
      "Regions already attached, using local file.\n"
     ]
    },
    {
     "data": {
      "text/html": [
       "<div>\n",
       "<style scoped>\n",
       "    .dataframe tbody tr th:only-of-type {\n",
       "        vertical-align: middle;\n",
       "    }\n",
       "\n",
       "    .dataframe tbody tr th {\n",
       "        vertical-align: top;\n",
       "    }\n",
       "\n",
       "    .dataframe thead th {\n",
       "        text-align: right;\n",
       "    }\n",
       "</style>\n",
       "<table border=\"1\" class=\"dataframe\">\n",
       "  <thead>\n",
       "    <tr style=\"text-align: right;\">\n",
       "      <th></th>\n",
       "      <th>station</th>\n",
       "      <th>lat</th>\n",
       "      <th>lon</th>\n",
       "      <th>elevation</th>\n",
       "      <th>name</th>\n",
       "      <th>country</th>\n",
       "      <th>mollX</th>\n",
       "      <th>mollY</th>\n",
       "      <th>pop2015</th>\n",
       "      <th>pop2000</th>\n",
       "      <th>...</th>\n",
       "      <th>NN_popdens1975_diff</th>\n",
       "      <th>nn_elev_diff</th>\n",
       "      <th>nn_popdens2015_diff</th>\n",
       "      <th>nn_popdens2000_diff</th>\n",
       "      <th>nn_popdens1990_diff</th>\n",
       "      <th>nn_popdens1975_diff</th>\n",
       "      <th>nn_lat_diff</th>\n",
       "      <th>climatezone</th>\n",
       "      <th>geometry</th>\n",
       "      <th>Region_Name</th>\n",
       "    </tr>\n",
       "  </thead>\n",
       "  <tbody>\n",
       "    <tr>\n",
       "      <th>0</th>\n",
       "      <td>ACW00011604</td>\n",
       "      <td>17.1167</td>\n",
       "      <td>-61.7833</td>\n",
       "      <td>10.1</td>\n",
       "      <td>ST JOHNS COOLIDGE FLD</td>\n",
       "      <td>AC</td>\n",
       "      <td>-6.021233e+06</td>\n",
       "      <td>2.104299e+06</td>\n",
       "      <td>0.0</td>\n",
       "      <td>0.0</td>\n",
       "      <td>...</td>\n",
       "      <td>0.0</td>\n",
       "      <td>-9.1</td>\n",
       "      <td>0.0</td>\n",
       "      <td>0.0</td>\n",
       "      <td>0.0</td>\n",
       "      <td>0.0</td>\n",
       "      <td>-0.0166</td>\n",
       "      <td>2</td>\n",
       "      <td>POINT (-61.7833 17.1167)</td>\n",
       "      <td>Latin America</td>\n",
       "    </tr>\n",
       "    <tr>\n",
       "      <th>1</th>\n",
       "      <td>ACW00011647</td>\n",
       "      <td>17.1333</td>\n",
       "      <td>-61.7833</td>\n",
       "      <td>19.2</td>\n",
       "      <td>ST JOHNS</td>\n",
       "      <td>AC</td>\n",
       "      <td>-6.020901e+06</td>\n",
       "      <td>2.106316e+06</td>\n",
       "      <td>0.0</td>\n",
       "      <td>0.0</td>\n",
       "      <td>...</td>\n",
       "      <td>0.0</td>\n",
       "      <td>9.1</td>\n",
       "      <td>0.0</td>\n",
       "      <td>0.0</td>\n",
       "      <td>0.0</td>\n",
       "      <td>0.0</td>\n",
       "      <td>0.0166</td>\n",
       "      <td>2</td>\n",
       "      <td>POINT (-61.7833 17.1333)</td>\n",
       "      <td>Latin America</td>\n",
       "    </tr>\n",
       "    <tr>\n",
       "      <th>245</th>\n",
       "      <td>AR000000001</td>\n",
       "      <td>-29.6000</td>\n",
       "      <td>-58.1500</td>\n",
       "      <td>109.0</td>\n",
       "      <td>BAIBENE</td>\n",
       "      <td>AR</td>\n",
       "      <td>-5.344510e+06</td>\n",
       "      <td>-3.596996e+06</td>\n",
       "      <td>0.0</td>\n",
       "      <td>0.0</td>\n",
       "      <td>...</td>\n",
       "      <td>0.0</td>\n",
       "      <td>-1.0</td>\n",
       "      <td>0.0</td>\n",
       "      <td>0.0</td>\n",
       "      <td>0.0</td>\n",
       "      <td>0.0</td>\n",
       "      <td>-0.2300</td>\n",
       "      <td>9</td>\n",
       "      <td>POINT (-58.15 -29.6)</td>\n",
       "      <td>Latin America</td>\n",
       "    </tr>\n",
       "    <tr>\n",
       "      <th>246</th>\n",
       "      <td>AR000000002</td>\n",
       "      <td>-29.8200</td>\n",
       "      <td>-57.4200</td>\n",
       "      <td>75.0</td>\n",
       "      <td>BONPLAND</td>\n",
       "      <td>AR</td>\n",
       "      <td>-5.270234e+06</td>\n",
       "      <td>-3.622776e+06</td>\n",
       "      <td>0.0</td>\n",
       "      <td>0.0</td>\n",
       "      <td>...</td>\n",
       "      <td>0.0</td>\n",
       "      <td>4.9</td>\n",
       "      <td>0.0</td>\n",
       "      <td>0.0</td>\n",
       "      <td>0.0</td>\n",
       "      <td>0.0</td>\n",
       "      <td>-0.1310</td>\n",
       "      <td>9</td>\n",
       "      <td>POINT (-57.42 -29.82)</td>\n",
       "      <td>Latin America</td>\n",
       "    </tr>\n",
       "    <tr>\n",
       "      <th>247</th>\n",
       "      <td>AR000000003</td>\n",
       "      <td>-29.9800</td>\n",
       "      <td>-58.2800</td>\n",
       "      <td>90.0</td>\n",
       "      <td>CAZADORES CORRENTINOS</td>\n",
       "      <td>AR</td>\n",
       "      <td>-5.343830e+06</td>\n",
       "      <td>-3.641512e+06</td>\n",
       "      <td>0.0</td>\n",
       "      <td>0.0</td>\n",
       "      <td>...</td>\n",
       "      <td>0.0</td>\n",
       "      <td>7.0</td>\n",
       "      <td>0.0</td>\n",
       "      <td>0.0</td>\n",
       "      <td>0.0</td>\n",
       "      <td>0.0</td>\n",
       "      <td>0.0500</td>\n",
       "      <td>9</td>\n",
       "      <td>POINT (-58.28 -29.98)</td>\n",
       "      <td>Latin America</td>\n",
       "    </tr>\n",
       "  </tbody>\n",
       "</table>\n",
       "<p>5 rows × 38 columns</p>\n",
       "</div>"
      ],
      "text/plain": [
       "         station      lat      lon  elevation                   name country  \\\n",
       "0    ACW00011604  17.1167 -61.7833       10.1  ST JOHNS COOLIDGE FLD      AC   \n",
       "1    ACW00011647  17.1333 -61.7833       19.2               ST JOHNS      AC   \n",
       "245  AR000000001 -29.6000 -58.1500      109.0                BAIBENE      AR   \n",
       "246  AR000000002 -29.8200 -57.4200       75.0               BONPLAND      AR   \n",
       "247  AR000000003 -29.9800 -58.2800       90.0  CAZADORES CORRENTINOS      AR   \n",
       "\n",
       "            mollX         mollY  pop2015  pop2000  ...  NN_popdens1975_diff  \\\n",
       "0   -6.021233e+06  2.104299e+06      0.0      0.0  ...                  0.0   \n",
       "1   -6.020901e+06  2.106316e+06      0.0      0.0  ...                  0.0   \n",
       "245 -5.344510e+06 -3.596996e+06      0.0      0.0  ...                  0.0   \n",
       "246 -5.270234e+06 -3.622776e+06      0.0      0.0  ...                  0.0   \n",
       "247 -5.343830e+06 -3.641512e+06      0.0      0.0  ...                  0.0   \n",
       "\n",
       "     nn_elev_diff  nn_popdens2015_diff  nn_popdens2000_diff  \\\n",
       "0            -9.1                  0.0                  0.0   \n",
       "1             9.1                  0.0                  0.0   \n",
       "245          -1.0                  0.0                  0.0   \n",
       "246           4.9                  0.0                  0.0   \n",
       "247           7.0                  0.0                  0.0   \n",
       "\n",
       "     nn_popdens1990_diff  nn_popdens1975_diff nn_lat_diff  climatezone  \\\n",
       "0                    0.0                  0.0     -0.0166            2   \n",
       "1                    0.0                  0.0      0.0166            2   \n",
       "245                  0.0                  0.0     -0.2300            9   \n",
       "246                  0.0                  0.0     -0.1310            9   \n",
       "247                  0.0                  0.0      0.0500            9   \n",
       "\n",
       "                     geometry    Region_Name  \n",
       "0    POINT (-61.7833 17.1167)  Latin America  \n",
       "1    POINT (-61.7833 17.1333)  Latin America  \n",
       "245      POINT (-58.15 -29.6)  Latin America  \n",
       "246     POINT (-57.42 -29.82)  Latin America  \n",
       "247     POINT (-58.28 -29.98)  Latin America  \n",
       "\n",
       "[5 rows x 38 columns]"
      ]
     },
     "execution_count": 68,
     "metadata": {},
     "output_type": "execute_result"
    }
   ],
   "source": [
    "file = \"stations_complete.csv\"\n",
    "\n",
    "if os.path.isfile(file):\n",
    "    print('Regions already attached, using local file.')\n",
    "    stations = pd.read_csv(file, index_col=0)\n",
    "else:\n",
    "    \n",
    "    print('Loading regions...')\n",
    "    regions = gpd.read_file(\"Regions/UN_Regional_Boundaries.shp\", layer='UN_Regional_Boundaries')\n",
    "    \n",
    "    # assign the \"real\" region names instead of just numbers:\n",
    "    regions['Region_Name'] = '-'\n",
    "    regions.loc[regions['Region'] == 0, 'Region_Name'] = 'Antarctica'\n",
    "    regions.loc[regions['Region'] == 150, 'Region_Name'] = 'Europe'\n",
    "    regions.loc[regions['Region'] == 21, 'Region_Name'] = 'North America'\n",
    "    regions.loc[regions['Region'] == 419, 'Region_Name'] = 'Latin America'\n",
    "    regions.loc[regions['Region'] == 142, 'Region_Name'] = 'Asia'\n",
    "    regions.loc[regions['Region'] == 2, 'Region_Name'] = 'Africa'\n",
    "    regions.loc[regions['Region'] == 9, 'Region_Name'] = 'Oceania'\n",
    "    \n",
    "    print('Converting stations to geodataframe...')\n",
    "    stations = gpd.GeoDataFrame(stations, \n",
    "                 crs={'init': 'epsg:4326'}, \n",
    "                 geometry=[Point(xy) for xy in zip(stations.lon, stations.lat)])\n",
    "\n",
    "    print('Spatial join...')\n",
    "    stations = gpd.sjoin(stations, regions)\n",
    "    stations.plot(column='Region_Name')\n",
    "    \n",
    "    # remove some columns we dont need\n",
    "    stations.drop(['index_right', 'Region'], axis=1, inplace=True)\n",
    "    stations.to_csv(file)\n",
    "\n",
    "stations.head(5)"
   ]
  },
  {
   "cell_type": "markdown",
   "metadata": {},
   "source": [
    "Now we'll take this file and figure out which of the stations are within a tropical or subtropical [WUDAPT](http://www.wudapt.org) city, and which [LCZ](http://www.wudapt.org/lcz/) they are in:\n",
    "\n",
    "# 🏁"
   ]
  },
  {
   "cell_type": "code",
   "execution_count": 7,
   "metadata": {},
   "outputs": [
    {
     "name": "stdout",
     "output_type": "stream",
     "text": [
      "Stations data with WUDAPT LCZs already generated; reusing existing file.\n"
     ]
    }
   ],
   "source": [
    "file = 'stations_WUDAPT.csv'\n",
    "\n",
    "if os.path.isfile(file):\n",
    "    print('Stations data with WUDAPT LCZs already generated; reusing existing file.')\n",
    "    stations = pd.read_csv(file, index_col=0)\n",
    "else:\n",
    "    print('Sampling all Wudapt cities')\n",
    "    \n",
    "    # open all WUDAPT cities in a list of rasters\n",
    "    wudapt = []\n",
    "    cities = []\n",
    "    rasterdir = 'Cities_raster/cities_moll'\n",
    "    for filename in os.listdir(rasterdir):\n",
    "    # for filename in ['Phoenix.tif','Shanghai.tif']:    # 2 examples for testing:\n",
    "        if filename.endswith('.tif'):\n",
    "            wudapt.append(rio.open(rasterdir+'/'+filename))\n",
    "            cities.append(filename[:-4]) # we'll make a column that stores the city name\n",
    "    \n",
    "    # add columns to the stations to hold the WUDAPT data\n",
    "    stations['lcz'] = 'masked'\n",
    "    stations['city'] = '-'\n",
    "    \n",
    "    stations.reset_index(inplace=True)\n",
    "    \n",
    "    # now loop through all station locations and look each one up in the rasters\n",
    "    locations = list(zip(stations['mollX'], stations['mollY']))\n",
    "    \n",
    "    for dataset, city in (list(zip(wudapt, cities))):\n",
    "        print(city)\n",
    "        samples = pd.Series(dataset.sample(locations, masked=True))\n",
    "        # now well'take those values and copy them over to the stations in the corresponding rows:\n",
    "\n",
    "        samples.reset_index(drop=True,inplace=True)\n",
    "        \n",
    "        #print(samples[samples != 'masked'])\n",
    "        stations.loc[samples != 'masked', 'lcz'] = samples[samples != 'masked']\n",
    "        stations.loc[samples != 'masked', 'city'] = city\n",
    "        \n",
    "\n",
    "    stations[stations['lcz'] != 'masked'].to_csv(file)    "
   ]
  },
  {
   "cell_type": "markdown",
   "metadata": {},
   "source": [
    "How many stations are there in each WUDAPT city?"
   ]
  },
  {
   "cell_type": "code",
   "execution_count": 35,
   "metadata": {},
   "outputs": [
    {
     "data": {
      "text/plain": [
       "Phoenix           358\n",
       "Washington_DC     342\n",
       "Sydney            327\n",
       "Houston           220\n",
       "Mexico_City       141\n",
       "Sao_Paulo         123\n",
       "Johannesburg       47\n",
       "San_Juan           32\n",
       "Barcelona          16\n",
       "Kolkata            15\n",
       "Rio_de_Janeiro     10\n",
       "Vitoria             7\n",
       "Chandigarh          6\n",
       "Aracaju             5\n",
       "Bangkok             4\n",
       "Caracas             3\n",
       "Shanghai            3\n",
       "Venice              2\n",
       "Kuala_Lumpur        2\n",
       "Changsha            2\n",
       "Thessaloniki        2\n",
       "Milan               2\n",
       "Bogor               2\n",
       "Montevideo          1\n",
       "Guangzhou           1\n",
       "Bahia_Blanca        1\n",
       "Hangzhou            1\n",
       "Wuhan               1\n",
       "Bologna             1\n",
       "Addis_Ababa         1\n",
       "Hong_Kong           1\n",
       "Xiamen              1\n",
       "Khartoum            1\n",
       "Colombo             1\n",
       "Sfax                1\n",
       "Matsuyama           1\n",
       "Nanjing             1\n",
       "Lima                1\n",
       "Dar_es_Salaam       1\n",
       "Name: city, dtype: int64"
      ]
     },
     "execution_count": 35,
     "metadata": {},
     "output_type": "execute_result"
    }
   ],
   "source": [
    "counts = stations[stations['city'] != '-']['city'].value_counts()\n",
    "counts"
   ]
  },
  {
   "cell_type": "markdown",
   "metadata": {},
   "source": [
    "How many stations do we have per local climate zone?"
   ]
  },
  {
   "cell_type": "code",
   "execution_count": 36,
   "metadata": {},
   "outputs": [
    {
     "data": {
      "text/plain": [
       "Index(['Phoenix', 'Washington_DC', 'Sydney', 'Houston', 'Mexico_City',\n",
       "       'Sao_Paulo', 'Johannesburg', 'San_Juan', 'Barcelona', 'Kolkata',\n",
       "       'Rio_de_Janeiro', 'Vitoria', 'Chandigarh', 'Aracaju', 'Bangkok',\n",
       "       'Caracas', 'Shanghai', 'Venice', 'Kuala_Lumpur', 'Changsha',\n",
       "       'Thessaloniki', 'Milan', 'Bogor', 'Montevideo', 'Guangzhou',\n",
       "       'Bahia_Blanca', 'Hangzhou', 'Wuhan', 'Bologna', 'Addis_Ababa',\n",
       "       'Hong_Kong', 'Xiamen', 'Khartoum', 'Colombo', 'Sfax', 'Matsuyama',\n",
       "       'Nanjing', 'Lima', 'Dar_es_Salaam'],\n",
       "      dtype='object')"
      ]
     },
     "execution_count": 36,
     "metadata": {},
     "output_type": "execute_result"
    }
   ],
   "source": [
    "counts.index"
   ]
  },
  {
   "cell_type": "code",
   "execution_count": 37,
   "metadata": {
    "scrolled": true
   },
   "outputs": [
    {
     "data": {
      "image/png": "[encoded data removed]",
      "text/plain": [
       "<Figure size 1008x720 with 1 Axes>"
      ]
     },
     "metadata": {
      "needs_background": "light"
     },
     "output_type": "display_data"
    },
    {
     "data": {
      "image/png": "[encoded data removed]",
      "text/plain": [
       "<Figure size 1008x720 with 1 Axes>"
      ]
     },
     "metadata": {
      "needs_background": "light"
     },
     "output_type": "display_data"
    },
    {
     "data": {
      "image/png": "[encoded data removed]",
      "text/plain": [
       "<Figure size 1008x720 with 1 Axes>"
      ]
     },
     "metadata": {
      "needs_background": "light"
     },
     "output_type": "display_data"
    },
    {
     "data": {
      "image/png": "[encoded data removed]",
      "text/plain": [
       "<Figure size 1008x720 with 1 Axes>"
      ]
     },
     "metadata": {
      "needs_background": "light"
     },
     "output_type": "display_data"
    },
    {
     "data": {
      "image/png": "[encoded data removed]",
      "text/plain": [
       "<Figure size 1008x720 with 1 Axes>"
      ]
     },
     "metadata": {
      "needs_background": "light"
     },
     "output_type": "display_data"
    },
    {
     "data": {
      "image/png": "[encoded data removed]",
      "text/plain": [
       "<Figure size 1008x720 with 1 Axes>"
      ]
     },
     "metadata": {
      "needs_background": "light"
     },
     "output_type": "display_data"
    },
    {
     "data": {
      "image/png": "[encoded data removed]",
      "text/plain": [
       "<Figure size 1008x720 with 1 Axes>"
      ]
     },
     "metadata": {
      "needs_background": "light"
     },
     "output_type": "display_data"
    },
    {
     "data": {
      "image/png": "[encoded data removed]",
      "text/plain": [
       "<Figure size 1008x720 with 1 Axes>"
      ]
     },
     "metadata": {
      "needs_background": "light"
     },
     "output_type": "display_data"
    },
    {
     "data": {
      "image/png": "[encoded data removed]",
      "text/plain": [
       "<Figure size 1008x720 with 1 Axes>"
      ]
     },
     "metadata": {
      "needs_background": "light"
     },
     "output_type": "display_data"
    },
    {
     "data": {
      "image/png": "[encoded data removed]",
      "text/plain": [
       "<Figure size 1008x720 with 1 Axes>"
      ]
     },
     "metadata": {
      "needs_background": "light"
     },
     "output_type": "display_data"
    },
    {
     "data": {
      "image/png": "[encoded data removed]",
      "text/plain": [
       "<Figure size 1008x720 with 1 Axes>"
      ]
     },
     "metadata": {
      "needs_background": "light"
     },
     "output_type": "display_data"
    }
   ],
   "source": [
    "for c, v in zip(counts.index, counts):\n",
    "    # only plot cities with at least 10 stations:\n",
    "    if v > 9:\n",
    "        ax = stations[stations['city'] == c]['lcz'].value_counts().plot(kind='bar', title=c+' ('+str(v)+' stations)')\n",
    "        plt.show(ax)"
   ]
  },
  {
   "cell_type": "markdown",
   "metadata": {},
   "source": [
    "How big is the population for each of those cities wihin the LCZ classified areas? Before running the next block of code, make sure to run the [_vectorize_wudapt.sh](Cities_raster/cities_moll/_vectorize_wudapt.sh) shell script. It will turn the WUDAPT raster for each of the above cities into a single polygon with the area classified (excluding any nodata areas), stored as a geopackage. We will use these geopackages to generate some zonal statistics with the [rasterstats](https://pythonhosted.org/rasterstats/index.html) module now, namely the sum of population within the polygon according to GHSL "
   ]
  },
  {
   "cell_type": "code",
   "execution_count": 38,
   "metadata": {},
   "outputs": [
    {
     "name": "stdout",
     "output_type": "stream",
     "text": [
      "Phoenix 4563880.0\n",
      "Washington_DC 5651566.0\n",
      "Sydney 4467671.5\n",
      "Houston 5727922.0\n",
      "Mexico_City 21686864.0\n",
      "Sao_Paulo 22042668.0\n",
      "Johannesburg 12265840.0\n",
      "San_Juan 1447428.375\n",
      "Barcelona 4808705.5\n",
      "Kolkata 23701058.0\n",
      "Rio_de_Janeiro 12915293.0\n"
     ]
    }
   ],
   "source": [
    "for c, v in zip(counts.index, counts):\n",
    "    # only plot cities with at least 10 stations:\n",
    "    if v > 9:\n",
    "        stats = zonal_stats(\"Cities_raster/cities_moll/\"+c+\".flat.gpkg\", \n",
    "            \"GHS_POP_GPW42015_GLOBE_R2015A_54009_250_v1_0/GHS_POP_GPW42015_GLOBE_R2015A_54009_250_v1_0.tif\",\n",
    "            stats=\"sum\")\n",
    "        \n",
    "        print(c,stats[len(stats)-1]['sum'])"
   ]
  },
  {
   "cell_type": "markdown",
   "metadata": {},
   "source": [
    "Next, I'd like to know the distribution of 2015 GHSL population at our stations for each city by LCZ. First, we'll make a dictionary [mapping the LCZ codes to the names](https://journals.ametsoc.org/view-large/9514426) to label the plots properly later:"
   ]
  },
  {
   "cell_type": "code",
   "execution_count": 55,
   "metadata": {},
   "outputs": [
    {
     "data": {
      "text/plain": [
       "{'[1.0]': 'Compact high-rise',\n",
       " '[2.0]': 'Compact midrise',\n",
       " '[3.0]': 'Compact low-rise',\n",
       " '[4.0]': 'Open high-rise',\n",
       " '[5.0]': 'Open midrise',\n",
       " '[6.0]': 'Open lowrise',\n",
       " '[7.0]': 'Lightweight low-rise',\n",
       " '[8.0]': 'Large low-rise',\n",
       " '[9.0]': 'Sparsely built',\n",
       " '[10.0]': 'Heavy industry',\n",
       " '[101.0]': 'Dense trees',\n",
       " '[102.0]': 'Scattered trees',\n",
       " '[103.0]': 'Bush, scrub',\n",
       " '[104.0]': 'Low plants',\n",
       " '[105.0]': 'Bare rock or paved',\n",
       " '[106.0]': 'Bare soil or sand',\n",
       " '[107.0]': 'Water'}"
      ]
     },
     "execution_count": 55,
     "metadata": {},
     "output_type": "execute_result"
    }
   ],
   "source": [
    "LCZs = dict({'[1.0]': 'Compact high-rise',\n",
    "            '[2.0]': 'Compact midrise',\n",
    "            '[3.0]': 'Compact low-rise',\n",
    "            '[4.0]': 'Open high-rise',\n",
    "            '[5.0]': 'Open midrise',\n",
    "            '[6.0]': 'Open lowrise',\n",
    "            '[7.0]': 'Lightweight low-rise',\n",
    "            '[8.0]': 'Large low-rise',\n",
    "            '[9.0]': 'Sparsely built',\n",
    "            '[10.0]': 'Heavy industry',\n",
    "            '[101.0]': 'Dense trees',\n",
    "            '[102.0]': 'Scattered trees',\n",
    "            '[103.0]': 'Bush, scrub',\n",
    "            '[104.0]': 'Low plants',\n",
    "            '[105.0]': 'Bare rock or paved',\n",
    "            '[106.0]': 'Bare soil or sand',\n",
    "            '[107.0]': 'Water' })\n",
    "LCZs"
   ]
  },
  {
   "cell_type": "markdown",
   "metadata": {},
   "source": [
    "Let's make some box plots: "
   ]
  },
  {
   "cell_type": "code",
   "execution_count": 57,
   "metadata": {
    "scrolled": true
   },
   "outputs": [
    {
     "data": {
      "image/png": "[encoded data removed]",
      "text/plain": [
       "<Figure size 1008x720 with 1 Axes>"
      ]
     },
     "metadata": {
      "needs_background": "light"
     },
     "output_type": "display_data"
    },
    {
     "data": {
      "image/png": "[encoded data removed]",
      "text/plain": [
       "<Figure size 1008x720 with 1 Axes>"
      ]
     },
     "metadata": {
      "needs_background": "light"
     },
     "output_type": "display_data"
    },
    {
     "data": {
      "image/png": "[encoded data removed]",
      "text/plain": [
       "<Figure size 1008x720 with 1 Axes>"
      ]
     },
     "metadata": {
      "needs_background": "light"
     },
     "output_type": "display_data"
    },
    {
     "data": {
      "image/png": "[encoded data removed]",
      "text/plain": [
       "<Figure size 1008x720 with 1 Axes>"
      ]
     },
     "metadata": {
      "needs_background": "light"
     },
     "output_type": "display_data"
    },
    {
     "data": {
      "image/png": "[encoded data removed]",
      "text/plain": [
       "<Figure size 1008x720 with 1 Axes>"
      ]
     },
     "metadata": {
      "needs_background": "light"
     },
     "output_type": "display_data"
    },
    {
     "data": {
      "image/png": "[encoded data removed]",
      "text/plain": [
       "<Figure size 1008x720 with 1 Axes>"
      ]
     },
     "metadata": {
      "needs_background": "light"
     },
     "output_type": "display_data"
    },
    {
     "data": {
      "image/png": "[encoded data removed]",
      "text/plain": [
       "<Figure size 1008x720 with 1 Axes>"
      ]
     },
     "metadata": {
      "needs_background": "light"
     },
     "output_type": "display_data"
    },
    {
     "data": {
      "image/png": "[encoded data removed]",
      "text/plain": [
       "<Figure size 1008x720 with 1 Axes>"
      ]
     },
     "metadata": {
      "needs_background": "light"
     },
     "output_type": "display_data"
    },
    {
     "data": {
      "image/png": "[encoded data removed]",
      "text/plain": [
       "<Figure size 1008x720 with 1 Axes>"
      ]
     },
     "metadata": {
      "needs_background": "light"
     },
     "output_type": "display_data"
    },
    {
     "data": {
      "image/png": "[encoded data removed]",
      "text/plain": [
       "<Figure size 1008x720 with 1 Axes>"
      ]
     },
     "metadata": {
      "needs_background": "light"
     },
     "output_type": "display_data"
    },
    {
     "data": {
      "image/png": "[encoded data removed]",
      "text/plain": [
       "<Figure size 1008x720 with 1 Axes>"
      ]
     },
     "metadata": {
      "needs_background": "light"
     },
     "output_type": "display_data"
    }
   ],
   "source": [
    "for c, v in zip(counts.index, counts):\n",
    "    # only plot cities with at least 10 stations:\n",
    "    if v > 9:\n",
    "        ax = stations[stations['city'] == c].boxplot(column = 'pop2015', by='lcz')\n",
    "            # change title:\n",
    "        plt.title(c)\n",
    "        plt.suptitle('')\n",
    "\n",
    "        plt.show(ax)"
   ]
  },
  {
   "cell_type": "markdown",
   "metadata": {},
   "source": [
    "Let's look at that the other way around: One plot per LCZ, with separate boxes for each city, so we can see whether the different LCZs have simmilar population densities in the different cities:\n",
    "\n",
    "*This is including all WUDAPT cities for now, not just the 11 we have above.*"
   ]
  },
  {
   "cell_type": "code",
   "execution_count": 58,
   "metadata": {
    "scrolled": false
   },
   "outputs": [
    {
     "data": {
      "image/png": "[encoded data removed]",
      "text/plain": [
       "<Figure size 1008x720 with 1 Axes>"
      ]
     },
     "metadata": {
      "needs_background": "light"
     },
     "output_type": "display_data"
    },
    {
     "data": {
      "image/png": "[encoded data removed]",
      "text/plain": [
       "<Figure size 1008x720 with 1 Axes>"
      ]
     },
     "metadata": {
      "needs_background": "light"
     },
     "output_type": "display_data"
    },
    {
     "data": {
      "image/png": "[encoded data removed]",
      "text/plain": [
       "<Figure size 1008x720 with 1 Axes>"
      ]
     },
     "metadata": {
      "needs_background": "light"
     },
     "output_type": "display_data"
    },
    {
     "data": {
      "image/png": "[encoded data removed]",
      "text/plain": [
       "<Figure size 1008x720 with 1 Axes>"
      ]
     },
     "metadata": {
      "needs_background": "light"
     },
     "output_type": "display_data"
    },
    {
     "data": {
      "image/png": "[encoded data removed]",
      "text/plain": [
       "<Figure size 1008x720 with 1 Axes>"
      ]
     },
     "metadata": {
      "needs_background": "light"
     },
     "output_type": "display_data"
    },
    {
     "data": {
      "image/png": "[encoded data removed]",
      "text/plain": [
       "<Figure size 1008x720 with 1 Axes>"
      ]
     },
     "metadata": {
      "needs_background": "light"
     },
     "output_type": "display_data"
    },
    {
     "data": {
      "image/png": "[encoded data removed]",
      "text/plain": [
       "<Figure size 1008x720 with 1 Axes>"
      ]
     },
     "metadata": {
      "needs_background": "light"
     },
     "output_type": "display_data"
    },
    {
     "data": {
      "image/png": "[encoded data removed]",
      "text/plain": [
       "<Figure size 1008x720 with 1 Axes>"
      ]
     },
     "metadata": {
      "needs_background": "light"
     },
     "output_type": "display_data"
    },
    {
     "data": {
      "image/png": "[encoded data removed]",
      "text/plain": [
       "<Figure size 1008x720 with 1 Axes>"
      ]
     },
     "metadata": {
      "needs_background": "light"
     },
     "output_type": "display_data"
    },
    {
     "data": {
      "image/png": "[encoded data removed]",
      "text/plain": [
       "<Figure size 1008x720 with 1 Axes>"
      ]
     },
     "metadata": {
      "needs_background": "light"
     },
     "output_type": "display_data"
    },
    {
     "data": {
      "image/png": "[encoded data removed]",
      "text/plain": [
       "<Figure size 1008x720 with 1 Axes>"
      ]
     },
     "metadata": {
      "needs_background": "light"
     },
     "output_type": "display_data"
    },
    {
     "data": {
      "image/png": "[encoded data removed]",
      "text/plain": [
       "<Figure size 1008x720 with 1 Axes>"
      ]
     },
     "metadata": {
      "needs_background": "light"
     },
     "output_type": "display_data"
    },
    {
     "data": {
      "image/png": "[encoded data removed]",
      "text/plain": [
       "<Figure size 1008x720 with 1 Axes>"
      ]
     },
     "metadata": {
      "needs_background": "light"
     },
     "output_type": "display_data"
    },
    {
     "data": {
      "image/png": "[encoded data removed]",
      "text/plain": [
       "<Figure size 1008x720 with 1 Axes>"
      ]
     },
     "metadata": {
      "needs_background": "light"
     },
     "output_type": "display_data"
    },
    {
     "data": {
      "image/png": "[encoded data removed]",
      "text/plain": [
       "<Figure size 1008x720 with 1 Axes>"
      ]
     },
     "metadata": {
      "needs_background": "light"
     },
     "output_type": "display_data"
    },
    {
     "data": {
      "image/png": "[encoded data removed]",
      "text/plain": [
       "<Figure size 1008x720 with 1 Axes>"
      ]
     },
     "metadata": {
      "needs_background": "light"
     },
     "output_type": "display_data"
    },
    {
     "data": {
      "image/png": "[encoded data removed]",
      "text/plain": [
       "<Figure size 1008x720 with 1 Axes>"
      ]
     },
     "metadata": {
      "needs_background": "light"
     },
     "output_type": "display_data"
    }
   ],
   "source": [
    "for l in stations['lcz'].unique(): # for each climate zone:\n",
    "    ax = stations[stations['lcz'] == l].boxplot(column = 'pop2015', by='city')\n",
    "    \n",
    "    # change title:\n",
    "    plt.title(LCZs[l] + ' ' + l)\n",
    "    plt.suptitle('')\n",
    "        \n",
    "    # show\n",
    "    plt.show(ax)"
   ]
  },
  {
   "cell_type": "markdown",
   "metadata": {},
   "source": [
    "![](https://thumbs.gfycat.com/HandmadeHonorableBluebreastedkookaburra-size_restricted.gif)\n",
    "\n",
    "That should be all for now. ```stations_complete.csv``` will be used in the further analysis. \n",
    "\n",
    "### 👉 head over to [2_Analysis_2015.ipynb](2_Analysis_2015.ipynb) to continue."
   ]
  }
 ],
 "metadata": {
  "colab": {
   "name": "NOAA weather station data.ipynb",
   "provenance": [],
   "version": "0.3.2"
  },
  "kernelspec": {
   "display_name": "Python 3",
   "language": "python",
   "name": "python3"
  },
  "language_info": {
   "codemirror_mode": {
    "name": "ipython",
    "version": 3
   },
   "file_extension": ".py",
   "mimetype": "text/x-python",
   "name": "python",
   "nbconvert_exporter": "python",
   "pygments_lexer": "ipython3",
   "version": "3.7.6"
  }
 },
 "nbformat": 4,
 "nbformat_minor": 1
}
