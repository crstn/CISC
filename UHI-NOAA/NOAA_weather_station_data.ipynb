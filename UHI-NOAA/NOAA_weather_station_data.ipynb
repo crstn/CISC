{
 "cells": [
  {
   "cell_type": "markdown",
   "metadata": {
    "colab_type": "text",
    "id": "YwFA50NyM_Sh"
   },
   "source": [
    "Import some libraries we'll use:"
   ]
  },
  {
   "cell_type": "code",
   "execution_count": 58,
   "metadata": {
    "colab": {},
    "colab_type": "code",
    "id": "_-6gbN01F4cC"
   },
   "outputs": [],
   "source": [
    "import urllib.request\n",
    "import gzip\n",
    "import zipfile\n",
    "import pandas as pd\n",
    "import os\n",
    "import matplotlib.pyplot as plt\n",
    "import rasterio as rio\n",
    "import numpy as np\n",
    "from pyproj import Proj, transform\n",
    "from scipy.spatial import cKDTree  \n",
    "\n",
    "%matplotlib inline\n",
    "plt.rcParams['figure.figsize'] = (10.0, 8.0) # larger plots"
   ]
  },
  {
   "cell_type": "markdown",
   "metadata": {
    "colab_type": "text",
    "id": "nDGnYKEztMSA"
   },
   "source": [
    "# Get NOAA weather stations\n",
    "\n",
    "First, let's get the [list of NOAA weather stations](https://www1.ncdc.noaa.gov/pub/data/ghcn/daily/ghcnd-stations.txt) so that we have a lat/lon location for each:"
   ]
  },
  {
   "cell_type": "code",
   "execution_count": 59,
   "metadata": {
    "colab": {
     "base_uri": "https://localhost:8080/",
     "height": 206
    },
    "colab_type": "code",
    "id": "s6malE0lr16p",
    "outputId": "3a949fa6-fe36-4dea-ffdf-857b3f752aa7"
   },
   "outputs": [
    {
     "name": "stdout",
     "output_type": "stream",
     "text": [
      "Stations already downloaded, using local file.\n"
     ]
    },
    {
     "data": {
      "text/html": [
       "<div>\n",
       "<style scoped>\n",
       "    .dataframe tbody tr th:only-of-type {\n",
       "        vertical-align: middle;\n",
       "    }\n",
       "\n",
       "    .dataframe tbody tr th {\n",
       "        vertical-align: top;\n",
       "    }\n",
       "\n",
       "    .dataframe thead th {\n",
       "        text-align: right;\n",
       "    }\n",
       "</style>\n",
       "<table border=\"1\" class=\"dataframe\">\n",
       "  <thead>\n",
       "    <tr style=\"text-align: right;\">\n",
       "      <th></th>\n",
       "      <th>station</th>\n",
       "      <th>lat</th>\n",
       "      <th>lon</th>\n",
       "      <th>elevation</th>\n",
       "      <th>name</th>\n",
       "    </tr>\n",
       "  </thead>\n",
       "  <tbody>\n",
       "    <tr>\n",
       "      <th>0</th>\n",
       "      <td>ACW00011604</td>\n",
       "      <td>17.1167</td>\n",
       "      <td>-61.7833</td>\n",
       "      <td>10.1</td>\n",
       "      <td>ST JOHNS COOLIDGE FLD</td>\n",
       "    </tr>\n",
       "    <tr>\n",
       "      <th>1</th>\n",
       "      <td>ACW00011647</td>\n",
       "      <td>17.1333</td>\n",
       "      <td>-61.7833</td>\n",
       "      <td>19.2</td>\n",
       "      <td>ST JOHNS</td>\n",
       "    </tr>\n",
       "    <tr>\n",
       "      <th>2</th>\n",
       "      <td>AE000041196</td>\n",
       "      <td>25.3330</td>\n",
       "      <td>55.5170</td>\n",
       "      <td>34.0</td>\n",
       "      <td>SHARJAH INTER. AIRP</td>\n",
       "    </tr>\n",
       "    <tr>\n",
       "      <th>3</th>\n",
       "      <td>AEM00041194</td>\n",
       "      <td>25.2550</td>\n",
       "      <td>55.3640</td>\n",
       "      <td>10.4</td>\n",
       "      <td>DUBAI INTL</td>\n",
       "    </tr>\n",
       "    <tr>\n",
       "      <th>4</th>\n",
       "      <td>AEM00041217</td>\n",
       "      <td>24.4330</td>\n",
       "      <td>54.6510</td>\n",
       "      <td>26.8</td>\n",
       "      <td>ABU DHABI INTL</td>\n",
       "    </tr>\n",
       "  </tbody>\n",
       "</table>\n",
       "</div>"
      ],
      "text/plain": [
       "       station      lat      lon  elevation                   name\n",
       "0  ACW00011604  17.1167 -61.7833       10.1  ST JOHNS COOLIDGE FLD\n",
       "1  ACW00011647  17.1333 -61.7833       19.2               ST JOHNS\n",
       "2  AE000041196  25.3330  55.5170       34.0    SHARJAH INTER. AIRP\n",
       "3  AEM00041194  25.2550  55.3640       10.4             DUBAI INTL\n",
       "4  AEM00041217  24.4330  54.6510       26.8         ABU DHABI INTL"
      ]
     },
     "execution_count": 59,
     "metadata": {},
     "output_type": "execute_result"
    }
   ],
   "source": [
    "file = 'ghcnd-stations.txt'\n",
    "\n",
    "if os.path.isfile(file):\n",
    "    print('Stations already downloaded, using local file.')\n",
    "else:\n",
    "    print('Using online stations file directly.')\n",
    "    file = 'https://www1.ncdc.noaa.gov/pub/data/ghcn/daily/ghcnd-stations.txt'\n",
    "\n",
    "# we are using 100000 rows here to let pandas figure out the column widths - this is a bit slower, \n",
    "# but makes sure that we get all the stations way out west or south correctly without chopping of the minus sign \n",
    "stations = pd.read_fwf(file, \n",
    "            infer_nrows=100000, # how many rows to use to infer the column widths\n",
    "            usecols = [0,1,2,3,5],\n",
    "            names = [\"station\", \"lat\", \"lon\", \"elevation\", \"name\"])\n",
    "\n",
    "stations.head()"
   ]
  },
  {
   "cell_type": "markdown",
   "metadata": {},
   "source": [
    "Check the range of the lat and lon columns to make sure the coordinates have been parsed correctly:"
   ]
  },
  {
   "cell_type": "code",
   "execution_count": 60,
   "metadata": {},
   "outputs": [
    {
     "name": "stdout",
     "output_type": "stream",
     "text": [
      "Lats go from -90.0 to 83.65\n",
      "Lons go from -179.983 to 179.32\n"
     ]
    }
   ],
   "source": [
    "print(f'Lats go from {stations.lat.min()} to {stations.lat.max()}')\n",
    "print(f'Lons go from {stations.lon.min()} to {stations.lon.max()}')"
   ]
  },
  {
   "cell_type": "markdown",
   "metadata": {
    "colab_type": "text",
    "id": "s0cvrcUPyifc"
   },
   "source": [
    "Pull out the country ID from the station column (first two letters):"
   ]
  },
  {
   "cell_type": "code",
   "execution_count": 61,
   "metadata": {
    "colab": {
     "base_uri": "https://localhost:8080/",
     "height": 206
    },
    "colab_type": "code",
    "id": "SgIQgawttmqa",
    "outputId": "43331dc8-8fef-4f8f-e7e1-d34d636c8e43"
   },
   "outputs": [
    {
     "data": {
      "text/html": [
       "<div>\n",
       "<style scoped>\n",
       "    .dataframe tbody tr th:only-of-type {\n",
       "        vertical-align: middle;\n",
       "    }\n",
       "\n",
       "    .dataframe tbody tr th {\n",
       "        vertical-align: top;\n",
       "    }\n",
       "\n",
       "    .dataframe thead th {\n",
       "        text-align: right;\n",
       "    }\n",
       "</style>\n",
       "<table border=\"1\" class=\"dataframe\">\n",
       "  <thead>\n",
       "    <tr style=\"text-align: right;\">\n",
       "      <th></th>\n",
       "      <th>station</th>\n",
       "      <th>lat</th>\n",
       "      <th>lon</th>\n",
       "      <th>elevation</th>\n",
       "      <th>name</th>\n",
       "      <th>country</th>\n",
       "    </tr>\n",
       "  </thead>\n",
       "  <tbody>\n",
       "    <tr>\n",
       "      <th>0</th>\n",
       "      <td>ACW00011604</td>\n",
       "      <td>17.1167</td>\n",
       "      <td>-61.7833</td>\n",
       "      <td>10.1</td>\n",
       "      <td>ST JOHNS COOLIDGE FLD</td>\n",
       "      <td>AC</td>\n",
       "    </tr>\n",
       "    <tr>\n",
       "      <th>1</th>\n",
       "      <td>ACW00011647</td>\n",
       "      <td>17.1333</td>\n",
       "      <td>-61.7833</td>\n",
       "      <td>19.2</td>\n",
       "      <td>ST JOHNS</td>\n",
       "      <td>AC</td>\n",
       "    </tr>\n",
       "    <tr>\n",
       "      <th>2</th>\n",
       "      <td>AE000041196</td>\n",
       "      <td>25.3330</td>\n",
       "      <td>55.5170</td>\n",
       "      <td>34.0</td>\n",
       "      <td>SHARJAH INTER. AIRP</td>\n",
       "      <td>AE</td>\n",
       "    </tr>\n",
       "    <tr>\n",
       "      <th>3</th>\n",
       "      <td>AEM00041194</td>\n",
       "      <td>25.2550</td>\n",
       "      <td>55.3640</td>\n",
       "      <td>10.4</td>\n",
       "      <td>DUBAI INTL</td>\n",
       "      <td>AE</td>\n",
       "    </tr>\n",
       "    <tr>\n",
       "      <th>4</th>\n",
       "      <td>AEM00041217</td>\n",
       "      <td>24.4330</td>\n",
       "      <td>54.6510</td>\n",
       "      <td>26.8</td>\n",
       "      <td>ABU DHABI INTL</td>\n",
       "      <td>AE</td>\n",
       "    </tr>\n",
       "  </tbody>\n",
       "</table>\n",
       "</div>"
      ],
      "text/plain": [
       "       station      lat      lon  elevation                   name country\n",
       "0  ACW00011604  17.1167 -61.7833       10.1  ST JOHNS COOLIDGE FLD      AC\n",
       "1  ACW00011647  17.1333 -61.7833       19.2               ST JOHNS      AC\n",
       "2  AE000041196  25.3330  55.5170       34.0    SHARJAH INTER. AIRP      AE\n",
       "3  AEM00041194  25.2550  55.3640       10.4             DUBAI INTL      AE\n",
       "4  AEM00041217  24.4330  54.6510       26.8         ABU DHABI INTL      AE"
      ]
     },
     "execution_count": 61,
     "metadata": {},
     "output_type": "execute_result"
    }
   ],
   "source": [
    "stations[\"country\"] = stations[\"station\"].astype(str).str[0:2]\n",
    "stations.head()"
   ]
  },
  {
   "cell_type": "markdown",
   "metadata": {},
   "source": [
    "Since the GHSL data we'll be using later is in Mollweide projection, we'll need to [project](https://github.com/pyproj4/pyproj) the lat/lon to the World Mollweide projection that the raster uses and pick up the values at those projected coordinates:"
   ]
  },
  {
   "cell_type": "code",
   "execution_count": 62,
   "metadata": {},
   "outputs": [
    {
     "name": "stdout",
     "output_type": "stream",
     "text": [
      "Stations already projected to Mollweide, using local file.\n"
     ]
    },
    {
     "data": {
      "text/html": [
       "<div>\n",
       "<style scoped>\n",
       "    .dataframe tbody tr th:only-of-type {\n",
       "        vertical-align: middle;\n",
       "    }\n",
       "\n",
       "    .dataframe tbody tr th {\n",
       "        vertical-align: top;\n",
       "    }\n",
       "\n",
       "    .dataframe thead th {\n",
       "        text-align: right;\n",
       "    }\n",
       "</style>\n",
       "<table border=\"1\" class=\"dataframe\">\n",
       "  <thead>\n",
       "    <tr style=\"text-align: right;\">\n",
       "      <th></th>\n",
       "      <th>station</th>\n",
       "      <th>lat</th>\n",
       "      <th>lon</th>\n",
       "      <th>elevation</th>\n",
       "      <th>name</th>\n",
       "      <th>country</th>\n",
       "      <th>mollX</th>\n",
       "      <th>mollY</th>\n",
       "    </tr>\n",
       "  </thead>\n",
       "  <tbody>\n",
       "    <tr>\n",
       "      <th>0</th>\n",
       "      <td>ACW00011604</td>\n",
       "      <td>17.1167</td>\n",
       "      <td>-61.7833</td>\n",
       "      <td>10.1</td>\n",
       "      <td>ST JOHNS COOLIDGE FLD</td>\n",
       "      <td>AC</td>\n",
       "      <td>-6.021233e+06</td>\n",
       "      <td>2.104299e+06</td>\n",
       "    </tr>\n",
       "    <tr>\n",
       "      <th>1</th>\n",
       "      <td>ACW00011647</td>\n",
       "      <td>17.1333</td>\n",
       "      <td>-61.7833</td>\n",
       "      <td>19.2</td>\n",
       "      <td>ST JOHNS</td>\n",
       "      <td>AC</td>\n",
       "      <td>-6.020901e+06</td>\n",
       "      <td>2.106316e+06</td>\n",
       "    </tr>\n",
       "    <tr>\n",
       "      <th>2</th>\n",
       "      <td>AE000041196</td>\n",
       "      <td>25.3330</td>\n",
       "      <td>55.5170</td>\n",
       "      <td>34.0</td>\n",
       "      <td>SHARJAH INTER. AIRP</td>\n",
       "      <td>AE</td>\n",
       "      <td>5.226731e+06</td>\n",
       "      <td>3.092960e+06</td>\n",
       "    </tr>\n",
       "    <tr>\n",
       "      <th>3</th>\n",
       "      <td>AEM00041194</td>\n",
       "      <td>25.2550</td>\n",
       "      <td>55.3640</td>\n",
       "      <td>10.4</td>\n",
       "      <td>DUBAI INTL</td>\n",
       "      <td>AE</td>\n",
       "      <td>5.214407e+06</td>\n",
       "      <td>3.083680e+06</td>\n",
       "    </tr>\n",
       "    <tr>\n",
       "      <th>4</th>\n",
       "      <td>AEM00041217</td>\n",
       "      <td>24.4330</td>\n",
       "      <td>54.6510</td>\n",
       "      <td>26.8</td>\n",
       "      <td>ABU DHABI INTL</td>\n",
       "      <td>AE</td>\n",
       "      <td>5.168502e+06</td>\n",
       "      <td>2.985740e+06</td>\n",
       "    </tr>\n",
       "  </tbody>\n",
       "</table>\n",
       "</div>"
      ],
      "text/plain": [
       "       station      lat      lon  elevation                   name country  \\\n",
       "0  ACW00011604  17.1167 -61.7833       10.1  ST JOHNS COOLIDGE FLD      AC   \n",
       "1  ACW00011647  17.1333 -61.7833       19.2               ST JOHNS      AC   \n",
       "2  AE000041196  25.3330  55.5170       34.0    SHARJAH INTER. AIRP      AE   \n",
       "3  AEM00041194  25.2550  55.3640       10.4             DUBAI INTL      AE   \n",
       "4  AEM00041217  24.4330  54.6510       26.8         ABU DHABI INTL      AE   \n",
       "\n",
       "          mollX         mollY  \n",
       "0 -6.021233e+06  2.104299e+06  \n",
       "1 -6.020901e+06  2.106316e+06  \n",
       "2  5.226731e+06  3.092960e+06  \n",
       "3  5.214407e+06  3.083680e+06  \n",
       "4  5.168502e+06  2.985740e+06  "
      ]
     },
     "execution_count": 62,
     "metadata": {},
     "output_type": "execute_result"
    }
   ],
   "source": [
    "file = 'stations_moll.csv'\n",
    "\n",
    "if os.path.isfile(file):\n",
    "    print('Stations already projected to Mollweide, using local file.')\n",
    "    stations = pd.read_csv(file, index_col=0)\n",
    "else:\n",
    "    inProj = Proj(init='epsg:4326')   # lat/lon \n",
    "    outProj = Proj('+proj=moll +lon_0=0 +x_0=0 +y_0=0 +datum=WGS84 +units=m +no_defs', preserve_flags=True) # Mollweide\n",
    "\n",
    "    projectedLocations = []\n",
    "\n",
    "    # go through the list of stations and project each one to Mollweide\n",
    "    for index, station in stations.iterrows():\n",
    "        projectedLocations.append((transform(inProj,outProj,station['lon'],station['lat'])))\n",
    "\n",
    "    # add the projected coordinates back to the stations dataframe\n",
    "    stations['mollX'], stations['mollY'] = zip(*projectedLocations)  # 'unzip' with the *\n",
    "    stations.to_csv(file)\n",
    "\n",
    "\n",
    "stations.head()"
   ]
  },
  {
   "cell_type": "markdown",
   "metadata": {},
   "source": [
    "# Spatial Index\n",
    "\n",
    "Next, we'll build a spatial index of the stations, so we can quickly look up the nearest neighbors of any station. We'll be using the [scipy.spatial.cKDTree](https://docs.scipy.org/doc/scipy/reference/generated/scipy.spatial.cKDTree.query.html) (based on [this hint](https://gis.stackexchange.com/a/301935/33224).). For that, we'll pull out just the Mollweide coordinates and build the index based on those (otherwise SciPy will make a multidimensional index using all columns):"
   ]
  },
  {
   "cell_type": "code",
   "execution_count": 63,
   "metadata": {},
   "outputs": [],
   "source": [
    "stationsIndex = cKDTree(stations[['mollX','mollY']].values)"
   ]
  },
  {
   "cell_type": "markdown",
   "metadata": {},
   "source": [
    "Let's try to find the closest stations to a specific one by name:"
   ]
  },
  {
   "cell_type": "code",
   "execution_count": 64,
   "metadata": {},
   "outputs": [],
   "source": [
    "def queryStation(stationID, stations, stationsIndex, k=1):\n",
    "    queryCoords = stations[stations.station==stationID][['mollX','mollY']].values\n",
    "    dd, ii = stationsIndex.query(queryCoords, \n",
    "                             k=range(2,2+k), # start at 2, otherwise we get the station itself as first result\n",
    "                             n_jobs=-1,      # use all CPUs\n",
    "                             p=2   )         # p-norm 2 = euclidian distance\n",
    "    \n",
    "    knn = stations.iloc[ii[0]]\n",
    "    knn = knn.copy()  # otherwise we might be modifying the stations dataframe...\n",
    "    knn['distance'] = dd[0]\n",
    "    return knn"
   ]
  },
  {
   "cell_type": "markdown",
   "metadata": {},
   "source": [
    "Test:"
   ]
  },
  {
   "cell_type": "code",
   "execution_count": 65,
   "metadata": {
    "scrolled": true
   },
   "outputs": [
    {
     "data": {
      "text/html": [
       "<div>\n",
       "<style scoped>\n",
       "    .dataframe tbody tr th:only-of-type {\n",
       "        vertical-align: middle;\n",
       "    }\n",
       "\n",
       "    .dataframe tbody tr th {\n",
       "        vertical-align: top;\n",
       "    }\n",
       "\n",
       "    .dataframe thead th {\n",
       "        text-align: right;\n",
       "    }\n",
       "</style>\n",
       "<table border=\"1\" class=\"dataframe\">\n",
       "  <thead>\n",
       "    <tr style=\"text-align: right;\">\n",
       "      <th></th>\n",
       "      <th>station</th>\n",
       "      <th>lat</th>\n",
       "      <th>lon</th>\n",
       "      <th>elevation</th>\n",
       "      <th>name</th>\n",
       "      <th>country</th>\n",
       "      <th>mollX</th>\n",
       "      <th>mollY</th>\n",
       "      <th>distance</th>\n",
       "    </tr>\n",
       "  </thead>\n",
       "  <tbody>\n",
       "    <tr>\n",
       "      <th>47206</th>\n",
       "      <td>RQC00660053</td>\n",
       "      <td>18.1614</td>\n",
       "      <td>-66.7222</td>\n",
       "      <td>506.0</td>\n",
       "      <td>ADJUNTAS 1 S</td>\n",
       "      <td>RQ</td>\n",
       "      <td>-6.479289e+06</td>\n",
       "      <td>2.231113e+06</td>\n",
       "      <td>1924.820868</td>\n",
       "    </tr>\n",
       "    <tr>\n",
       "      <th>47331</th>\n",
       "      <td>RQC00668684</td>\n",
       "      <td>18.1333</td>\n",
       "      <td>-66.7333</td>\n",
       "      <td>868.7</td>\n",
       "      <td>SALTILLO 2 ADJUNTAS</td>\n",
       "      <td>RQ</td>\n",
       "      <td>-6.481011e+06</td>\n",
       "      <td>2.227706e+06</td>\n",
       "      <td>2060.888936</td>\n",
       "    </tr>\n",
       "    <tr>\n",
       "      <th>47266</th>\n",
       "      <td>RQC00664614</td>\n",
       "      <td>18.1506</td>\n",
       "      <td>-66.7719</td>\n",
       "      <td>2.7</td>\n",
       "      <td>HUMACAO NATURAL RESERVE</td>\n",
       "      <td>RQ</td>\n",
       "      <td>-6.484363e+06</td>\n",
       "      <td>2.229804e+06</td>\n",
       "      <td>3735.475164</td>\n",
       "    </tr>\n",
       "    <tr>\n",
       "      <th>47207</th>\n",
       "      <td>RQC00660061</td>\n",
       "      <td>18.1747</td>\n",
       "      <td>-66.7978</td>\n",
       "      <td>557.8</td>\n",
       "      <td>ADJUNTAS SUBSTN</td>\n",
       "      <td>RQ</td>\n",
       "      <td>-6.486324e+06</td>\n",
       "      <td>2.232726e+06</td>\n",
       "      <td>6435.610695</td>\n",
       "    </tr>\n",
       "    <tr>\n",
       "      <th>47309</th>\n",
       "      <td>RQC00666982</td>\n",
       "      <td>18.0833</td>\n",
       "      <td>-66.7333</td>\n",
       "      <td>349.9</td>\n",
       "      <td>PENUELAS SALTO GARZAS</td>\n",
       "      <td>RQ</td>\n",
       "      <td>-6.482155e+06</td>\n",
       "      <td>2.221642e+06</td>\n",
       "      <td>8231.252200</td>\n",
       "    </tr>\n",
       "  </tbody>\n",
       "</table>\n",
       "</div>"
      ],
      "text/plain": [
       "           station      lat      lon  elevation                     name  \\\n",
       "47206  RQC00660053  18.1614 -66.7222      506.0             ADJUNTAS 1 S   \n",
       "47331  RQC00668684  18.1333 -66.7333      868.7      SALTILLO 2 ADJUNTAS   \n",
       "47266  RQC00664614  18.1506 -66.7719        2.7  HUMACAO NATURAL RESERVE   \n",
       "47207  RQC00660061  18.1747 -66.7978      557.8          ADJUNTAS SUBSTN   \n",
       "47309  RQC00666982  18.0833 -66.7333      349.9    PENUELAS SALTO GARZAS   \n",
       "\n",
       "      country         mollX         mollY     distance  \n",
       "47206      RQ -6.479289e+06  2.231113e+06  1924.820868  \n",
       "47331      RQ -6.481011e+06  2.227706e+06  2060.888936  \n",
       "47266      RQ -6.484363e+06  2.229804e+06  3735.475164  \n",
       "47207      RQ -6.486324e+06  2.232726e+06  6435.610695  \n",
       "47309      RQ -6.482155e+06  2.221642e+06  8231.252200  "
      ]
     },
     "execution_count": 65,
     "metadata": {},
     "output_type": "execute_result"
    }
   ],
   "source": [
    "stationID = 'RQC00663871'   # GARZAS station\n",
    "queryStation(stationID, stations, stationsIndex, k=5)"
   ]
  },
  {
   "cell_type": "markdown",
   "metadata": {},
   "source": [
    "# Get [GHSL population data](https://ghsl.jrc.ec.europa.eu/ghs_pop.php) for 1975\n",
    "\n",
    "Download dir at http://cidportal.jrc.ec.europa.eu/ftp/jrc-opendata/GHSL/GHS_POP_GPW4_GLOBE_R2015A/"
   ]
  },
  {
   "cell_type": "code",
   "execution_count": 66,
   "metadata": {},
   "outputs": [
    {
     "name": "stdout",
     "output_type": "stream",
     "text": [
      "GHSL population data for 1975 already downloaded.\n"
     ]
    }
   ],
   "source": [
    "file = 'GHS_POP_GPW41975_GLOBE_R2015A_54009_250_v1_0/GHS_POP_GPW41975_GLOBE_R2015A_54009_250_v1_0.tif'\n",
    "\n",
    "if os.path.isfile(file):\n",
    "    print('GHSL population data for 1975 already downloaded.')\n",
    "else:\n",
    "    url = 'http://cidportal.jrc.ec.europa.eu/ftp/jrc-opendata/GHSL/GHS_POP_GPW4_GLOBE_R2015A/GHS_POP_GPW41975_GLOBE_R2015A_54009_250/V1-0/GHS_POP_GPW41975_GLOBE_R2015A_54009_250_v1_0.zip'\n",
    "    urllib.request.urlretrieve(url, file)\n",
    "    \n",
    "    zip_ref = zipfile.ZipFile(file, 'r')\n",
    "    zip_ref.extractall('.')\n",
    "    zip_ref.close()\n",
    "    \n",
    "    # remove the ZIP file and the extracted overview file - we don't need it and the .ovr file is huge (3GB!)\n",
    "    os.remove('GHS_POP_GPW41975_GLOBE_R2015A_54009_250_v1_0.zip')\n",
    "    os.remove('GHS_POP_GPW41975_GLOBE_R2015A_54009_250_v1_0/GHS_POP_GPW41975_GLOBE_R2015A_54009_250_v1_0.tif.ovr')"
   ]
  },
  {
   "cell_type": "markdown",
   "metadata": {},
   "source": [
    "We'll use the data to assign each station an estimate of the population density in the GHSL cell that it is in. Since GHSL is in an equal area projection (i.e. all cells have the same area), we can safely do that.\n",
    "\n",
    "We'll use [rasterio's sample method](https://gis.stackexchange.com/questions/190423/getting-pixel-values-at-single-point-using-rasterio) for that. Let's read in the GeoTIFF first:"
   ]
  },
  {
   "cell_type": "code",
   "execution_count": 67,
   "metadata": {},
   "outputs": [
    {
     "data": {
      "text/plain": [
       "<open DatasetReader name='GHS_POP_GPW41975_GLOBE_R2015A_54009_250_v1_0/GHS_POP_GPW41975_GLOBE_R2015A_54009_250_v1_0.tif' mode='r'>"
      ]
     },
     "execution_count": 67,
     "metadata": {},
     "output_type": "execute_result"
    }
   ],
   "source": [
    "pop1975 = rio.open(file)\n",
    "pop1975"
   ]
  },
  {
   "cell_type": "code",
   "execution_count": 68,
   "metadata": {},
   "outputs": [
    {
     "data": {
      "text/plain": [
       "BoundingBox(left=-17619594.54744353, bottom=-6484970.538131511, right=17877405.45255647, top=8750529.46186849)"
      ]
     },
     "execution_count": 68,
     "metadata": {},
     "output_type": "execute_result"
    }
   ],
   "source": [
    "pop1975.bounds"
   ]
  },
  {
   "cell_type": "code",
   "execution_count": 69,
   "metadata": {},
   "outputs": [
    {
     "data": {
      "text/plain": [
       "{'driver': 'GTiff',\n",
       " 'dtype': 'float32',\n",
       " 'nodata': None,\n",
       " 'width': 141988,\n",
       " 'height': 60942,\n",
       " 'count': 1,\n",
       " 'crs': CRS.from_wkt('PROJCS[\"World_Mollweide\",GEOGCS[\"GCS_WGS_1984\",DATUM[\"D_WGS_1984\",SPHEROID[\"WGS_1984\",6378137.0,298.257223563]],PRIMEM[\"Greenwich\",0.0],UNIT[\"Degree\",0.017453292519943295]],PROJECTION[\"Mollweide\"],PARAMETER[\"False_Easting\",0.0],PARAMETER[\"False_Northing\",0.0],PARAMETER[\"Central_Meridian\",0.0],UNIT[\"Meter\",1.0]]'),\n",
       " 'transform': Affine(250.0, 0.0, -17619594.54744353,\n",
       "        0.0, -250.0, 8750529.46186849)}"
      ]
     },
     "execution_count": 69,
     "metadata": {},
     "output_type": "execute_result"
    }
   ],
   "source": [
    "pop1975.meta"
   ]
  },
  {
   "cell_type": "markdown",
   "metadata": {},
   "source": [
    "To get values at point locations, we can simply pass a list of ```(x,y)``` tuples and rasterio will return a list of values at those points:"
   ]
  },
  {
   "cell_type": "code",
   "execution_count": 70,
   "metadata": {},
   "outputs": [
    {
     "name": "stdout",
     "output_type": "stream",
     "text": [
      "[2680.5662]\n"
     ]
    }
   ],
   "source": [
    "for val in pop1975.sample([(8432553,2759349)]):\n",
    "    print(val)"
   ]
  },
  {
   "cell_type": "markdown",
   "metadata": {},
   "source": [
    "Check that all coordinates are in the raster's bounding box:"
   ]
  },
  {
   "cell_type": "code",
   "execution_count": 71,
   "metadata": {
    "scrolled": true
   },
   "outputs": [
    {
     "name": "stdout",
     "output_type": "stream",
     "text": [
      "True\n",
      "True\n",
      "False\n",
      "False\n"
     ]
    }
   ],
   "source": [
    "print(min(stations['mollX']) > pop1975.bounds.left)\n",
    "print(max(stations['mollX']) < pop1975.bounds.right)\n",
    "\n",
    "print(min(stations['mollY']) > pop1975.bounds.bottom)\n",
    "print(max(stations['mollY']) < pop1975.bounds.top)"
   ]
  },
  {
   "cell_type": "markdown",
   "metadata": {},
   "source": [
    "Okay, so there are some stations North and South of our raster. Remove the stations that are outside of our raster bounding box (they are not really useful for our UHI analysis anyway, and [rasterio seems trip over them](https://gis.stackexchange.com/questions/323481/error-using-rasterios-sample-method)):"
   ]
  },
  {
   "cell_type": "code",
   "execution_count": 72,
   "metadata": {},
   "outputs": [
    {
     "name": "stdout",
     "output_type": "stream",
     "text": [
      "Before removal: 113951 stations.\n",
      "After removal: 113848 stations.\n"
     ]
    }
   ],
   "source": [
    "print(f'Before removal: {len(stations.index)} stations.')\n",
    "stations = stations.drop(stations[stations['mollY'] < pop1975.bounds.bottom].index)\n",
    "stations = stations.drop(stations[stations['mollY'] > pop1975.bounds.top].index)\n",
    "print(f'After removal: {len(stations.index)} stations.')"
   ]
  },
  {
   "cell_type": "markdown",
   "metadata": {},
   "source": [
    "Save to a CSV file again and re-build the spatial index, now that we have removed some stations:"
   ]
  },
  {
   "cell_type": "code",
   "execution_count": 73,
   "metadata": {},
   "outputs": [],
   "source": [
    "stations.to_csv('stations_moll_inraster.csv')\n",
    "stationsIndex = cKDTree(stations[['mollX','mollY']].values)"
   ]
  },
  {
   "cell_type": "markdown",
   "metadata": {},
   "source": [
    "Now we can use those remaining station locations to sample the raster:"
   ]
  },
  {
   "cell_type": "code",
   "execution_count": 92,
   "metadata": {},
   "outputs": [
    {
     "name": "stdout",
     "output_type": "stream",
     "text": [
      "Stations data with 1975 population already generated; reusing existing file.\n"
     ]
    },
    {
     "data": {
      "text/html": [
       "<div>\n",
       "<style scoped>\n",
       "    .dataframe tbody tr th:only-of-type {\n",
       "        vertical-align: middle;\n",
       "    }\n",
       "\n",
       "    .dataframe tbody tr th {\n",
       "        vertical-align: top;\n",
       "    }\n",
       "\n",
       "    .dataframe thead th {\n",
       "        text-align: right;\n",
       "    }\n",
       "</style>\n",
       "<table border=\"1\" class=\"dataframe\">\n",
       "  <thead>\n",
       "    <tr style=\"text-align: right;\">\n",
       "      <th></th>\n",
       "      <th>station</th>\n",
       "      <th>lat</th>\n",
       "      <th>lon</th>\n",
       "      <th>elevation</th>\n",
       "      <th>name</th>\n",
       "      <th>country</th>\n",
       "      <th>mollX</th>\n",
       "      <th>mollY</th>\n",
       "      <th>pop1975</th>\n",
       "    </tr>\n",
       "  </thead>\n",
       "  <tbody>\n",
       "    <tr>\n",
       "      <th>0</th>\n",
       "      <td>ACW00011604</td>\n",
       "      <td>17.1167</td>\n",
       "      <td>-61.7833</td>\n",
       "      <td>10.1</td>\n",
       "      <td>ST JOHNS COOLIDGE FLD</td>\n",
       "      <td>AC</td>\n",
       "      <td>-6.021233e+06</td>\n",
       "      <td>2.104299e+06</td>\n",
       "      <td>0.000000</td>\n",
       "    </tr>\n",
       "    <tr>\n",
       "      <th>1</th>\n",
       "      <td>ACW00011647</td>\n",
       "      <td>17.1333</td>\n",
       "      <td>-61.7833</td>\n",
       "      <td>19.2</td>\n",
       "      <td>ST JOHNS</td>\n",
       "      <td>AC</td>\n",
       "      <td>-6.020901e+06</td>\n",
       "      <td>2.106316e+06</td>\n",
       "      <td>0.000000</td>\n",
       "    </tr>\n",
       "    <tr>\n",
       "      <th>2</th>\n",
       "      <td>AE000041196</td>\n",
       "      <td>25.3330</td>\n",
       "      <td>55.5170</td>\n",
       "      <td>34.0</td>\n",
       "      <td>SHARJAH INTER. AIRP</td>\n",
       "      <td>AE</td>\n",
       "      <td>5.226731e+06</td>\n",
       "      <td>3.092960e+06</td>\n",
       "      <td>0.000000</td>\n",
       "    </tr>\n",
       "    <tr>\n",
       "      <th>3</th>\n",
       "      <td>AEM00041194</td>\n",
       "      <td>25.2550</td>\n",
       "      <td>55.3640</td>\n",
       "      <td>10.4</td>\n",
       "      <td>DUBAI INTL</td>\n",
       "      <td>AE</td>\n",
       "      <td>5.214407e+06</td>\n",
       "      <td>3.083680e+06</td>\n",
       "      <td>2.571450</td>\n",
       "    </tr>\n",
       "    <tr>\n",
       "      <th>4</th>\n",
       "      <td>AEM00041217</td>\n",
       "      <td>24.4330</td>\n",
       "      <td>54.6510</td>\n",
       "      <td>26.8</td>\n",
       "      <td>ABU DHABI INTL</td>\n",
       "      <td>AE</td>\n",
       "      <td>5.168502e+06</td>\n",
       "      <td>2.985740e+06</td>\n",
       "      <td>21.834427</td>\n",
       "    </tr>\n",
       "  </tbody>\n",
       "</table>\n",
       "</div>"
      ],
      "text/plain": [
       "       station      lat      lon  elevation                   name country  \\\n",
       "0  ACW00011604  17.1167 -61.7833       10.1  ST JOHNS COOLIDGE FLD      AC   \n",
       "1  ACW00011647  17.1333 -61.7833       19.2               ST JOHNS      AC   \n",
       "2  AE000041196  25.3330  55.5170       34.0    SHARJAH INTER. AIRP      AE   \n",
       "3  AEM00041194  25.2550  55.3640       10.4             DUBAI INTL      AE   \n",
       "4  AEM00041217  24.4330  54.6510       26.8         ABU DHABI INTL      AE   \n",
       "\n",
       "          mollX         mollY    pop1975  \n",
       "0 -6.021233e+06  2.104299e+06   0.000000  \n",
       "1 -6.020901e+06  2.106316e+06   0.000000  \n",
       "2  5.226731e+06  3.092960e+06   0.000000  \n",
       "3  5.214407e+06  3.083680e+06   2.571450  \n",
       "4  5.168502e+06  2.985740e+06  21.834427  "
      ]
     },
     "execution_count": 92,
     "metadata": {},
     "output_type": "execute_result"
    }
   ],
   "source": [
    "file = 'stations_moll_inraster_pop1975.csv'\n",
    "\n",
    "if os.path.isfile(file):\n",
    "    print('Stations data with 1975 population already generated; reusing existing file.')\n",
    "    stations = pd.read_csv(file, index_col=0)\n",
    "else:\n",
    "\n",
    "    locations = list(zip(stations['mollX'], stations['mollY']))\n",
    "    pop1975col = []\n",
    "\n",
    "    for val in pop1975.sample(locations):\n",
    "        pop1975col.append(val[0])\n",
    "\n",
    "    # make this list a new column in our stations dataframe\n",
    "    stations['pop1975'] = pop1975col\n",
    "    stations.to_csv(file)\n",
    "\n",
    "stations.head()"
   ]
  },
  {
   "cell_type": "markdown",
   "metadata": {},
   "source": [
    "How many stations do we have in densely populated areas?"
   ]
  },
  {
   "cell_type": "code",
   "execution_count": 93,
   "metadata": {},
   "outputs": [
    {
     "data": {
      "image/png": "[encoded data removed]",
      "text/plain": [
       "<Figure size 720x576 with 1 Axes>"
      ]
     },
     "metadata": {
      "needs_background": "light"
     },
     "output_type": "display_data"
    }
   ],
   "source": [
    "plt.hist(stations['pop1975'], log=True)\n",
    "plt.title(\"Histogram of population per station cell (log scale)\")\n",
    "plt.show()"
   ]
  },
  {
   "cell_type": "markdown",
   "metadata": {},
   "source": [
    "The cells in our population dataset are only [250x250m](https://ghsl.jrc.ec.europa.eu/ghs_pop2019.php), so to get population per km<sup>2</sup>, we actually have to multiply the number with 16 (just to make it a bit easier to compare to common measures of population density in people per km<sup>2</sup>:"
   ]
  },
  {
   "cell_type": "code",
   "execution_count": 94,
   "metadata": {},
   "outputs": [
    {
     "data": {
      "text/html": [
       "<div>\n",
       "<style scoped>\n",
       "    .dataframe tbody tr th:only-of-type {\n",
       "        vertical-align: middle;\n",
       "    }\n",
       "\n",
       "    .dataframe tbody tr th {\n",
       "        vertical-align: top;\n",
       "    }\n",
       "\n",
       "    .dataframe thead th {\n",
       "        text-align: right;\n",
       "    }\n",
       "</style>\n",
       "<table border=\"1\" class=\"dataframe\">\n",
       "  <thead>\n",
       "    <tr style=\"text-align: right;\">\n",
       "      <th></th>\n",
       "      <th>station</th>\n",
       "      <th>lat</th>\n",
       "      <th>lon</th>\n",
       "      <th>elevation</th>\n",
       "      <th>name</th>\n",
       "      <th>country</th>\n",
       "      <th>mollX</th>\n",
       "      <th>mollY</th>\n",
       "      <th>pop1975</th>\n",
       "      <th>popdens1975</th>\n",
       "    </tr>\n",
       "  </thead>\n",
       "  <tbody>\n",
       "    <tr>\n",
       "      <th>0</th>\n",
       "      <td>ACW00011604</td>\n",
       "      <td>17.1167</td>\n",
       "      <td>-61.7833</td>\n",
       "      <td>10.1</td>\n",
       "      <td>ST JOHNS COOLIDGE FLD</td>\n",
       "      <td>AC</td>\n",
       "      <td>-6.021233e+06</td>\n",
       "      <td>2.104299e+06</td>\n",
       "      <td>0.000000</td>\n",
       "      <td>0.000000</td>\n",
       "    </tr>\n",
       "    <tr>\n",
       "      <th>1</th>\n",
       "      <td>ACW00011647</td>\n",
       "      <td>17.1333</td>\n",
       "      <td>-61.7833</td>\n",
       "      <td>19.2</td>\n",
       "      <td>ST JOHNS</td>\n",
       "      <td>AC</td>\n",
       "      <td>-6.020901e+06</td>\n",
       "      <td>2.106316e+06</td>\n",
       "      <td>0.000000</td>\n",
       "      <td>0.000000</td>\n",
       "    </tr>\n",
       "    <tr>\n",
       "      <th>2</th>\n",
       "      <td>AE000041196</td>\n",
       "      <td>25.3330</td>\n",
       "      <td>55.5170</td>\n",
       "      <td>34.0</td>\n",
       "      <td>SHARJAH INTER. AIRP</td>\n",
       "      <td>AE</td>\n",
       "      <td>5.226731e+06</td>\n",
       "      <td>3.092960e+06</td>\n",
       "      <td>0.000000</td>\n",
       "      <td>0.000000</td>\n",
       "    </tr>\n",
       "    <tr>\n",
       "      <th>3</th>\n",
       "      <td>AEM00041194</td>\n",
       "      <td>25.2550</td>\n",
       "      <td>55.3640</td>\n",
       "      <td>10.4</td>\n",
       "      <td>DUBAI INTL</td>\n",
       "      <td>AE</td>\n",
       "      <td>5.214407e+06</td>\n",
       "      <td>3.083680e+06</td>\n",
       "      <td>2.571450</td>\n",
       "      <td>41.143192</td>\n",
       "    </tr>\n",
       "    <tr>\n",
       "      <th>4</th>\n",
       "      <td>AEM00041217</td>\n",
       "      <td>24.4330</td>\n",
       "      <td>54.6510</td>\n",
       "      <td>26.8</td>\n",
       "      <td>ABU DHABI INTL</td>\n",
       "      <td>AE</td>\n",
       "      <td>5.168502e+06</td>\n",
       "      <td>2.985740e+06</td>\n",
       "      <td>21.834427</td>\n",
       "      <td>349.350830</td>\n",
       "    </tr>\n",
       "  </tbody>\n",
       "</table>\n",
       "</div>"
      ],
      "text/plain": [
       "       station      lat      lon  elevation                   name country  \\\n",
       "0  ACW00011604  17.1167 -61.7833       10.1  ST JOHNS COOLIDGE FLD      AC   \n",
       "1  ACW00011647  17.1333 -61.7833       19.2               ST JOHNS      AC   \n",
       "2  AE000041196  25.3330  55.5170       34.0    SHARJAH INTER. AIRP      AE   \n",
       "3  AEM00041194  25.2550  55.3640       10.4             DUBAI INTL      AE   \n",
       "4  AEM00041217  24.4330  54.6510       26.8         ABU DHABI INTL      AE   \n",
       "\n",
       "          mollX         mollY    pop1975  popdens1975  \n",
       "0 -6.021233e+06  2.104299e+06   0.000000     0.000000  \n",
       "1 -6.020901e+06  2.106316e+06   0.000000     0.000000  \n",
       "2  5.226731e+06  3.092960e+06   0.000000     0.000000  \n",
       "3  5.214407e+06  3.083680e+06   2.571450    41.143192  \n",
       "4  5.168502e+06  2.985740e+06  21.834427   349.350830  "
      ]
     },
     "execution_count": 94,
     "metadata": {},
     "output_type": "execute_result"
    }
   ],
   "source": [
    "stations['popdens1975'] = stations['pop1975'] * 16\n",
    "stations.head()"
   ]
  },
  {
   "cell_type": "markdown",
   "metadata": {},
   "source": [
    "This list of ca. 150 of the most densely populated city *districts* globally has them all at more than 30k people per km<sup>2</sup>, how many do we have in that range?"
   ]
  },
  {
   "cell_type": "code",
   "execution_count": 95,
   "metadata": {},
   "outputs": [
    {
     "name": "stdout",
     "output_type": "stream",
     "text": [
      "Cells with more than 30k per sqkm:  197\n",
      "Cells with more than 20k per sqkm:  286\n",
      "Cells with more than 10k per sqkm:  655\n"
     ]
    }
   ],
   "source": [
    "print(\"Cells with more than 30k per sqkm: \", len(stations[stations['popdens1975'] > 30000]))\n",
    "print(\"Cells with more than 20k per sqkm: \", len(stations[stations['popdens1975'] > 20000]))\n",
    "print(\"Cells with more than 10k per sqkm: \", len(stations[stations['popdens1975'] > 10000]))"
   ]
  },
  {
   "cell_type": "markdown",
   "metadata": {},
   "source": [
    "That's a small percentage, but it's what we've got, so let's roll with it.\n",
    "\n",
    "Before we can take a look at the effect of population density on temperature, we need to get rid of the effect of elevation. We will calculate the difference in temperature (min and max) as well as the difference in elevation between each of the ca. 7 million observations in 1975 and the corresponding measurements at the nearest neighboring station (only looking at the rural stations, of course).\n",
    "\n",
    "For that purpose, let's find the closest neighbor for each station first:"
   ]
  },
  {
   "cell_type": "code",
   "execution_count": 96,
   "metadata": {},
   "outputs": [
    {
     "data": {
      "text/html": [
       "<div>\n",
       "<style scoped>\n",
       "    .dataframe tbody tr th:only-of-type {\n",
       "        vertical-align: middle;\n",
       "    }\n",
       "\n",
       "    .dataframe tbody tr th {\n",
       "        vertical-align: top;\n",
       "    }\n",
       "\n",
       "    .dataframe thead th {\n",
       "        text-align: right;\n",
       "    }\n",
       "</style>\n",
       "<table border=\"1\" class=\"dataframe\">\n",
       "  <thead>\n",
       "    <tr style=\"text-align: right;\">\n",
       "      <th></th>\n",
       "      <th>station</th>\n",
       "      <th>lat</th>\n",
       "      <th>lon</th>\n",
       "      <th>elevation</th>\n",
       "      <th>name</th>\n",
       "      <th>country</th>\n",
       "      <th>mollX</th>\n",
       "      <th>mollY</th>\n",
       "      <th>pop1975</th>\n",
       "      <th>popdens1975</th>\n",
       "      <th>NN</th>\n",
       "      <th>NN_dist</th>\n",
       "      <th>NN_elev</th>\n",
       "    </tr>\n",
       "  </thead>\n",
       "  <tbody>\n",
       "    <tr>\n",
       "      <th>0</th>\n",
       "      <td>ACW00011604</td>\n",
       "      <td>17.1167</td>\n",
       "      <td>-61.7833</td>\n",
       "      <td>10.1</td>\n",
       "      <td>ST JOHNS COOLIDGE FLD</td>\n",
       "      <td>AC</td>\n",
       "      <td>-6.021233e+06</td>\n",
       "      <td>2.104299e+06</td>\n",
       "      <td>0.000000</td>\n",
       "      <td>0.000000</td>\n",
       "      <td></td>\n",
       "      <td></td>\n",
       "      <td></td>\n",
       "    </tr>\n",
       "    <tr>\n",
       "      <th>1</th>\n",
       "      <td>ACW00011647</td>\n",
       "      <td>17.1333</td>\n",
       "      <td>-61.7833</td>\n",
       "      <td>19.2</td>\n",
       "      <td>ST JOHNS</td>\n",
       "      <td>AC</td>\n",
       "      <td>-6.020901e+06</td>\n",
       "      <td>2.106316e+06</td>\n",
       "      <td>0.000000</td>\n",
       "      <td>0.000000</td>\n",
       "      <td></td>\n",
       "      <td></td>\n",
       "      <td></td>\n",
       "    </tr>\n",
       "    <tr>\n",
       "      <th>2</th>\n",
       "      <td>AE000041196</td>\n",
       "      <td>25.3330</td>\n",
       "      <td>55.5170</td>\n",
       "      <td>34.0</td>\n",
       "      <td>SHARJAH INTER. AIRP</td>\n",
       "      <td>AE</td>\n",
       "      <td>5.226731e+06</td>\n",
       "      <td>3.092960e+06</td>\n",
       "      <td>0.000000</td>\n",
       "      <td>0.000000</td>\n",
       "      <td></td>\n",
       "      <td></td>\n",
       "      <td></td>\n",
       "    </tr>\n",
       "    <tr>\n",
       "      <th>3</th>\n",
       "      <td>AEM00041194</td>\n",
       "      <td>25.2550</td>\n",
       "      <td>55.3640</td>\n",
       "      <td>10.4</td>\n",
       "      <td>DUBAI INTL</td>\n",
       "      <td>AE</td>\n",
       "      <td>5.214407e+06</td>\n",
       "      <td>3.083680e+06</td>\n",
       "      <td>2.571450</td>\n",
       "      <td>41.143192</td>\n",
       "      <td></td>\n",
       "      <td></td>\n",
       "      <td></td>\n",
       "    </tr>\n",
       "    <tr>\n",
       "      <th>4</th>\n",
       "      <td>AEM00041217</td>\n",
       "      <td>24.4330</td>\n",
       "      <td>54.6510</td>\n",
       "      <td>26.8</td>\n",
       "      <td>ABU DHABI INTL</td>\n",
       "      <td>AE</td>\n",
       "      <td>5.168502e+06</td>\n",
       "      <td>2.985740e+06</td>\n",
       "      <td>21.834427</td>\n",
       "      <td>349.350830</td>\n",
       "      <td></td>\n",
       "      <td></td>\n",
       "      <td></td>\n",
       "    </tr>\n",
       "  </tbody>\n",
       "</table>\n",
       "</div>"
      ],
      "text/plain": [
       "       station      lat      lon  elevation                   name country  \\\n",
       "0  ACW00011604  17.1167 -61.7833       10.1  ST JOHNS COOLIDGE FLD      AC   \n",
       "1  ACW00011647  17.1333 -61.7833       19.2               ST JOHNS      AC   \n",
       "2  AE000041196  25.3330  55.5170       34.0    SHARJAH INTER. AIRP      AE   \n",
       "3  AEM00041194  25.2550  55.3640       10.4             DUBAI INTL      AE   \n",
       "4  AEM00041217  24.4330  54.6510       26.8         ABU DHABI INTL      AE   \n",
       "\n",
       "          mollX         mollY    pop1975  popdens1975 NN NN_dist NN_elev  \n",
       "0 -6.021233e+06  2.104299e+06   0.000000     0.000000                     \n",
       "1 -6.020901e+06  2.106316e+06   0.000000     0.000000                     \n",
       "2  5.226731e+06  3.092960e+06   0.000000     0.000000                     \n",
       "3  5.214407e+06  3.083680e+06   2.571450    41.143192                     \n",
       "4  5.168502e+06  2.985740e+06  21.834427   349.350830                     "
      ]
     },
     "execution_count": 96,
     "metadata": {},
     "output_type": "execute_result"
    }
   ],
   "source": [
    "# add new columns to hold the ID of the nearest station and the distance to it\n",
    "\n",
    "stations[\"NN\"] = \"\"\n",
    "stations[\"NN_dist\"] = \"\"\n",
    "stations[\"NN_elev\"] = \"\"\n",
    "\n",
    "stations.head()"
   ]
  },
  {
   "cell_type": "markdown",
   "metadata": {},
   "source": [
    "Iterate through the DF and fill these columns row by row. \n",
    "\n",
    "🔥 **TODO** This is reeeeally slow, I'm sure there must be a faster way to do this... for now, I'm at least making sure we only need to do this once by saving the results in a CSV that can just be loaded again"
   ]
  },
  {
   "cell_type": "code",
   "execution_count": 98,
   "metadata": {},
   "outputs": [
    {
     "data": {
      "text/html": [
       "<div>\n",
       "<style scoped>\n",
       "    .dataframe tbody tr th:only-of-type {\n",
       "        vertical-align: middle;\n",
       "    }\n",
       "\n",
       "    .dataframe tbody tr th {\n",
       "        vertical-align: top;\n",
       "    }\n",
       "\n",
       "    .dataframe thead th {\n",
       "        text-align: right;\n",
       "    }\n",
       "</style>\n",
       "<table border=\"1\" class=\"dataframe\">\n",
       "  <thead>\n",
       "    <tr style=\"text-align: right;\">\n",
       "      <th></th>\n",
       "      <th>station</th>\n",
       "      <th>lat</th>\n",
       "      <th>lon</th>\n",
       "      <th>elevation</th>\n",
       "      <th>name</th>\n",
       "      <th>country</th>\n",
       "      <th>mollX</th>\n",
       "      <th>mollY</th>\n",
       "      <th>pop1975</th>\n",
       "      <th>popdens1975</th>\n",
       "      <th>NN</th>\n",
       "      <th>NN_dist</th>\n",
       "      <th>NN_elev</th>\n",
       "      <th>nn_elev_diff</th>\n",
       "    </tr>\n",
       "  </thead>\n",
       "  <tbody>\n",
       "    <tr>\n",
       "      <th>0</th>\n",
       "      <td>ACW00011604</td>\n",
       "      <td>17.1167</td>\n",
       "      <td>-61.7833</td>\n",
       "      <td>10.1</td>\n",
       "      <td>ST JOHNS COOLIDGE FLD</td>\n",
       "      <td>AC</td>\n",
       "      <td>-6.021233e+06</td>\n",
       "      <td>2.104299e+06</td>\n",
       "      <td>0.000000</td>\n",
       "      <td>0.000000</td>\n",
       "      <td>ACW00011647</td>\n",
       "      <td>2044.42</td>\n",
       "      <td>19.2</td>\n",
       "      <td>-9.1</td>\n",
       "    </tr>\n",
       "    <tr>\n",
       "      <th>1</th>\n",
       "      <td>ACW00011647</td>\n",
       "      <td>17.1333</td>\n",
       "      <td>-61.7833</td>\n",
       "      <td>19.2</td>\n",
       "      <td>ST JOHNS</td>\n",
       "      <td>AC</td>\n",
       "      <td>-6.020901e+06</td>\n",
       "      <td>2.106316e+06</td>\n",
       "      <td>0.000000</td>\n",
       "      <td>0.000000</td>\n",
       "      <td>ACW00011604</td>\n",
       "      <td>2044.42</td>\n",
       "      <td>10.1</td>\n",
       "      <td>9.1</td>\n",
       "    </tr>\n",
       "    <tr>\n",
       "      <th>2</th>\n",
       "      <td>AE000041196</td>\n",
       "      <td>25.3330</td>\n",
       "      <td>55.5170</td>\n",
       "      <td>34.0</td>\n",
       "      <td>SHARJAH INTER. AIRP</td>\n",
       "      <td>AE</td>\n",
       "      <td>5.226731e+06</td>\n",
       "      <td>3.092960e+06</td>\n",
       "      <td>0.000000</td>\n",
       "      <td>0.000000</td>\n",
       "      <td>AEM00041194</td>\n",
       "      <td>15427.6</td>\n",
       "      <td>10.4</td>\n",
       "      <td>23.6</td>\n",
       "    </tr>\n",
       "    <tr>\n",
       "      <th>3</th>\n",
       "      <td>AEM00041194</td>\n",
       "      <td>25.2550</td>\n",
       "      <td>55.3640</td>\n",
       "      <td>10.4</td>\n",
       "      <td>DUBAI INTL</td>\n",
       "      <td>AE</td>\n",
       "      <td>5.214407e+06</td>\n",
       "      <td>3.083680e+06</td>\n",
       "      <td>2.571450</td>\n",
       "      <td>41.143192</td>\n",
       "      <td>AE000041196</td>\n",
       "      <td>15427.6</td>\n",
       "      <td>34</td>\n",
       "      <td>-23.6</td>\n",
       "    </tr>\n",
       "    <tr>\n",
       "      <th>4</th>\n",
       "      <td>AEM00041217</td>\n",
       "      <td>24.4330</td>\n",
       "      <td>54.6510</td>\n",
       "      <td>26.8</td>\n",
       "      <td>ABU DHABI INTL</td>\n",
       "      <td>AE</td>\n",
       "      <td>5.168502e+06</td>\n",
       "      <td>2.985740e+06</td>\n",
       "      <td>21.834427</td>\n",
       "      <td>349.350830</td>\n",
       "      <td>AEM00041218</td>\n",
       "      <td>97173</td>\n",
       "      <td>264.9</td>\n",
       "      <td>-238.1</td>\n",
       "    </tr>\n",
       "  </tbody>\n",
       "</table>\n",
       "</div>"
      ],
      "text/plain": [
       "       station      lat      lon  elevation                   name country  \\\n",
       "0  ACW00011604  17.1167 -61.7833       10.1  ST JOHNS COOLIDGE FLD      AC   \n",
       "1  ACW00011647  17.1333 -61.7833       19.2               ST JOHNS      AC   \n",
       "2  AE000041196  25.3330  55.5170       34.0    SHARJAH INTER. AIRP      AE   \n",
       "3  AEM00041194  25.2550  55.3640       10.4             DUBAI INTL      AE   \n",
       "4  AEM00041217  24.4330  54.6510       26.8         ABU DHABI INTL      AE   \n",
       "\n",
       "          mollX         mollY    pop1975  popdens1975           NN  NN_dist  \\\n",
       "0 -6.021233e+06  2.104299e+06   0.000000     0.000000  ACW00011647  2044.42   \n",
       "1 -6.020901e+06  2.106316e+06   0.000000     0.000000  ACW00011604  2044.42   \n",
       "2  5.226731e+06  3.092960e+06   0.000000     0.000000  AEM00041194  15427.6   \n",
       "3  5.214407e+06  3.083680e+06   2.571450    41.143192  AE000041196  15427.6   \n",
       "4  5.168502e+06  2.985740e+06  21.834427   349.350830  AEM00041218    97173   \n",
       "\n",
       "  NN_elev nn_elev_diff  \n",
       "0    19.2         -9.1  \n",
       "1    10.1          9.1  \n",
       "2    10.4         23.6  \n",
       "3      34        -23.6  \n",
       "4   264.9       -238.1  "
      ]
     },
     "execution_count": 98,
     "metadata": {},
     "output_type": "execute_result"
    }
   ],
   "source": [
    "file = 'stations_with_nearest_neighbor.csv'\n",
    "\n",
    "if os.path.isfile(file):\n",
    "    print('Nearest neighbors already computed, using local file.')\n",
    "    stations = pd.read_csv(file, index_col=0)\n",
    "else:\n",
    "    for index, row in stations.iterrows():\n",
    "        s = row['station']\n",
    "        \n",
    "        nn = queryStation(s, stations, stationsIndex)\n",
    "        \n",
    "        nnstation = nn['station'].iloc[0]\n",
    "        nndistance = nn['distance'].iloc[0]\n",
    "        nnelev = nn['elevation'].iloc[0]\n",
    "        \n",
    "        stations.loc[stations.station == s, 'NN'] = nnstation\n",
    "        stations.loc[stations.station == s, 'NN_dist'] = nndistance        \n",
    "        stations.loc[stations.station == s, 'NN_elev'] = nnelev\n",
    "        \n",
    "    stations['nn_elev_diff'] = stations['elevation'] - stations['NN_elev']\n",
    "        \n",
    "    stations.to_csv('stations_with_nearest_neighbor.csv')\n",
    "        \n",
    "stations.head()"
   ]
  },
  {
   "cell_type": "markdown",
   "metadata": {
    "colab_type": "text",
    "id": "hlLdXGP3M0b0"
   },
   "source": [
    "Now we ca move on and ...\n",
    "\n",
    "# Get the NOAA NCDC data\n",
    "\n",
    "Download the data from NOAA. The columns in the file are documented [here](https://www1.ncdc.noaa.gov/pub/data/ghcn/daily/by_year/readme.txt)."
   ]
  },
  {
   "cell_type": "code",
   "execution_count": 42,
   "metadata": {
    "colab": {
     "base_uri": "https://localhost:8080/",
     "height": 34
    },
    "colab_type": "code",
    "id": "_iVTwxLxMn_L",
    "outputId": "b6a3031c-158c-45fd-ad46-3ae5dfce9cb6"
   },
   "outputs": [
    {
     "name": "stdout",
     "output_type": "stream",
     "text": [
      "1975.csv.gz already downloaded.\n"
     ]
    }
   ],
   "source": [
    "file = '1975.csv.gz'\n",
    "if os.path.isfile(file):\n",
    "    print(file, 'already downloaded.')\n",
    "else:\n",
    "    urllib.request.urlretrieve('https://www1.ncdc.noaa.gov/pub/data/ghcn/daily/by_year/1975.csv.gz', file)"
   ]
  },
  {
   "cell_type": "markdown",
   "metadata": {
    "colab_type": "text",
    "id": "BF63PI8ampb0"
   },
   "source": [
    "Before we can read the file, we'll define our own date parser:"
   ]
  },
  {
   "cell_type": "code",
   "execution_count": 43,
   "metadata": {
    "colab": {},
    "colab_type": "code",
    "id": "tWbMuRNwmouv"
   },
   "outputs": [],
   "source": [
    "noaadateparser = lambda x: pd.datetime.strptime(x, \"%Y%m%d\")\n"
   ]
  },
  {
   "cell_type": "markdown",
   "metadata": {
    "colab_type": "text",
    "id": "V-KkHtesQToZ"
   },
   "source": [
    "Unzip the file and load the CSV with pandas, using our date parser. We'll also give the columns names since the CSV doesn't have a header 🧟‍. This takes a few minutes:"
   ]
  },
  {
   "cell_type": "code",
   "execution_count": 44,
   "metadata": {
    "colab": {},
    "colab_type": "code",
    "id": "ZSEuHhBEM6sM"
   },
   "outputs": [
    {
     "data": {
      "text/html": [
       "<div>\n",
       "<style scoped>\n",
       "    .dataframe tbody tr th:only-of-type {\n",
       "        vertical-align: middle;\n",
       "    }\n",
       "\n",
       "    .dataframe tbody tr th {\n",
       "        vertical-align: top;\n",
       "    }\n",
       "\n",
       "    .dataframe thead th {\n",
       "        text-align: right;\n",
       "    }\n",
       "</style>\n",
       "<table border=\"1\" class=\"dataframe\">\n",
       "  <thead>\n",
       "    <tr style=\"text-align: right;\">\n",
       "      <th></th>\n",
       "      <th>station</th>\n",
       "      <th>date</th>\n",
       "      <th>type</th>\n",
       "      <th>value</th>\n",
       "    </tr>\n",
       "  </thead>\n",
       "  <tbody>\n",
       "    <tr>\n",
       "      <th>0</th>\n",
       "      <td>CA008203164</td>\n",
       "      <td>1975-01-01</td>\n",
       "      <td>TMAX</td>\n",
       "      <td>17</td>\n",
       "    </tr>\n",
       "    <tr>\n",
       "      <th>1</th>\n",
       "      <td>CA008203164</td>\n",
       "      <td>1975-01-01</td>\n",
       "      <td>TMIN</td>\n",
       "      <td>-11</td>\n",
       "    </tr>\n",
       "    <tr>\n",
       "      <th>2</th>\n",
       "      <td>CA008203164</td>\n",
       "      <td>1975-01-01</td>\n",
       "      <td>PRCP</td>\n",
       "      <td>216</td>\n",
       "    </tr>\n",
       "    <tr>\n",
       "      <th>3</th>\n",
       "      <td>CA008203164</td>\n",
       "      <td>1975-01-01</td>\n",
       "      <td>SNOW</td>\n",
       "      <td>216</td>\n",
       "    </tr>\n",
       "    <tr>\n",
       "      <th>4</th>\n",
       "      <td>CA008105560</td>\n",
       "      <td>1975-01-01</td>\n",
       "      <td>TMAX</td>\n",
       "      <td>17</td>\n",
       "    </tr>\n",
       "  </tbody>\n",
       "</table>\n",
       "</div>"
      ],
      "text/plain": [
       "       station       date  type  value\n",
       "0  CA008203164 1975-01-01  TMAX     17\n",
       "1  CA008203164 1975-01-01  TMIN    -11\n",
       "2  CA008203164 1975-01-01  PRCP    216\n",
       "3  CA008203164 1975-01-01  SNOW    216\n",
       "4  CA008105560 1975-01-01  TMAX     17"
      ]
     },
     "execution_count": 44,
     "metadata": {},
     "output_type": "execute_result"
    }
   ],
   "source": [
    "with gzip.open('1975.csv.gz') as f:\n",
    "\n",
    "    data_1975 = pd.read_csv(f, \n",
    "                            names = [\"station\", \"date\", \"type\", \"value\"],\n",
    "                            usecols = [0,1,2,3],\n",
    "                            parse_dates = [\"date\"],\n",
    "                            date_parser = noaadateparser)\n",
    "\n",
    "data_1975.head()"
   ]
  },
  {
   "cell_type": "code",
   "execution_count": 45,
   "metadata": {
    "colab": {
     "base_uri": "https://localhost:8080/",
     "height": 104
    },
    "colab_type": "code",
    "id": "JFsoo_2jNCJM",
    "outputId": "7cb599de-173f-475f-fa7b-c463f82c9d76"
   },
   "outputs": [
    {
     "data": {
      "text/plain": [
       "station            object\n",
       "date       datetime64[ns]\n",
       "type               object\n",
       "value               int64\n",
       "dtype: object"
      ]
     },
     "execution_count": 45,
     "metadata": {},
     "output_type": "execute_result"
    }
   ],
   "source": [
    "data_1975.dtypes"
   ]
  },
  {
   "cell_type": "markdown",
   "metadata": {
    "colab_type": "text",
    "id": "U8I1ZIJMp2l6"
   },
   "source": [
    "Only keep TMIN and TMAX:"
   ]
  },
  {
   "cell_type": "code",
   "execution_count": 46,
   "metadata": {
    "colab": {},
    "colab_type": "code",
    "id": "tchJq0v7qven"
   },
   "outputs": [
    {
     "data": {
      "text/html": [
       "<div>\n",
       "<style scoped>\n",
       "    .dataframe tbody tr th:only-of-type {\n",
       "        vertical-align: middle;\n",
       "    }\n",
       "\n",
       "    .dataframe tbody tr th {\n",
       "        vertical-align: top;\n",
       "    }\n",
       "\n",
       "    .dataframe thead th {\n",
       "        text-align: right;\n",
       "    }\n",
       "</style>\n",
       "<table border=\"1\" class=\"dataframe\">\n",
       "  <thead>\n",
       "    <tr style=\"text-align: right;\">\n",
       "      <th></th>\n",
       "      <th>station</th>\n",
       "      <th>date</th>\n",
       "      <th>type</th>\n",
       "      <th>value</th>\n",
       "    </tr>\n",
       "  </thead>\n",
       "  <tbody>\n",
       "    <tr>\n",
       "      <th>0</th>\n",
       "      <td>CA008203164</td>\n",
       "      <td>1975-01-01</td>\n",
       "      <td>TMAX</td>\n",
       "      <td>17</td>\n",
       "    </tr>\n",
       "    <tr>\n",
       "      <th>1</th>\n",
       "      <td>CA008203164</td>\n",
       "      <td>1975-01-01</td>\n",
       "      <td>TMIN</td>\n",
       "      <td>-11</td>\n",
       "    </tr>\n",
       "    <tr>\n",
       "      <th>4</th>\n",
       "      <td>CA008105560</td>\n",
       "      <td>1975-01-01</td>\n",
       "      <td>TMAX</td>\n",
       "      <td>17</td>\n",
       "    </tr>\n",
       "    <tr>\n",
       "      <th>5</th>\n",
       "      <td>CA008105560</td>\n",
       "      <td>1975-01-01</td>\n",
       "      <td>TMIN</td>\n",
       "      <td>-67</td>\n",
       "    </tr>\n",
       "    <tr>\n",
       "      <th>10</th>\n",
       "      <td>CA007056600</td>\n",
       "      <td>1975-01-01</td>\n",
       "      <td>TMAX</td>\n",
       "      <td>-22</td>\n",
       "    </tr>\n",
       "  </tbody>\n",
       "</table>\n",
       "</div>"
      ],
      "text/plain": [
       "        station       date  type  value\n",
       "0   CA008203164 1975-01-01  TMAX     17\n",
       "1   CA008203164 1975-01-01  TMIN    -11\n",
       "4   CA008105560 1975-01-01  TMAX     17\n",
       "5   CA008105560 1975-01-01  TMIN    -67\n",
       "10  CA007056600 1975-01-01  TMAX    -22"
      ]
     },
     "execution_count": 46,
     "metadata": {},
     "output_type": "execute_result"
    }
   ],
   "source": [
    "data_1975 = data_1975[(data_1975[\"type\"] == \"TMAX\") | (data_1975[\"type\"] == \"TMIN\")] \n",
    "data_1975.head()"
   ]
  },
  {
   "cell_type": "markdown",
   "metadata": {
    "colab_type": "text",
    "id": "NO75klMoz9WE"
   },
   "source": [
    "Join the stations to the temperature data:"
   ]
  },
  {
   "cell_type": "code",
   "execution_count": 47,
   "metadata": {
    "colab": {
     "base_uri": "https://localhost:8080/",
     "height": 1992
    },
    "colab_type": "code",
    "id": "E0IH235j0VhH",
    "outputId": "b193fe34-031e-48f4-82c8-51ef2e5f3b5b"
   },
   "outputs": [
    {
     "data": {
      "text/html": [
       "<div>\n",
       "<style scoped>\n",
       "    .dataframe tbody tr th:only-of-type {\n",
       "        vertical-align: middle;\n",
       "    }\n",
       "\n",
       "    .dataframe tbody tr th {\n",
       "        vertical-align: top;\n",
       "    }\n",
       "\n",
       "    .dataframe thead th {\n",
       "        text-align: right;\n",
       "    }\n",
       "</style>\n",
       "<table border=\"1\" class=\"dataframe\">\n",
       "  <thead>\n",
       "    <tr style=\"text-align: right;\">\n",
       "      <th></th>\n",
       "      <th>station</th>\n",
       "      <th>date</th>\n",
       "      <th>type</th>\n",
       "      <th>value</th>\n",
       "      <th>lat</th>\n",
       "      <th>lon</th>\n",
       "      <th>elevation</th>\n",
       "      <th>name</th>\n",
       "      <th>country</th>\n",
       "      <th>mollX</th>\n",
       "      <th>mollY</th>\n",
       "      <th>pop1975</th>\n",
       "      <th>popdens1975</th>\n",
       "      <th>NN</th>\n",
       "      <th>NN_dist</th>\n",
       "    </tr>\n",
       "  </thead>\n",
       "  <tbody>\n",
       "    <tr>\n",
       "      <th>0</th>\n",
       "      <td>CA008203164</td>\n",
       "      <td>1975-01-01</td>\n",
       "      <td>TMAX</td>\n",
       "      <td>17</td>\n",
       "      <td>45.6</td>\n",
       "      <td>-60.75</td>\n",
       "      <td>15.0</td>\n",
       "      <td>LOWER L'ARDOISE</td>\n",
       "      <td>CA</td>\n",
       "      <td>-4.874275e+06</td>\n",
       "      <td>5.405209e+06</td>\n",
       "      <td>0.0</td>\n",
       "      <td>0.0</td>\n",
       "      <td>CA008200750</td>\n",
       "      <td>14316.80606</td>\n",
       "    </tr>\n",
       "    <tr>\n",
       "      <th>1</th>\n",
       "      <td>CA008203164</td>\n",
       "      <td>1975-01-01</td>\n",
       "      <td>TMIN</td>\n",
       "      <td>-11</td>\n",
       "      <td>45.6</td>\n",
       "      <td>-60.75</td>\n",
       "      <td>15.0</td>\n",
       "      <td>LOWER L'ARDOISE</td>\n",
       "      <td>CA</td>\n",
       "      <td>-4.874275e+06</td>\n",
       "      <td>5.405209e+06</td>\n",
       "      <td>0.0</td>\n",
       "      <td>0.0</td>\n",
       "      <td>CA008200750</td>\n",
       "      <td>14316.80606</td>\n",
       "    </tr>\n",
       "    <tr>\n",
       "      <th>2</th>\n",
       "      <td>CA008203164</td>\n",
       "      <td>1975-01-02</td>\n",
       "      <td>TMAX</td>\n",
       "      <td>-11</td>\n",
       "      <td>45.6</td>\n",
       "      <td>-60.75</td>\n",
       "      <td>15.0</td>\n",
       "      <td>LOWER L'ARDOISE</td>\n",
       "      <td>CA</td>\n",
       "      <td>-4.874275e+06</td>\n",
       "      <td>5.405209e+06</td>\n",
       "      <td>0.0</td>\n",
       "      <td>0.0</td>\n",
       "      <td>CA008200750</td>\n",
       "      <td>14316.80606</td>\n",
       "    </tr>\n",
       "    <tr>\n",
       "      <th>3</th>\n",
       "      <td>CA008203164</td>\n",
       "      <td>1975-01-02</td>\n",
       "      <td>TMIN</td>\n",
       "      <td>-72</td>\n",
       "      <td>45.6</td>\n",
       "      <td>-60.75</td>\n",
       "      <td>15.0</td>\n",
       "      <td>LOWER L'ARDOISE</td>\n",
       "      <td>CA</td>\n",
       "      <td>-4.874275e+06</td>\n",
       "      <td>5.405209e+06</td>\n",
       "      <td>0.0</td>\n",
       "      <td>0.0</td>\n",
       "      <td>CA008200750</td>\n",
       "      <td>14316.80606</td>\n",
       "    </tr>\n",
       "    <tr>\n",
       "      <th>4</th>\n",
       "      <td>CA008203164</td>\n",
       "      <td>1975-01-03</td>\n",
       "      <td>TMAX</td>\n",
       "      <td>-11</td>\n",
       "      <td>45.6</td>\n",
       "      <td>-60.75</td>\n",
       "      <td>15.0</td>\n",
       "      <td>LOWER L'ARDOISE</td>\n",
       "      <td>CA</td>\n",
       "      <td>-4.874275e+06</td>\n",
       "      <td>5.405209e+06</td>\n",
       "      <td>0.0</td>\n",
       "      <td>0.0</td>\n",
       "      <td>CA008200750</td>\n",
       "      <td>14316.80606</td>\n",
       "    </tr>\n",
       "  </tbody>\n",
       "</table>\n",
       "</div>"
      ],
      "text/plain": [
       "       station       date  type  value   lat    lon  elevation  \\\n",
       "0  CA008203164 1975-01-01  TMAX     17  45.6 -60.75       15.0   \n",
       "1  CA008203164 1975-01-01  TMIN    -11  45.6 -60.75       15.0   \n",
       "2  CA008203164 1975-01-02  TMAX    -11  45.6 -60.75       15.0   \n",
       "3  CA008203164 1975-01-02  TMIN    -72  45.6 -60.75       15.0   \n",
       "4  CA008203164 1975-01-03  TMAX    -11  45.6 -60.75       15.0   \n",
       "\n",
       "              name country         mollX         mollY  pop1975  popdens1975  \\\n",
       "0  LOWER L'ARDOISE      CA -4.874275e+06  5.405209e+06      0.0          0.0   \n",
       "1  LOWER L'ARDOISE      CA -4.874275e+06  5.405209e+06      0.0          0.0   \n",
       "2  LOWER L'ARDOISE      CA -4.874275e+06  5.405209e+06      0.0          0.0   \n",
       "3  LOWER L'ARDOISE      CA -4.874275e+06  5.405209e+06      0.0          0.0   \n",
       "4  LOWER L'ARDOISE      CA -4.874275e+06  5.405209e+06      0.0          0.0   \n",
       "\n",
       "            NN      NN_dist  \n",
       "0  CA008200750  14316.80606  \n",
       "1  CA008200750  14316.80606  \n",
       "2  CA008200750  14316.80606  \n",
       "3  CA008200750  14316.80606  \n",
       "4  CA008200750  14316.80606  "
      ]
     },
     "execution_count": 47,
     "metadata": {},
     "output_type": "execute_result"
    }
   ],
   "source": [
    "data_1975 = pd.merge(data_1975, stations, on=\"station\")\n",
    "data_1975.head()\n",
    "\n"
   ]
  },
  {
   "cell_type": "markdown",
   "metadata": {
    "colab": {},
    "colab_type": "code",
    "id": "wEld9GwnW-Ky"
   },
   "source": [
    "Index the dataframe by country, station, date and observation type:"
   ]
  },
  {
   "cell_type": "code",
   "execution_count": 48,
   "metadata": {
    "colab": {},
    "colab_type": "code",
    "id": "seAVEs1rXktr"
   },
   "outputs": [
    {
     "data": {
      "text/html": [
       "<div>\n",
       "<style scoped>\n",
       "    .dataframe tbody tr th:only-of-type {\n",
       "        vertical-align: middle;\n",
       "    }\n",
       "\n",
       "    .dataframe tbody tr th {\n",
       "        vertical-align: top;\n",
       "    }\n",
       "\n",
       "    .dataframe thead th {\n",
       "        text-align: right;\n",
       "    }\n",
       "</style>\n",
       "<table border=\"1\" class=\"dataframe\">\n",
       "  <thead>\n",
       "    <tr style=\"text-align: right;\">\n",
       "      <th></th>\n",
       "      <th></th>\n",
       "      <th></th>\n",
       "      <th></th>\n",
       "      <th>value</th>\n",
       "      <th>lat</th>\n",
       "      <th>lon</th>\n",
       "      <th>elevation</th>\n",
       "      <th>name</th>\n",
       "      <th>mollX</th>\n",
       "      <th>mollY</th>\n",
       "      <th>pop1975</th>\n",
       "      <th>popdens1975</th>\n",
       "      <th>NN</th>\n",
       "      <th>NN_dist</th>\n",
       "    </tr>\n",
       "    <tr>\n",
       "      <th>country</th>\n",
       "      <th>station</th>\n",
       "      <th>date</th>\n",
       "      <th>type</th>\n",
       "      <th></th>\n",
       "      <th></th>\n",
       "      <th></th>\n",
       "      <th></th>\n",
       "      <th></th>\n",
       "      <th></th>\n",
       "      <th></th>\n",
       "      <th></th>\n",
       "      <th></th>\n",
       "      <th></th>\n",
       "      <th></th>\n",
       "    </tr>\n",
       "  </thead>\n",
       "  <tbody>\n",
       "    <tr>\n",
       "      <th rowspan=\"5\" valign=\"top\">CA</th>\n",
       "      <th rowspan=\"5\" valign=\"top\">CA008203164</th>\n",
       "      <th rowspan=\"2\" valign=\"top\">1975-01-01</th>\n",
       "      <th>TMAX</th>\n",
       "      <td>17</td>\n",
       "      <td>45.6</td>\n",
       "      <td>-60.75</td>\n",
       "      <td>15.0</td>\n",
       "      <td>LOWER L'ARDOISE</td>\n",
       "      <td>-4.874275e+06</td>\n",
       "      <td>5.405209e+06</td>\n",
       "      <td>0.0</td>\n",
       "      <td>0.0</td>\n",
       "      <td>CA008200750</td>\n",
       "      <td>14316.80606</td>\n",
       "    </tr>\n",
       "    <tr>\n",
       "      <th>TMIN</th>\n",
       "      <td>-11</td>\n",
       "      <td>45.6</td>\n",
       "      <td>-60.75</td>\n",
       "      <td>15.0</td>\n",
       "      <td>LOWER L'ARDOISE</td>\n",
       "      <td>-4.874275e+06</td>\n",
       "      <td>5.405209e+06</td>\n",
       "      <td>0.0</td>\n",
       "      <td>0.0</td>\n",
       "      <td>CA008200750</td>\n",
       "      <td>14316.80606</td>\n",
       "    </tr>\n",
       "    <tr>\n",
       "      <th rowspan=\"2\" valign=\"top\">1975-01-02</th>\n",
       "      <th>TMAX</th>\n",
       "      <td>-11</td>\n",
       "      <td>45.6</td>\n",
       "      <td>-60.75</td>\n",
       "      <td>15.0</td>\n",
       "      <td>LOWER L'ARDOISE</td>\n",
       "      <td>-4.874275e+06</td>\n",
       "      <td>5.405209e+06</td>\n",
       "      <td>0.0</td>\n",
       "      <td>0.0</td>\n",
       "      <td>CA008200750</td>\n",
       "      <td>14316.80606</td>\n",
       "    </tr>\n",
       "    <tr>\n",
       "      <th>TMIN</th>\n",
       "      <td>-72</td>\n",
       "      <td>45.6</td>\n",
       "      <td>-60.75</td>\n",
       "      <td>15.0</td>\n",
       "      <td>LOWER L'ARDOISE</td>\n",
       "      <td>-4.874275e+06</td>\n",
       "      <td>5.405209e+06</td>\n",
       "      <td>0.0</td>\n",
       "      <td>0.0</td>\n",
       "      <td>CA008200750</td>\n",
       "      <td>14316.80606</td>\n",
       "    </tr>\n",
       "    <tr>\n",
       "      <th>1975-01-03</th>\n",
       "      <th>TMAX</th>\n",
       "      <td>-11</td>\n",
       "      <td>45.6</td>\n",
       "      <td>-60.75</td>\n",
       "      <td>15.0</td>\n",
       "      <td>LOWER L'ARDOISE</td>\n",
       "      <td>-4.874275e+06</td>\n",
       "      <td>5.405209e+06</td>\n",
       "      <td>0.0</td>\n",
       "      <td>0.0</td>\n",
       "      <td>CA008200750</td>\n",
       "      <td>14316.80606</td>\n",
       "    </tr>\n",
       "  </tbody>\n",
       "</table>\n",
       "</div>"
      ],
      "text/plain": [
       "                                     value   lat    lon  elevation  \\\n",
       "country station     date       type                                  \n",
       "CA      CA008203164 1975-01-01 TMAX     17  45.6 -60.75       15.0   \n",
       "                               TMIN    -11  45.6 -60.75       15.0   \n",
       "                    1975-01-02 TMAX    -11  45.6 -60.75       15.0   \n",
       "                               TMIN    -72  45.6 -60.75       15.0   \n",
       "                    1975-01-03 TMAX    -11  45.6 -60.75       15.0   \n",
       "\n",
       "                                                name         mollX  \\\n",
       "country station     date       type                                  \n",
       "CA      CA008203164 1975-01-01 TMAX  LOWER L'ARDOISE -4.874275e+06   \n",
       "                               TMIN  LOWER L'ARDOISE -4.874275e+06   \n",
       "                    1975-01-02 TMAX  LOWER L'ARDOISE -4.874275e+06   \n",
       "                               TMIN  LOWER L'ARDOISE -4.874275e+06   \n",
       "                    1975-01-03 TMAX  LOWER L'ARDOISE -4.874275e+06   \n",
       "\n",
       "                                            mollY  pop1975  popdens1975  \\\n",
       "country station     date       type                                       \n",
       "CA      CA008203164 1975-01-01 TMAX  5.405209e+06      0.0          0.0   \n",
       "                               TMIN  5.405209e+06      0.0          0.0   \n",
       "                    1975-01-02 TMAX  5.405209e+06      0.0          0.0   \n",
       "                               TMIN  5.405209e+06      0.0          0.0   \n",
       "                    1975-01-03 TMAX  5.405209e+06      0.0          0.0   \n",
       "\n",
       "                                              NN      NN_dist  \n",
       "country station     date       type                            \n",
       "CA      CA008203164 1975-01-01 TMAX  CA008200750  14316.80606  \n",
       "                               TMIN  CA008200750  14316.80606  \n",
       "                    1975-01-02 TMAX  CA008200750  14316.80606  \n",
       "                               TMIN  CA008200750  14316.80606  \n",
       "                    1975-01-03 TMAX  CA008200750  14316.80606  "
      ]
     },
     "execution_count": 48,
     "metadata": {},
     "output_type": "execute_result"
    }
   ],
   "source": [
    "data_1975.set_index(['country','station','date','type'], inplace=True)\n",
    "data_1975.head()"
   ]
  },
  {
   "cell_type": "markdown",
   "metadata": {},
   "source": [
    "Next, we will prepare the data to **correct the temperature data for elevation**. Temperature decreases with increasing altitude, so  we will try to get a hold of the nature of this relationship. To that end, we will take only rural stations (which we – somewhat arbitrarily – set at 10 people per km<sup>2</sup>; this number should be small enough to ensure that no UHI effect is influecing the measurement): "
   ]
  },
  {
   "cell_type": "code",
   "execution_count": 49,
   "metadata": {},
   "outputs": [
    {
     "name": "stdout",
     "output_type": "stream",
     "text": [
      "Stations in cells with less than 10 people per sqkm:  73351\n"
     ]
    }
   ],
   "source": [
    "print(\"Stations in cells with less than 10 people per sqkm: \", len(stations[stations['popdens1975'] < 10]))"
   ]
  },
  {
   "cell_type": "markdown",
   "metadata": {},
   "source": [
    "This should be enough, let's only take those stations:"
   ]
  },
  {
   "cell_type": "code",
   "execution_count": 50,
   "metadata": {},
   "outputs": [
    {
     "data": {
      "text/plain": [
       "7086884"
      ]
     },
     "execution_count": 50,
     "metadata": {},
     "output_type": "execute_result"
    }
   ],
   "source": [
    "rural_stations_data = data_1975[data_1975['popdens1975'] < 10]\n",
    "len(rural_stations_data)"
   ]
  },
  {
   "cell_type": "code",
   "execution_count": 91,
   "metadata": {},
   "outputs": [
    {
     "ename": "TypeError",
     "evalue": "__call__() takes from 1 to 2 positional arguments but 3 were given",
     "output_type": "error",
     "traceback": [
      "\u001b[0;31m---------------------------------------------------------------------------\u001b[0m",
      "\u001b[0;31mTypeError\u001b[0m                                 Traceback (most recent call last)",
      "\u001b[0;32m<ipython-input-91-d390c05ce292>\u001b[0m in \u001b[0;36m<module>\u001b[0;34m\u001b[0m\n\u001b[0;32m----> 1\u001b[0;31m \u001b[0mstations\u001b[0m\u001b[0;34m.\u001b[0m\u001b[0mloc\u001b[0m\u001b[0;34m[\u001b[0m\u001b[0mstations\u001b[0m\u001b[0;34m[\u001b[0m\u001b[0;34m'station'\u001b[0m\u001b[0;34m]\u001b[0m \u001b[0;34m==\u001b[0m \u001b[0;34m'CA008203164'\u001b[0m\u001b[0;34m]\u001b[0m\u001b[0;34m.\u001b[0m\u001b[0mat\u001b[0m\u001b[0;34m(\u001b[0m\u001b[0;36m0\u001b[0m\u001b[0;34m,\u001b[0m\u001b[0;34m'elevation'\u001b[0m\u001b[0;34m)\u001b[0m\u001b[0;34m\u001b[0m\u001b[0;34m\u001b[0m\u001b[0m\n\u001b[0m",
      "\u001b[0;31mTypeError\u001b[0m: __call__() takes from 1 to 2 positional arguments but 3 were given"
     ]
    }
   ],
   "source": []
  },
  {
   "cell_type": "code",
   "execution_count": 82,
   "metadata": {},
   "outputs": [
    {
     "data": {
      "text/plain": [
       "31034    15.0\n",
       "Name: elevation, dtype: float64"
      ]
     },
     "execution_count": 82,
     "metadata": {},
     "output_type": "execute_result"
    }
   ],
   "source": []
  },
  {
   "cell_type": "code",
   "execution_count": null,
   "metadata": {},
   "outputs": [],
   "source": []
  }
 ],
 "metadata": {
  "colab": {
   "name": "NOAA weather station data.ipynb",
   "provenance": [],
   "version": "0.3.2"
  },
  "kernelspec": {
   "display_name": "Python 3",
   "language": "python",
   "name": "python3"
  },
  "language_info": {
   "codemirror_mode": {
    "name": "ipython",
    "version": 3
   },
   "file_extension": ".py",
   "mimetype": "text/x-python",
   "name": "python",
   "nbconvert_exporter": "python",
   "pygments_lexer": "ipython3",
   "version": "3.6.7"
  }
 },
 "nbformat": 4,
 "nbformat_minor": 1
}
