{
 "cells": [
  {
   "cell_type": "markdown",
   "metadata": {
    "colab_type": "text",
    "id": "YwFA50NyM_Sh"
   },
   "source": [
    "Import some libraries we'll use:"
   ]
  },
  {
   "cell_type": "code",
   "execution_count": 26,
   "metadata": {
    "colab": {},
    "colab_type": "code",
    "id": "_-6gbN01F4cC"
   },
   "outputs": [],
   "source": [
    "import urllib.request\n",
    "import gzip\n",
    "import zipfile\n",
    "import pandas as pd\n",
    "import os\n",
    "import matplotlib.pyplot as plt\n",
    "import rasterio as rio\n",
    "from pyproj import Proj, transform\n",
    "from scipy.spatial import cKDTree  \n",
    "\n",
    "%matplotlib inline\n",
    "plt.rcParams[\"figure.figsize\"] = (20,10)"
   ]
  },
  {
   "cell_type": "markdown",
   "metadata": {
    "colab_type": "text",
    "id": "nDGnYKEztMSA"
   },
   "source": [
    "# Get NOAA weather stations\n",
    "\n",
    "First, let's get the [list of NOAA weather stations](https://www1.ncdc.noaa.gov/pub/data/ghcn/daily/ghcnd-stations.txt) so that we have a lat/lon location for each:"
   ]
  },
  {
   "cell_type": "code",
   "execution_count": 2,
   "metadata": {
    "colab": {
     "base_uri": "https://localhost:8080/",
     "height": 206
    },
    "colab_type": "code",
    "id": "s6malE0lr16p",
    "outputId": "3a949fa6-fe36-4dea-ffdf-857b3f752aa7"
   },
   "outputs": [
    {
     "name": "stdout",
     "output_type": "stream",
     "text": [
      "Stations already downloaded, using local file.\n"
     ]
    },
    {
     "data": {
      "text/html": [
       "<div>\n",
       "<style scoped>\n",
       "    .dataframe tbody tr th:only-of-type {\n",
       "        vertical-align: middle;\n",
       "    }\n",
       "\n",
       "    .dataframe tbody tr th {\n",
       "        vertical-align: top;\n",
       "    }\n",
       "\n",
       "    .dataframe thead th {\n",
       "        text-align: right;\n",
       "    }\n",
       "</style>\n",
       "<table border=\"1\" class=\"dataframe\">\n",
       "  <thead>\n",
       "    <tr style=\"text-align: right;\">\n",
       "      <th></th>\n",
       "      <th>station</th>\n",
       "      <th>lat</th>\n",
       "      <th>lon</th>\n",
       "      <th>elevation</th>\n",
       "      <th>name</th>\n",
       "    </tr>\n",
       "  </thead>\n",
       "  <tbody>\n",
       "    <tr>\n",
       "      <th>0</th>\n",
       "      <td>ACW00011604</td>\n",
       "      <td>17.1167</td>\n",
       "      <td>-61.7833</td>\n",
       "      <td>10.1</td>\n",
       "      <td>ST JOHNS COOLIDGE FLD</td>\n",
       "    </tr>\n",
       "    <tr>\n",
       "      <th>1</th>\n",
       "      <td>ACW00011647</td>\n",
       "      <td>17.1333</td>\n",
       "      <td>-61.7833</td>\n",
       "      <td>19.2</td>\n",
       "      <td>ST JOHNS</td>\n",
       "    </tr>\n",
       "    <tr>\n",
       "      <th>2</th>\n",
       "      <td>AE000041196</td>\n",
       "      <td>25.3330</td>\n",
       "      <td>55.5170</td>\n",
       "      <td>34.0</td>\n",
       "      <td>SHARJAH INTER. AIRP</td>\n",
       "    </tr>\n",
       "    <tr>\n",
       "      <th>3</th>\n",
       "      <td>AEM00041194</td>\n",
       "      <td>25.2550</td>\n",
       "      <td>55.3640</td>\n",
       "      <td>10.4</td>\n",
       "      <td>DUBAI INTL</td>\n",
       "    </tr>\n",
       "    <tr>\n",
       "      <th>4</th>\n",
       "      <td>AEM00041217</td>\n",
       "      <td>24.4330</td>\n",
       "      <td>54.6510</td>\n",
       "      <td>26.8</td>\n",
       "      <td>ABU DHABI INTL</td>\n",
       "    </tr>\n",
       "  </tbody>\n",
       "</table>\n",
       "</div>"
      ],
      "text/plain": [
       "       station      lat      lon  elevation                   name\n",
       "0  ACW00011604  17.1167 -61.7833       10.1  ST JOHNS COOLIDGE FLD\n",
       "1  ACW00011647  17.1333 -61.7833       19.2               ST JOHNS\n",
       "2  AE000041196  25.3330  55.5170       34.0    SHARJAH INTER. AIRP\n",
       "3  AEM00041194  25.2550  55.3640       10.4             DUBAI INTL\n",
       "4  AEM00041217  24.4330  54.6510       26.8         ABU DHABI INTL"
      ]
     },
     "execution_count": 2,
     "metadata": {},
     "output_type": "execute_result"
    }
   ],
   "source": [
    "file = 'ghcnd-stations.txt'\n",
    "\n",
    "if os.path.isfile(file):\n",
    "    print('Stations already downloaded, using local file.')\n",
    "else:\n",
    "    print('Using online stations file directly.')\n",
    "    file = 'https://www1.ncdc.noaa.gov/pub/data/ghcn/daily/ghcnd-stations.txt'\n",
    "\n",
    "# we are using 100000 rows here to let pandas figure out the column widths - this is a bit slower, \n",
    "# but makes sure that we get all the stations way out west or south correctly without chopping of the minus sign \n",
    "stations = pd.read_fwf(file, \n",
    "            infer_nrows=100000, # how many rows to use to infer the column widths\n",
    "            usecols = [0,1,2,3,5],\n",
    "            names = [\"station\", \"lat\", \"lon\", \"elevation\", \"name\"])\n",
    "\n",
    "stations.head()"
   ]
  },
  {
   "cell_type": "markdown",
   "metadata": {},
   "source": [
    "Check the range of the lat and lon columns to make sure the coordinates have been parsed correctly:"
   ]
  },
  {
   "cell_type": "code",
   "execution_count": 3,
   "metadata": {},
   "outputs": [
    {
     "name": "stdout",
     "output_type": "stream",
     "text": [
      "Lats go from -90.0 to 83.65\n",
      "Lons go from -179.983 to 179.32\n"
     ]
    }
   ],
   "source": [
    "print(f'Lats go from {stations.lat.min()} to {stations.lat.max()}')\n",
    "print(f'Lons go from {stations.lon.min()} to {stations.lon.max()}')"
   ]
  },
  {
   "cell_type": "markdown",
   "metadata": {
    "colab_type": "text",
    "id": "s0cvrcUPyifc"
   },
   "source": [
    "Pull out the country ID from the station column (first two letters):"
   ]
  },
  {
   "cell_type": "code",
   "execution_count": 4,
   "metadata": {
    "colab": {
     "base_uri": "https://localhost:8080/",
     "height": 206
    },
    "colab_type": "code",
    "id": "SgIQgawttmqa",
    "outputId": "43331dc8-8fef-4f8f-e7e1-d34d636c8e43"
   },
   "outputs": [
    {
     "data": {
      "text/html": [
       "<div>\n",
       "<style scoped>\n",
       "    .dataframe tbody tr th:only-of-type {\n",
       "        vertical-align: middle;\n",
       "    }\n",
       "\n",
       "    .dataframe tbody tr th {\n",
       "        vertical-align: top;\n",
       "    }\n",
       "\n",
       "    .dataframe thead th {\n",
       "        text-align: right;\n",
       "    }\n",
       "</style>\n",
       "<table border=\"1\" class=\"dataframe\">\n",
       "  <thead>\n",
       "    <tr style=\"text-align: right;\">\n",
       "      <th></th>\n",
       "      <th>station</th>\n",
       "      <th>lat</th>\n",
       "      <th>lon</th>\n",
       "      <th>elevation</th>\n",
       "      <th>name</th>\n",
       "      <th>country</th>\n",
       "    </tr>\n",
       "  </thead>\n",
       "  <tbody>\n",
       "    <tr>\n",
       "      <th>0</th>\n",
       "      <td>ACW00011604</td>\n",
       "      <td>17.1167</td>\n",
       "      <td>-61.7833</td>\n",
       "      <td>10.1</td>\n",
       "      <td>ST JOHNS COOLIDGE FLD</td>\n",
       "      <td>AC</td>\n",
       "    </tr>\n",
       "    <tr>\n",
       "      <th>1</th>\n",
       "      <td>ACW00011647</td>\n",
       "      <td>17.1333</td>\n",
       "      <td>-61.7833</td>\n",
       "      <td>19.2</td>\n",
       "      <td>ST JOHNS</td>\n",
       "      <td>AC</td>\n",
       "    </tr>\n",
       "    <tr>\n",
       "      <th>2</th>\n",
       "      <td>AE000041196</td>\n",
       "      <td>25.3330</td>\n",
       "      <td>55.5170</td>\n",
       "      <td>34.0</td>\n",
       "      <td>SHARJAH INTER. AIRP</td>\n",
       "      <td>AE</td>\n",
       "    </tr>\n",
       "    <tr>\n",
       "      <th>3</th>\n",
       "      <td>AEM00041194</td>\n",
       "      <td>25.2550</td>\n",
       "      <td>55.3640</td>\n",
       "      <td>10.4</td>\n",
       "      <td>DUBAI INTL</td>\n",
       "      <td>AE</td>\n",
       "    </tr>\n",
       "    <tr>\n",
       "      <th>4</th>\n",
       "      <td>AEM00041217</td>\n",
       "      <td>24.4330</td>\n",
       "      <td>54.6510</td>\n",
       "      <td>26.8</td>\n",
       "      <td>ABU DHABI INTL</td>\n",
       "      <td>AE</td>\n",
       "    </tr>\n",
       "  </tbody>\n",
       "</table>\n",
       "</div>"
      ],
      "text/plain": [
       "       station      lat      lon  elevation                   name country\n",
       "0  ACW00011604  17.1167 -61.7833       10.1  ST JOHNS COOLIDGE FLD      AC\n",
       "1  ACW00011647  17.1333 -61.7833       19.2               ST JOHNS      AC\n",
       "2  AE000041196  25.3330  55.5170       34.0    SHARJAH INTER. AIRP      AE\n",
       "3  AEM00041194  25.2550  55.3640       10.4             DUBAI INTL      AE\n",
       "4  AEM00041217  24.4330  54.6510       26.8         ABU DHABI INTL      AE"
      ]
     },
     "execution_count": 4,
     "metadata": {},
     "output_type": "execute_result"
    }
   ],
   "source": [
    "stations[\"country\"] = stations[\"station\"].astype(str).str[0:2]\n",
    "stations.head()"
   ]
  },
  {
   "cell_type": "markdown",
   "metadata": {},
   "source": [
    "Since the GHSL data we'll be using later is in Mollweide projection, we'll need to [project](https://github.com/pyproj4/pyproj) the lat/lon to the World Mollweide projection that the raster uses and pick up the values at those projected coordinates:"
   ]
  },
  {
   "cell_type": "code",
   "execution_count": 5,
   "metadata": {},
   "outputs": [
    {
     "data": {
      "text/html": [
       "<div>\n",
       "<style scoped>\n",
       "    .dataframe tbody tr th:only-of-type {\n",
       "        vertical-align: middle;\n",
       "    }\n",
       "\n",
       "    .dataframe tbody tr th {\n",
       "        vertical-align: top;\n",
       "    }\n",
       "\n",
       "    .dataframe thead th {\n",
       "        text-align: right;\n",
       "    }\n",
       "</style>\n",
       "<table border=\"1\" class=\"dataframe\">\n",
       "  <thead>\n",
       "    <tr style=\"text-align: right;\">\n",
       "      <th></th>\n",
       "      <th>station</th>\n",
       "      <th>lat</th>\n",
       "      <th>lon</th>\n",
       "      <th>elevation</th>\n",
       "      <th>name</th>\n",
       "      <th>country</th>\n",
       "      <th>mollX</th>\n",
       "      <th>mollY</th>\n",
       "    </tr>\n",
       "  </thead>\n",
       "  <tbody>\n",
       "    <tr>\n",
       "      <th>0</th>\n",
       "      <td>ACW00011604</td>\n",
       "      <td>17.1167</td>\n",
       "      <td>-61.7833</td>\n",
       "      <td>10.1</td>\n",
       "      <td>ST JOHNS COOLIDGE FLD</td>\n",
       "      <td>AC</td>\n",
       "      <td>-6.021233e+06</td>\n",
       "      <td>2.104299e+06</td>\n",
       "    </tr>\n",
       "    <tr>\n",
       "      <th>1</th>\n",
       "      <td>ACW00011647</td>\n",
       "      <td>17.1333</td>\n",
       "      <td>-61.7833</td>\n",
       "      <td>19.2</td>\n",
       "      <td>ST JOHNS</td>\n",
       "      <td>AC</td>\n",
       "      <td>-6.020901e+06</td>\n",
       "      <td>2.106316e+06</td>\n",
       "    </tr>\n",
       "    <tr>\n",
       "      <th>2</th>\n",
       "      <td>AE000041196</td>\n",
       "      <td>25.3330</td>\n",
       "      <td>55.5170</td>\n",
       "      <td>34.0</td>\n",
       "      <td>SHARJAH INTER. AIRP</td>\n",
       "      <td>AE</td>\n",
       "      <td>5.226731e+06</td>\n",
       "      <td>3.092960e+06</td>\n",
       "    </tr>\n",
       "    <tr>\n",
       "      <th>3</th>\n",
       "      <td>AEM00041194</td>\n",
       "      <td>25.2550</td>\n",
       "      <td>55.3640</td>\n",
       "      <td>10.4</td>\n",
       "      <td>DUBAI INTL</td>\n",
       "      <td>AE</td>\n",
       "      <td>5.214407e+06</td>\n",
       "      <td>3.083680e+06</td>\n",
       "    </tr>\n",
       "    <tr>\n",
       "      <th>4</th>\n",
       "      <td>AEM00041217</td>\n",
       "      <td>24.4330</td>\n",
       "      <td>54.6510</td>\n",
       "      <td>26.8</td>\n",
       "      <td>ABU DHABI INTL</td>\n",
       "      <td>AE</td>\n",
       "      <td>5.168502e+06</td>\n",
       "      <td>2.985740e+06</td>\n",
       "    </tr>\n",
       "  </tbody>\n",
       "</table>\n",
       "</div>"
      ],
      "text/plain": [
       "       station      lat      lon  elevation                   name country  \\\n",
       "0  ACW00011604  17.1167 -61.7833       10.1  ST JOHNS COOLIDGE FLD      AC   \n",
       "1  ACW00011647  17.1333 -61.7833       19.2               ST JOHNS      AC   \n",
       "2  AE000041196  25.3330  55.5170       34.0    SHARJAH INTER. AIRP      AE   \n",
       "3  AEM00041194  25.2550  55.3640       10.4             DUBAI INTL      AE   \n",
       "4  AEM00041217  24.4330  54.6510       26.8         ABU DHABI INTL      AE   \n",
       "\n",
       "          mollX         mollY  \n",
       "0 -6.021233e+06  2.104299e+06  \n",
       "1 -6.020901e+06  2.106316e+06  \n",
       "2  5.226731e+06  3.092960e+06  \n",
       "3  5.214407e+06  3.083680e+06  \n",
       "4  5.168502e+06  2.985740e+06  "
      ]
     },
     "execution_count": 5,
     "metadata": {},
     "output_type": "execute_result"
    }
   ],
   "source": [
    "inProj = Proj(init='epsg:4326')   # lat/lon \n",
    "outProj = Proj('+proj=moll +lon_0=0 +x_0=0 +y_0=0 +datum=WGS84 +units=m +no_defs', preserve_flags=True) # Mollweide\n",
    "\n",
    "projectedLocations = []\n",
    "\n",
    "# go through the list of stations and project each one to Mollweide\n",
    "for index, station in stations.iterrows():\n",
    "    projectedLocations.append((transform(inProj,outProj,station['lon'],station['lat'])))\n",
    "\n",
    "# add the projected coordinates back to the stations dataframe\n",
    "stations['mollX'], stations['mollY'] = zip(*projectedLocations)\n",
    "stations.head()"
   ]
  },
  {
   "cell_type": "markdown",
   "metadata": {},
   "source": [
    "# Get [GHSL population data](https://ghsl.jrc.ec.europa.eu/ghs_pop.php) for 1975\n",
    "\n",
    "Download dir at http://cidportal.jrc.ec.europa.eu/ftp/jrc-opendata/GHSL/GHS_POP_GPW4_GLOBE_R2015A/"
   ]
  },
  {
   "cell_type": "code",
   "execution_count": 6,
   "metadata": {},
   "outputs": [
    {
     "name": "stdout",
     "output_type": "stream",
     "text": [
      "GHSL population data for 1975 already downloaded.\n"
     ]
    }
   ],
   "source": [
    "file = 'GHS_POP_GPW41975_GLOBE_R2015A_54009_250_v1_0/GHS_POP_GPW41975_GLOBE_R2015A_54009_250_v1_0.tif'\n",
    "\n",
    "if os.path.isfile(file):\n",
    "    print('GHSL population data for 1975 already downloaded.')\n",
    "else:\n",
    "    url = 'http://cidportal.jrc.ec.europa.eu/ftp/jrc-opendata/GHSL/GHS_POP_GPW4_GLOBE_R2015A/GHS_POP_GPW41975_GLOBE_R2015A_54009_250/V1-0/GHS_POP_GPW41975_GLOBE_R2015A_54009_250_v1_0.zip'\n",
    "    urllib.request.urlretrieve(url, file)\n",
    "    \n",
    "    zip_ref = zipfile.ZipFile(file, 'r')\n",
    "    zip_ref.extractall('.')\n",
    "    zip_ref.close()\n",
    "    \n",
    "    # remove the ZIP file and the extracted overview file - we don't need it and the .ovr file is huge (3GB!)\n",
    "    os.remove('GHS_POP_GPW41975_GLOBE_R2015A_54009_250_v1_0.zip')\n",
    "    os.remove('GHS_POP_GPW41975_GLOBE_R2015A_54009_250_v1_0/GHS_POP_GPW41975_GLOBE_R2015A_54009_250_v1_0.tif.ovr')"
   ]
  },
  {
   "cell_type": "markdown",
   "metadata": {},
   "source": [
    "We'll use the data to assign each station an estimate of the population density in the GHSL cell that it is in. Since GHSL is in an equal area projection (i.e. all cells have the same area), we can safely do that.\n",
    "\n",
    "We'll use [rasterio's sample method](https://gis.stackexchange.com/questions/190423/getting-pixel-values-at-single-point-using-rasterio) for that. Let's read in the GeoTIFF first:"
   ]
  },
  {
   "cell_type": "code",
   "execution_count": 7,
   "metadata": {},
   "outputs": [
    {
     "data": {
      "text/plain": [
       "<open DatasetReader name='GHS_POP_GPW41975_GLOBE_R2015A_54009_250_v1_0/GHS_POP_GPW41975_GLOBE_R2015A_54009_250_v1_0.tif' mode='r'>"
      ]
     },
     "execution_count": 7,
     "metadata": {},
     "output_type": "execute_result"
    }
   ],
   "source": [
    "pop1975 = rio.open(file)\n",
    "pop1975"
   ]
  },
  {
   "cell_type": "code",
   "execution_count": 8,
   "metadata": {},
   "outputs": [
    {
     "data": {
      "text/plain": [
       "BoundingBox(left=-17619594.54744353, bottom=-6484970.538131511, right=17877405.45255647, top=8750529.46186849)"
      ]
     },
     "execution_count": 8,
     "metadata": {},
     "output_type": "execute_result"
    }
   ],
   "source": [
    "pop1975.bounds"
   ]
  },
  {
   "cell_type": "code",
   "execution_count": 9,
   "metadata": {},
   "outputs": [
    {
     "data": {
      "text/plain": [
       "{'driver': 'GTiff',\n",
       " 'dtype': 'float32',\n",
       " 'nodata': None,\n",
       " 'width': 141988,\n",
       " 'height': 60942,\n",
       " 'count': 1,\n",
       " 'crs': CRS.from_wkt('PROJCS[\"World_Mollweide\",GEOGCS[\"GCS_WGS_1984\",DATUM[\"D_WGS_1984\",SPHEROID[\"WGS_1984\",6378137.0,298.257223563]],PRIMEM[\"Greenwich\",0.0],UNIT[\"Degree\",0.017453292519943295]],PROJECTION[\"Mollweide\"],PARAMETER[\"False_Easting\",0.0],PARAMETER[\"False_Northing\",0.0],PARAMETER[\"Central_Meridian\",0.0],UNIT[\"Meter\",1.0]]'),\n",
       " 'transform': Affine(250.0, 0.0, -17619594.54744353,\n",
       "        0.0, -250.0, 8750529.46186849)}"
      ]
     },
     "execution_count": 9,
     "metadata": {},
     "output_type": "execute_result"
    }
   ],
   "source": [
    "pop1975.meta"
   ]
  },
  {
   "cell_type": "markdown",
   "metadata": {},
   "source": [
    "To get values at point locations, we can simply pass a list of ```(x,y)``` tuples and rasterio will return a list of values at those points:"
   ]
  },
  {
   "cell_type": "code",
   "execution_count": 10,
   "metadata": {},
   "outputs": [
    {
     "name": "stdout",
     "output_type": "stream",
     "text": [
      "[2680.5662]\n"
     ]
    }
   ],
   "source": [
    "for val in pop1975.sample([(8432553,2759349)]):\n",
    "    print(val)"
   ]
  },
  {
   "cell_type": "markdown",
   "metadata": {},
   "source": [
    "Check that all coordinates are in the raster's bounding box:"
   ]
  },
  {
   "cell_type": "code",
   "execution_count": 11,
   "metadata": {
    "scrolled": true
   },
   "outputs": [
    {
     "name": "stdout",
     "output_type": "stream",
     "text": [
      "True\n",
      "True\n",
      "False\n",
      "False\n"
     ]
    }
   ],
   "source": [
    "print(min(stations['mollX']) > pop1975.bounds.left)\n",
    "print(max(stations['mollX']) < pop1975.bounds.right)\n",
    "\n",
    "print(min(stations['mollY']) > pop1975.bounds.bottom)\n",
    "print(max(stations['mollY']) < pop1975.bounds.top)"
   ]
  },
  {
   "cell_type": "markdown",
   "metadata": {},
   "source": [
    "Okay, so there are some stations North and South of our raster. Export to CSV to take a look in QGIS:"
   ]
  },
  {
   "cell_type": "code",
   "execution_count": 12,
   "metadata": {},
   "outputs": [],
   "source": [
    "stations.to_csv('stations_moll.csv')"
   ]
  },
  {
   "cell_type": "markdown",
   "metadata": {},
   "source": [
    "Remove the stations that are outside of our raster bounding box (they are not really useful for our UHI analysis anyway, and [rasterio seems trip over them](https://gis.stackexchange.com/questions/323481/error-using-rasterios-sample-method)):"
   ]
  },
  {
   "cell_type": "code",
   "execution_count": 13,
   "metadata": {},
   "outputs": [
    {
     "name": "stdout",
     "output_type": "stream",
     "text": [
      "Before removal: 113951 stations.\n",
      "After removal: 113848 stations.\n"
     ]
    }
   ],
   "source": [
    "print(f'Before removal: {len(stations.index)} stations.')\n",
    "stations = stations.drop(stations[stations['mollY'] < pop1975.bounds.bottom].index)\n",
    "stations = stations.drop(stations[stations['mollY'] > pop1975.bounds.top].index)\n",
    "print(f'After removal: {len(stations.index)} stations.')"
   ]
  },
  {
   "cell_type": "code",
   "execution_count": 14,
   "metadata": {},
   "outputs": [],
   "source": [
    "stations.to_csv('stations_moll_inraster.csv')"
   ]
  },
  {
   "cell_type": "markdown",
   "metadata": {},
   "source": [
    "Now we can use those remaining station locations to sample the raster:"
   ]
  },
  {
   "cell_type": "code",
   "execution_count": 15,
   "metadata": {},
   "outputs": [
    {
     "data": {
      "text/html": [
       "<div>\n",
       "<style scoped>\n",
       "    .dataframe tbody tr th:only-of-type {\n",
       "        vertical-align: middle;\n",
       "    }\n",
       "\n",
       "    .dataframe tbody tr th {\n",
       "        vertical-align: top;\n",
       "    }\n",
       "\n",
       "    .dataframe thead th {\n",
       "        text-align: right;\n",
       "    }\n",
       "</style>\n",
       "<table border=\"1\" class=\"dataframe\">\n",
       "  <thead>\n",
       "    <tr style=\"text-align: right;\">\n",
       "      <th></th>\n",
       "      <th>station</th>\n",
       "      <th>lat</th>\n",
       "      <th>lon</th>\n",
       "      <th>elevation</th>\n",
       "      <th>name</th>\n",
       "      <th>country</th>\n",
       "      <th>mollX</th>\n",
       "      <th>mollY</th>\n",
       "      <th>pop1975</th>\n",
       "    </tr>\n",
       "  </thead>\n",
       "  <tbody>\n",
       "    <tr>\n",
       "      <th>0</th>\n",
       "      <td>ACW00011604</td>\n",
       "      <td>17.1167</td>\n",
       "      <td>-61.7833</td>\n",
       "      <td>10.1</td>\n",
       "      <td>ST JOHNS COOLIDGE FLD</td>\n",
       "      <td>AC</td>\n",
       "      <td>-6.021233e+06</td>\n",
       "      <td>2.104299e+06</td>\n",
       "      <td>0.000000</td>\n",
       "    </tr>\n",
       "    <tr>\n",
       "      <th>1</th>\n",
       "      <td>ACW00011647</td>\n",
       "      <td>17.1333</td>\n",
       "      <td>-61.7833</td>\n",
       "      <td>19.2</td>\n",
       "      <td>ST JOHNS</td>\n",
       "      <td>AC</td>\n",
       "      <td>-6.020901e+06</td>\n",
       "      <td>2.106316e+06</td>\n",
       "      <td>0.000000</td>\n",
       "    </tr>\n",
       "    <tr>\n",
       "      <th>2</th>\n",
       "      <td>AE000041196</td>\n",
       "      <td>25.3330</td>\n",
       "      <td>55.5170</td>\n",
       "      <td>34.0</td>\n",
       "      <td>SHARJAH INTER. AIRP</td>\n",
       "      <td>AE</td>\n",
       "      <td>5.226731e+06</td>\n",
       "      <td>3.092960e+06</td>\n",
       "      <td>0.000000</td>\n",
       "    </tr>\n",
       "    <tr>\n",
       "      <th>3</th>\n",
       "      <td>AEM00041194</td>\n",
       "      <td>25.2550</td>\n",
       "      <td>55.3640</td>\n",
       "      <td>10.4</td>\n",
       "      <td>DUBAI INTL</td>\n",
       "      <td>AE</td>\n",
       "      <td>5.214407e+06</td>\n",
       "      <td>3.083680e+06</td>\n",
       "      <td>2.571450</td>\n",
       "    </tr>\n",
       "    <tr>\n",
       "      <th>4</th>\n",
       "      <td>AEM00041217</td>\n",
       "      <td>24.4330</td>\n",
       "      <td>54.6510</td>\n",
       "      <td>26.8</td>\n",
       "      <td>ABU DHABI INTL</td>\n",
       "      <td>AE</td>\n",
       "      <td>5.168502e+06</td>\n",
       "      <td>2.985740e+06</td>\n",
       "      <td>21.834427</td>\n",
       "    </tr>\n",
       "  </tbody>\n",
       "</table>\n",
       "</div>"
      ],
      "text/plain": [
       "       station      lat      lon  elevation                   name country  \\\n",
       "0  ACW00011604  17.1167 -61.7833       10.1  ST JOHNS COOLIDGE FLD      AC   \n",
       "1  ACW00011647  17.1333 -61.7833       19.2               ST JOHNS      AC   \n",
       "2  AE000041196  25.3330  55.5170       34.0    SHARJAH INTER. AIRP      AE   \n",
       "3  AEM00041194  25.2550  55.3640       10.4             DUBAI INTL      AE   \n",
       "4  AEM00041217  24.4330  54.6510       26.8         ABU DHABI INTL      AE   \n",
       "\n",
       "          mollX         mollY    pop1975  \n",
       "0 -6.021233e+06  2.104299e+06   0.000000  \n",
       "1 -6.020901e+06  2.106316e+06   0.000000  \n",
       "2  5.226731e+06  3.092960e+06   0.000000  \n",
       "3  5.214407e+06  3.083680e+06   2.571450  \n",
       "4  5.168502e+06  2.985740e+06  21.834427  "
      ]
     },
     "execution_count": 15,
     "metadata": {},
     "output_type": "execute_result"
    }
   ],
   "source": [
    "locations = list(zip(stations['mollX'], stations['mollY']))\n",
    "pop1975col = []\n",
    "\n",
    "for val in pop1975.sample(locations):\n",
    "    pop1975col.append(val[0])\n",
    "\n",
    "# make this list a new column in our stations dataframe\n",
    "stations['pop1975'] = pop1975col\n",
    "stations.to_csv('stations_moll_inraster_pop1975.csv')\n",
    "stations.head()"
   ]
  },
  {
   "cell_type": "markdown",
   "metadata": {},
   "source": [
    "# Stats\n",
    "\n",
    "Some stats about the frequencies, i.e. how many stations do we have in densely populated areas? First, we'll make a log-scale histogram that shows population at the cell where the station is in people per 250mx250m cell:"
   ]
  },
  {
   "cell_type": "code",
   "execution_count": 39,
   "metadata": {},
   "outputs": [
    {
     "data": {
      "image/png": "[encoded data removed]",
      "text/plain": [
       "<Figure size 1440x720 with 1 Axes>"
      ]
     },
     "metadata": {
      "needs_background": "light"
     },
     "output_type": "display_data"
    }
   ],
   "source": [
    "fig, ax = plt.subplots()\n",
    "stations.hist(ax=ax, bins=20, column='pop1975')\n",
    "ax.set_yscale('log')"
   ]
  },
  {
   "cell_type": "markdown",
   "metadata": {},
   "source": [
    "Some of these are in crazy densely populated areas! Let's check which ones they are (top 10):"
   ]
  },
  {
   "cell_type": "code",
   "execution_count": 42,
   "metadata": {},
   "outputs": [
    {
     "data": {
      "text/html": [
       "<div>\n",
       "<style scoped>\n",
       "    .dataframe tbody tr th:only-of-type {\n",
       "        vertical-align: middle;\n",
       "    }\n",
       "\n",
       "    .dataframe tbody tr th {\n",
       "        vertical-align: top;\n",
       "    }\n",
       "\n",
       "    .dataframe thead th {\n",
       "        text-align: right;\n",
       "    }\n",
       "</style>\n",
       "<table border=\"1\" class=\"dataframe\">\n",
       "  <thead>\n",
       "    <tr style=\"text-align: right;\">\n",
       "      <th></th>\n",
       "      <th>station</th>\n",
       "      <th>lat</th>\n",
       "      <th>lon</th>\n",
       "      <th>elevation</th>\n",
       "      <th>name</th>\n",
       "      <th>country</th>\n",
       "      <th>mollX</th>\n",
       "      <th>mollY</th>\n",
       "      <th>pop1975</th>\n",
       "    </tr>\n",
       "  </thead>\n",
       "  <tbody>\n",
       "    <tr>\n",
       "      <th>37284</th>\n",
       "      <td>IN009182200</td>\n",
       "      <td>14.380</td>\n",
       "      <td>75.250</td>\n",
       "      <td>595.0</td>\n",
       "      <td>SHIRALKOPPA</td>\n",
       "      <td>IN</td>\n",
       "      <td>7.394993e+06</td>\n",
       "      <td>1.770848e+06</td>\n",
       "      <td>76649.007812</td>\n",
       "    </tr>\n",
       "    <tr>\n",
       "      <th>38151</th>\n",
       "      <td>IN017042300</td>\n",
       "      <td>20.380</td>\n",
       "      <td>85.530</td>\n",
       "      <td>48.0</td>\n",
       "      <td>BANKI  BANKIGARH</td>\n",
       "      <td>IN</td>\n",
       "      <td>8.236382e+06</td>\n",
       "      <td>2.499446e+06</td>\n",
       "      <td>48236.531250</td>\n",
       "    </tr>\n",
       "    <tr>\n",
       "      <th>39097</th>\n",
       "      <td>IN023130500</td>\n",
       "      <td>28.070</td>\n",
       "      <td>78.750</td>\n",
       "      <td>168.0</td>\n",
       "      <td>SAHASWAN</td>\n",
       "      <td>IN</td>\n",
       "      <td>7.304260e+06</td>\n",
       "      <td>3.417123e+06</td>\n",
       "      <td>45201.609375</td>\n",
       "    </tr>\n",
       "    <tr>\n",
       "      <th>38350</th>\n",
       "      <td>IN019021101</td>\n",
       "      <td>28.030</td>\n",
       "      <td>76.720</td>\n",
       "      <td>249.0</td>\n",
       "      <td>KOTKASIM</td>\n",
       "      <td>IN</td>\n",
       "      <td>7.117617e+06</td>\n",
       "      <td>3.412407e+06</td>\n",
       "      <td>36997.242188</td>\n",
       "    </tr>\n",
       "    <tr>\n",
       "      <th>39162</th>\n",
       "      <td>IN023250700</td>\n",
       "      <td>27.133</td>\n",
       "      <td>81.967</td>\n",
       "      <td>110.0</td>\n",
       "      <td>GONDA</td>\n",
       "      <td>IN</td>\n",
       "      <td>7.643118e+06</td>\n",
       "      <td>3.306482e+06</td>\n",
       "      <td>36071.953125</td>\n",
       "    </tr>\n",
       "    <tr>\n",
       "      <th>39252</th>\n",
       "      <td>IN023401000</td>\n",
       "      <td>28.620</td>\n",
       "      <td>78.800</td>\n",
       "      <td>244.0</td>\n",
       "      <td>BILARI</td>\n",
       "      <td>IN</td>\n",
       "      <td>7.285425e+06</td>\n",
       "      <td>3.481898e+06</td>\n",
       "      <td>35648.445312</td>\n",
       "    </tr>\n",
       "    <tr>\n",
       "      <th>39314</th>\n",
       "      <td>IN023500300</td>\n",
       "      <td>27.430</td>\n",
       "      <td>80.530</td>\n",
       "      <td>137.0</td>\n",
       "      <td>MISRIKH</td>\n",
       "      <td>IN</td>\n",
       "      <td>7.496670e+06</td>\n",
       "      <td>3.341590e+06</td>\n",
       "      <td>28040.953125</td>\n",
       "    </tr>\n",
       "    <tr>\n",
       "      <th>39311</th>\n",
       "      <td>IN023500100</td>\n",
       "      <td>27.570</td>\n",
       "      <td>80.680</td>\n",
       "      <td>136.0</td>\n",
       "      <td>SITAPUR</td>\n",
       "      <td>IN</td>\n",
       "      <td>7.504704e+06</td>\n",
       "      <td>3.358128e+06</td>\n",
       "      <td>24886.984375</td>\n",
       "    </tr>\n",
       "    <tr>\n",
       "      <th>38922</th>\n",
       "      <td>IN020130200</td>\n",
       "      <td>11.150</td>\n",
       "      <td>78.600</td>\n",
       "      <td>137.0</td>\n",
       "      <td>TURAIYUR</td>\n",
       "      <td>IN</td>\n",
       "      <td>7.785403e+06</td>\n",
       "      <td>1.375303e+06</td>\n",
       "      <td>23618.195312</td>\n",
       "    </tr>\n",
       "    <tr>\n",
       "      <th>39443</th>\n",
       "      <td>IN024119900</td>\n",
       "      <td>21.780</td>\n",
       "      <td>87.750</td>\n",
       "      <td>8.0</td>\n",
       "      <td>CONTAI</td>\n",
       "      <td>IN</td>\n",
       "      <td>8.401021e+06</td>\n",
       "      <td>2.668028e+06</td>\n",
       "      <td>22441.925781</td>\n",
       "    </tr>\n",
       "  </tbody>\n",
       "</table>\n",
       "</div>"
      ],
      "text/plain": [
       "           station     lat     lon  elevation              name country  \\\n",
       "37284  IN009182200  14.380  75.250      595.0       SHIRALKOPPA      IN   \n",
       "38151  IN017042300  20.380  85.530       48.0  BANKI  BANKIGARH      IN   \n",
       "39097  IN023130500  28.070  78.750      168.0          SAHASWAN      IN   \n",
       "38350  IN019021101  28.030  76.720      249.0          KOTKASIM      IN   \n",
       "39162  IN023250700  27.133  81.967      110.0             GONDA      IN   \n",
       "39252  IN023401000  28.620  78.800      244.0            BILARI      IN   \n",
       "39314  IN023500300  27.430  80.530      137.0           MISRIKH      IN   \n",
       "39311  IN023500100  27.570  80.680      136.0           SITAPUR      IN   \n",
       "38922  IN020130200  11.150  78.600      137.0          TURAIYUR      IN   \n",
       "39443  IN024119900  21.780  87.750        8.0            CONTAI      IN   \n",
       "\n",
       "              mollX         mollY       pop1975  \n",
       "37284  7.394993e+06  1.770848e+06  76649.007812  \n",
       "38151  8.236382e+06  2.499446e+06  48236.531250  \n",
       "39097  7.304260e+06  3.417123e+06  45201.609375  \n",
       "38350  7.117617e+06  3.412407e+06  36997.242188  \n",
       "39162  7.643118e+06  3.306482e+06  36071.953125  \n",
       "39252  7.285425e+06  3.481898e+06  35648.445312  \n",
       "39314  7.496670e+06  3.341590e+06  28040.953125  \n",
       "39311  7.504704e+06  3.358128e+06  24886.984375  \n",
       "38922  7.785403e+06  1.375303e+06  23618.195312  \n",
       "39443  8.401021e+06  2.668028e+06  22441.925781  "
      ]
     },
     "execution_count": 42,
     "metadata": {},
     "output_type": "execute_result"
    }
   ],
   "source": [
    "stations.nlargest(10, 'pop1975')"
   ]
  },
  {
   "cell_type": "markdown",
   "metadata": {},
   "source": [
    "They're all in India, what about the US?"
   ]
  },
  {
   "cell_type": "code",
   "execution_count": 43,
   "metadata": {},
   "outputs": [
    {
     "data": {
      "text/html": [
       "<div>\n",
       "<style scoped>\n",
       "    .dataframe tbody tr th:only-of-type {\n",
       "        vertical-align: middle;\n",
       "    }\n",
       "\n",
       "    .dataframe tbody tr th {\n",
       "        vertical-align: top;\n",
       "    }\n",
       "\n",
       "    .dataframe thead th {\n",
       "        text-align: right;\n",
       "    }\n",
       "</style>\n",
       "<table border=\"1\" class=\"dataframe\">\n",
       "  <thead>\n",
       "    <tr style=\"text-align: right;\">\n",
       "      <th></th>\n",
       "      <th>station</th>\n",
       "      <th>lat</th>\n",
       "      <th>lon</th>\n",
       "      <th>elevation</th>\n",
       "      <th>name</th>\n",
       "      <th>country</th>\n",
       "      <th>mollX</th>\n",
       "      <th>mollY</th>\n",
       "      <th>pop1975</th>\n",
       "    </tr>\n",
       "  </thead>\n",
       "  <tbody>\n",
       "    <tr>\n",
       "      <th>99096</th>\n",
       "      <td>USC00305806</td>\n",
       "      <td>40.8500</td>\n",
       "      <td>-73.9167</td>\n",
       "      <td>54.9</td>\n",
       "      <td>NEW YORK UNIV ST</td>\n",
       "      <td>US</td>\n",
       "      <td>-6.228115e+06</td>\n",
       "      <td>4.884185e+06</td>\n",
       "      <td>3317.0</td>\n",
       "    </tr>\n",
       "    <tr>\n",
       "      <th>67194</th>\n",
       "      <td>US1LASB0001</td>\n",
       "      <td>29.9313</td>\n",
       "      <td>-89.9308</td>\n",
       "      <td>1.2</td>\n",
       "      <td>MERAUX 0.8 WNW</td>\n",
       "      <td>US</td>\n",
       "      <td>-8.248478e+06</td>\n",
       "      <td>3.635811e+06</td>\n",
       "      <td>2747.0</td>\n",
       "    </tr>\n",
       "    <tr>\n",
       "      <th>93300</th>\n",
       "      <td>USC00166130</td>\n",
       "      <td>29.9314</td>\n",
       "      <td>-89.9305</td>\n",
       "      <td>1.2</td>\n",
       "      <td>MERAUX</td>\n",
       "      <td>US</td>\n",
       "      <td>-8.248446e+06</td>\n",
       "      <td>3.635822e+06</td>\n",
       "      <td>2747.0</td>\n",
       "    </tr>\n",
       "    <tr>\n",
       "      <th>75357</th>\n",
       "      <td>US1NYQN0026</td>\n",
       "      <td>40.7544</td>\n",
       "      <td>-73.8882</td>\n",
       "      <td>18.0</td>\n",
       "      <td>JACKSON HEIGHTS 0.3 WSW</td>\n",
       "      <td>US</td>\n",
       "      <td>-6.231330e+06</td>\n",
       "      <td>4.873547e+06</td>\n",
       "      <td>2338.0</td>\n",
       "    </tr>\n",
       "    <tr>\n",
       "      <th>75243</th>\n",
       "      <td>US1NYNY0074</td>\n",
       "      <td>40.7969</td>\n",
       "      <td>-73.9330</td>\n",
       "      <td>6.1</td>\n",
       "      <td>NEW YORK 8.8 N</td>\n",
       "      <td>US</td>\n",
       "      <td>-6.232612e+06</td>\n",
       "      <td>4.878277e+06</td>\n",
       "      <td>1815.0</td>\n",
       "    </tr>\n",
       "    <tr>\n",
       "      <th>63121</th>\n",
       "      <td>US1ILCK0097</td>\n",
       "      <td>41.9301</td>\n",
       "      <td>-87.6393</td>\n",
       "      <td>180.1</td>\n",
       "      <td>CHICAGO 6.8 NNE</td>\n",
       "      <td>US</td>\n",
       "      <td>-7.307915e+06</td>\n",
       "      <td>5.003975e+06</td>\n",
       "      <td>1695.0</td>\n",
       "    </tr>\n",
       "    <tr>\n",
       "      <th>75818</th>\n",
       "      <td>US1OHFR0048</td>\n",
       "      <td>39.9946</td>\n",
       "      <td>-83.0131</td>\n",
       "      <td>232.3</td>\n",
       "      <td>COLUMBUS 1.4 WNW</td>\n",
       "      <td>US</td>\n",
       "      <td>-7.050456e+06</td>\n",
       "      <td>4.788796e+06</td>\n",
       "      <td>1644.0</td>\n",
       "    </tr>\n",
       "    <tr>\n",
       "      <th>99128</th>\n",
       "      <td>USC00306301</td>\n",
       "      <td>41.1500</td>\n",
       "      <td>-73.8667</td>\n",
       "      <td>9.1</td>\n",
       "      <td>OSSINING SING SING</td>\n",
       "      <td>US</td>\n",
       "      <td>-6.206189e+06</td>\n",
       "      <td>4.917532e+06</td>\n",
       "      <td>1454.0</td>\n",
       "    </tr>\n",
       "    <tr>\n",
       "      <th>75929</th>\n",
       "      <td>US1OHLK0004</td>\n",
       "      <td>41.6032</td>\n",
       "      <td>-81.4435</td>\n",
       "      <td>242.0</td>\n",
       "      <td>WILLOUGHBY HILLS 1.3 NNW</td>\n",
       "      <td>US</td>\n",
       "      <td>-6.812985e+06</td>\n",
       "      <td>4.967798e+06</td>\n",
       "      <td>1449.0</td>\n",
       "    </tr>\n",
       "    <tr>\n",
       "      <th>63087</th>\n",
       "      <td>US1ILCK0036</td>\n",
       "      <td>41.8860</td>\n",
       "      <td>-87.6210</td>\n",
       "      <td>191.1</td>\n",
       "      <td>CHICAGO 4.7 NE</td>\n",
       "      <td>US</td>\n",
       "      <td>-7.309552e+06</td>\n",
       "      <td>4.999098e+06</td>\n",
       "      <td>1401.0</td>\n",
       "    </tr>\n",
       "  </tbody>\n",
       "</table>\n",
       "</div>"
      ],
      "text/plain": [
       "           station      lat      lon  elevation                      name  \\\n",
       "99096  USC00305806  40.8500 -73.9167       54.9          NEW YORK UNIV ST   \n",
       "67194  US1LASB0001  29.9313 -89.9308        1.2            MERAUX 0.8 WNW   \n",
       "93300  USC00166130  29.9314 -89.9305        1.2                    MERAUX   \n",
       "75357  US1NYQN0026  40.7544 -73.8882       18.0   JACKSON HEIGHTS 0.3 WSW   \n",
       "75243  US1NYNY0074  40.7969 -73.9330        6.1            NEW YORK 8.8 N   \n",
       "63121  US1ILCK0097  41.9301 -87.6393      180.1           CHICAGO 6.8 NNE   \n",
       "75818  US1OHFR0048  39.9946 -83.0131      232.3          COLUMBUS 1.4 WNW   \n",
       "99128  USC00306301  41.1500 -73.8667        9.1        OSSINING SING SING   \n",
       "75929  US1OHLK0004  41.6032 -81.4435      242.0  WILLOUGHBY HILLS 1.3 NNW   \n",
       "63087  US1ILCK0036  41.8860 -87.6210      191.1            CHICAGO 4.7 NE   \n",
       "\n",
       "      country         mollX         mollY  pop1975  \n",
       "99096      US -6.228115e+06  4.884185e+06   3317.0  \n",
       "67194      US -8.248478e+06  3.635811e+06   2747.0  \n",
       "93300      US -8.248446e+06  3.635822e+06   2747.0  \n",
       "75357      US -6.231330e+06  4.873547e+06   2338.0  \n",
       "75243      US -6.232612e+06  4.878277e+06   1815.0  \n",
       "63121      US -7.307915e+06  5.003975e+06   1695.0  \n",
       "75818      US -7.050456e+06  4.788796e+06   1644.0  \n",
       "99128      US -6.206189e+06  4.917532e+06   1454.0  \n",
       "75929      US -6.812985e+06  4.967798e+06   1449.0  \n",
       "63087      US -7.309552e+06  4.999098e+06   1401.0  "
      ]
     },
     "execution_count": 43,
     "metadata": {},
     "output_type": "execute_result"
    }
   ],
   "source": [
    "stations[stations.country == 'US'].nlargest(10, 'pop1975')"
   ]
  },
  {
   "cell_type": "markdown",
   "metadata": {},
   "source": [
    "Okay, so we have at least some stations in urban areas. The plan is now to see whether these have systematically higher temperatures than their nun-urban neighbor stations. Before we get into that, we'll need to make some more preparations:"
   ]
  },
  {
   "cell_type": "markdown",
   "metadata": {},
   "source": [
    "# Spatial Index\n",
    "\n",
    "Next, we'll build a spatial index of the stations, so we can quickly look up the nearest neighbors of any station. We'll be using the [scipy.spatial.cKDTree](https://docs.scipy.org/doc/scipy/reference/generated/scipy.spatial.cKDTree.query.html) (based on [this hint](https://gis.stackexchange.com/a/301935/33224).). For that, we'll pull out just the Mollweide coordinates and build the index based on those (otherwise SciPy will make a multidimensional index using all columns):"
   ]
  },
  {
   "cell_type": "code",
   "execution_count": 47,
   "metadata": {},
   "outputs": [],
   "source": [
    "stationsIndex = cKDTree(stations[['mollX','mollY']].values)"
   ]
  },
  {
   "cell_type": "markdown",
   "metadata": {},
   "source": [
    "Let's try to find the closest stations to a specific one by name:"
   ]
  },
  {
   "cell_type": "code",
   "execution_count": 48,
   "metadata": {},
   "outputs": [],
   "source": [
    "def queryStation(stationID, stations, stationsIndex, k=1):\n",
    "    queryCoords = stations[stations.station==stationID][['mollX','mollY']].values\n",
    "    dd, ii = stationsIndex.query(queryCoords, \n",
    "                             k=range(2,2+k), # start at 2, otherwise we get the station itself as first result\n",
    "                             n_jobs=-1)      # use all CPUs\n",
    "    knn = stations.iloc[ii[0]]\n",
    "    knn = knn.copy()  # otherwise we might be modifying the stations dataframe...\n",
    "    knn['distance'] = dd[0]\n",
    "    return knn"
   ]
  },
  {
   "cell_type": "markdown",
   "metadata": {},
   "source": [
    "Test:"
   ]
  },
  {
   "cell_type": "code",
   "execution_count": 49,
   "metadata": {},
   "outputs": [
    {
     "data": {
      "text/html": [
       "<div>\n",
       "<style scoped>\n",
       "    .dataframe tbody tr th:only-of-type {\n",
       "        vertical-align: middle;\n",
       "    }\n",
       "\n",
       "    .dataframe tbody tr th {\n",
       "        vertical-align: top;\n",
       "    }\n",
       "\n",
       "    .dataframe thead th {\n",
       "        text-align: right;\n",
       "    }\n",
       "</style>\n",
       "<table border=\"1\" class=\"dataframe\">\n",
       "  <thead>\n",
       "    <tr style=\"text-align: right;\">\n",
       "      <th></th>\n",
       "      <th>station</th>\n",
       "      <th>lat</th>\n",
       "      <th>lon</th>\n",
       "      <th>elevation</th>\n",
       "      <th>name</th>\n",
       "      <th>country</th>\n",
       "      <th>mollX</th>\n",
       "      <th>mollY</th>\n",
       "      <th>pop1975</th>\n",
       "      <th>distance</th>\n",
       "    </tr>\n",
       "  </thead>\n",
       "  <tbody>\n",
       "    <tr>\n",
       "      <th>47206</th>\n",
       "      <td>RQC00660053</td>\n",
       "      <td>18.1614</td>\n",
       "      <td>-66.7222</td>\n",
       "      <td>506.0</td>\n",
       "      <td>ADJUNTAS 1 S</td>\n",
       "      <td>RQ</td>\n",
       "      <td>-6.479289e+06</td>\n",
       "      <td>2.231113e+06</td>\n",
       "      <td>96.454247</td>\n",
       "      <td>1924.820868</td>\n",
       "    </tr>\n",
       "    <tr>\n",
       "      <th>47331</th>\n",
       "      <td>RQC00668684</td>\n",
       "      <td>18.1333</td>\n",
       "      <td>-66.7333</td>\n",
       "      <td>868.7</td>\n",
       "      <td>SALTILLO 2 ADJUNTAS</td>\n",
       "      <td>RQ</td>\n",
       "      <td>-6.481011e+06</td>\n",
       "      <td>2.227706e+06</td>\n",
       "      <td>8.375000</td>\n",
       "      <td>2060.888936</td>\n",
       "    </tr>\n",
       "    <tr>\n",
       "      <th>47266</th>\n",
       "      <td>RQC00664614</td>\n",
       "      <td>18.1506</td>\n",
       "      <td>-66.7719</td>\n",
       "      <td>2.7</td>\n",
       "      <td>HUMACAO NATURAL RESERVE</td>\n",
       "      <td>RQ</td>\n",
       "      <td>-6.484363e+06</td>\n",
       "      <td>2.229804e+06</td>\n",
       "      <td>0.000000</td>\n",
       "      <td>3735.475164</td>\n",
       "    </tr>\n",
       "    <tr>\n",
       "      <th>47207</th>\n",
       "      <td>RQC00660061</td>\n",
       "      <td>18.1747</td>\n",
       "      <td>-66.7978</td>\n",
       "      <td>557.8</td>\n",
       "      <td>ADJUNTAS SUBSTN</td>\n",
       "      <td>RQ</td>\n",
       "      <td>-6.486324e+06</td>\n",
       "      <td>2.232726e+06</td>\n",
       "      <td>0.000000</td>\n",
       "      <td>6435.610695</td>\n",
       "    </tr>\n",
       "    <tr>\n",
       "      <th>47309</th>\n",
       "      <td>RQC00666982</td>\n",
       "      <td>18.0833</td>\n",
       "      <td>-66.7333</td>\n",
       "      <td>349.9</td>\n",
       "      <td>PENUELAS SALTO GARZAS</td>\n",
       "      <td>RQ</td>\n",
       "      <td>-6.482155e+06</td>\n",
       "      <td>2.221642e+06</td>\n",
       "      <td>12.000000</td>\n",
       "      <td>8231.252200</td>\n",
       "    </tr>\n",
       "  </tbody>\n",
       "</table>\n",
       "</div>"
      ],
      "text/plain": [
       "           station      lat      lon  elevation                     name  \\\n",
       "47206  RQC00660053  18.1614 -66.7222      506.0             ADJUNTAS 1 S   \n",
       "47331  RQC00668684  18.1333 -66.7333      868.7      SALTILLO 2 ADJUNTAS   \n",
       "47266  RQC00664614  18.1506 -66.7719        2.7  HUMACAO NATURAL RESERVE   \n",
       "47207  RQC00660061  18.1747 -66.7978      557.8          ADJUNTAS SUBSTN   \n",
       "47309  RQC00666982  18.0833 -66.7333      349.9    PENUELAS SALTO GARZAS   \n",
       "\n",
       "      country         mollX         mollY    pop1975     distance  \n",
       "47206      RQ -6.479289e+06  2.231113e+06  96.454247  1924.820868  \n",
       "47331      RQ -6.481011e+06  2.227706e+06   8.375000  2060.888936  \n",
       "47266      RQ -6.484363e+06  2.229804e+06   0.000000  3735.475164  \n",
       "47207      RQ -6.486324e+06  2.232726e+06   0.000000  6435.610695  \n",
       "47309      RQ -6.482155e+06  2.221642e+06  12.000000  8231.252200  "
      ]
     },
     "execution_count": 49,
     "metadata": {},
     "output_type": "execute_result"
    }
   ],
   "source": [
    "stationID = 'RQC00663871'   # GARZAS station\n",
    "queryStation(stationID, stations, stationsIndex, k=5)"
   ]
  },
  {
   "cell_type": "markdown",
   "metadata": {
    "colab_type": "text",
    "id": "hlLdXGP3M0b0"
   },
   "source": [
    "# Get NOAA NCDC data\n",
    "\n",
    "Download the data from NOAA. The columns in the file are documented [here](https://www1.ncdc.noaa.gov/pub/data/ghcn/daily/by_year/readme.txt)."
   ]
  },
  {
   "cell_type": "code",
   "execution_count": 50,
   "metadata": {
    "colab": {
     "base_uri": "https://localhost:8080/",
     "height": 34
    },
    "colab_type": "code",
    "id": "_iVTwxLxMn_L",
    "outputId": "b6a3031c-158c-45fd-ad46-3ae5dfce9cb6"
   },
   "outputs": [
    {
     "name": "stdout",
     "output_type": "stream",
     "text": [
      "1975.csv.gz already downloaded.\n"
     ]
    }
   ],
   "source": [
    "file = '1975.csv.gz'\n",
    "if os.path.isfile(file):\n",
    "    print(file, 'already downloaded.')\n",
    "else:\n",
    "    urllib.request.urlretrieve('https://www1.ncdc.noaa.gov/pub/data/ghcn/daily/by_year/1975.csv.gz', file)"
   ]
  },
  {
   "cell_type": "markdown",
   "metadata": {
    "colab_type": "text",
    "id": "BF63PI8ampb0"
   },
   "source": [
    "Before we can read the file, we'll define our own date parser:"
   ]
  },
  {
   "cell_type": "code",
   "execution_count": 51,
   "metadata": {
    "colab": {},
    "colab_type": "code",
    "id": "tWbMuRNwmouv"
   },
   "outputs": [],
   "source": [
    "noaadateparser = lambda x: pd.datetime.strptime(x, \"%Y%m%d\")\n"
   ]
  },
  {
   "cell_type": "markdown",
   "metadata": {
    "colab_type": "text",
    "id": "V-KkHtesQToZ"
   },
   "source": [
    "Unzip the file and load the CSV with pandas, using our date parser. We'll also give the columns names since the CSV doesn't have a header 🧟‍:"
   ]
  },
  {
   "cell_type": "code",
   "execution_count": null,
   "metadata": {
    "colab": {},
    "colab_type": "code",
    "id": "ZSEuHhBEM6sM"
   },
   "outputs": [],
   "source": [
    "with gzip.open('1975.csv.gz') as f:\n",
    "\n",
    "    data_1975 = pd.read_csv(f, \n",
    "                            names = [\"station\", \"date\", \"type\", \"value\"],\n",
    "                            usecols = [0,1,2,3],\n",
    "                            parse_dates = [\"date\"],\n",
    "                            date_parser = noaadateparser)\n",
    "\n",
    "data_1975.head()"
   ]
  },
  {
   "cell_type": "code",
   "execution_count": null,
   "metadata": {
    "colab": {
     "base_uri": "https://localhost:8080/",
     "height": 104
    },
    "colab_type": "code",
    "id": "JFsoo_2jNCJM",
    "outputId": "7cb599de-173f-475f-fa7b-c463f82c9d76"
   },
   "outputs": [],
   "source": [
    "data_1975.dtypes"
   ]
  },
  {
   "cell_type": "markdown",
   "metadata": {
    "colab_type": "text",
    "id": "U8I1ZIJMp2l6"
   },
   "source": [
    "Only keep TMIN and TMAX: (🔥 ToDo: Here we may want to keep precipitation/snowfall in the future, since the decrease in temperature with increasing elevation depends )"
   ]
  },
  {
   "cell_type": "code",
   "execution_count": null,
   "metadata": {
    "colab": {},
    "colab_type": "code",
    "id": "tchJq0v7qven"
   },
   "outputs": [],
   "source": [
    "data_1975 = data_1975[(data_1975[\"type\"] == \"TMAX\") | (data_1975[\"type\"] == \"TMIN\")] "
   ]
  },
  {
   "cell_type": "code",
   "execution_count": null,
   "metadata": {
    "colab": {
     "base_uri": "https://localhost:8080/",
     "height": 1992
    },
    "colab_type": "code",
    "id": "1GTOEzhyq1w0",
    "outputId": "7f981fe6-5473-4b8c-c3d8-30f98bbf5bd8"
   },
   "outputs": [],
   "source": [
    "data_1975.head"
   ]
  },
  {
   "cell_type": "markdown",
   "metadata": {
    "colab_type": "text",
    "id": "NO75klMoz9WE"
   },
   "source": [
    "Join the two together:"
   ]
  },
  {
   "cell_type": "code",
   "execution_count": null,
   "metadata": {
    "colab": {
     "base_uri": "https://localhost:8080/",
     "height": 1992
    },
    "colab_type": "code",
    "id": "E0IH235j0VhH",
    "outputId": "b193fe34-031e-48f4-82c8-51ef2e5f3b5b"
   },
   "outputs": [],
   "source": [
    "data_1975 = pd.merge(data_1975, stations, on=\"station\")\n",
    "data_1975.head()\n",
    "\n"
   ]
  },
  {
   "cell_type": "markdown",
   "metadata": {
    "colab": {},
    "colab_type": "code",
    "id": "wEld9GwnW-Ky"
   },
   "source": [
    "Index the dataframe by country, station, date and observation type:"
   ]
  },
  {
   "cell_type": "code",
   "execution_count": null,
   "metadata": {
    "colab": {},
    "colab_type": "code",
    "id": "seAVEs1rXktr"
   },
   "outputs": [],
   "source": [
    "data_1975.set_index(['country','station','date','type'], inplace=True)\n",
    "data_1975.head()"
   ]
  },
  {
   "cell_type": "code",
   "execution_count": null,
   "metadata": {},
   "outputs": [],
   "source": []
  },
  {
   "cell_type": "code",
   "execution_count": null,
   "metadata": {},
   "outputs": [],
   "source": [
    "data_1975.loc['US']"
   ]
  },
  {
   "cell_type": "code",
   "execution_count": null,
   "metadata": {},
   "outputs": [],
   "source": []
  },
  {
   "cell_type": "code",
   "execution_count": null,
   "metadata": {},
   "outputs": [],
   "source": []
  },
  {
   "cell_type": "code",
   "execution_count": null,
   "metadata": {},
   "outputs": [],
   "source": []
  },
  {
   "cell_type": "code",
   "execution_count": null,
   "metadata": {},
   "outputs": [],
   "source": []
  }
 ],
 "metadata": {
  "colab": {
   "name": "NOAA weather station data.ipynb",
   "provenance": [],
   "version": "0.3.2"
  },
  "kernelspec": {
   "display_name": "Python 3",
   "language": "python",
   "name": "python3"
  },
  "language_info": {
   "codemirror_mode": {
    "name": "ipython",
    "version": 3
   },
   "file_extension": ".py",
   "mimetype": "text/x-python",
   "name": "python",
   "nbconvert_exporter": "python",
   "pygments_lexer": "ipython3",
   "version": "3.6.7"
  }
 },
 "nbformat": 4,
 "nbformat_minor": 1
}
