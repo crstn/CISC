{
 "cells": [
  {
   "cell_type": "markdown",
   "metadata": {
    "colab_type": "text",
    "id": "YwFA50NyM_Sh"
   },
   "source": [
    "Import some libraries we'll use:"
   ]
  },
  {
   "cell_type": "code",
   "execution_count": 12,
   "metadata": {
    "colab": {},
    "colab_type": "code",
    "id": "_-6gbN01F4cC"
   },
   "outputs": [],
   "source": [
    "import urllib.request\n",
    "import gzip\n",
    "import zipfile\n",
    "import pandas as pd\n",
    "import os\n",
    "import matplotlib.pyplot as plt\n",
    "\n",
    "%matplotlib inline"
   ]
  },
  {
   "cell_type": "markdown",
   "metadata": {
    "colab_type": "text",
    "id": "nDGnYKEztMSA"
   },
   "source": [
    "# Get stations\n",
    "\n",
    "First, let's get the list of stations so that we have a lat/lon location for each:"
   ]
  },
  {
   "cell_type": "code",
   "execution_count": 2,
   "metadata": {
    "colab": {
     "base_uri": "https://localhost:8080/",
     "height": 206
    },
    "colab_type": "code",
    "id": "s6malE0lr16p",
    "outputId": "3a949fa6-fe36-4dea-ffdf-857b3f752aa7"
   },
   "outputs": [
    {
     "data": {
      "text/html": [
       "<div>\n",
       "<style scoped>\n",
       "    .dataframe tbody tr th:only-of-type {\n",
       "        vertical-align: middle;\n",
       "    }\n",
       "\n",
       "    .dataframe tbody tr th {\n",
       "        vertical-align: top;\n",
       "    }\n",
       "\n",
       "    .dataframe thead th {\n",
       "        text-align: right;\n",
       "    }\n",
       "</style>\n",
       "<table border=\"1\" class=\"dataframe\">\n",
       "  <thead>\n",
       "    <tr style=\"text-align: right;\">\n",
       "      <th></th>\n",
       "      <th>station</th>\n",
       "      <th>lat</th>\n",
       "      <th>lon</th>\n",
       "      <th>elevation</th>\n",
       "      <th>name</th>\n",
       "    </tr>\n",
       "  </thead>\n",
       "  <tbody>\n",
       "    <tr>\n",
       "      <th>0</th>\n",
       "      <td>ACW00011604</td>\n",
       "      <td>17.1167</td>\n",
       "      <td>-61.7833</td>\n",
       "      <td>10.1</td>\n",
       "      <td>NaN</td>\n",
       "    </tr>\n",
       "    <tr>\n",
       "      <th>1</th>\n",
       "      <td>ACW00011647</td>\n",
       "      <td>17.1333</td>\n",
       "      <td>-61.7833</td>\n",
       "      <td>19.2</td>\n",
       "      <td>NaN</td>\n",
       "    </tr>\n",
       "    <tr>\n",
       "      <th>2</th>\n",
       "      <td>AE000041196</td>\n",
       "      <td>25.3330</td>\n",
       "      <td>55.5170</td>\n",
       "      <td>34.0</td>\n",
       "      <td>NaN</td>\n",
       "    </tr>\n",
       "    <tr>\n",
       "      <th>3</th>\n",
       "      <td>AEM00041194</td>\n",
       "      <td>25.2550</td>\n",
       "      <td>55.3640</td>\n",
       "      <td>10.4</td>\n",
       "      <td>NaN</td>\n",
       "    </tr>\n",
       "    <tr>\n",
       "      <th>4</th>\n",
       "      <td>AEM00041217</td>\n",
       "      <td>24.4330</td>\n",
       "      <td>54.6510</td>\n",
       "      <td>26.8</td>\n",
       "      <td>NaN</td>\n",
       "    </tr>\n",
       "  </tbody>\n",
       "</table>\n",
       "</div>"
      ],
      "text/plain": [
       "       station      lat      lon  elevation name\n",
       "0  ACW00011604  17.1167 -61.7833       10.1  NaN\n",
       "1  ACW00011647  17.1333 -61.7833       19.2  NaN\n",
       "2  AE000041196  25.3330  55.5170       34.0  NaN\n",
       "3  AEM00041194  25.2550  55.3640       10.4  NaN\n",
       "4  AEM00041217  24.4330  54.6510       26.8  NaN"
      ]
     },
     "execution_count": 2,
     "metadata": {},
     "output_type": "execute_result"
    }
   ],
   "source": [
    "stations = pd.read_fwf(\"https://www1.ncdc.noaa.gov/pub/data/ghcn/daily/ghcnd-stations.txt\", \n",
    "            infer_nrows=300, # how many rows to use to infer the column widths\n",
    "            usecols = [0,1,2,3,4],\n",
    "            names = [\"station\", \"lat\", \"lon\", \"elevation\", \"name\"])\n",
    "\n",
    "stations.head()"
   ]
  },
  {
   "cell_type": "markdown",
   "metadata": {
    "colab_type": "text",
    "id": "s0cvrcUPyifc"
   },
   "source": [
    "Pull out the country ID from the station column (first two letters):"
   ]
  },
  {
   "cell_type": "code",
   "execution_count": 3,
   "metadata": {
    "colab": {
     "base_uri": "https://localhost:8080/",
     "height": 206
    },
    "colab_type": "code",
    "id": "SgIQgawttmqa",
    "outputId": "43331dc8-8fef-4f8f-e7e1-d34d636c8e43"
   },
   "outputs": [
    {
     "data": {
      "text/html": [
       "<div>\n",
       "<style scoped>\n",
       "    .dataframe tbody tr th:only-of-type {\n",
       "        vertical-align: middle;\n",
       "    }\n",
       "\n",
       "    .dataframe tbody tr th {\n",
       "        vertical-align: top;\n",
       "    }\n",
       "\n",
       "    .dataframe thead th {\n",
       "        text-align: right;\n",
       "    }\n",
       "</style>\n",
       "<table border=\"1\" class=\"dataframe\">\n",
       "  <thead>\n",
       "    <tr style=\"text-align: right;\">\n",
       "      <th></th>\n",
       "      <th>station</th>\n",
       "      <th>lat</th>\n",
       "      <th>lon</th>\n",
       "      <th>elevation</th>\n",
       "      <th>name</th>\n",
       "      <th>country</th>\n",
       "    </tr>\n",
       "  </thead>\n",
       "  <tbody>\n",
       "    <tr>\n",
       "      <th>0</th>\n",
       "      <td>ACW00011604</td>\n",
       "      <td>17.1167</td>\n",
       "      <td>-61.7833</td>\n",
       "      <td>10.1</td>\n",
       "      <td>NaN</td>\n",
       "      <td>AC</td>\n",
       "    </tr>\n",
       "    <tr>\n",
       "      <th>1</th>\n",
       "      <td>ACW00011647</td>\n",
       "      <td>17.1333</td>\n",
       "      <td>-61.7833</td>\n",
       "      <td>19.2</td>\n",
       "      <td>NaN</td>\n",
       "      <td>AC</td>\n",
       "    </tr>\n",
       "    <tr>\n",
       "      <th>2</th>\n",
       "      <td>AE000041196</td>\n",
       "      <td>25.3330</td>\n",
       "      <td>55.5170</td>\n",
       "      <td>34.0</td>\n",
       "      <td>NaN</td>\n",
       "      <td>AE</td>\n",
       "    </tr>\n",
       "    <tr>\n",
       "      <th>3</th>\n",
       "      <td>AEM00041194</td>\n",
       "      <td>25.2550</td>\n",
       "      <td>55.3640</td>\n",
       "      <td>10.4</td>\n",
       "      <td>NaN</td>\n",
       "      <td>AE</td>\n",
       "    </tr>\n",
       "    <tr>\n",
       "      <th>4</th>\n",
       "      <td>AEM00041217</td>\n",
       "      <td>24.4330</td>\n",
       "      <td>54.6510</td>\n",
       "      <td>26.8</td>\n",
       "      <td>NaN</td>\n",
       "      <td>AE</td>\n",
       "    </tr>\n",
       "  </tbody>\n",
       "</table>\n",
       "</div>"
      ],
      "text/plain": [
       "       station      lat      lon  elevation name country\n",
       "0  ACW00011604  17.1167 -61.7833       10.1  NaN      AC\n",
       "1  ACW00011647  17.1333 -61.7833       19.2  NaN      AC\n",
       "2  AE000041196  25.3330  55.5170       34.0  NaN      AE\n",
       "3  AEM00041194  25.2550  55.3640       10.4  NaN      AE\n",
       "4  AEM00041217  24.4330  54.6510       26.8  NaN      AE"
      ]
     },
     "execution_count": 3,
     "metadata": {},
     "output_type": "execute_result"
    }
   ],
   "source": [
    "stations[\"country\"] = stations[\"station\"].astype(str).str[0:2]\n",
    "stations.head()"
   ]
  },
  {
   "cell_type": "markdown",
   "metadata": {},
   "source": [
    "Sanity ceck: Quick density plot of the stations"
   ]
  },
  {
   "cell_type": "code",
   "execution_count": 9,
   "metadata": {},
   "outputs": [
    {
     "data": {
      "text/plain": [
       "(array([[0., 0., 0., ..., 0., 0., 0.],\n",
       "        [0., 0., 0., ..., 0., 0., 0.],\n",
       "        [0., 0., 0., ..., 0., 0., 0.],\n",
       "        ...,\n",
       "        [0., 0., 0., ..., 0., 0., 0.],\n",
       "        [0., 0., 0., ..., 0., 0., 0.],\n",
       "        [0., 0., 0., ..., 0., 0., 0.]]),\n",
       " array([-179.983  , -176.38997, -172.79694, -169.20391, -165.61088,\n",
       "        -162.01785, -158.42482, -154.83179, -151.23876, -147.64573,\n",
       "        -144.0527 , -140.45967, -136.86664, -133.27361, -129.68058,\n",
       "        -126.08755, -122.49452, -118.90149, -115.30846, -111.71543,\n",
       "        -108.1224 , -104.52937, -100.93634,  -97.34331,  -93.75028,\n",
       "         -90.15725,  -86.56422,  -82.97119,  -79.37816,  -75.78513,\n",
       "         -72.1921 ,  -68.59907,  -65.00604,  -61.41301,  -57.81998,\n",
       "         -54.22695,  -50.63392,  -47.04089,  -43.44786,  -39.85483,\n",
       "         -36.2618 ,  -32.66877,  -29.07574,  -25.48271,  -21.88968,\n",
       "         -18.29665,  -14.70362,  -11.11059,   -7.51756,   -3.92453,\n",
       "          -0.3315 ,    3.26153,    6.85456,   10.44759,   14.04062,\n",
       "          17.63365,   21.22668,   24.81971,   28.41274,   32.00577,\n",
       "          35.5988 ,   39.19183,   42.78486,   46.37789,   49.97092,\n",
       "          53.56395,   57.15698,   60.75001,   64.34304,   67.93607,\n",
       "          71.5291 ,   75.12213,   78.71516,   82.30819,   85.90122,\n",
       "          89.49425,   93.08728,   96.68031,  100.27334,  103.86637,\n",
       "         107.4594 ,  111.05243,  114.64546,  118.23849,  121.83152,\n",
       "         125.42455,  129.01758,  132.61061,  136.20364,  139.79667,\n",
       "         143.3897 ,  146.98273,  150.57576,  154.16879,  157.76182,\n",
       "         161.35485,  164.94788,  168.54091,  172.13394,  175.72697,\n",
       "         179.32   ]),\n",
       " array([-90.    , -88.2635, -86.527 , -84.7905, -83.054 , -81.3175,\n",
       "        -79.581 , -77.8445, -76.108 , -74.3715, -72.635 , -70.8985,\n",
       "        -69.162 , -67.4255, -65.689 , -63.9525, -62.216 , -60.4795,\n",
       "        -58.743 , -57.0065, -55.27  , -53.5335, -51.797 , -50.0605,\n",
       "        -48.324 , -46.5875, -44.851 , -43.1145, -41.378 , -39.6415,\n",
       "        -37.905 , -36.1685, -34.432 , -32.6955, -30.959 , -29.2225,\n",
       "        -27.486 , -25.7495, -24.013 , -22.2765, -20.54  , -18.8035,\n",
       "        -17.067 , -15.3305, -13.594 , -11.8575, -10.121 ,  -8.3845,\n",
       "         -6.648 ,  -4.9115,  -3.175 ,  -1.4385,   0.298 ,   2.0345,\n",
       "          3.771 ,   5.5075,   7.244 ,   8.9805,  10.717 ,  12.4535,\n",
       "         14.19  ,  15.9265,  17.663 ,  19.3995,  21.136 ,  22.8725,\n",
       "         24.609 ,  26.3455,  28.082 ,  29.8185,  31.555 ,  33.2915,\n",
       "         35.028 ,  36.7645,  38.501 ,  40.2375,  41.974 ,  43.7105,\n",
       "         45.447 ,  47.1835,  48.92  ,  50.6565,  52.393 ,  54.1295,\n",
       "         55.866 ,  57.6025,  59.339 ,  61.0755,  62.812 ,  64.5485,\n",
       "         66.285 ,  68.0215,  69.758 ,  71.4945,  73.231 ,  74.9675,\n",
       "         76.704 ,  78.4405,  80.177 ,  81.9135,  83.65  ]),\n",
       " <matplotlib.collections.QuadMesh at 0x11cdcf400>)"
      ]
     },
     "execution_count": 9,
     "metadata": {},
     "output_type": "execute_result"
    },
    {
     "data": {
      "image/png": "[encoded data removed]",
      "text/plain": [
       "<Figure size 432x288 with 1 Axes>"
      ]
     },
     "metadata": {
      "needs_background": "light"
     },
     "output_type": "display_data"
    }
   ],
   "source": [
    "plt.hist2d(stations[\"lon\"], stations[\"lat\"], bins=100)"
   ]
  },
  {
   "cell_type": "markdown",
   "metadata": {},
   "source": [
    "Only the US:"
   ]
  },
  {
   "cell_type": "code",
   "execution_count": 10,
   "metadata": {},
   "outputs": [
    {
     "data": {
      "text/plain": [
       "(array([[0., 0., 0., ..., 0., 0., 0.],\n",
       "        [0., 0., 0., ..., 0., 0., 0.],\n",
       "        [0., 0., 0., ..., 0., 0., 0.],\n",
       "        ...,\n",
       "        [0., 0., 0., ..., 0., 0., 0.],\n",
       "        [0., 0., 0., ..., 0., 0., 0.],\n",
       "        [0., 0., 0., ..., 0., 0., 0.]]),\n",
       " array([-178.0333  , -174.460134, -170.886968, -167.313802, -163.740636,\n",
       "        -160.16747 , -156.594304, -153.021138, -149.447972, -145.874806,\n",
       "        -142.30164 , -138.728474, -135.155308, -131.582142, -128.008976,\n",
       "        -124.43581 , -120.862644, -117.289478, -113.716312, -110.143146,\n",
       "        -106.56998 , -102.996814,  -99.423648,  -95.850482,  -92.277316,\n",
       "         -88.70415 ,  -85.130984,  -81.557818,  -77.984652,  -74.411486,\n",
       "         -70.83832 ,  -67.265154,  -63.691988,  -60.118822,  -56.545656,\n",
       "         -52.97249 ,  -49.399324,  -45.826158,  -42.252992,  -38.679826,\n",
       "         -35.10666 ,  -31.533494,  -27.960328,  -24.387162,  -20.813996,\n",
       "         -17.24083 ,  -13.667664,  -10.094498,   -6.521332,   -2.948166,\n",
       "           0.625   ,    4.198166,    7.771332,   11.344498,   14.917664,\n",
       "          18.49083 ,   22.063996,   25.637162,   29.210328,   32.783494,\n",
       "          36.35666 ,   39.929826,   43.502992,   47.076158,   50.649324,\n",
       "          54.22249 ,   57.795656,   61.368822,   64.941988,   68.515154,\n",
       "          72.08832 ,   75.661486,   79.234652,   82.807818,   86.380984,\n",
       "          89.95415 ,   93.527316,   97.100482,  100.673648,  104.246814,\n",
       "         107.81998 ,  111.393146,  114.966312,  118.539478,  122.112644,\n",
       "         125.68581 ,  129.258976,  132.832142,  136.405308,  139.978474,\n",
       "         143.55164 ,  147.124806,  150.697972,  154.271138,  157.844304,\n",
       "         161.41747 ,  164.990636,  168.563802,  172.136968,  175.710134,\n",
       "         179.2833  ]),\n",
       " array([18.9167  , 19.440747, 19.964794, 20.488841, 21.012888, 21.536935,\n",
       "        22.060982, 22.585029, 23.109076, 23.633123, 24.15717 , 24.681217,\n",
       "        25.205264, 25.729311, 26.253358, 26.777405, 27.301452, 27.825499,\n",
       "        28.349546, 28.873593, 29.39764 , 29.921687, 30.445734, 30.969781,\n",
       "        31.493828, 32.017875, 32.541922, 33.065969, 33.590016, 34.114063,\n",
       "        34.63811 , 35.162157, 35.686204, 36.210251, 36.734298, 37.258345,\n",
       "        37.782392, 38.306439, 38.830486, 39.354533, 39.87858 , 40.402627,\n",
       "        40.926674, 41.450721, 41.974768, 42.498815, 43.022862, 43.546909,\n",
       "        44.070956, 44.595003, 45.11905 , 45.643097, 46.167144, 46.691191,\n",
       "        47.215238, 47.739285, 48.263332, 48.787379, 49.311426, 49.835473,\n",
       "        50.35952 , 50.883567, 51.407614, 51.931661, 52.455708, 52.979755,\n",
       "        53.503802, 54.027849, 54.551896, 55.075943, 55.59999 , 56.124037,\n",
       "        56.648084, 57.172131, 57.696178, 58.220225, 58.744272, 59.268319,\n",
       "        59.792366, 60.316413, 60.84046 , 61.364507, 61.888554, 62.412601,\n",
       "        62.936648, 63.460695, 63.984742, 64.508789, 65.032836, 65.556883,\n",
       "        66.08093 , 66.604977, 67.129024, 67.653071, 68.177118, 68.701165,\n",
       "        69.225212, 69.749259, 70.273306, 70.797353, 71.3214  ]),\n",
       " <matplotlib.collections.QuadMesh at 0x11c7b26d8>)"
      ]
     },
     "execution_count": 10,
     "metadata": {},
     "output_type": "execute_result"
    },
    {
     "data": {
      "image/png": "[encoded data removed]",
      "text/plain": [
       "<Figure size 432x288 with 1 Axes>"
      ]
     },
     "metadata": {
      "needs_background": "light"
     },
     "output_type": "display_data"
    }
   ],
   "source": [
    "stations_US = stations[stations[\"country\"] == \"US\"]\n",
    "plt.hist2d(stations_US[\"lon\"], stations_US[\"lat\"], bins=100)"
   ]
  },
  {
   "cell_type": "markdown",
   "metadata": {},
   "source": [
    "### 🔥 THERE IS SOMETHING WRONG WITH THE STATION DATA, NEED TO CHECK WHY NO STATIONS WEST OF CA. 120 DEG. WEST\n",
    "\n",
    "... let's ignore that for now and continue:\n",
    "\n",
    "\n",
    "# Get [GHSL population data](https://ghsl.jrc.ec.europa.eu/ghs_pop.php) for 1975\n",
    "\n",
    "Download dir at http://cidportal.jrc.ec.europa.eu/ftp/jrc-opendata/GHSL/GHS_POP_GPW4_GLOBE_R2015A/"
   ]
  },
  {
   "cell_type": "code",
   "execution_count": 13,
   "metadata": {},
   "outputs": [],
   "source": [
    "file = 'GHS_POP_GPW41975_GLOBE_R2015A_54009_250_v1_0.zip'\n",
    "if os.path.isfile(file):\n",
    "    print(file, 'already downloaded.')\n",
    "else:\n",
    "    url = 'http://cidportal.jrc.ec.europa.eu/ftp/jrc-opendata/GHSL/GHS_POP_GPW4_GLOBE_R2015A/GHS_POP_GPW41975_GLOBE_R2015A_54009_250/V1-0/GHS_POP_GPW41975_GLOBE_R2015A_54009_250_v1_0.zip'\n",
    "    urllib.request.urlretrieve(url, file)\n",
    "    \n",
    "    zip_ref = zipfile.ZipFile(file, 'r')\n",
    "    zip_ref.extractall('.')\n",
    "    zip_ref.close()"
   ]
  },
  {
   "cell_type": "code",
   "execution_count": null,
   "metadata": {},
   "outputs": [],
   "source": []
  },
  {
   "cell_type": "markdown",
   "metadata": {
    "colab_type": "text",
    "id": "hlLdXGP3M0b0"
   },
   "source": [
    "# Get NOAA NCDC data\n",
    "\n",
    "Download the data from NOAA. The columns in the file are documented [here](https://www1.ncdc.noaa.gov/pub/data/ghcn/daily/by_year/readme.txt)."
   ]
  },
  {
   "cell_type": "code",
   "execution_count": null,
   "metadata": {
    "colab": {
     "base_uri": "https://localhost:8080/",
     "height": 34
    },
    "colab_type": "code",
    "id": "_iVTwxLxMn_L",
    "outputId": "b6a3031c-158c-45fd-ad46-3ae5dfce9cb6"
   },
   "outputs": [],
   "source": [
    "file = '1975.csv.gz'\n",
    "if os.path.isfile(file):\n",
    "    print(file, 'already downloaded.')\n",
    "else:\n",
    "    urllib.request.urlretrieve('https://www1.ncdc.noaa.gov/pub/data/ghcn/daily/by_year/1975.csv.gz', file)"
   ]
  },
  {
   "cell_type": "markdown",
   "metadata": {
    "colab_type": "text",
    "id": "BF63PI8ampb0"
   },
   "source": [
    "Before we can read the file, we'll define our own date parser:"
   ]
  },
  {
   "cell_type": "code",
   "execution_count": null,
   "metadata": {
    "colab": {},
    "colab_type": "code",
    "id": "tWbMuRNwmouv"
   },
   "outputs": [],
   "source": [
    "noaadateparser = lambda x: pd.datetime.strptime(x, \"%Y%m%d\")\n"
   ]
  },
  {
   "cell_type": "markdown",
   "metadata": {
    "colab_type": "text",
    "id": "V-KkHtesQToZ"
   },
   "source": [
    "Unzip the file and load the CSV with pandas, using our date parser. We'll also give the columns names since the CSV doesn't have a header 🧟‍:"
   ]
  },
  {
   "cell_type": "code",
   "execution_count": null,
   "metadata": {
    "colab": {},
    "colab_type": "code",
    "id": "ZSEuHhBEM6sM"
   },
   "outputs": [],
   "source": [
    "with gzip.open('1975.csv.gz') as f:\n",
    "\n",
    "    data_1975 = pd.read_csv(f, \n",
    "                            names = [\"station\", \"date\", \"type\", \"value\"],\n",
    "                            usecols = [0,1,2,3],\n",
    "                            parse_dates = [\"date\"],\n",
    "                            date_parser = noaadateparser)\n",
    "\n",
    "data_1975.head()"
   ]
  },
  {
   "cell_type": "code",
   "execution_count": null,
   "metadata": {
    "colab": {
     "base_uri": "https://localhost:8080/",
     "height": 104
    },
    "colab_type": "code",
    "id": "JFsoo_2jNCJM",
    "outputId": "7cb599de-173f-475f-fa7b-c463f82c9d76"
   },
   "outputs": [],
   "source": [
    "data_1975.dtypes"
   ]
  },
  {
   "cell_type": "markdown",
   "metadata": {
    "colab_type": "text",
    "id": "U8I1ZIJMp2l6"
   },
   "source": [
    "Only keep TMIN and TMAX:"
   ]
  },
  {
   "cell_type": "code",
   "execution_count": null,
   "metadata": {
    "colab": {},
    "colab_type": "code",
    "id": "tchJq0v7qven"
   },
   "outputs": [],
   "source": [
    "data_1975 = data_1975[(data_1975[\"type\"] == \"TMAX\") | (data_1975[\"type\"] == \"TMIN\")] "
   ]
  },
  {
   "cell_type": "code",
   "execution_count": null,
   "metadata": {
    "colab": {
     "base_uri": "https://localhost:8080/",
     "height": 1992
    },
    "colab_type": "code",
    "id": "1GTOEzhyq1w0",
    "outputId": "7f981fe6-5473-4b8c-c3d8-30f98bbf5bd8"
   },
   "outputs": [],
   "source": [
    "data_1975.head"
   ]
  },
  {
   "cell_type": "markdown",
   "metadata": {
    "colab_type": "text",
    "id": "NO75klMoz9WE"
   },
   "source": [
    "Join the two together:"
   ]
  },
  {
   "cell_type": "code",
   "execution_count": null,
   "metadata": {
    "colab": {
     "base_uri": "https://localhost:8080/",
     "height": 1992
    },
    "colab_type": "code",
    "id": "E0IH235j0VhH",
    "outputId": "b193fe34-031e-48f4-82c8-51ef2e5f3b5b"
   },
   "outputs": [],
   "source": [
    "data_1975 = pd.merge(data_1975, stations, on=\"station\")\n",
    "data_1975.head()\n",
    "\n"
   ]
  },
  {
   "cell_type": "markdown",
   "metadata": {
    "colab": {},
    "colab_type": "code",
    "id": "wEld9GwnW-Ky"
   },
   "source": [
    "Index the dataframe by country, station, date and observation type:"
   ]
  },
  {
   "cell_type": "code",
   "execution_count": null,
   "metadata": {
    "colab": {},
    "colab_type": "code",
    "id": "seAVEs1rXktr"
   },
   "outputs": [],
   "source": [
    "data_1975.set_index(['country','station','date','type'], inplace=True)\n",
    "data_1975.head()"
   ]
  },
  {
   "cell_type": "code",
   "execution_count": null,
   "metadata": {},
   "outputs": [],
   "source": []
  },
  {
   "cell_type": "code",
   "execution_count": null,
   "metadata": {},
   "outputs": [],
   "source": [
    "data_1975.loc['US']"
   ]
  },
  {
   "cell_type": "code",
   "execution_count": null,
   "metadata": {},
   "outputs": [],
   "source": []
  },
  {
   "cell_type": "code",
   "execution_count": null,
   "metadata": {},
   "outputs": [],
   "source": []
  },
  {
   "cell_type": "code",
   "execution_count": null,
   "metadata": {},
   "outputs": [],
   "source": []
  }
 ],
 "metadata": {
  "colab": {
   "name": "NOAA weather station data.ipynb",
   "provenance": [],
   "version": "0.3.2"
  },
  "kernelspec": {
   "display_name": "Python 3",
   "language": "python",
   "name": "python3"
  },
  "language_info": {
   "codemirror_mode": {
    "name": "ipython",
    "version": 3
   },
   "file_extension": ".py",
   "mimetype": "text/x-python",
   "name": "python",
   "nbconvert_exporter": "python",
   "pygments_lexer": "ipython3",
   "version": "3.6.7"
  }
 },
 "nbformat": 4,
 "nbformat_minor": 1
}
