{
 "cells": [
  {
   "cell_type": "markdown",
   "metadata": {
    "colab_type": "text",
    "id": "YwFA50NyM_Sh"
   },
   "source": [
    "# UHI analysis\n",
    "\n",
    "We'll try to figure out whether there is a systematic relationship between elevated urban air temperatures and population density based on an archive of weather station data from [NOAA's GHCN](https://www.ncdc.noaa.gov/data-access/land-based-station-data/land-based-datasets/global-historical-climatology-network-ghcn) and population data from the [GHSL](https://ghsl.jrc.ec.europa.eu/). \n",
    "\n",
    "## <span style='color:red'>This is a first exploratory analysis!</span>\n",
    "\n",
    "\n",
    "# ⚠ \n",
    "\n",
    "Some parts of this analysis take quite a while. Look for the fields mared with a \n",
    "\n",
    "# 🏁\n",
    "\n",
    "these indicate where intermediate results have been stored and can simply be re-used instead of running the analysis again.\n",
    "\n",
    "Import some libraries we'll use:\n"
   ]
  },
  {
   "cell_type": "code",
   "execution_count": 2,
   "metadata": {
    "colab": {},
    "colab_type": "code",
    "id": "_-6gbN01F4cC"
   },
   "outputs": [],
   "source": [
    "import urllib.request\n",
    "import gzip\n",
    "import zipfile\n",
    "import pandas as pd\n",
    "import os\n",
    "from scipy import stats\n",
    "import matplotlib.pyplot as plt\n",
    "import rasterio as rio\n",
    "import numpy as np\n",
    "from pyproj import Proj, transform\n",
    "from scipy.spatial import cKDTree  \n",
    "from scipy import stats\n",
    "import urllib.request\n",
    "\n",
    "from sklearn import linear_model\n",
    "\n",
    "%matplotlib inline\n",
    "plt.rcParams['figure.figsize'] = (14.0, 10.0) # larger plots"
   ]
  },
  {
   "cell_type": "markdown",
   "metadata": {
    "colab_type": "text",
    "id": "nDGnYKEztMSA"
   },
   "source": [
    "# Get NOAA weather stations\n",
    "\n",
    "First, let's get the [list of NOAA weather stations](https://www1.ncdc.noaa.gov/pub/data/ghcn/daily/ghcnd-stations.txt) so that we have a lat/lon location for each:\n",
    "\n",
    "🏁"
   ]
  },
  {
   "cell_type": "code",
   "execution_count": null,
   "metadata": {
    "colab": {
     "base_uri": "https://localhost:8080/",
     "height": 206
    },
    "colab_type": "code",
    "id": "s6malE0lr16p",
    "outputId": "3a949fa6-fe36-4dea-ffdf-857b3f752aa7"
   },
   "outputs": [],
   "source": [
    "file = 'ghcnd-stations.txt'\n",
    "\n",
    "if os.path.isfile(file):\n",
    "    print('Stations already downloaded, using local file.')\n",
    "else:\n",
    "    print('Using online stations file directly.')\n",
    "    file = 'https://www1.ncdc.noaa.gov/pub/data/ghcn/daily/ghcnd-stations.txt'\n",
    "\n",
    "# we are using 100000 rows here to let pandas figure out the column widths - this is a bit slower, \n",
    "# but makes sure that we get all the stations way out west or south correctly without chopping of the minus sign \n",
    "stations = pd.read_fwf(file, \n",
    "            infer_nrows=100000, # how many rows to use to infer the column widths\n",
    "            usecols = [0,1,2,3,5],\n",
    "            names = [\"station\", \"lat\", \"lon\", \"elevation\", \"name\"])\n",
    "\n",
    "stations.head()"
   ]
  },
  {
   "cell_type": "markdown",
   "metadata": {},
   "source": [
    "Check the range of the lat and lon columns to make sure the coordinates have been parsed correctly:"
   ]
  },
  {
   "cell_type": "code",
   "execution_count": null,
   "metadata": {},
   "outputs": [],
   "source": [
    "print(f'Lats go from {stations.lat.min()} to {stations.lat.max()}')\n",
    "print(f'Lons go from {stations.lon.min()} to {stations.lon.max()}')"
   ]
  },
  {
   "cell_type": "markdown",
   "metadata": {
    "colab_type": "text",
    "id": "s0cvrcUPyifc"
   },
   "source": [
    "Pull out the country ID from the station column (first two letters):"
   ]
  },
  {
   "cell_type": "code",
   "execution_count": null,
   "metadata": {
    "colab": {
     "base_uri": "https://localhost:8080/",
     "height": 206
    },
    "colab_type": "code",
    "id": "SgIQgawttmqa",
    "outputId": "43331dc8-8fef-4f8f-e7e1-d34d636c8e43"
   },
   "outputs": [],
   "source": [
    "stations[\"country\"] = stations[\"station\"].astype(str).str[0:2]\n",
    "stations.head()"
   ]
  },
  {
   "cell_type": "markdown",
   "metadata": {},
   "source": [
    "Since the GHSL data we'll be using later is in Mollweide projection, we'll need to [project](https://github.com/pyproj4/pyproj) the lat/lon to the World Mollweide projection that the raster uses and pick up the values at those projected coordinates:\n",
    "\n",
    "🏁"
   ]
  },
  {
   "cell_type": "code",
   "execution_count": null,
   "metadata": {},
   "outputs": [],
   "source": [
    "file = 'stations_moll.csv'\n",
    "\n",
    "if os.path.isfile(file):\n",
    "    print('Stations already projected to Mollweide, using local file.')\n",
    "    stations = pd.read_csv(file, index_col=0)\n",
    "else:\n",
    "    inProj = Proj(init='epsg:4326')   # lat/lon \n",
    "    outProj = Proj('+proj=moll +lon_0=0 +x_0=0 +y_0=0 +datum=WGS84 +units=m +no_defs', preserve_flags=True) # Mollweide\n",
    "\n",
    "    projectedLocations = []\n",
    "\n",
    "    # go through the list of stations and project each one to Mollweide\n",
    "    for index, station in stations.iterrows():\n",
    "        projectedLocations.append((transform(inProj,outProj,station['lon'],station['lat'])))\n",
    "\n",
    "    # add the projected coordinates back to the stations dataframe\n",
    "    stations['mollX'], stations['mollY'] = zip(*projectedLocations)  # 'unzip' with the *\n",
    "    stations.to_csv(file)\n",
    "\n",
    "\n",
    "stations.head()"
   ]
  },
  {
   "cell_type": "markdown",
   "metadata": {},
   "source": [
    "# Spatial Index\n",
    "\n",
    "Next, we'll build a spatial index of the stations, so we can quickly look up the nearest neighbors of any station. We'll be using the [scipy.spatial.cKDTree](https://docs.scipy.org/doc/scipy/reference/generated/scipy.spatial.cKDTree.query.html) (based on [this hint](https://gis.stackexchange.com/a/301935/33224).). For that, we'll pull out just the Mollweide coordinates and build the index based on those (otherwise SciPy will make a multidimensional index using all columns):"
   ]
  },
  {
   "cell_type": "code",
   "execution_count": null,
   "metadata": {},
   "outputs": [],
   "source": [
    "stationsIndex = cKDTree(stations[['mollX','mollY']].values)"
   ]
  },
  {
   "cell_type": "markdown",
   "metadata": {},
   "source": [
    "Let's try to find the closest stations to a specific one by name:"
   ]
  },
  {
   "cell_type": "code",
   "execution_count": null,
   "metadata": {},
   "outputs": [],
   "source": [
    "def queryStation(stationID, stations, stationsIndex, k=1):\n",
    "    queryCoords = stations[stations.station==stationID][['mollX','mollY']].values\n",
    "    dd, ii = stationsIndex.query(queryCoords, \n",
    "                             k=range(2,2+k), # start at 2, otherwise we get the station itself as first result\n",
    "                             n_jobs=-1,      # use all CPUs\n",
    "                             p=2   )         # p-norm 2 = euclidian distance\n",
    "    \n",
    "    knn = stations.iloc[ii[0]]\n",
    "    knn = knn.copy()  # otherwise we might be modifying the stations dataframe...\n",
    "    knn['distance'] = dd[0]\n",
    "    return knn"
   ]
  },
  {
   "cell_type": "markdown",
   "metadata": {},
   "source": [
    "Test:"
   ]
  },
  {
   "cell_type": "code",
   "execution_count": null,
   "metadata": {
    "scrolled": true
   },
   "outputs": [],
   "source": [
    "stationID = 'RQC00663871'   # GARZAS station\n",
    "queryStation(stationID, stations, stationsIndex, k=5)"
   ]
  },
  {
   "cell_type": "markdown",
   "metadata": {},
   "source": [
    "# Get [GHSL population data](https://ghsl.jrc.ec.europa.eu/ghs_pop.php) for 2015\n",
    "\n",
    "Download dir at http://cidportal.jrc.ec.europa.eu/ftp/jrc-opendata/GHSL/GHS_POP_GPW4_GLOBE_R2015A/\n",
    "\n",
    "🏁"
   ]
  },
  {
   "cell_type": "code",
   "execution_count": null,
   "metadata": {},
   "outputs": [],
   "source": [
    "file = 'GHS_POP_GPW42015_GLOBE_R2015A_54009_250_v1_0/GHS_POP_GPW42015_GLOBE_R2015A_54009_250_v1_0.tif'\n",
    "file_zip = 'GHS_POP_GPW42015_GLOBE_R2015A_54009_250_v1_0.zip'\n",
    "\n",
    "if os.path.isfile(file):\n",
    "    print('GHSL population data for 2015 already downloaded.')\n",
    "else:\n",
    "    print('Downloading data...')\n",
    "    url = 'http://cidportal.jrc.ec.europa.eu/ftp/jrc-opendata/GHSL/GHS_POP_GPW4_GLOBE_R2015A/GHS_POP_GPW42015_GLOBE_R2015A_54009_250/V1-0/GHS_POP_GPW42015_GLOBE_R2015A_54009_250_v1_0.zip'\n",
    "    urllib.request.urlretrieve(url, file_zip)\n",
    "\n",
    "    print('Unzipping...')\n",
    "    zip_ref = zipfile.ZipFile(file_zip, 'r')\n",
    "    zip_ref.extractall('.')\n",
    "    zip_ref.close()\n",
    "\n",
    "    print('Cleaning up...')    \n",
    "    # remove the ZIP file and the extracted overview file - we don't need it and the .ovr file is huge (3GB!)\n",
    "    os.remove(file_zip)\n",
    "    os.remove('GHS_POP_GPW42015_GLOBE_R2015A_54009_250_v1_0/GHS_POP_GPW42015_GLOBE_R2015A_54009_250_v1_0.tif.ovr')\n",
    "    print('Done.')"
   ]
  },
  {
   "cell_type": "markdown",
   "metadata": {},
   "source": [
    "We'll use the data to assign each station an estimate of the population density in the GHSL cell that it is in. Since GHSL is in an equal area projection (i.e. all cells have the same area), we can safely do that.\n",
    "\n",
    "We'll use [rasterio's sample method](https://gis.stackexchange.com/questions/190423/getting-pixel-values-at-single-point-using-rasterio) for that. Let's read in the GeoTIFF first:"
   ]
  },
  {
   "cell_type": "code",
   "execution_count": null,
   "metadata": {},
   "outputs": [],
   "source": [
    "pop2015 = rio.open(file)\n",
    "pop2015"
   ]
  },
  {
   "cell_type": "code",
   "execution_count": null,
   "metadata": {},
   "outputs": [],
   "source": [
    "pop2015.bounds"
   ]
  },
  {
   "cell_type": "code",
   "execution_count": null,
   "metadata": {},
   "outputs": [],
   "source": [
    "pop2015.meta"
   ]
  },
  {
   "cell_type": "markdown",
   "metadata": {},
   "source": [
    "To get values at point locations, we can simply pass a list of ```(x,y)``` tuples and rasterio will return a list of values at those points:"
   ]
  },
  {
   "cell_type": "code",
   "execution_count": null,
   "metadata": {},
   "outputs": [],
   "source": [
    "for val in pop2015.sample([(8432553,2759349)]):\n",
    "    print(val)"
   ]
  },
  {
   "cell_type": "markdown",
   "metadata": {},
   "source": [
    "Check that all coordinates are in the raster's bounding box:"
   ]
  },
  {
   "cell_type": "code",
   "execution_count": null,
   "metadata": {
    "scrolled": true
   },
   "outputs": [],
   "source": [
    "print(min(stations['mollX']) > pop2015.bounds.left)\n",
    "print(max(stations['mollX']) < pop2015.bounds.right)\n",
    "\n",
    "print(min(stations['mollY']) > pop2015.bounds.bottom)\n",
    "print(max(stations['mollY']) < pop2015.bounds.top)"
   ]
  },
  {
   "cell_type": "markdown",
   "metadata": {},
   "source": [
    "Okay, so there are some stations North and South of our raster. Remove the stations that are outside of our raster bounding box (they are not really useful for our UHI analysis anyway, and [rasterio seems trip over them](https://gis.stackexchange.com/questions/323481/error-using-rasterios-sample-method)):"
   ]
  },
  {
   "cell_type": "code",
   "execution_count": null,
   "metadata": {},
   "outputs": [],
   "source": [
    "print(f'Before removal: {len(stations.index)} stations.')\n",
    "stations = stations.drop(stations[stations['mollY'] < pop2015.bounds.bottom].index)\n",
    "stations = stations.drop(stations[stations['mollY'] > pop2015.bounds.top].index)\n",
    "print(f'After removal: {len(stations.index)} stations.')"
   ]
  },
  {
   "cell_type": "markdown",
   "metadata": {},
   "source": [
    "Save to a CSV file again and re-build the spatial index, now that we have removed some stations:"
   ]
  },
  {
   "cell_type": "code",
   "execution_count": null,
   "metadata": {},
   "outputs": [],
   "source": [
    "stations.to_csv('stations_moll_inraster.csv')\n",
    "stationsIndex = cKDTree(stations[['mollX','mollY']].values)"
   ]
  },
  {
   "cell_type": "markdown",
   "metadata": {},
   "source": [
    "Now we can use those remaining station locations to sample the raster:\n",
    "\n",
    "🏁"
   ]
  },
  {
   "cell_type": "code",
   "execution_count": null,
   "metadata": {},
   "outputs": [],
   "source": [
    "file = 'stations_moll_inraster_pop2015.csv'\n",
    "\n",
    "if os.path.isfile(file):\n",
    "    print('Stations data with 2015 population already generated; reusing existing file.')\n",
    "    stations = pd.read_csv(file, index_col=0)\n",
    "else:\n",
    "\n",
    "    locations = list(zip(stations['mollX'], stations['mollY']))\n",
    "    pop2015col = []\n",
    "\n",
    "    for val in pop2015.sample(locations):\n",
    "        pop2015col.append(val[0])\n",
    "\n",
    "    # make this list a new column in our stations dataframe\n",
    "    stations['pop2015'] = pop2015col\n",
    "    stations.to_csv(file)\n",
    "\n",
    "stations.head()"
   ]
  },
  {
   "cell_type": "markdown",
   "metadata": {},
   "source": [
    "How many stations do we have in densely populated areas?"
   ]
  },
  {
   "cell_type": "code",
   "execution_count": null,
   "metadata": {},
   "outputs": [],
   "source": [
    "plt.hist(stations['pop2015'], log=True)\n",
    "plt.title(\"Histogram of population per station cell (log scale)\")\n",
    "plt.show()"
   ]
  },
  {
   "cell_type": "markdown",
   "metadata": {},
   "source": [
    "The cells in our population dataset are only [250x250m](https://ghsl.jrc.ec.europa.eu/ghs_pop2019.php), so to get population per km<sup>2</sup>, we actually have to multiply the number with 16 (just to make it a bit easier to compare to common measures of population density in people per km<sup>2</sup>:"
   ]
  },
  {
   "cell_type": "code",
   "execution_count": null,
   "metadata": {},
   "outputs": [],
   "source": [
    "stations['popdens2015'] = stations['pop2015'] * 16\n",
    "stations.head()"
   ]
  },
  {
   "cell_type": "markdown",
   "metadata": {},
   "source": [
    "This list of ca. 150 of the most densely populated city *districts* globally has them all at more than 30k people per km<sup>2</sup>, how many do we have in that range?"
   ]
  },
  {
   "cell_type": "code",
   "execution_count": null,
   "metadata": {},
   "outputs": [],
   "source": [
    "print(\"Cells with more than 30k per sqkm: \", len(stations[stations['popdens2015'] > 30000]))\n",
    "print(\"Cells with more than 20k per sqkm: \", len(stations[stations['popdens2015'] > 20000]))\n",
    "print(\"Cells with more than 10k per sqkm: \", len(stations[stations['popdens2015'] > 10000]))"
   ]
  },
  {
   "cell_type": "markdown",
   "metadata": {},
   "source": [
    "That's a small percentage, but a decent absolute number, so let's roll with it.\n",
    "\n",
    "Before we can take a look at the effect of population density on temperature, we need to get rid of the effect of elevation. We will calculate the difference in temperature (min and max) as well as the difference in elevation between each of the ca. 7 million observations in 2015 and the corresponding measurements at the nearest neighboring station (only looking at the rural stations, of course).\n",
    "\n",
    "For that purpose, let's find the closest neighbor for each station first:"
   ]
  },
  {
   "cell_type": "code",
   "execution_count": null,
   "metadata": {},
   "outputs": [],
   "source": [
    "# add new columns to hold the ID of the nearest station and the distance to it\n",
    "\n",
    "stations[\"NN\"] = \"\"\n",
    "stations[\"NN_dist\"] = \"\"\n",
    "stations[\"NN_elev\"] = \"\"\n",
    "\n",
    "stations.head()"
   ]
  },
  {
   "cell_type": "markdown",
   "metadata": {},
   "source": [
    "Iterate through the DF and fill these columns row by row. \n",
    "\n",
    "🔥 **TODO** This is reeeeally slow, I'm sure there must be a faster way to do this... for now, I'm at least making sure we only need to do this once by saving the results in a CSV that can just be loaded again\n",
    "\n",
    "🏁"
   ]
  },
  {
   "cell_type": "code",
   "execution_count": null,
   "metadata": {},
   "outputs": [],
   "source": [
    "file = 'stations_with_nearest_neighbor_2015.csv'\n",
    "\n",
    "if os.path.isfile(file):\n",
    "    print('Nearest neighbors already computed, using local file.')\n",
    "    stations = pd.read_csv(file, index_col=0)\n",
    "else:\n",
    "    for index, row in stations.iterrows():\n",
    "        s = row['station']\n",
    "        \n",
    "        nn = queryStation(s, stations, stationsIndex)\n",
    "        \n",
    "        nnstation = nn['station'].iloc[0]\n",
    "        nndistance = nn['distance'].iloc[0]\n",
    "        nnelev = nn['elevation'].iloc[0]\n",
    "        \n",
    "        stations.loc[stations.station == s, 'NN'] = nnstation\n",
    "        stations.loc[stations.station == s, 'NN_dist'] = nndistance        \n",
    "        stations.loc[stations.station == s, 'NN_elev'] = nnelev\n",
    "        \n",
    "    stations['nn_elev_diff'] = stations['elevation'] - stations['NN_elev']\n",
    "        \n",
    "    stations.to_csv(file)\n",
    "        \n",
    "stations.head()"
   ]
  },
  {
   "cell_type": "markdown",
   "metadata": {},
   "source": [
    "While working with the data, I saw that some stations are missing elevation information (marked with `-999.9`), which we will be using later:"
   ]
  },
  {
   "cell_type": "code",
   "execution_count": null,
   "metadata": {},
   "outputs": [],
   "source": [
    "print(str(len(stations[stations.elevation == -999.9])),'out of',str(len(stations)),'lack elevation data.')"
   ]
  },
  {
   "cell_type": "markdown",
   "metadata": {},
   "source": [
    "A small percentage, but let's still fix that. We'll use [GPS Visualizer's lookup service for that](https://www.gpsvisualizer.com/elevation). The API is not documented, but this was quite easy to figure out and saves us downloading gigabytes of data for the underlying [SRTM data](https://www2.jpl.nasa.gov/srtm/): "
   ]
  },
  {
   "cell_type": "code",
   "execution_count": null,
   "metadata": {},
   "outputs": [],
   "source": [
    "def elevation_lookup(lat, lon):\n",
    "    url = 'https://www.gpsvisualizer.com/elevation_data/elev2018.js?coords='+str(lat)+'%2C'+str(lon)+'&gv_nocache=1563196454722'\n",
    "\n",
    "    with urllib.request.urlopen(url) as f:\n",
    "        response = f.read(100).decode('utf-8')\n",
    "        ele = response.split(\"(\")[1].split(\",\")[0]\n",
    "        if ele == 'null':\n",
    "            return 0.0\n",
    "        \n",
    "        number = float(ele)\n",
    "        if number == 0.0:\n",
    "            return number\n",
    "        \n",
    "        return (1./number) # I don't know if this is some kind of super-cheap encryption they do to make it harder to use their API, but they do the same operation and the output make sense\n",
    "\n",
    "    "
   ]
  },
  {
   "cell_type": "markdown",
   "metadata": {},
   "source": [
    "Loop through the rows with missing stations and look up the elevation at that lat/lon position using our function. This is going to take a while for ~4000 stations without elevation 😴\n",
    "\n",
    "🏁"
   ]
  },
  {
   "cell_type": "code",
   "execution_count": 3,
   "metadata": {},
   "outputs": [
    {
     "name": "stdout",
     "output_type": "stream",
     "text": [
      "Elevation already looked up, using local file.\n"
     ]
    }
   ],
   "source": [
    "file = 'stations_with_nearest_neighbor_fixed_elevation_2015.csv'\n",
    "\n",
    "if os.path.isfile(file):\n",
    "    print('Elevation already looked up, using local file.')\n",
    "    stations = pd.read_csv(file, index_col=0)\n",
    "else:\n",
    "    for index, row in stations[stations.elevation == -999.9].iterrows():\n",
    "        new_elev = elevation_lookup(row.lat, row.lon)\n",
    "        #print(new_elev)\n",
    "        stations.loc[stations.station == row.station, 'elevation']  = new_elev\n",
    "    \n",
    "    # recalculate elevation difference\n",
    "    stations['nn_elev_diff'] = stations['elevation'] - stations['NN_elev']\n",
    "        \n",
    "    stations.to_csv(file)\n",
    "    print('Done looking up elevation values.')\n"
   ]
  },
  {
   "cell_type": "markdown",
   "metadata": {
    "colab_type": "text",
    "id": "hlLdXGP3M0b0"
   },
   "source": [
    "Now we ca move on and ...\n",
    "\n",
    "# Get the NOAA NCDC data\n",
    "\n",
    "Download the data from NOAA. The columns in the file are documented [here](https://www1.ncdc.noaa.gov/pub/data/ghcn/daily/by_year/readme.txt)."
   ]
  },
  {
   "cell_type": "code",
   "execution_count": 4,
   "metadata": {
    "colab": {
     "base_uri": "https://localhost:8080/",
     "height": 34
    },
    "colab_type": "code",
    "id": "_iVTwxLxMn_L",
    "outputId": "b6a3031c-158c-45fd-ad46-3ae5dfce9cb6"
   },
   "outputs": [
    {
     "name": "stdout",
     "output_type": "stream",
     "text": [
      "2015.csv.gz already downloaded.\n"
     ]
    }
   ],
   "source": [
    "file = '2015.csv.gz'\n",
    "if os.path.isfile(file):\n",
    "    print(file, 'already downloaded.')\n",
    "else:\n",
    "    urllib.request.urlretrieve('https://www1.ncdc.noaa.gov/pub/data/ghcn/daily/by_year/2015.csv.gz', file)"
   ]
  },
  {
   "cell_type": "markdown",
   "metadata": {
    "colab_type": "text",
    "id": "BF63PI8ampb0"
   },
   "source": [
    "Before we can read the file, we'll define our own date parser:"
   ]
  },
  {
   "cell_type": "code",
   "execution_count": 5,
   "metadata": {
    "colab": {},
    "colab_type": "code",
    "id": "tWbMuRNwmouv"
   },
   "outputs": [],
   "source": [
    "noaadateparser = lambda x: pd.datetime.strptime(x, \"%Y%m%d\")\n"
   ]
  },
  {
   "cell_type": "markdown",
   "metadata": {
    "colab_type": "text",
    "id": "V-KkHtesQToZ"
   },
   "source": [
    "Unzip the file and load the CSV with pandas, using our date parser. We'll also give the columns names since the CSV doesn't have a header 🧟‍. This takes a few minutes:"
   ]
  },
  {
   "cell_type": "code",
   "execution_count": 6,
   "metadata": {
    "colab": {},
    "colab_type": "code",
    "id": "ZSEuHhBEM6sM"
   },
   "outputs": [
    {
     "data": {
      "text/html": [
       "<div>\n",
       "<style scoped>\n",
       "    .dataframe tbody tr th:only-of-type {\n",
       "        vertical-align: middle;\n",
       "    }\n",
       "\n",
       "    .dataframe tbody tr th {\n",
       "        vertical-align: top;\n",
       "    }\n",
       "\n",
       "    .dataframe thead th {\n",
       "        text-align: right;\n",
       "    }\n",
       "</style>\n",
       "<table border=\"1\" class=\"dataframe\">\n",
       "  <thead>\n",
       "    <tr style=\"text-align: right;\">\n",
       "      <th></th>\n",
       "      <th>station</th>\n",
       "      <th>date</th>\n",
       "      <th>type</th>\n",
       "      <th>value</th>\n",
       "    </tr>\n",
       "  </thead>\n",
       "  <tbody>\n",
       "    <tr>\n",
       "      <th>0</th>\n",
       "      <td>US1ILMG0006</td>\n",
       "      <td>2015-01-01</td>\n",
       "      <td>PRCP</td>\n",
       "      <td>0</td>\n",
       "    </tr>\n",
       "    <tr>\n",
       "      <th>1</th>\n",
       "      <td>US1ILMG0006</td>\n",
       "      <td>2015-01-01</td>\n",
       "      <td>SNOW</td>\n",
       "      <td>0</td>\n",
       "    </tr>\n",
       "    <tr>\n",
       "      <th>2</th>\n",
       "      <td>ASN00015643</td>\n",
       "      <td>2015-01-01</td>\n",
       "      <td>TMAX</td>\n",
       "      <td>373</td>\n",
       "    </tr>\n",
       "    <tr>\n",
       "      <th>3</th>\n",
       "      <td>ASN00015643</td>\n",
       "      <td>2015-01-01</td>\n",
       "      <td>TMIN</td>\n",
       "      <td>222</td>\n",
       "    </tr>\n",
       "    <tr>\n",
       "      <th>4</th>\n",
       "      <td>ASN00015643</td>\n",
       "      <td>2015-01-01</td>\n",
       "      <td>PRCP</td>\n",
       "      <td>0</td>\n",
       "    </tr>\n",
       "  </tbody>\n",
       "</table>\n",
       "</div>"
      ],
      "text/plain": [
       "       station       date  type  value\n",
       "0  US1ILMG0006 2015-01-01  PRCP      0\n",
       "1  US1ILMG0006 2015-01-01  SNOW      0\n",
       "2  ASN00015643 2015-01-01  TMAX    373\n",
       "3  ASN00015643 2015-01-01  TMIN    222\n",
       "4  ASN00015643 2015-01-01  PRCP      0"
      ]
     },
     "execution_count": 6,
     "metadata": {},
     "output_type": "execute_result"
    }
   ],
   "source": [
    "with gzip.open('2015.csv.gz') as f:\n",
    "\n",
    "    data_2015 = pd.read_csv(f, \n",
    "                            names = [\"station\", \"date\", \"type\", \"value\"],\n",
    "                            usecols = [0,1,2,3],\n",
    "                            parse_dates = [\"date\"],\n",
    "                            date_parser = noaadateparser)\n",
    "\n",
    "data_2015.head()"
   ]
  },
  {
   "cell_type": "code",
   "execution_count": 7,
   "metadata": {
    "colab": {
     "base_uri": "https://localhost:8080/",
     "height": 104
    },
    "colab_type": "code",
    "id": "JFsoo_2jNCJM",
    "outputId": "7cb599de-173f-475f-fa7b-c463f82c9d76"
   },
   "outputs": [
    {
     "data": {
      "text/plain": [
       "station            object\n",
       "date       datetime64[ns]\n",
       "type               object\n",
       "value               int64\n",
       "dtype: object"
      ]
     },
     "execution_count": 7,
     "metadata": {},
     "output_type": "execute_result"
    }
   ],
   "source": [
    "data_2015.dtypes"
   ]
  },
  {
   "cell_type": "markdown",
   "metadata": {
    "colab_type": "text",
    "id": "U8I1ZIJMp2l6"
   },
   "source": [
    "Only keep TMIN and TMAX:"
   ]
  },
  {
   "cell_type": "code",
   "execution_count": 8,
   "metadata": {
    "colab": {},
    "colab_type": "code",
    "id": "tchJq0v7qven"
   },
   "outputs": [
    {
     "data": {
      "text/html": [
       "<div>\n",
       "<style scoped>\n",
       "    .dataframe tbody tr th:only-of-type {\n",
       "        vertical-align: middle;\n",
       "    }\n",
       "\n",
       "    .dataframe tbody tr th {\n",
       "        vertical-align: top;\n",
       "    }\n",
       "\n",
       "    .dataframe thead th {\n",
       "        text-align: right;\n",
       "    }\n",
       "</style>\n",
       "<table border=\"1\" class=\"dataframe\">\n",
       "  <thead>\n",
       "    <tr style=\"text-align: right;\">\n",
       "      <th></th>\n",
       "      <th>station</th>\n",
       "      <th>date</th>\n",
       "      <th>type</th>\n",
       "      <th>value</th>\n",
       "    </tr>\n",
       "  </thead>\n",
       "  <tbody>\n",
       "    <tr>\n",
       "      <th>2</th>\n",
       "      <td>ASN00015643</td>\n",
       "      <td>2015-01-01</td>\n",
       "      <td>TMAX</td>\n",
       "      <td>373</td>\n",
       "    </tr>\n",
       "    <tr>\n",
       "      <th>3</th>\n",
       "      <td>ASN00015643</td>\n",
       "      <td>2015-01-01</td>\n",
       "      <td>TMIN</td>\n",
       "      <td>222</td>\n",
       "    </tr>\n",
       "    <tr>\n",
       "      <th>19</th>\n",
       "      <td>ASN00085296</td>\n",
       "      <td>2015-01-01</td>\n",
       "      <td>TMAX</td>\n",
       "      <td>254</td>\n",
       "    </tr>\n",
       "    <tr>\n",
       "      <th>20</th>\n",
       "      <td>ASN00085296</td>\n",
       "      <td>2015-01-01</td>\n",
       "      <td>TMIN</td>\n",
       "      <td>110</td>\n",
       "    </tr>\n",
       "    <tr>\n",
       "      <th>24</th>\n",
       "      <td>ASN00085280</td>\n",
       "      <td>2015-01-01</td>\n",
       "      <td>TMAX</td>\n",
       "      <td>262</td>\n",
       "    </tr>\n",
       "  </tbody>\n",
       "</table>\n",
       "</div>"
      ],
      "text/plain": [
       "        station       date  type  value\n",
       "2   ASN00015643 2015-01-01  TMAX    373\n",
       "3   ASN00015643 2015-01-01  TMIN    222\n",
       "19  ASN00085296 2015-01-01  TMAX    254\n",
       "20  ASN00085296 2015-01-01  TMIN    110\n",
       "24  ASN00085280 2015-01-01  TMAX    262"
      ]
     },
     "execution_count": 8,
     "metadata": {},
     "output_type": "execute_result"
    }
   ],
   "source": [
    "data_2015 = data_2015[(data_2015[\"type\"] == \"TMAX\") | (data_2015[\"type\"] == \"TMIN\")] \n",
    "data_2015.head()"
   ]
  },
  {
   "cell_type": "markdown",
   "metadata": {
    "colab_type": "text",
    "id": "NO75klMoz9WE"
   },
   "source": [
    "Join the stations to the temperature data:"
   ]
  },
  {
   "cell_type": "code",
   "execution_count": 9,
   "metadata": {
    "colab": {
     "base_uri": "https://localhost:8080/",
     "height": 1992
    },
    "colab_type": "code",
    "id": "E0IH235j0VhH",
    "outputId": "b193fe34-031e-48f4-82c8-51ef2e5f3b5b"
   },
   "outputs": [
    {
     "data": {
      "text/html": [
       "<div>\n",
       "<style scoped>\n",
       "    .dataframe tbody tr th:only-of-type {\n",
       "        vertical-align: middle;\n",
       "    }\n",
       "\n",
       "    .dataframe tbody tr th {\n",
       "        vertical-align: top;\n",
       "    }\n",
       "\n",
       "    .dataframe thead th {\n",
       "        text-align: right;\n",
       "    }\n",
       "</style>\n",
       "<table border=\"1\" class=\"dataframe\">\n",
       "  <thead>\n",
       "    <tr style=\"text-align: right;\">\n",
       "      <th></th>\n",
       "      <th>station</th>\n",
       "      <th>date</th>\n",
       "      <th>type</th>\n",
       "      <th>value</th>\n",
       "      <th>lat</th>\n",
       "      <th>lon</th>\n",
       "      <th>elevation</th>\n",
       "      <th>name</th>\n",
       "      <th>country</th>\n",
       "      <th>mollX</th>\n",
       "      <th>mollY</th>\n",
       "      <th>pop2015</th>\n",
       "      <th>popdens2015</th>\n",
       "      <th>NN</th>\n",
       "      <th>NN_dist</th>\n",
       "      <th>NN_elev</th>\n",
       "      <th>nn_elev_diff</th>\n",
       "    </tr>\n",
       "  </thead>\n",
       "  <tbody>\n",
       "    <tr>\n",
       "      <th>0</th>\n",
       "      <td>ASN00015643</td>\n",
       "      <td>2015-01-01</td>\n",
       "      <td>TMAX</td>\n",
       "      <td>373</td>\n",
       "      <td>-22.4518</td>\n",
       "      <td>133.6377</td>\n",
       "      <td>565.6</td>\n",
       "      <td>TERRITORY GRAPE FARM</td>\n",
       "      <td>AS</td>\n",
       "      <td>1.275651e+07</td>\n",
       "      <td>-2.748703e+06</td>\n",
       "      <td>0.0</td>\n",
       "      <td>0.0</td>\n",
       "      <td>ASN00015532</td>\n",
       "      <td>26666.962588</td>\n",
       "      <td>513.0</td>\n",
       "      <td>52.6</td>\n",
       "    </tr>\n",
       "    <tr>\n",
       "      <th>1</th>\n",
       "      <td>ASN00015643</td>\n",
       "      <td>2015-01-01</td>\n",
       "      <td>TMIN</td>\n",
       "      <td>222</td>\n",
       "      <td>-22.4518</td>\n",
       "      <td>133.6377</td>\n",
       "      <td>565.6</td>\n",
       "      <td>TERRITORY GRAPE FARM</td>\n",
       "      <td>AS</td>\n",
       "      <td>1.275651e+07</td>\n",
       "      <td>-2.748703e+06</td>\n",
       "      <td>0.0</td>\n",
       "      <td>0.0</td>\n",
       "      <td>ASN00015532</td>\n",
       "      <td>26666.962588</td>\n",
       "      <td>513.0</td>\n",
       "      <td>52.6</td>\n",
       "    </tr>\n",
       "    <tr>\n",
       "      <th>2</th>\n",
       "      <td>ASN00015643</td>\n",
       "      <td>2015-01-02</td>\n",
       "      <td>TMAX</td>\n",
       "      <td>346</td>\n",
       "      <td>-22.4518</td>\n",
       "      <td>133.6377</td>\n",
       "      <td>565.6</td>\n",
       "      <td>TERRITORY GRAPE FARM</td>\n",
       "      <td>AS</td>\n",
       "      <td>1.275651e+07</td>\n",
       "      <td>-2.748703e+06</td>\n",
       "      <td>0.0</td>\n",
       "      <td>0.0</td>\n",
       "      <td>ASN00015532</td>\n",
       "      <td>26666.962588</td>\n",
       "      <td>513.0</td>\n",
       "      <td>52.6</td>\n",
       "    </tr>\n",
       "    <tr>\n",
       "      <th>3</th>\n",
       "      <td>ASN00015643</td>\n",
       "      <td>2015-01-02</td>\n",
       "      <td>TMIN</td>\n",
       "      <td>232</td>\n",
       "      <td>-22.4518</td>\n",
       "      <td>133.6377</td>\n",
       "      <td>565.6</td>\n",
       "      <td>TERRITORY GRAPE FARM</td>\n",
       "      <td>AS</td>\n",
       "      <td>1.275651e+07</td>\n",
       "      <td>-2.748703e+06</td>\n",
       "      <td>0.0</td>\n",
       "      <td>0.0</td>\n",
       "      <td>ASN00015532</td>\n",
       "      <td>26666.962588</td>\n",
       "      <td>513.0</td>\n",
       "      <td>52.6</td>\n",
       "    </tr>\n",
       "    <tr>\n",
       "      <th>4</th>\n",
       "      <td>ASN00015643</td>\n",
       "      <td>2015-01-03</td>\n",
       "      <td>TMAX</td>\n",
       "      <td>307</td>\n",
       "      <td>-22.4518</td>\n",
       "      <td>133.6377</td>\n",
       "      <td>565.6</td>\n",
       "      <td>TERRITORY GRAPE FARM</td>\n",
       "      <td>AS</td>\n",
       "      <td>1.275651e+07</td>\n",
       "      <td>-2.748703e+06</td>\n",
       "      <td>0.0</td>\n",
       "      <td>0.0</td>\n",
       "      <td>ASN00015532</td>\n",
       "      <td>26666.962588</td>\n",
       "      <td>513.0</td>\n",
       "      <td>52.6</td>\n",
       "    </tr>\n",
       "  </tbody>\n",
       "</table>\n",
       "</div>"
      ],
      "text/plain": [
       "       station       date  type  value      lat       lon  elevation  \\\n",
       "0  ASN00015643 2015-01-01  TMAX    373 -22.4518  133.6377      565.6   \n",
       "1  ASN00015643 2015-01-01  TMIN    222 -22.4518  133.6377      565.6   \n",
       "2  ASN00015643 2015-01-02  TMAX    346 -22.4518  133.6377      565.6   \n",
       "3  ASN00015643 2015-01-02  TMIN    232 -22.4518  133.6377      565.6   \n",
       "4  ASN00015643 2015-01-03  TMAX    307 -22.4518  133.6377      565.6   \n",
       "\n",
       "                   name country         mollX         mollY  pop2015  \\\n",
       "0  TERRITORY GRAPE FARM      AS  1.275651e+07 -2.748703e+06      0.0   \n",
       "1  TERRITORY GRAPE FARM      AS  1.275651e+07 -2.748703e+06      0.0   \n",
       "2  TERRITORY GRAPE FARM      AS  1.275651e+07 -2.748703e+06      0.0   \n",
       "3  TERRITORY GRAPE FARM      AS  1.275651e+07 -2.748703e+06      0.0   \n",
       "4  TERRITORY GRAPE FARM      AS  1.275651e+07 -2.748703e+06      0.0   \n",
       "\n",
       "   popdens2015           NN       NN_dist  NN_elev  nn_elev_diff  \n",
       "0          0.0  ASN00015532  26666.962588    513.0          52.6  \n",
       "1          0.0  ASN00015532  26666.962588    513.0          52.6  \n",
       "2          0.0  ASN00015532  26666.962588    513.0          52.6  \n",
       "3          0.0  ASN00015532  26666.962588    513.0          52.6  \n",
       "4          0.0  ASN00015532  26666.962588    513.0          52.6  "
      ]
     },
     "execution_count": 9,
     "metadata": {},
     "output_type": "execute_result"
    }
   ],
   "source": [
    "data_2015 = pd.merge(data_2015, stations, on=\"station\")\n",
    "data_2015.head()"
   ]
  },
  {
   "cell_type": "markdown",
   "metadata": {},
   "source": [
    "Next, we will prepare the data to **correct the temperature data for elevation**. First, we'll calculate the temperature difference to the nearest station in two steps:\n",
    "\n",
    "1. get the temperature at the nearest neighbour (using a <a href=\"Self-join demo.ipynb\" target=\"_blank\">self-join</a> on the station ID / NN ID for a specific date and type)\n",
    "2. add a new column with the difference"
   ]
  },
  {
   "cell_type": "code",
   "execution_count": 10,
   "metadata": {},
   "outputs": [
    {
     "data": {
      "text/html": [
       "<div>\n",
       "<style scoped>\n",
       "    .dataframe tbody tr th:only-of-type {\n",
       "        vertical-align: middle;\n",
       "    }\n",
       "\n",
       "    .dataframe tbody tr th {\n",
       "        vertical-align: top;\n",
       "    }\n",
       "\n",
       "    .dataframe thead th {\n",
       "        text-align: right;\n",
       "    }\n",
       "</style>\n",
       "<table border=\"1\" class=\"dataframe\">\n",
       "  <thead>\n",
       "    <tr style=\"text-align: right;\">\n",
       "      <th></th>\n",
       "      <th>station_x</th>\n",
       "      <th>date</th>\n",
       "      <th>type</th>\n",
       "      <th>value_x</th>\n",
       "      <th>lat_x</th>\n",
       "      <th>lon_x</th>\n",
       "      <th>elevation_x</th>\n",
       "      <th>name_x</th>\n",
       "      <th>country_x</th>\n",
       "      <th>mollX_x</th>\n",
       "      <th>...</th>\n",
       "      <th>name_y</th>\n",
       "      <th>country_y</th>\n",
       "      <th>mollX_y</th>\n",
       "      <th>mollY_y</th>\n",
       "      <th>pop2015_y</th>\n",
       "      <th>popdens2015_y</th>\n",
       "      <th>NN_y</th>\n",
       "      <th>NN_dist_y</th>\n",
       "      <th>NN_elev_y</th>\n",
       "      <th>nn_elev_diff_y</th>\n",
       "    </tr>\n",
       "  </thead>\n",
       "  <tbody>\n",
       "    <tr>\n",
       "      <th>0</th>\n",
       "      <td>UVM00065518</td>\n",
       "      <td>2015-01-01</td>\n",
       "      <td>TMAX</td>\n",
       "      <td>320</td>\n",
       "      <td>11.15</td>\n",
       "      <td>-1.15</td>\n",
       "      <td>322.0</td>\n",
       "      <td>PO</td>\n",
       "      <td>UV</td>\n",
       "      <td>-113908.572098</td>\n",
       "      <td>...</td>\n",
       "      <td>NAVRONGO</td>\n",
       "      <td>GH</td>\n",
       "      <td>-109013.236409</td>\n",
       "      <td>1.344611e+06</td>\n",
       "      <td>0.0</td>\n",
       "      <td>0.0</td>\n",
       "      <td>UVM00065518</td>\n",
       "      <td>31079.500397</td>\n",
       "      <td>322.0</td>\n",
       "      <td>-119.0</td>\n",
       "    </tr>\n",
       "    <tr>\n",
       "      <th>1</th>\n",
       "      <td>UVM00065518</td>\n",
       "      <td>2015-01-01</td>\n",
       "      <td>TMIN</td>\n",
       "      <td>170</td>\n",
       "      <td>11.15</td>\n",
       "      <td>-1.15</td>\n",
       "      <td>322.0</td>\n",
       "      <td>PO</td>\n",
       "      <td>UV</td>\n",
       "      <td>-113908.572098</td>\n",
       "      <td>...</td>\n",
       "      <td>NAVRONGO</td>\n",
       "      <td>GH</td>\n",
       "      <td>-109013.236409</td>\n",
       "      <td>1.344611e+06</td>\n",
       "      <td>0.0</td>\n",
       "      <td>0.0</td>\n",
       "      <td>UVM00065518</td>\n",
       "      <td>31079.500397</td>\n",
       "      <td>322.0</td>\n",
       "      <td>-119.0</td>\n",
       "    </tr>\n",
       "    <tr>\n",
       "      <th>2</th>\n",
       "      <td>UVM00065518</td>\n",
       "      <td>2015-01-04</td>\n",
       "      <td>TMAX</td>\n",
       "      <td>306</td>\n",
       "      <td>11.15</td>\n",
       "      <td>-1.15</td>\n",
       "      <td>322.0</td>\n",
       "      <td>PO</td>\n",
       "      <td>UV</td>\n",
       "      <td>-113908.572098</td>\n",
       "      <td>...</td>\n",
       "      <td>NAVRONGO</td>\n",
       "      <td>GH</td>\n",
       "      <td>-109013.236409</td>\n",
       "      <td>1.344611e+06</td>\n",
       "      <td>0.0</td>\n",
       "      <td>0.0</td>\n",
       "      <td>UVM00065518</td>\n",
       "      <td>31079.500397</td>\n",
       "      <td>322.0</td>\n",
       "      <td>-119.0</td>\n",
       "    </tr>\n",
       "    <tr>\n",
       "      <th>3</th>\n",
       "      <td>UVM00065518</td>\n",
       "      <td>2015-01-15</td>\n",
       "      <td>TMIN</td>\n",
       "      <td>167</td>\n",
       "      <td>11.15</td>\n",
       "      <td>-1.15</td>\n",
       "      <td>322.0</td>\n",
       "      <td>PO</td>\n",
       "      <td>UV</td>\n",
       "      <td>-113908.572098</td>\n",
       "      <td>...</td>\n",
       "      <td>NAVRONGO</td>\n",
       "      <td>GH</td>\n",
       "      <td>-109013.236409</td>\n",
       "      <td>1.344611e+06</td>\n",
       "      <td>0.0</td>\n",
       "      <td>0.0</td>\n",
       "      <td>UVM00065518</td>\n",
       "      <td>31079.500397</td>\n",
       "      <td>322.0</td>\n",
       "      <td>-119.0</td>\n",
       "    </tr>\n",
       "    <tr>\n",
       "      <th>4</th>\n",
       "      <td>UVM00065518</td>\n",
       "      <td>2015-01-16</td>\n",
       "      <td>TMAX</td>\n",
       "      <td>341</td>\n",
       "      <td>11.15</td>\n",
       "      <td>-1.15</td>\n",
       "      <td>322.0</td>\n",
       "      <td>PO</td>\n",
       "      <td>UV</td>\n",
       "      <td>-113908.572098</td>\n",
       "      <td>...</td>\n",
       "      <td>NAVRONGO</td>\n",
       "      <td>GH</td>\n",
       "      <td>-109013.236409</td>\n",
       "      <td>1.344611e+06</td>\n",
       "      <td>0.0</td>\n",
       "      <td>0.0</td>\n",
       "      <td>UVM00065518</td>\n",
       "      <td>31079.500397</td>\n",
       "      <td>322.0</td>\n",
       "      <td>-119.0</td>\n",
       "    </tr>\n",
       "  </tbody>\n",
       "</table>\n",
       "<p>5 rows × 32 columns</p>\n",
       "</div>"
      ],
      "text/plain": [
       "     station_x       date  type  value_x  lat_x  lon_x  elevation_x name_x  \\\n",
       "0  UVM00065518 2015-01-01  TMAX      320  11.15  -1.15        322.0     PO   \n",
       "1  UVM00065518 2015-01-01  TMIN      170  11.15  -1.15        322.0     PO   \n",
       "2  UVM00065518 2015-01-04  TMAX      306  11.15  -1.15        322.0     PO   \n",
       "3  UVM00065518 2015-01-15  TMIN      167  11.15  -1.15        322.0     PO   \n",
       "4  UVM00065518 2015-01-16  TMAX      341  11.15  -1.15        322.0     PO   \n",
       "\n",
       "  country_x        mollX_x  ...    name_y  country_y        mollX_y  \\\n",
       "0        UV -113908.572098  ...  NAVRONGO         GH -109013.236409   \n",
       "1        UV -113908.572098  ...  NAVRONGO         GH -109013.236409   \n",
       "2        UV -113908.572098  ...  NAVRONGO         GH -109013.236409   \n",
       "3        UV -113908.572098  ...  NAVRONGO         GH -109013.236409   \n",
       "4        UV -113908.572098  ...  NAVRONGO         GH -109013.236409   \n",
       "\n",
       "        mollY_y  pop2015_y  popdens2015_y         NN_y     NN_dist_y  \\\n",
       "0  1.344611e+06        0.0            0.0  UVM00065518  31079.500397   \n",
       "1  1.344611e+06        0.0            0.0  UVM00065518  31079.500397   \n",
       "2  1.344611e+06        0.0            0.0  UVM00065518  31079.500397   \n",
       "3  1.344611e+06        0.0            0.0  UVM00065518  31079.500397   \n",
       "4  1.344611e+06        0.0            0.0  UVM00065518  31079.500397   \n",
       "\n",
       "   NN_elev_y  nn_elev_diff_y  \n",
       "0      322.0          -119.0  \n",
       "1      322.0          -119.0  \n",
       "2      322.0          -119.0  \n",
       "3      322.0          -119.0  \n",
       "4      322.0          -119.0  \n",
       "\n",
       "[5 rows x 32 columns]"
      ]
     },
     "execution_count": 10,
     "metadata": {},
     "output_type": "execute_result"
    }
   ],
   "source": [
    "data_2015 = data_2015.merge(data_2015, left_on=['NN','date','type'], right_on=['station','date','type'])\n",
    "data_2015.head()"
   ]
  },
  {
   "cell_type": "markdown",
   "metadata": {},
   "source": [
    "Clean up the extra columns we don't need:"
   ]
  },
  {
   "cell_type": "code",
   "execution_count": 11,
   "metadata": {},
   "outputs": [
    {
     "data": {
      "text/plain": [
       "Index(['station_x', 'date', 'type', 'value_x', 'lat_x', 'lon_x', 'elevation_x',\n",
       "       'name_x', 'country_x', 'mollX_x', 'mollY_x', 'pop2015_x',\n",
       "       'popdens2015_x', 'NN_x', 'NN_dist_x', 'NN_elev_x', 'nn_elev_diff_x',\n",
       "       'station_y', 'value_y', 'lat_y', 'lon_y', 'elevation_y', 'name_y',\n",
       "       'country_y', 'mollX_y', 'mollY_y', 'pop2015_y', 'popdens2015_y', 'NN_y',\n",
       "       'NN_dist_y', 'NN_elev_y', 'nn_elev_diff_y'],\n",
       "      dtype='object')"
      ]
     },
     "execution_count": 11,
     "metadata": {},
     "output_type": "execute_result"
    }
   ],
   "source": [
    "data_2015.columns"
   ]
  },
  {
   "cell_type": "code",
   "execution_count": 12,
   "metadata": {},
   "outputs": [
    {
     "data": {
      "text/plain": [
       "Index(['station_x', 'date', 'type', 'value_x', 'lat_x', 'lon_x', 'elevation_x',\n",
       "       'name_x', 'country_x', 'mollX_x', 'mollY_x', 'pop2015_x',\n",
       "       'popdens2015_x', 'NN_x', 'NN_dist_x', 'NN_elev_x', 'nn_elev_diff_x',\n",
       "       'value_y', 'lat_y', 'pop2015_y', 'popdens2015_y'],\n",
       "      dtype='object')"
      ]
     },
     "execution_count": 12,
     "metadata": {},
     "output_type": "execute_result"
    }
   ],
   "source": [
    "data_2015.drop(['station_y', 'lon_y', 'elevation_y', 'name_y',\n",
    "       'country_y', 'mollX_y', 'mollY_y', 'NN_y',\n",
    "       'NN_dist_y', 'NN_elev_y', 'nn_elev_diff_y'], axis=1, inplace=True)\n",
    "data_2015.columns"
   ]
  },
  {
   "cell_type": "markdown",
   "metadata": {},
   "source": [
    "Rename:"
   ]
  },
  {
   "cell_type": "code",
   "execution_count": 13,
   "metadata": {},
   "outputs": [
    {
     "data": {
      "text/html": [
       "<div>\n",
       "<style scoped>\n",
       "    .dataframe tbody tr th:only-of-type {\n",
       "        vertical-align: middle;\n",
       "    }\n",
       "\n",
       "    .dataframe tbody tr th {\n",
       "        vertical-align: top;\n",
       "    }\n",
       "\n",
       "    .dataframe thead th {\n",
       "        text-align: right;\n",
       "    }\n",
       "</style>\n",
       "<table border=\"1\" class=\"dataframe\">\n",
       "  <thead>\n",
       "    <tr style=\"text-align: right;\">\n",
       "      <th></th>\n",
       "      <th>station</th>\n",
       "      <th>date</th>\n",
       "      <th>type</th>\n",
       "      <th>value</th>\n",
       "      <th>lat</th>\n",
       "      <th>lon</th>\n",
       "      <th>elevation</th>\n",
       "      <th>name</th>\n",
       "      <th>country</th>\n",
       "      <th>mollX</th>\n",
       "      <th>...</th>\n",
       "      <th>pop2015</th>\n",
       "      <th>popdens2015</th>\n",
       "      <th>NN</th>\n",
       "      <th>NN_dist</th>\n",
       "      <th>NN_elev</th>\n",
       "      <th>nn_elev_diff</th>\n",
       "      <th>NN_value</th>\n",
       "      <th>NN_lat</th>\n",
       "      <th>NN_pop2015</th>\n",
       "      <th>NN_popdens2015</th>\n",
       "    </tr>\n",
       "  </thead>\n",
       "  <tbody>\n",
       "    <tr>\n",
       "      <th>0</th>\n",
       "      <td>UVM00065518</td>\n",
       "      <td>2015-01-01</td>\n",
       "      <td>TMAX</td>\n",
       "      <td>320</td>\n",
       "      <td>11.15</td>\n",
       "      <td>-1.15</td>\n",
       "      <td>322.0</td>\n",
       "      <td>PO</td>\n",
       "      <td>UV</td>\n",
       "      <td>-113908.572098</td>\n",
       "      <td>...</td>\n",
       "      <td>0.0</td>\n",
       "      <td>0.0</td>\n",
       "      <td>GHM00065401</td>\n",
       "      <td>31079.500397</td>\n",
       "      <td>203.0</td>\n",
       "      <td>119.0</td>\n",
       "      <td>335</td>\n",
       "      <td>10.9</td>\n",
       "      <td>0.0</td>\n",
       "      <td>0.0</td>\n",
       "    </tr>\n",
       "    <tr>\n",
       "      <th>1</th>\n",
       "      <td>UVM00065518</td>\n",
       "      <td>2015-01-01</td>\n",
       "      <td>TMIN</td>\n",
       "      <td>170</td>\n",
       "      <td>11.15</td>\n",
       "      <td>-1.15</td>\n",
       "      <td>322.0</td>\n",
       "      <td>PO</td>\n",
       "      <td>UV</td>\n",
       "      <td>-113908.572098</td>\n",
       "      <td>...</td>\n",
       "      <td>0.0</td>\n",
       "      <td>0.0</td>\n",
       "      <td>GHM00065401</td>\n",
       "      <td>31079.500397</td>\n",
       "      <td>203.0</td>\n",
       "      <td>119.0</td>\n",
       "      <td>175</td>\n",
       "      <td>10.9</td>\n",
       "      <td>0.0</td>\n",
       "      <td>0.0</td>\n",
       "    </tr>\n",
       "    <tr>\n",
       "      <th>2</th>\n",
       "      <td>UVM00065518</td>\n",
       "      <td>2015-01-04</td>\n",
       "      <td>TMAX</td>\n",
       "      <td>306</td>\n",
       "      <td>11.15</td>\n",
       "      <td>-1.15</td>\n",
       "      <td>322.0</td>\n",
       "      <td>PO</td>\n",
       "      <td>UV</td>\n",
       "      <td>-113908.572098</td>\n",
       "      <td>...</td>\n",
       "      <td>0.0</td>\n",
       "      <td>0.0</td>\n",
       "      <td>GHM00065401</td>\n",
       "      <td>31079.500397</td>\n",
       "      <td>203.0</td>\n",
       "      <td>119.0</td>\n",
       "      <td>326</td>\n",
       "      <td>10.9</td>\n",
       "      <td>0.0</td>\n",
       "      <td>0.0</td>\n",
       "    </tr>\n",
       "    <tr>\n",
       "      <th>3</th>\n",
       "      <td>UVM00065518</td>\n",
       "      <td>2015-01-15</td>\n",
       "      <td>TMIN</td>\n",
       "      <td>167</td>\n",
       "      <td>11.15</td>\n",
       "      <td>-1.15</td>\n",
       "      <td>322.0</td>\n",
       "      <td>PO</td>\n",
       "      <td>UV</td>\n",
       "      <td>-113908.572098</td>\n",
       "      <td>...</td>\n",
       "      <td>0.0</td>\n",
       "      <td>0.0</td>\n",
       "      <td>GHM00065401</td>\n",
       "      <td>31079.500397</td>\n",
       "      <td>203.0</td>\n",
       "      <td>119.0</td>\n",
       "      <td>189</td>\n",
       "      <td>10.9</td>\n",
       "      <td>0.0</td>\n",
       "      <td>0.0</td>\n",
       "    </tr>\n",
       "    <tr>\n",
       "      <th>4</th>\n",
       "      <td>UVM00065518</td>\n",
       "      <td>2015-01-16</td>\n",
       "      <td>TMAX</td>\n",
       "      <td>341</td>\n",
       "      <td>11.15</td>\n",
       "      <td>-1.15</td>\n",
       "      <td>322.0</td>\n",
       "      <td>PO</td>\n",
       "      <td>UV</td>\n",
       "      <td>-113908.572098</td>\n",
       "      <td>...</td>\n",
       "      <td>0.0</td>\n",
       "      <td>0.0</td>\n",
       "      <td>GHM00065401</td>\n",
       "      <td>31079.500397</td>\n",
       "      <td>203.0</td>\n",
       "      <td>119.0</td>\n",
       "      <td>351</td>\n",
       "      <td>10.9</td>\n",
       "      <td>0.0</td>\n",
       "      <td>0.0</td>\n",
       "    </tr>\n",
       "  </tbody>\n",
       "</table>\n",
       "<p>5 rows × 21 columns</p>\n",
       "</div>"
      ],
      "text/plain": [
       "      station        date  type  value    lat   lon  elevation name country  \\\n",
       "0  UVM00065518 2015-01-01  TMAX    320  11.15 -1.15      322.0   PO      UV   \n",
       "1  UVM00065518 2015-01-01  TMIN    170  11.15 -1.15      322.0   PO      UV   \n",
       "2  UVM00065518 2015-01-04  TMAX    306  11.15 -1.15      322.0   PO      UV   \n",
       "3  UVM00065518 2015-01-15  TMIN    167  11.15 -1.15      322.0   PO      UV   \n",
       "4  UVM00065518 2015-01-16  TMAX    341  11.15 -1.15      322.0   PO      UV   \n",
       "\n",
       "           mollX  ...  pop2015  popdens2015           NN       NN_dist  \\\n",
       "0 -113908.572098  ...      0.0          0.0  GHM00065401  31079.500397   \n",
       "1 -113908.572098  ...      0.0          0.0  GHM00065401  31079.500397   \n",
       "2 -113908.572098  ...      0.0          0.0  GHM00065401  31079.500397   \n",
       "3 -113908.572098  ...      0.0          0.0  GHM00065401  31079.500397   \n",
       "4 -113908.572098  ...      0.0          0.0  GHM00065401  31079.500397   \n",
       "\n",
       "   NN_elev  nn_elev_diff  NN_value  NN_lat  NN_pop2015  NN_popdens2015  \n",
       "0    203.0         119.0       335    10.9         0.0             0.0  \n",
       "1    203.0         119.0       175    10.9         0.0             0.0  \n",
       "2    203.0         119.0       326    10.9         0.0             0.0  \n",
       "3    203.0         119.0       189    10.9         0.0             0.0  \n",
       "4    203.0         119.0       351    10.9         0.0             0.0  \n",
       "\n",
       "[5 rows x 21 columns]"
      ]
     },
     "execution_count": 13,
     "metadata": {},
     "output_type": "execute_result"
    }
   ],
   "source": [
    "data_2015.rename(index=str, columns={\"station_x\": \"station \", \n",
    "                            \"value_x\": \"value\",\n",
    "                            'lat_x': 'lat', \n",
    "                            'lon_x': 'lon', \n",
    "                            'elevation_x': 'elevation',\n",
    "                            'name_x': 'name',\n",
    "                            'country_x': 'country', \n",
    "                            'mollX_x': 'mollX', \n",
    "                            'mollY_x': 'mollY', \n",
    "                            'pop2015_x': 'pop2015',\n",
    "                            'popdens2015_x': 'popdens2015', \n",
    "                            'NN_x': 'NN', \n",
    "                            'NN_dist_x': 'NN_dist', \n",
    "                            'NN_elev_x': 'NN_elev', \n",
    "                            'nn_elev_diff_x': 'nn_elev_diff',\n",
    "                            'value_y': 'NN_value',\n",
    "                            'lat_y': 'NN_lat',\n",
    "                            'pop2015_y': 'NN_pop2015',\n",
    "                            'popdens2015_y': 'NN_popdens2015'\n",
    "                            }, inplace=True)\n",
    "data_2015.head()"
   ]
  },
  {
   "cell_type": "markdown",
   "metadata": {},
   "source": [
    "The temperature values look weird, let's check the distribution:"
   ]
  },
  {
   "cell_type": "code",
   "execution_count": 14,
   "metadata": {},
   "outputs": [
    {
     "data": {
      "image/png": "[encoded data removed]",
      "text/plain": [
       "<Figure size 1008x720 with 1 Axes>"
      ]
     },
     "metadata": {
      "needs_background": "light"
     },
     "output_type": "display_data"
    }
   ],
   "source": [
    "plt.boxplot(data_2015[data_2015.type=='TMAX'].value)\n",
    "plt.show()"
   ]
  },
  {
   "cell_type": "markdown",
   "metadata": {},
   "source": [
    "Both the hight and low outliers go unrealistically far out (units are [tenths of degrees centigrade](https://www1.ncdc.noaa.gov/pub/data/ghcn/daily/readme.txt)). Let's keep them for now, though."
   ]
  },
  {
   "cell_type": "markdown",
   "metadata": {},
   "source": [
    "Next, we will calculate the difference between the measurement at the station and the measurement and the nearest neighbor, as well as the difference in latitude and population density:"
   ]
  },
  {
   "cell_type": "code",
   "execution_count": 15,
   "metadata": {},
   "outputs": [
    {
     "data": {
      "text/html": [
       "<div>\n",
       "<style scoped>\n",
       "    .dataframe tbody tr th:only-of-type {\n",
       "        vertical-align: middle;\n",
       "    }\n",
       "\n",
       "    .dataframe tbody tr th {\n",
       "        vertical-align: top;\n",
       "    }\n",
       "\n",
       "    .dataframe thead th {\n",
       "        text-align: right;\n",
       "    }\n",
       "</style>\n",
       "<table border=\"1\" class=\"dataframe\">\n",
       "  <thead>\n",
       "    <tr style=\"text-align: right;\">\n",
       "      <th></th>\n",
       "      <th>station</th>\n",
       "      <th>date</th>\n",
       "      <th>type</th>\n",
       "      <th>value</th>\n",
       "      <th>lat</th>\n",
       "      <th>lon</th>\n",
       "      <th>elevation</th>\n",
       "      <th>name</th>\n",
       "      <th>country</th>\n",
       "      <th>mollX</th>\n",
       "      <th>...</th>\n",
       "      <th>NN_dist</th>\n",
       "      <th>NN_elev</th>\n",
       "      <th>nn_elev_diff</th>\n",
       "      <th>NN_value</th>\n",
       "      <th>NN_lat</th>\n",
       "      <th>NN_pop2015</th>\n",
       "      <th>NN_popdens2015</th>\n",
       "      <th>nn_value_diff</th>\n",
       "      <th>nn_popdens_diff</th>\n",
       "      <th>nn_lat_diff</th>\n",
       "    </tr>\n",
       "  </thead>\n",
       "  <tbody>\n",
       "    <tr>\n",
       "      <th>0</th>\n",
       "      <td>UVM00065518</td>\n",
       "      <td>2015-01-01</td>\n",
       "      <td>TMAX</td>\n",
       "      <td>320</td>\n",
       "      <td>11.15</td>\n",
       "      <td>-1.15</td>\n",
       "      <td>322.0</td>\n",
       "      <td>PO</td>\n",
       "      <td>UV</td>\n",
       "      <td>-113908.572098</td>\n",
       "      <td>...</td>\n",
       "      <td>31079.500397</td>\n",
       "      <td>203.0</td>\n",
       "      <td>119.0</td>\n",
       "      <td>335</td>\n",
       "      <td>10.9</td>\n",
       "      <td>0.0</td>\n",
       "      <td>0.0</td>\n",
       "      <td>-15</td>\n",
       "      <td>0.0</td>\n",
       "      <td>0.25</td>\n",
       "    </tr>\n",
       "    <tr>\n",
       "      <th>1</th>\n",
       "      <td>UVM00065518</td>\n",
       "      <td>2015-01-01</td>\n",
       "      <td>TMIN</td>\n",
       "      <td>170</td>\n",
       "      <td>11.15</td>\n",
       "      <td>-1.15</td>\n",
       "      <td>322.0</td>\n",
       "      <td>PO</td>\n",
       "      <td>UV</td>\n",
       "      <td>-113908.572098</td>\n",
       "      <td>...</td>\n",
       "      <td>31079.500397</td>\n",
       "      <td>203.0</td>\n",
       "      <td>119.0</td>\n",
       "      <td>175</td>\n",
       "      <td>10.9</td>\n",
       "      <td>0.0</td>\n",
       "      <td>0.0</td>\n",
       "      <td>-5</td>\n",
       "      <td>0.0</td>\n",
       "      <td>0.25</td>\n",
       "    </tr>\n",
       "    <tr>\n",
       "      <th>2</th>\n",
       "      <td>UVM00065518</td>\n",
       "      <td>2015-01-04</td>\n",
       "      <td>TMAX</td>\n",
       "      <td>306</td>\n",
       "      <td>11.15</td>\n",
       "      <td>-1.15</td>\n",
       "      <td>322.0</td>\n",
       "      <td>PO</td>\n",
       "      <td>UV</td>\n",
       "      <td>-113908.572098</td>\n",
       "      <td>...</td>\n",
       "      <td>31079.500397</td>\n",
       "      <td>203.0</td>\n",
       "      <td>119.0</td>\n",
       "      <td>326</td>\n",
       "      <td>10.9</td>\n",
       "      <td>0.0</td>\n",
       "      <td>0.0</td>\n",
       "      <td>-20</td>\n",
       "      <td>0.0</td>\n",
       "      <td>0.25</td>\n",
       "    </tr>\n",
       "    <tr>\n",
       "      <th>3</th>\n",
       "      <td>UVM00065518</td>\n",
       "      <td>2015-01-15</td>\n",
       "      <td>TMIN</td>\n",
       "      <td>167</td>\n",
       "      <td>11.15</td>\n",
       "      <td>-1.15</td>\n",
       "      <td>322.0</td>\n",
       "      <td>PO</td>\n",
       "      <td>UV</td>\n",
       "      <td>-113908.572098</td>\n",
       "      <td>...</td>\n",
       "      <td>31079.500397</td>\n",
       "      <td>203.0</td>\n",
       "      <td>119.0</td>\n",
       "      <td>189</td>\n",
       "      <td>10.9</td>\n",
       "      <td>0.0</td>\n",
       "      <td>0.0</td>\n",
       "      <td>-22</td>\n",
       "      <td>0.0</td>\n",
       "      <td>0.25</td>\n",
       "    </tr>\n",
       "    <tr>\n",
       "      <th>4</th>\n",
       "      <td>UVM00065518</td>\n",
       "      <td>2015-01-16</td>\n",
       "      <td>TMAX</td>\n",
       "      <td>341</td>\n",
       "      <td>11.15</td>\n",
       "      <td>-1.15</td>\n",
       "      <td>322.0</td>\n",
       "      <td>PO</td>\n",
       "      <td>UV</td>\n",
       "      <td>-113908.572098</td>\n",
       "      <td>...</td>\n",
       "      <td>31079.500397</td>\n",
       "      <td>203.0</td>\n",
       "      <td>119.0</td>\n",
       "      <td>351</td>\n",
       "      <td>10.9</td>\n",
       "      <td>0.0</td>\n",
       "      <td>0.0</td>\n",
       "      <td>-10</td>\n",
       "      <td>0.0</td>\n",
       "      <td>0.25</td>\n",
       "    </tr>\n",
       "  </tbody>\n",
       "</table>\n",
       "<p>5 rows × 24 columns</p>\n",
       "</div>"
      ],
      "text/plain": [
       "      station        date  type  value    lat   lon  elevation name country  \\\n",
       "0  UVM00065518 2015-01-01  TMAX    320  11.15 -1.15      322.0   PO      UV   \n",
       "1  UVM00065518 2015-01-01  TMIN    170  11.15 -1.15      322.0   PO      UV   \n",
       "2  UVM00065518 2015-01-04  TMAX    306  11.15 -1.15      322.0   PO      UV   \n",
       "3  UVM00065518 2015-01-15  TMIN    167  11.15 -1.15      322.0   PO      UV   \n",
       "4  UVM00065518 2015-01-16  TMAX    341  11.15 -1.15      322.0   PO      UV   \n",
       "\n",
       "           mollX  ...       NN_dist  NN_elev  nn_elev_diff NN_value  NN_lat  \\\n",
       "0 -113908.572098  ...  31079.500397    203.0         119.0      335    10.9   \n",
       "1 -113908.572098  ...  31079.500397    203.0         119.0      175    10.9   \n",
       "2 -113908.572098  ...  31079.500397    203.0         119.0      326    10.9   \n",
       "3 -113908.572098  ...  31079.500397    203.0         119.0      189    10.9   \n",
       "4 -113908.572098  ...  31079.500397    203.0         119.0      351    10.9   \n",
       "\n",
       "   NN_pop2015  NN_popdens2015  nn_value_diff  nn_popdens_diff  nn_lat_diff  \n",
       "0         0.0             0.0            -15              0.0         0.25  \n",
       "1         0.0             0.0             -5              0.0         0.25  \n",
       "2         0.0             0.0            -20              0.0         0.25  \n",
       "3         0.0             0.0            -22              0.0         0.25  \n",
       "4         0.0             0.0            -10              0.0         0.25  \n",
       "\n",
       "[5 rows x 24 columns]"
      ]
     },
     "execution_count": 15,
     "metadata": {},
     "output_type": "execute_result"
    }
   ],
   "source": [
    "data_2015['nn_value_diff'] = data_2015['value'] - data_2015['NN_value']\n",
    "data_2015['nn_popdens_diff'] = data_2015['popdens2015'] - data_2015['NN_popdens2015']\n",
    "data_2015['nn_lat_diff'] = data_2015['lat'] - data_2015['NN_lat']\n",
    "data_2015.head()"
   ]
  },
  {
   "cell_type": "markdown",
   "metadata": {},
   "source": [
    "Before we look at elevation, quick sanity check: Plot temperature against latitude:"
   ]
  },
  {
   "cell_type": "code",
   "execution_count": 16,
   "metadata": {},
   "outputs": [
    {
     "data": {
      "image/png": "[encoded data removed]",
      "text/plain": [
       "<Figure size 1008x720 with 1 Axes>"
      ]
     },
     "metadata": {
      "needs_background": "light"
     },
     "output_type": "display_data"
    }
   ],
   "source": [
    "plt.scatter(data_2015['lat'], data_2015['value'])\n",
    "plt.title('Temperature by latitude')\n",
    "plt.show()"
   ]
  },
  {
   "cell_type": "markdown",
   "metadata": {},
   "source": [
    "That's much more messy than I thought. Let's group them by distance from the equator (abs. lat) and make a grouped box plot (for 5 degree latitude intervals). This is probably not the most elegant way to do the grouping, but it works ¯\\\\\\_(ツ)_/¯ "
   ]
  },
  {
   "cell_type": "code",
   "execution_count": 17,
   "metadata": {},
   "outputs": [
    {
     "data": {
      "text/plain": [
       "<matplotlib.axes._subplots.AxesSubplot at 0x122c8acc0>"
      ]
     },
     "execution_count": 17,
     "metadata": {},
     "output_type": "execute_result"
    },
    {
     "data": {
      "image/png": "[encoded data removed]",
      "text/plain": [
       "<Figure size 1008x720 with 1 Axes>"
      ]
     },
     "metadata": {
      "needs_background": "light"
     },
     "output_type": "display_data"
    }
   ],
   "source": [
    "data_2015['lat_group'] = (abs(data_2015.lat) // 5) * 5 # put in 5 degree lat. groups\n",
    "\n",
    "data_2015.boxplot(column = 'value', by= 'lat_group')"
   ]
  },
  {
   "cell_type": "markdown",
   "metadata": {},
   "source": [
    "Let's try the same for altitude. Also, we need to take into account how far from the eqator a station is. So we'll 'double-group' them by latitude group **and** altitude group, then we should see a clear trend _within_ each group:"
   ]
  },
  {
   "cell_type": "code",
   "execution_count": 18,
   "metadata": {},
   "outputs": [
    {
     "data": {
      "text/plain": [
       "<matplotlib.axes._subplots.AxesSubplot at 0x123068358>"
      ]
     },
     "execution_count": 18,
     "metadata": {},
     "output_type": "execute_result"
    },
    {
     "data": {
      "image/png": "[encoded data removed]",
      "text/plain": [
       "<Figure size 1584x864 with 1 Axes>"
      ]
     },
     "metadata": {
      "needs_background": "light"
     },
     "output_type": "display_data"
    }
   ],
   "source": [
    "# put in 250m groups\n",
    "data_2015['alt_group'] = (data_2015.elevation // 250) * 250\n",
    "\n",
    "data_2015.boxplot(column = 'value', by= ['lat_group', 'alt_group'], grid=False, figsize=(22.0,12.0), rot=90)"
   ]
  },
  {
   "cell_type": "markdown",
   "metadata": {},
   "source": [
    "Okay, so now we can plot the difference in temperature against the difference in elevation. We'll check whether the data is reasonably in line with the theoretical [dry adiabatic lapse rate](https://en.wikipedia.org/wiki/Lapse_rate#Dry_adiabatic_lapse_rate) of **9.8°C per km** altitude for each of the latitude groups:"
   ]
  },
  {
   "cell_type": "code",
   "execution_count": 19,
   "metadata": {},
   "outputs": [
    {
     "name": "stdout",
     "output_type": "stream",
     "text": [
      "0.0 -6.1224731013373646\n",
      "5.0 -6.690171844098325\n",
      "10.0 -6.110663179639322\n",
      "15.0 -4.225143114025643\n",
      "20.0 -2.498965974739666\n",
      "25.0 -4.936741395560389\n",
      "30.0 -4.2215234333609075\n",
      "35.0 -3.9075973709478253\n",
      "40.0 -3.1514031252016905\n",
      "45.0 -2.082984198172176\n",
      "50.0 -6.512062043350654\n",
      "55.0 -13.700358503546239\n",
      "60.0 -4.742651401431671\n",
      "65.0 -4.197743631641418\n",
      "70.0 -144.89396786143408\n",
      "75.0 122.01757766859032\n",
      "80.0 -258.2757503451098\n"
     ]
    }
   ],
   "source": [
    "# calculate regression line:\n",
    "for group in sorted(data_2015.lat_group.unique()):\n",
    "    slope, intercept, r_value, p_value, std_err = stats.linregress(data_2015[data_2015.lat_group == group].elevation,data_2015[data_2015.lat_group == group].value)\n",
    "    # units of the output are in 10th of a degree per meter; multiply by 100 to get degrees per kilometer\n",
    "    print(group,slope*100)"
   ]
  },
  {
   "cell_type": "markdown",
   "metadata": {},
   "source": [
    "Most of these look like they are more in the range of the [_moist_ adiabatic lapse rate](https://en.wikipedia.org/wiki/Lapse_rate#Moist_adiabatic_lapse_rate), which varies according to temperature, but is generally somewhere around 5°C per km. From about 60°, the lapse rates are closer to the dry adiabatic lapse rate, which makes sense (frost!), but beyond that, they are out of control. No idea what is going on there.\n",
    "\n",
    "Anyway, this whole grouping exercise doesn't seem to get us anywhere (besides showing that the data generally makes sense, bare the occasional outlier, and is in line with the theory). Let's try a multivariate regression. We'll calculate the difference in latitude and elevation between each station and it's neighbor, as well as the distance between them. Then we will check how much of the difference in temperature for a given day this model can explain, and see if we can find a correlation between the residual and population density at the station.\n",
    "\n",
    "Note that by using the difference between nearest neighbor stations, we can exclude the date from the model, since we compute these differences on the same day.\n",
    "\n",
    "First, deal with the minimum daily temperatures (TMIN):"
   ]
  },
  {
   "cell_type": "code",
   "execution_count": 20,
   "metadata": {},
   "outputs": [
    {
     "data": {
      "text/plain": [
       "LinearRegression(copy_X=True, fit_intercept=True, n_jobs=-1, normalize=False)"
      ]
     },
     "execution_count": 20,
     "metadata": {},
     "output_type": "execute_result"
    }
   ],
   "source": [
    "# independent variables:\n",
    "X = data_2015[data_2015.type == 'TMIN'][['NN_dist','nn_elev_diff','nn_lat_diff']]\n",
    "\n",
    "# dependent variable\n",
    "Y = data_2015[data_2015.type == 'TMIN']['nn_value_diff']\n",
    "\n",
    "regr_TMIN = linear_model.LinearRegression(n_jobs = -1) # use all processors\n",
    "regr_TMIN.fit(X, Y)"
   ]
  },
  {
   "cell_type": "markdown",
   "metadata": {},
   "source": [
    "Let's see how well that works by computing an [R<sup>2</sup> score](https://scikit-learn.org/stable/modules/generated/sklearn.linear_model.LinearRegression.html#sklearn.linear_model.LinearRegression.score) for all observations:"
   ]
  },
  {
   "cell_type": "code",
   "execution_count": 21,
   "metadata": {},
   "outputs": [
    {
     "data": {
      "text/plain": [
       "0.08173066637333137"
      ]
     },
     "execution_count": 21,
     "metadata": {},
     "output_type": "execute_result"
    }
   ],
   "source": [
    "regr_TMIN.score(X,Y)"
   ]
  },
  {
   "cell_type": "markdown",
   "metadata": {},
   "source": [
    "That's quite low. Let's try to include time in the equation (UHI only occurs in the summer, so including time should yield a better fit). First, let's try it with the day of the year. \n",
    "\n",
    "🔥 TODO: Also check the rest of the code for possible uses of apply/lambda instead of looping through the data frame."
   ]
  },
  {
   "cell_type": "code",
   "execution_count": 22,
   "metadata": {},
   "outputs": [
    {
     "data": {
      "text/html": [
       "<div>\n",
       "<style scoped>\n",
       "    .dataframe tbody tr th:only-of-type {\n",
       "        vertical-align: middle;\n",
       "    }\n",
       "\n",
       "    .dataframe tbody tr th {\n",
       "        vertical-align: top;\n",
       "    }\n",
       "\n",
       "    .dataframe thead th {\n",
       "        text-align: right;\n",
       "    }\n",
       "</style>\n",
       "<table border=\"1\" class=\"dataframe\">\n",
       "  <thead>\n",
       "    <tr style=\"text-align: right;\">\n",
       "      <th></th>\n",
       "      <th>station</th>\n",
       "      <th>date</th>\n",
       "      <th>type</th>\n",
       "      <th>value</th>\n",
       "      <th>lat</th>\n",
       "      <th>lon</th>\n",
       "      <th>elevation</th>\n",
       "      <th>name</th>\n",
       "      <th>country</th>\n",
       "      <th>mollX</th>\n",
       "      <th>...</th>\n",
       "      <th>NN_value</th>\n",
       "      <th>NN_lat</th>\n",
       "      <th>NN_pop2015</th>\n",
       "      <th>NN_popdens2015</th>\n",
       "      <th>nn_value_diff</th>\n",
       "      <th>nn_popdens_diff</th>\n",
       "      <th>nn_lat_diff</th>\n",
       "      <th>lat_group</th>\n",
       "      <th>alt_group</th>\n",
       "      <th>yday</th>\n",
       "    </tr>\n",
       "  </thead>\n",
       "  <tbody>\n",
       "    <tr>\n",
       "      <th>0</th>\n",
       "      <td>UVM00065518</td>\n",
       "      <td>2015-01-01</td>\n",
       "      <td>TMAX</td>\n",
       "      <td>320</td>\n",
       "      <td>11.15</td>\n",
       "      <td>-1.15</td>\n",
       "      <td>322.0</td>\n",
       "      <td>PO</td>\n",
       "      <td>UV</td>\n",
       "      <td>-113908.572098</td>\n",
       "      <td>...</td>\n",
       "      <td>335</td>\n",
       "      <td>10.9</td>\n",
       "      <td>0.0</td>\n",
       "      <td>0.0</td>\n",
       "      <td>-15</td>\n",
       "      <td>0.0</td>\n",
       "      <td>0.25</td>\n",
       "      <td>10.0</td>\n",
       "      <td>250.0</td>\n",
       "      <td>1</td>\n",
       "    </tr>\n",
       "    <tr>\n",
       "      <th>1</th>\n",
       "      <td>UVM00065518</td>\n",
       "      <td>2015-01-01</td>\n",
       "      <td>TMIN</td>\n",
       "      <td>170</td>\n",
       "      <td>11.15</td>\n",
       "      <td>-1.15</td>\n",
       "      <td>322.0</td>\n",
       "      <td>PO</td>\n",
       "      <td>UV</td>\n",
       "      <td>-113908.572098</td>\n",
       "      <td>...</td>\n",
       "      <td>175</td>\n",
       "      <td>10.9</td>\n",
       "      <td>0.0</td>\n",
       "      <td>0.0</td>\n",
       "      <td>-5</td>\n",
       "      <td>0.0</td>\n",
       "      <td>0.25</td>\n",
       "      <td>10.0</td>\n",
       "      <td>250.0</td>\n",
       "      <td>1</td>\n",
       "    </tr>\n",
       "    <tr>\n",
       "      <th>2</th>\n",
       "      <td>UVM00065518</td>\n",
       "      <td>2015-01-04</td>\n",
       "      <td>TMAX</td>\n",
       "      <td>306</td>\n",
       "      <td>11.15</td>\n",
       "      <td>-1.15</td>\n",
       "      <td>322.0</td>\n",
       "      <td>PO</td>\n",
       "      <td>UV</td>\n",
       "      <td>-113908.572098</td>\n",
       "      <td>...</td>\n",
       "      <td>326</td>\n",
       "      <td>10.9</td>\n",
       "      <td>0.0</td>\n",
       "      <td>0.0</td>\n",
       "      <td>-20</td>\n",
       "      <td>0.0</td>\n",
       "      <td>0.25</td>\n",
       "      <td>10.0</td>\n",
       "      <td>250.0</td>\n",
       "      <td>4</td>\n",
       "    </tr>\n",
       "    <tr>\n",
       "      <th>3</th>\n",
       "      <td>UVM00065518</td>\n",
       "      <td>2015-01-15</td>\n",
       "      <td>TMIN</td>\n",
       "      <td>167</td>\n",
       "      <td>11.15</td>\n",
       "      <td>-1.15</td>\n",
       "      <td>322.0</td>\n",
       "      <td>PO</td>\n",
       "      <td>UV</td>\n",
       "      <td>-113908.572098</td>\n",
       "      <td>...</td>\n",
       "      <td>189</td>\n",
       "      <td>10.9</td>\n",
       "      <td>0.0</td>\n",
       "      <td>0.0</td>\n",
       "      <td>-22</td>\n",
       "      <td>0.0</td>\n",
       "      <td>0.25</td>\n",
       "      <td>10.0</td>\n",
       "      <td>250.0</td>\n",
       "      <td>15</td>\n",
       "    </tr>\n",
       "    <tr>\n",
       "      <th>4</th>\n",
       "      <td>UVM00065518</td>\n",
       "      <td>2015-01-16</td>\n",
       "      <td>TMAX</td>\n",
       "      <td>341</td>\n",
       "      <td>11.15</td>\n",
       "      <td>-1.15</td>\n",
       "      <td>322.0</td>\n",
       "      <td>PO</td>\n",
       "      <td>UV</td>\n",
       "      <td>-113908.572098</td>\n",
       "      <td>...</td>\n",
       "      <td>351</td>\n",
       "      <td>10.9</td>\n",
       "      <td>0.0</td>\n",
       "      <td>0.0</td>\n",
       "      <td>-10</td>\n",
       "      <td>0.0</td>\n",
       "      <td>0.25</td>\n",
       "      <td>10.0</td>\n",
       "      <td>250.0</td>\n",
       "      <td>16</td>\n",
       "    </tr>\n",
       "    <tr>\n",
       "      <th>5</th>\n",
       "      <td>UVM00065518</td>\n",
       "      <td>2015-01-19</td>\n",
       "      <td>TMAX</td>\n",
       "      <td>353</td>\n",
       "      <td>11.15</td>\n",
       "      <td>-1.15</td>\n",
       "      <td>322.0</td>\n",
       "      <td>PO</td>\n",
       "      <td>UV</td>\n",
       "      <td>-113908.572098</td>\n",
       "      <td>...</td>\n",
       "      <td>372</td>\n",
       "      <td>10.9</td>\n",
       "      <td>0.0</td>\n",
       "      <td>0.0</td>\n",
       "      <td>-19</td>\n",
       "      <td>0.0</td>\n",
       "      <td>0.25</td>\n",
       "      <td>10.0</td>\n",
       "      <td>250.0</td>\n",
       "      <td>19</td>\n",
       "    </tr>\n",
       "    <tr>\n",
       "      <th>6</th>\n",
       "      <td>UVM00065518</td>\n",
       "      <td>2015-01-19</td>\n",
       "      <td>TMIN</td>\n",
       "      <td>177</td>\n",
       "      <td>11.15</td>\n",
       "      <td>-1.15</td>\n",
       "      <td>322.0</td>\n",
       "      <td>PO</td>\n",
       "      <td>UV</td>\n",
       "      <td>-113908.572098</td>\n",
       "      <td>...</td>\n",
       "      <td>189</td>\n",
       "      <td>10.9</td>\n",
       "      <td>0.0</td>\n",
       "      <td>0.0</td>\n",
       "      <td>-12</td>\n",
       "      <td>0.0</td>\n",
       "      <td>0.25</td>\n",
       "      <td>10.0</td>\n",
       "      <td>250.0</td>\n",
       "      <td>19</td>\n",
       "    </tr>\n",
       "    <tr>\n",
       "      <th>7</th>\n",
       "      <td>UVM00065518</td>\n",
       "      <td>2015-01-21</td>\n",
       "      <td>TMIN</td>\n",
       "      <td>194</td>\n",
       "      <td>11.15</td>\n",
       "      <td>-1.15</td>\n",
       "      <td>322.0</td>\n",
       "      <td>PO</td>\n",
       "      <td>UV</td>\n",
       "      <td>-113908.572098</td>\n",
       "      <td>...</td>\n",
       "      <td>200</td>\n",
       "      <td>10.9</td>\n",
       "      <td>0.0</td>\n",
       "      <td>0.0</td>\n",
       "      <td>-6</td>\n",
       "      <td>0.0</td>\n",
       "      <td>0.25</td>\n",
       "      <td>10.0</td>\n",
       "      <td>250.0</td>\n",
       "      <td>21</td>\n",
       "    </tr>\n",
       "    <tr>\n",
       "      <th>8</th>\n",
       "      <td>UVM00065518</td>\n",
       "      <td>2015-01-22</td>\n",
       "      <td>TMIN</td>\n",
       "      <td>222</td>\n",
       "      <td>11.15</td>\n",
       "      <td>-1.15</td>\n",
       "      <td>322.0</td>\n",
       "      <td>PO</td>\n",
       "      <td>UV</td>\n",
       "      <td>-113908.572098</td>\n",
       "      <td>...</td>\n",
       "      <td>228</td>\n",
       "      <td>10.9</td>\n",
       "      <td>0.0</td>\n",
       "      <td>0.0</td>\n",
       "      <td>-6</td>\n",
       "      <td>0.0</td>\n",
       "      <td>0.25</td>\n",
       "      <td>10.0</td>\n",
       "      <td>250.0</td>\n",
       "      <td>22</td>\n",
       "    </tr>\n",
       "    <tr>\n",
       "      <th>9</th>\n",
       "      <td>UVM00065518</td>\n",
       "      <td>2015-01-25</td>\n",
       "      <td>TMIN</td>\n",
       "      <td>207</td>\n",
       "      <td>11.15</td>\n",
       "      <td>-1.15</td>\n",
       "      <td>322.0</td>\n",
       "      <td>PO</td>\n",
       "      <td>UV</td>\n",
       "      <td>-113908.572098</td>\n",
       "      <td>...</td>\n",
       "      <td>201</td>\n",
       "      <td>10.9</td>\n",
       "      <td>0.0</td>\n",
       "      <td>0.0</td>\n",
       "      <td>6</td>\n",
       "      <td>0.0</td>\n",
       "      <td>0.25</td>\n",
       "      <td>10.0</td>\n",
       "      <td>250.0</td>\n",
       "      <td>25</td>\n",
       "    </tr>\n",
       "    <tr>\n",
       "      <th>10</th>\n",
       "      <td>UVM00065518</td>\n",
       "      <td>2015-01-26</td>\n",
       "      <td>TMIN</td>\n",
       "      <td>205</td>\n",
       "      <td>11.15</td>\n",
       "      <td>-1.15</td>\n",
       "      <td>322.0</td>\n",
       "      <td>PO</td>\n",
       "      <td>UV</td>\n",
       "      <td>-113908.572098</td>\n",
       "      <td>...</td>\n",
       "      <td>233</td>\n",
       "      <td>10.9</td>\n",
       "      <td>0.0</td>\n",
       "      <td>0.0</td>\n",
       "      <td>-28</td>\n",
       "      <td>0.0</td>\n",
       "      <td>0.25</td>\n",
       "      <td>10.0</td>\n",
       "      <td>250.0</td>\n",
       "      <td>26</td>\n",
       "    </tr>\n",
       "    <tr>\n",
       "      <th>11</th>\n",
       "      <td>UVM00065518</td>\n",
       "      <td>2015-01-27</td>\n",
       "      <td>TMIN</td>\n",
       "      <td>208</td>\n",
       "      <td>11.15</td>\n",
       "      <td>-1.15</td>\n",
       "      <td>322.0</td>\n",
       "      <td>PO</td>\n",
       "      <td>UV</td>\n",
       "      <td>-113908.572098</td>\n",
       "      <td>...</td>\n",
       "      <td>210</td>\n",
       "      <td>10.9</td>\n",
       "      <td>0.0</td>\n",
       "      <td>0.0</td>\n",
       "      <td>-2</td>\n",
       "      <td>0.0</td>\n",
       "      <td>0.25</td>\n",
       "      <td>10.0</td>\n",
       "      <td>250.0</td>\n",
       "      <td>27</td>\n",
       "    </tr>\n",
       "    <tr>\n",
       "      <th>12</th>\n",
       "      <td>UVM00065518</td>\n",
       "      <td>2015-01-30</td>\n",
       "      <td>TMIN</td>\n",
       "      <td>188</td>\n",
       "      <td>11.15</td>\n",
       "      <td>-1.15</td>\n",
       "      <td>322.0</td>\n",
       "      <td>PO</td>\n",
       "      <td>UV</td>\n",
       "      <td>-113908.572098</td>\n",
       "      <td>...</td>\n",
       "      <td>206</td>\n",
       "      <td>10.9</td>\n",
       "      <td>0.0</td>\n",
       "      <td>0.0</td>\n",
       "      <td>-18</td>\n",
       "      <td>0.0</td>\n",
       "      <td>0.25</td>\n",
       "      <td>10.0</td>\n",
       "      <td>250.0</td>\n",
       "      <td>30</td>\n",
       "    </tr>\n",
       "    <tr>\n",
       "      <th>13</th>\n",
       "      <td>UVM00065518</td>\n",
       "      <td>2015-01-31</td>\n",
       "      <td>TMIN</td>\n",
       "      <td>192</td>\n",
       "      <td>11.15</td>\n",
       "      <td>-1.15</td>\n",
       "      <td>322.0</td>\n",
       "      <td>PO</td>\n",
       "      <td>UV</td>\n",
       "      <td>-113908.572098</td>\n",
       "      <td>...</td>\n",
       "      <td>189</td>\n",
       "      <td>10.9</td>\n",
       "      <td>0.0</td>\n",
       "      <td>0.0</td>\n",
       "      <td>3</td>\n",
       "      <td>0.0</td>\n",
       "      <td>0.25</td>\n",
       "      <td>10.0</td>\n",
       "      <td>250.0</td>\n",
       "      <td>31</td>\n",
       "    </tr>\n",
       "    <tr>\n",
       "      <th>14</th>\n",
       "      <td>UVM00065518</td>\n",
       "      <td>2015-02-01</td>\n",
       "      <td>TMIN</td>\n",
       "      <td>219</td>\n",
       "      <td>11.15</td>\n",
       "      <td>-1.15</td>\n",
       "      <td>322.0</td>\n",
       "      <td>PO</td>\n",
       "      <td>UV</td>\n",
       "      <td>-113908.572098</td>\n",
       "      <td>...</td>\n",
       "      <td>205</td>\n",
       "      <td>10.9</td>\n",
       "      <td>0.0</td>\n",
       "      <td>0.0</td>\n",
       "      <td>14</td>\n",
       "      <td>0.0</td>\n",
       "      <td>0.25</td>\n",
       "      <td>10.0</td>\n",
       "      <td>250.0</td>\n",
       "      <td>32</td>\n",
       "    </tr>\n",
       "  </tbody>\n",
       "</table>\n",
       "<p>15 rows × 27 columns</p>\n",
       "</div>"
      ],
      "text/plain": [
       "       station        date  type  value    lat   lon  elevation name country  \\\n",
       "0   UVM00065518 2015-01-01  TMAX    320  11.15 -1.15      322.0   PO      UV   \n",
       "1   UVM00065518 2015-01-01  TMIN    170  11.15 -1.15      322.0   PO      UV   \n",
       "2   UVM00065518 2015-01-04  TMAX    306  11.15 -1.15      322.0   PO      UV   \n",
       "3   UVM00065518 2015-01-15  TMIN    167  11.15 -1.15      322.0   PO      UV   \n",
       "4   UVM00065518 2015-01-16  TMAX    341  11.15 -1.15      322.0   PO      UV   \n",
       "5   UVM00065518 2015-01-19  TMAX    353  11.15 -1.15      322.0   PO      UV   \n",
       "6   UVM00065518 2015-01-19  TMIN    177  11.15 -1.15      322.0   PO      UV   \n",
       "7   UVM00065518 2015-01-21  TMIN    194  11.15 -1.15      322.0   PO      UV   \n",
       "8   UVM00065518 2015-01-22  TMIN    222  11.15 -1.15      322.0   PO      UV   \n",
       "9   UVM00065518 2015-01-25  TMIN    207  11.15 -1.15      322.0   PO      UV   \n",
       "10  UVM00065518 2015-01-26  TMIN    205  11.15 -1.15      322.0   PO      UV   \n",
       "11  UVM00065518 2015-01-27  TMIN    208  11.15 -1.15      322.0   PO      UV   \n",
       "12  UVM00065518 2015-01-30  TMIN    188  11.15 -1.15      322.0   PO      UV   \n",
       "13  UVM00065518 2015-01-31  TMIN    192  11.15 -1.15      322.0   PO      UV   \n",
       "14  UVM00065518 2015-02-01  TMIN    219  11.15 -1.15      322.0   PO      UV   \n",
       "\n",
       "            mollX  ...  NN_value  NN_lat  NN_pop2015 NN_popdens2015  \\\n",
       "0  -113908.572098  ...       335    10.9         0.0            0.0   \n",
       "1  -113908.572098  ...       175    10.9         0.0            0.0   \n",
       "2  -113908.572098  ...       326    10.9         0.0            0.0   \n",
       "3  -113908.572098  ...       189    10.9         0.0            0.0   \n",
       "4  -113908.572098  ...       351    10.9         0.0            0.0   \n",
       "5  -113908.572098  ...       372    10.9         0.0            0.0   \n",
       "6  -113908.572098  ...       189    10.9         0.0            0.0   \n",
       "7  -113908.572098  ...       200    10.9         0.0            0.0   \n",
       "8  -113908.572098  ...       228    10.9         0.0            0.0   \n",
       "9  -113908.572098  ...       201    10.9         0.0            0.0   \n",
       "10 -113908.572098  ...       233    10.9         0.0            0.0   \n",
       "11 -113908.572098  ...       210    10.9         0.0            0.0   \n",
       "12 -113908.572098  ...       206    10.9         0.0            0.0   \n",
       "13 -113908.572098  ...       189    10.9         0.0            0.0   \n",
       "14 -113908.572098  ...       205    10.9         0.0            0.0   \n",
       "\n",
       "    nn_value_diff  nn_popdens_diff  nn_lat_diff  lat_group  alt_group  yday  \n",
       "0             -15              0.0         0.25       10.0      250.0     1  \n",
       "1              -5              0.0         0.25       10.0      250.0     1  \n",
       "2             -20              0.0         0.25       10.0      250.0     4  \n",
       "3             -22              0.0         0.25       10.0      250.0    15  \n",
       "4             -10              0.0         0.25       10.0      250.0    16  \n",
       "5             -19              0.0         0.25       10.0      250.0    19  \n",
       "6             -12              0.0         0.25       10.0      250.0    19  \n",
       "7              -6              0.0         0.25       10.0      250.0    21  \n",
       "8              -6              0.0         0.25       10.0      250.0    22  \n",
       "9               6              0.0         0.25       10.0      250.0    25  \n",
       "10            -28              0.0         0.25       10.0      250.0    26  \n",
       "11             -2              0.0         0.25       10.0      250.0    27  \n",
       "12            -18              0.0         0.25       10.0      250.0    30  \n",
       "13              3              0.0         0.25       10.0      250.0    31  \n",
       "14             14              0.0         0.25       10.0      250.0    32  \n",
       "\n",
       "[15 rows x 27 columns]"
      ]
     },
     "execution_count": 22,
     "metadata": {},
     "output_type": "execute_result"
    }
   ],
   "source": [
    "data_2015['yday'] = data_2015['date'].apply(lambda x: x.timetuple().tm_yday)\n",
    "data_2015.head(15)"
   ]
  },
  {
   "cell_type": "code",
   "execution_count": 23,
   "metadata": {},
   "outputs": [
    {
     "data": {
      "text/plain": [
       "station                    USW00024229\n",
       "date               2015-02-18 00:00:00\n",
       "type                              TMAX\n",
       "value                              133\n",
       "lat                            45.5908\n",
       "lon                             -122.6\n",
       "elevation                          5.8\n",
       "name                  PORTLAND INTL AP\n",
       "country                             US\n",
       "mollX                     -9.83785e+06\n",
       "mollY                      5.40422e+06\n",
       "pop2015                              0\n",
       "popdens2015                          0\n",
       "NN                         USW00094298\n",
       "NN_dist                        3477.34\n",
       "NN_elev                            9.1\n",
       "nn_elev_diff                      -3.3\n",
       "NN_value                           133\n",
       "NN_lat                         45.6208\n",
       "NN_pop2015                    0.139279\n",
       "NN_popdens2015                 2.22847\n",
       "nn_value_diff                        0\n",
       "nn_popdens_diff               -2.22847\n",
       "nn_lat_diff                      -0.03\n",
       "lat_group                           45\n",
       "alt_group                            0\n",
       "yday                                49\n",
       "Name: 300, dtype: object"
      ]
     },
     "execution_count": 23,
     "metadata": {},
     "output_type": "execute_result"
    }
   ],
   "source": [
    "data_2015.iloc[300]"
   ]
  },
  {
   "cell_type": "markdown",
   "metadata": {},
   "source": [
    "Build another regression model, but with day of the year as additional independent variable:"
   ]
  },
  {
   "cell_type": "code",
   "execution_count": 24,
   "metadata": {},
   "outputs": [
    {
     "data": {
      "text/plain": [
       "0.08173598561619799"
      ]
     },
     "execution_count": 24,
     "metadata": {},
     "output_type": "execute_result"
    }
   ],
   "source": [
    "# independent variables:\n",
    "X = data_2015[data_2015.type == 'TMIN'][['NN_dist','nn_elev_diff','nn_lat_diff','yday']]\n",
    "\n",
    "# dependent variable\n",
    "Y = data_2015[data_2015.type == 'TMIN']['nn_value_diff']\n",
    "\n",
    "regr_TMIN_time = linear_model.LinearRegression(n_jobs = -1) # use all processors\n",
    "regr_TMIN_time.fit(X, Y)\n",
    "regr_TMIN_time.score(X, Y)"
   ]
  },
  {
   "cell_type": "markdown",
   "metadata": {},
   "source": [
    "Okay, (almost) no difference at all. This is a bit weird. Anyway, let's take a look at the residuals and plot them against difference in population density. We need to calculate the residuals first:"
   ]
  },
  {
   "cell_type": "code",
   "execution_count": 25,
   "metadata": {},
   "outputs": [
    {
     "data": {
      "text/html": [
       "<div>\n",
       "<style scoped>\n",
       "    .dataframe tbody tr th:only-of-type {\n",
       "        vertical-align: middle;\n",
       "    }\n",
       "\n",
       "    .dataframe tbody tr th {\n",
       "        vertical-align: top;\n",
       "    }\n",
       "\n",
       "    .dataframe thead th {\n",
       "        text-align: right;\n",
       "    }\n",
       "</style>\n",
       "<table border=\"1\" class=\"dataframe\">\n",
       "  <thead>\n",
       "    <tr style=\"text-align: right;\">\n",
       "      <th></th>\n",
       "      <th>station</th>\n",
       "      <th>date</th>\n",
       "      <th>type</th>\n",
       "      <th>value</th>\n",
       "      <th>lat</th>\n",
       "      <th>lon</th>\n",
       "      <th>elevation</th>\n",
       "      <th>name</th>\n",
       "      <th>country</th>\n",
       "      <th>mollX</th>\n",
       "      <th>...</th>\n",
       "      <th>NN_lat</th>\n",
       "      <th>NN_pop2015</th>\n",
       "      <th>NN_popdens2015</th>\n",
       "      <th>nn_value_diff</th>\n",
       "      <th>nn_popdens_diff</th>\n",
       "      <th>nn_lat_diff</th>\n",
       "      <th>lat_group</th>\n",
       "      <th>alt_group</th>\n",
       "      <th>yday</th>\n",
       "      <th>predicted_diff</th>\n",
       "    </tr>\n",
       "  </thead>\n",
       "  <tbody>\n",
       "    <tr>\n",
       "      <th>1</th>\n",
       "      <td>UVM00065518</td>\n",
       "      <td>2015-01-01</td>\n",
       "      <td>TMIN</td>\n",
       "      <td>170</td>\n",
       "      <td>11.15</td>\n",
       "      <td>-1.15</td>\n",
       "      <td>322.0</td>\n",
       "      <td>PO</td>\n",
       "      <td>UV</td>\n",
       "      <td>-113908.572098</td>\n",
       "      <td>...</td>\n",
       "      <td>10.9</td>\n",
       "      <td>0.0</td>\n",
       "      <td>0.0</td>\n",
       "      <td>-5</td>\n",
       "      <td>0.0</td>\n",
       "      <td>0.25</td>\n",
       "      <td>10.0</td>\n",
       "      <td>250.0</td>\n",
       "      <td>1</td>\n",
       "      <td>-3.489695</td>\n",
       "    </tr>\n",
       "    <tr>\n",
       "      <th>3</th>\n",
       "      <td>UVM00065518</td>\n",
       "      <td>2015-01-15</td>\n",
       "      <td>TMIN</td>\n",
       "      <td>167</td>\n",
       "      <td>11.15</td>\n",
       "      <td>-1.15</td>\n",
       "      <td>322.0</td>\n",
       "      <td>PO</td>\n",
       "      <td>UV</td>\n",
       "      <td>-113908.572098</td>\n",
       "      <td>...</td>\n",
       "      <td>10.9</td>\n",
       "      <td>0.0</td>\n",
       "      <td>0.0</td>\n",
       "      <td>-22</td>\n",
       "      <td>0.0</td>\n",
       "      <td>0.25</td>\n",
       "      <td>10.0</td>\n",
       "      <td>250.0</td>\n",
       "      <td>15</td>\n",
       "      <td>-3.500842</td>\n",
       "    </tr>\n",
       "    <tr>\n",
       "      <th>6</th>\n",
       "      <td>UVM00065518</td>\n",
       "      <td>2015-01-19</td>\n",
       "      <td>TMIN</td>\n",
       "      <td>177</td>\n",
       "      <td>11.15</td>\n",
       "      <td>-1.15</td>\n",
       "      <td>322.0</td>\n",
       "      <td>PO</td>\n",
       "      <td>UV</td>\n",
       "      <td>-113908.572098</td>\n",
       "      <td>...</td>\n",
       "      <td>10.9</td>\n",
       "      <td>0.0</td>\n",
       "      <td>0.0</td>\n",
       "      <td>-12</td>\n",
       "      <td>0.0</td>\n",
       "      <td>0.25</td>\n",
       "      <td>10.0</td>\n",
       "      <td>250.0</td>\n",
       "      <td>19</td>\n",
       "      <td>-3.504026</td>\n",
       "    </tr>\n",
       "    <tr>\n",
       "      <th>7</th>\n",
       "      <td>UVM00065518</td>\n",
       "      <td>2015-01-21</td>\n",
       "      <td>TMIN</td>\n",
       "      <td>194</td>\n",
       "      <td>11.15</td>\n",
       "      <td>-1.15</td>\n",
       "      <td>322.0</td>\n",
       "      <td>PO</td>\n",
       "      <td>UV</td>\n",
       "      <td>-113908.572098</td>\n",
       "      <td>...</td>\n",
       "      <td>10.9</td>\n",
       "      <td>0.0</td>\n",
       "      <td>0.0</td>\n",
       "      <td>-6</td>\n",
       "      <td>0.0</td>\n",
       "      <td>0.25</td>\n",
       "      <td>10.0</td>\n",
       "      <td>250.0</td>\n",
       "      <td>21</td>\n",
       "      <td>-3.505618</td>\n",
       "    </tr>\n",
       "    <tr>\n",
       "      <th>8</th>\n",
       "      <td>UVM00065518</td>\n",
       "      <td>2015-01-22</td>\n",
       "      <td>TMIN</td>\n",
       "      <td>222</td>\n",
       "      <td>11.15</td>\n",
       "      <td>-1.15</td>\n",
       "      <td>322.0</td>\n",
       "      <td>PO</td>\n",
       "      <td>UV</td>\n",
       "      <td>-113908.572098</td>\n",
       "      <td>...</td>\n",
       "      <td>10.9</td>\n",
       "      <td>0.0</td>\n",
       "      <td>0.0</td>\n",
       "      <td>-6</td>\n",
       "      <td>0.0</td>\n",
       "      <td>0.25</td>\n",
       "      <td>10.0</td>\n",
       "      <td>250.0</td>\n",
       "      <td>22</td>\n",
       "      <td>-3.506415</td>\n",
       "    </tr>\n",
       "  </tbody>\n",
       "</table>\n",
       "<p>5 rows × 28 columns</p>\n",
       "</div>"
      ],
      "text/plain": [
       "      station        date  type  value    lat   lon  elevation name country  \\\n",
       "1  UVM00065518 2015-01-01  TMIN    170  11.15 -1.15      322.0   PO      UV   \n",
       "3  UVM00065518 2015-01-15  TMIN    167  11.15 -1.15      322.0   PO      UV   \n",
       "6  UVM00065518 2015-01-19  TMIN    177  11.15 -1.15      322.0   PO      UV   \n",
       "7  UVM00065518 2015-01-21  TMIN    194  11.15 -1.15      322.0   PO      UV   \n",
       "8  UVM00065518 2015-01-22  TMIN    222  11.15 -1.15      322.0   PO      UV   \n",
       "\n",
       "           mollX  ...  NN_lat  NN_pop2015  NN_popdens2015 nn_value_diff  \\\n",
       "1 -113908.572098  ...    10.9         0.0             0.0            -5   \n",
       "3 -113908.572098  ...    10.9         0.0             0.0           -22   \n",
       "6 -113908.572098  ...    10.9         0.0             0.0           -12   \n",
       "7 -113908.572098  ...    10.9         0.0             0.0            -6   \n",
       "8 -113908.572098  ...    10.9         0.0             0.0            -6   \n",
       "\n",
       "   nn_popdens_diff  nn_lat_diff  lat_group  alt_group  yday  predicted_diff  \n",
       "1              0.0         0.25       10.0      250.0     1       -3.489695  \n",
       "3              0.0         0.25       10.0      250.0    15       -3.500842  \n",
       "6              0.0         0.25       10.0      250.0    19       -3.504026  \n",
       "7              0.0         0.25       10.0      250.0    21       -3.505618  \n",
       "8              0.0         0.25       10.0      250.0    22       -3.506415  \n",
       "\n",
       "[5 rows x 28 columns]"
      ]
     },
     "execution_count": 25,
     "metadata": {},
     "output_type": "execute_result"
    }
   ],
   "source": [
    "data_2015['predicted_diff'] = regr_TMIN_time.predict(data_2015[['NN_dist','nn_elev_diff','nn_lat_diff','yday']])\n",
    "data_2015[data_2015.type == 'TMIN'].head()"
   ]
  },
  {
   "cell_type": "code",
   "execution_count": 26,
   "metadata": {},
   "outputs": [
    {
     "data": {
      "text/html": [
       "<div>\n",
       "<style scoped>\n",
       "    .dataframe tbody tr th:only-of-type {\n",
       "        vertical-align: middle;\n",
       "    }\n",
       "\n",
       "    .dataframe tbody tr th {\n",
       "        vertical-align: top;\n",
       "    }\n",
       "\n",
       "    .dataframe thead th {\n",
       "        text-align: right;\n",
       "    }\n",
       "</style>\n",
       "<table border=\"1\" class=\"dataframe\">\n",
       "  <thead>\n",
       "    <tr style=\"text-align: right;\">\n",
       "      <th></th>\n",
       "      <th>station</th>\n",
       "      <th>date</th>\n",
       "      <th>type</th>\n",
       "      <th>value</th>\n",
       "      <th>lat</th>\n",
       "      <th>lon</th>\n",
       "      <th>elevation</th>\n",
       "      <th>name</th>\n",
       "      <th>country</th>\n",
       "      <th>mollX</th>\n",
       "      <th>...</th>\n",
       "      <th>NN_pop2015</th>\n",
       "      <th>NN_popdens2015</th>\n",
       "      <th>nn_value_diff</th>\n",
       "      <th>nn_popdens_diff</th>\n",
       "      <th>nn_lat_diff</th>\n",
       "      <th>lat_group</th>\n",
       "      <th>alt_group</th>\n",
       "      <th>yday</th>\n",
       "      <th>predicted_diff</th>\n",
       "      <th>residual</th>\n",
       "    </tr>\n",
       "  </thead>\n",
       "  <tbody>\n",
       "    <tr>\n",
       "      <th>0</th>\n",
       "      <td>UVM00065518</td>\n",
       "      <td>2015-01-01</td>\n",
       "      <td>TMAX</td>\n",
       "      <td>320</td>\n",
       "      <td>11.15</td>\n",
       "      <td>-1.15</td>\n",
       "      <td>322.0</td>\n",
       "      <td>PO</td>\n",
       "      <td>UV</td>\n",
       "      <td>-113908.572098</td>\n",
       "      <td>...</td>\n",
       "      <td>0.0</td>\n",
       "      <td>0.0</td>\n",
       "      <td>-15</td>\n",
       "      <td>0.0</td>\n",
       "      <td>0.25</td>\n",
       "      <td>10.0</td>\n",
       "      <td>250.0</td>\n",
       "      <td>1</td>\n",
       "      <td>-3.489695</td>\n",
       "      <td>-11.510305</td>\n",
       "    </tr>\n",
       "    <tr>\n",
       "      <th>1</th>\n",
       "      <td>UVM00065518</td>\n",
       "      <td>2015-01-01</td>\n",
       "      <td>TMIN</td>\n",
       "      <td>170</td>\n",
       "      <td>11.15</td>\n",
       "      <td>-1.15</td>\n",
       "      <td>322.0</td>\n",
       "      <td>PO</td>\n",
       "      <td>UV</td>\n",
       "      <td>-113908.572098</td>\n",
       "      <td>...</td>\n",
       "      <td>0.0</td>\n",
       "      <td>0.0</td>\n",
       "      <td>-5</td>\n",
       "      <td>0.0</td>\n",
       "      <td>0.25</td>\n",
       "      <td>10.0</td>\n",
       "      <td>250.0</td>\n",
       "      <td>1</td>\n",
       "      <td>-3.489695</td>\n",
       "      <td>-1.510305</td>\n",
       "    </tr>\n",
       "    <tr>\n",
       "      <th>2</th>\n",
       "      <td>UVM00065518</td>\n",
       "      <td>2015-01-04</td>\n",
       "      <td>TMAX</td>\n",
       "      <td>306</td>\n",
       "      <td>11.15</td>\n",
       "      <td>-1.15</td>\n",
       "      <td>322.0</td>\n",
       "      <td>PO</td>\n",
       "      <td>UV</td>\n",
       "      <td>-113908.572098</td>\n",
       "      <td>...</td>\n",
       "      <td>0.0</td>\n",
       "      <td>0.0</td>\n",
       "      <td>-20</td>\n",
       "      <td>0.0</td>\n",
       "      <td>0.25</td>\n",
       "      <td>10.0</td>\n",
       "      <td>250.0</td>\n",
       "      <td>4</td>\n",
       "      <td>-3.492084</td>\n",
       "      <td>-16.507916</td>\n",
       "    </tr>\n",
       "    <tr>\n",
       "      <th>3</th>\n",
       "      <td>UVM00065518</td>\n",
       "      <td>2015-01-15</td>\n",
       "      <td>TMIN</td>\n",
       "      <td>167</td>\n",
       "      <td>11.15</td>\n",
       "      <td>-1.15</td>\n",
       "      <td>322.0</td>\n",
       "      <td>PO</td>\n",
       "      <td>UV</td>\n",
       "      <td>-113908.572098</td>\n",
       "      <td>...</td>\n",
       "      <td>0.0</td>\n",
       "      <td>0.0</td>\n",
       "      <td>-22</td>\n",
       "      <td>0.0</td>\n",
       "      <td>0.25</td>\n",
       "      <td>10.0</td>\n",
       "      <td>250.0</td>\n",
       "      <td>15</td>\n",
       "      <td>-3.500842</td>\n",
       "      <td>-18.499158</td>\n",
       "    </tr>\n",
       "    <tr>\n",
       "      <th>4</th>\n",
       "      <td>UVM00065518</td>\n",
       "      <td>2015-01-16</td>\n",
       "      <td>TMAX</td>\n",
       "      <td>341</td>\n",
       "      <td>11.15</td>\n",
       "      <td>-1.15</td>\n",
       "      <td>322.0</td>\n",
       "      <td>PO</td>\n",
       "      <td>UV</td>\n",
       "      <td>-113908.572098</td>\n",
       "      <td>...</td>\n",
       "      <td>0.0</td>\n",
       "      <td>0.0</td>\n",
       "      <td>-10</td>\n",
       "      <td>0.0</td>\n",
       "      <td>0.25</td>\n",
       "      <td>10.0</td>\n",
       "      <td>250.0</td>\n",
       "      <td>16</td>\n",
       "      <td>-3.501638</td>\n",
       "      <td>-6.498362</td>\n",
       "    </tr>\n",
       "  </tbody>\n",
       "</table>\n",
       "<p>5 rows × 29 columns</p>\n",
       "</div>"
      ],
      "text/plain": [
       "      station        date  type  value    lat   lon  elevation name country  \\\n",
       "0  UVM00065518 2015-01-01  TMAX    320  11.15 -1.15      322.0   PO      UV   \n",
       "1  UVM00065518 2015-01-01  TMIN    170  11.15 -1.15      322.0   PO      UV   \n",
       "2  UVM00065518 2015-01-04  TMAX    306  11.15 -1.15      322.0   PO      UV   \n",
       "3  UVM00065518 2015-01-15  TMIN    167  11.15 -1.15      322.0   PO      UV   \n",
       "4  UVM00065518 2015-01-16  TMAX    341  11.15 -1.15      322.0   PO      UV   \n",
       "\n",
       "           mollX  ...  NN_pop2015  NN_popdens2015  nn_value_diff  \\\n",
       "0 -113908.572098  ...         0.0             0.0            -15   \n",
       "1 -113908.572098  ...         0.0             0.0             -5   \n",
       "2 -113908.572098  ...         0.0             0.0            -20   \n",
       "3 -113908.572098  ...         0.0             0.0            -22   \n",
       "4 -113908.572098  ...         0.0             0.0            -10   \n",
       "\n",
       "  nn_popdens_diff  nn_lat_diff  lat_group  alt_group  yday  predicted_diff  \\\n",
       "0             0.0         0.25       10.0      250.0     1       -3.489695   \n",
       "1             0.0         0.25       10.0      250.0     1       -3.489695   \n",
       "2             0.0         0.25       10.0      250.0     4       -3.492084   \n",
       "3             0.0         0.25       10.0      250.0    15       -3.500842   \n",
       "4             0.0         0.25       10.0      250.0    16       -3.501638   \n",
       "\n",
       "    residual  \n",
       "0 -11.510305  \n",
       "1  -1.510305  \n",
       "2 -16.507916  \n",
       "3 -18.499158  \n",
       "4  -6.498362  \n",
       "\n",
       "[5 rows x 29 columns]"
      ]
     },
     "execution_count": 26,
     "metadata": {},
     "output_type": "execute_result"
    }
   ],
   "source": [
    "data_2015['residual'] = data_2015['nn_value_diff'] - data_2015['predicted_diff']\n",
    "data_2015.head()"
   ]
  },
  {
   "cell_type": "markdown",
   "metadata": {},
   "source": [
    "Save a snapshot of the data:"
   ]
  },
  {
   "cell_type": "code",
   "execution_count": 32,
   "metadata": {},
   "outputs": [],
   "source": [
    "file = 'data_2015_complete.csv'\n",
    "\n",
    "if not (os.path.isfile(file)):\n",
    "    data_2015.to_csv(file)\n",
    "else:\n",
    "    print(\"File already saved.\")"
   ]
  },
  {
   "cell_type": "markdown",
   "metadata": {},
   "source": [
    "🏁"
   ]
  },
  {
   "cell_type": "code",
   "execution_count": 33,
   "metadata": {},
   "outputs": [
    {
     "name": "stderr",
     "output_type": "stream",
     "text": [
      "/Users/carsten/miniconda3/envs/UHI-NOAA/lib/python3.6/site-packages/numpy/lib/arraysetops.py:569: FutureWarning: elementwise comparison failed; returning scalar instead, but in the future will perform elementwise comparison\n",
      "  mask |= (ar1 == a)\n"
     ]
    }
   ],
   "source": [
    "data_2015 = pd.read_csv('data_2015_complete.csv', index_col=0)"
   ]
  },
  {
   "cell_type": "code",
   "execution_count": 27,
   "metadata": {},
   "outputs": [
    {
     "data": {
      "image/png": "[encoded data removed]",
      "text/plain": [
       "<Figure size 1008x720 with 1 Axes>"
      ]
     },
     "metadata": {
      "needs_background": "light"
     },
     "output_type": "display_data"
    }
   ],
   "source": [
    "plt.scatter(data_2015[data_2015.type == 'TMIN']['nn_popdens_diff'], \n",
    "            data_2015[data_2015.type == 'TMIN']['residual'])\n",
    "plt.title('Temperature difference residual by population density difference')\n",
    "plt.show()"
   ]
  },
  {
   "cell_type": "markdown",
   "metadata": {},
   "source": [
    "Hm, no clear trend to see here ☹️\n",
    "\n",
    "There are two issues here: \n",
    "\n",
    "1. Each pair of nearest neighbor stations appears twice, once with A as nearest neighbor of B, and once with B as nearst neighbor of A – and this applies to all 365 measurements made in 2015. This basically means we can get rid of the whole negative section of the scatter plot above on both axes.\n",
    "2. We are really only interested in the trend for the stations where there is a population difference. So we'll do this again, but only for the stations where there is a difference in population density of at least 100 people per km<sup>2</sup>:"
   ]
  },
  {
   "cell_type": "code",
   "execution_count": 28,
   "metadata": {},
   "outputs": [
    {
     "data": {
      "text/plain": [
       "Text(0.5, 1.0, 'Daily MINIMUM temperature residual by population density difference (log/log scale)')"
      ]
     },
     "execution_count": 28,
     "metadata": {},
     "output_type": "execute_result"
    },
    {
     "data": {
      "image/png": "[encoded data removed]",
      "text/plain": [
       "<Figure size 1008x720 with 1 Axes>"
      ]
     },
     "metadata": {
      "needs_background": "light"
     },
     "output_type": "display_data"
    }
   ],
   "source": [
    "tmin = (data_2015.type == 'TMIN')\n",
    "morethan100 = (data_2015.nn_popdens_diff >= 100)\n",
    "\n",
    "x = data_2015[tmin & morethan100]['nn_popdens_diff']\n",
    "y = (data_2015[tmin & morethan100]['residual']) / 10\n",
    "\n",
    "fig = plt.figure()\n",
    "ax = plt.gca()\n",
    "# scatter\n",
    "ax.plot(x, y, 'o', c='blue', alpha=0.05, markeredgecolor='none')\n",
    "# plynomial fit line\n",
    "ax.plot(np.unique(x), np.poly1d(np.polyfit(x, y, 1))(np.unique(x)), c='red')\n",
    "    \n",
    "#ax.set_xscale('log')\n",
    "#ax.set_yscale('log')\n",
    "\n",
    "# axis labels\n",
    "plt.xlabel(\"Difference in population density between neighboring stations\")\n",
    "plt.ylabel(\"Difference in temperature between neighboring stations (after adjusting for lat and elevation)\")\n",
    "\n",
    "# don't show the outliers in the scatter (buyt they are still used to fit the line!)\n",
    "ax.set_ylim([0.01,15])\n",
    "\n",
    "plt.grid(True)\n",
    "plt.title('Daily MINIMUM temperature residual by population density difference (log/log scale)')"
   ]
  },
  {
   "cell_type": "markdown",
   "metadata": {},
   "source": [
    "Let's do the same for max:"
   ]
  },
  {
   "cell_type": "code",
   "execution_count": 29,
   "metadata": {},
   "outputs": [
    {
     "data": {
      "text/plain": [
       "Text(0.5, 1.0, 'Daily MAXIMUM temperature residual by population density difference (log/log scale)')"
      ]
     },
     "execution_count": 29,
     "metadata": {},
     "output_type": "execute_result"
    },
    {
     "data": {
      "image/png": "[encoded data removed]",
      "text/plain": [
       "<Figure size 1008x720 with 1 Axes>"
      ]
     },
     "metadata": {
      "needs_background": "light"
     },
     "output_type": "display_data"
    }
   ],
   "source": [
    "tmax = (data_2015.type == 'TMAX')\n",
    "morethan100 = (data_2015.nn_popdens_diff >= 100)\n",
    "\n",
    "x = data_2015[tmax & morethan100]['nn_popdens_diff']\n",
    "y = (data_2015[tmax & morethan100]['residual']) / 10\n",
    "\n",
    "fig = plt.figure()\n",
    "ax = plt.gca()\n",
    "# scatter\n",
    "ax.plot(x, y, 'o', c='blue', alpha=0.05, markeredgecolor='none')\n",
    "# plynomial fit line\n",
    "ax.plot(np.unique(x), np.poly1d(np.polyfit(x, y, 1))(np.unique(x)), c='red')\n",
    "    \n",
    "#ax.set_xscale('log')\n",
    "#ax.set_yscale('log')\n",
    "\n",
    "# axis labels\n",
    "plt.xlabel(\"Difference in population density between neighboring stations\")\n",
    "plt.ylabel(\"Difference in temperature between neighboring stations (after adjusting for lat and elevation)\")\n",
    "\n",
    "# don't show the outliers in the scatter (buyt they are still used to fit the line!)\n",
    "ax.set_ylim([0.01,15])\n",
    "\n",
    "plt.grid(True)\n",
    "plt.title('Daily MAXIMUM temperature residual by population density difference (log/log scale)')"
   ]
  },
  {
   "cell_type": "code",
   "execution_count": null,
   "metadata": {},
   "outputs": [],
   "source": []
  }
 ],
 "metadata": {
  "colab": {
   "name": "NOAA weather station data.ipynb",
   "provenance": [],
   "version": "0.3.2"
  },
  "kernelspec": {
   "display_name": "Python 3",
   "language": "python",
   "name": "python3"
  },
  "language_info": {
   "codemirror_mode": {
    "name": "ipython",
    "version": 3
   },
   "file_extension": ".py",
   "mimetype": "text/x-python",
   "name": "python",
   "nbconvert_exporter": "python",
   "pygments_lexer": "ipython3",
   "version": "3.6.7"
  }
 },
 "nbformat": 4,
 "nbformat_minor": 1
}
