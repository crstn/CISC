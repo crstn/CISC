{
 "cells": [
  {
   "cell_type": "code",
   "execution_count": 44,
   "metadata": {},
   "outputs": [],
   "source": [
    "import pandas as pd\n",
    "import psycopg2\n",
    "from sklearn.linear_model import LinearRegression\n",
    "import matplotlib.pyplot as plt  "
   ]
  },
  {
   "cell_type": "markdown",
   "metadata": {},
   "source": [
    "Specify connection parameters for DB:"
   ]
  },
  {
   "cell_type": "code",
   "execution_count": 36,
   "metadata": {},
   "outputs": [],
   "source": [
    "host = 'localhost'\n",
    "port = 5432\n",
    "dbname = 'heat'\n",
    "username = 'carsten'\n",
    "pwd = 'postgres'"
   ]
  },
  {
   "cell_type": "markdown",
   "metadata": {},
   "source": [
    "Read data: Compare the average temperature values between lo and hi density stations within the same cell: "
   ]
  },
  {
   "cell_type": "code",
   "execution_count": 37,
   "metadata": {},
   "outputs": [
    {
     "data": {
      "text/html": [
       "<div>\n",
       "<style scoped>\n",
       "    .dataframe tbody tr th:only-of-type {\n",
       "        vertical-align: middle;\n",
       "    }\n",
       "\n",
       "    .dataframe tbody tr th {\n",
       "        vertical-align: top;\n",
       "    }\n",
       "\n",
       "    .dataframe thead th {\n",
       "        text-align: right;\n",
       "    }\n",
       "</style>\n",
       "<table border=\"1\" class=\"dataframe\">\n",
       "  <thead>\n",
       "    <tr style=\"text-align: right;\">\n",
       "      <th></th>\n",
       "      <th>g50</th>\n",
       "      <th>day</th>\n",
       "      <th>month</th>\n",
       "      <th>period</th>\n",
       "      <th>hi_temp</th>\n",
       "      <th>lo_temp</th>\n",
       "    </tr>\n",
       "  </thead>\n",
       "  <tbody>\n",
       "    <tr>\n",
       "      <th>0</th>\n",
       "      <td>5565</td>\n",
       "      <td>1.0</td>\n",
       "      <td>4.0</td>\n",
       "      <td>2000</td>\n",
       "      <td>16.22</td>\n",
       "      <td>13.3</td>\n",
       "    </tr>\n",
       "    <tr>\n",
       "      <th>1</th>\n",
       "      <td>5565</td>\n",
       "      <td>2.0</td>\n",
       "      <td>4.0</td>\n",
       "      <td>2000</td>\n",
       "      <td>16.88</td>\n",
       "      <td>14.4</td>\n",
       "    </tr>\n",
       "    <tr>\n",
       "      <th>2</th>\n",
       "      <td>5565</td>\n",
       "      <td>3.0</td>\n",
       "      <td>4.0</td>\n",
       "      <td>2000</td>\n",
       "      <td>17.56</td>\n",
       "      <td>15.6</td>\n",
       "    </tr>\n",
       "    <tr>\n",
       "      <th>3</th>\n",
       "      <td>5565</td>\n",
       "      <td>4.0</td>\n",
       "      <td>4.0</td>\n",
       "      <td>2000</td>\n",
       "      <td>17.36</td>\n",
       "      <td>15.0</td>\n",
       "    </tr>\n",
       "    <tr>\n",
       "      <th>4</th>\n",
       "      <td>5565</td>\n",
       "      <td>5.0</td>\n",
       "      <td>4.0</td>\n",
       "      <td>2000</td>\n",
       "      <td>17.44</td>\n",
       "      <td>17.2</td>\n",
       "    </tr>\n",
       "  </tbody>\n",
       "</table>\n",
       "</div>"
      ],
      "text/plain": [
       "    g50  day  month  period  hi_temp  lo_temp\n",
       "0  5565  1.0    4.0    2000    16.22     13.3\n",
       "1  5565  2.0    4.0    2000    16.88     14.4\n",
       "2  5565  3.0    4.0    2000    17.56     15.6\n",
       "3  5565  4.0    4.0    2000    17.36     15.0\n",
       "4  5565  5.0    4.0    2000    17.44     17.2"
      ]
     },
     "execution_count": 37,
     "metadata": {},
     "output_type": "execute_result"
    }
   ],
   "source": [
    "conn = psycopg2.connect(\"host='{}' port={} dbname='{}' user={} password={}\".format(host, port, dbname, username, pwd))\n",
    "sql = \"\"\"SELECT hi.g50, hi.day, hi.month, hi.period, hi.avg_temp AS hi_temp, lo.avg_temp as lo_temp \n",
    "         FROM averages hi, averages lo\n",
    "         WHERE hi.g50 = lo.g50\n",
    "         AND hi.period = lo.period\n",
    "         AND hi.month = lo.month\n",
    "         AND hi.day = lo.day\n",
    "         AND hi.pop_dens = 'hi'\n",
    "         AND lo.pop_dens = 'lo'\n",
    "         AND hi.period = 2000;\"\"\"\n",
    "data2015 = pd.read_sql_query(sql, conn)\n",
    "data2015.head()"
   ]
  },
  {
   "cell_type": "code",
   "execution_count": 38,
   "metadata": {},
   "outputs": [
    {
     "data": {
      "text/html": [
       "<div>\n",
       "<style scoped>\n",
       "    .dataframe tbody tr th:only-of-type {\n",
       "        vertical-align: middle;\n",
       "    }\n",
       "\n",
       "    .dataframe tbody tr th {\n",
       "        vertical-align: top;\n",
       "    }\n",
       "\n",
       "    .dataframe thead th {\n",
       "        text-align: right;\n",
       "    }\n",
       "</style>\n",
       "<table border=\"1\" class=\"dataframe\">\n",
       "  <thead>\n",
       "    <tr style=\"text-align: right;\">\n",
       "      <th></th>\n",
       "      <th>g50</th>\n",
       "      <th>day</th>\n",
       "      <th>month</th>\n",
       "      <th>period</th>\n",
       "      <th>hi_temp</th>\n",
       "      <th>lo_temp</th>\n",
       "      <th>temp_diff</th>\n",
       "    </tr>\n",
       "  </thead>\n",
       "  <tbody>\n",
       "    <tr>\n",
       "      <th>0</th>\n",
       "      <td>5565</td>\n",
       "      <td>1.0</td>\n",
       "      <td>4.0</td>\n",
       "      <td>2000</td>\n",
       "      <td>16.22</td>\n",
       "      <td>13.3</td>\n",
       "      <td>2.92</td>\n",
       "    </tr>\n",
       "    <tr>\n",
       "      <th>1</th>\n",
       "      <td>5565</td>\n",
       "      <td>2.0</td>\n",
       "      <td>4.0</td>\n",
       "      <td>2000</td>\n",
       "      <td>16.88</td>\n",
       "      <td>14.4</td>\n",
       "      <td>2.48</td>\n",
       "    </tr>\n",
       "    <tr>\n",
       "      <th>2</th>\n",
       "      <td>5565</td>\n",
       "      <td>3.0</td>\n",
       "      <td>4.0</td>\n",
       "      <td>2000</td>\n",
       "      <td>17.56</td>\n",
       "      <td>15.6</td>\n",
       "      <td>1.96</td>\n",
       "    </tr>\n",
       "    <tr>\n",
       "      <th>3</th>\n",
       "      <td>5565</td>\n",
       "      <td>4.0</td>\n",
       "      <td>4.0</td>\n",
       "      <td>2000</td>\n",
       "      <td>17.36</td>\n",
       "      <td>15.0</td>\n",
       "      <td>2.36</td>\n",
       "    </tr>\n",
       "    <tr>\n",
       "      <th>4</th>\n",
       "      <td>5565</td>\n",
       "      <td>5.0</td>\n",
       "      <td>4.0</td>\n",
       "      <td>2000</td>\n",
       "      <td>17.44</td>\n",
       "      <td>17.2</td>\n",
       "      <td>0.24</td>\n",
       "    </tr>\n",
       "  </tbody>\n",
       "</table>\n",
       "</div>"
      ],
      "text/plain": [
       "    g50  day  month  period  hi_temp  lo_temp  temp_diff\n",
       "0  5565  1.0    4.0    2000    16.22     13.3       2.92\n",
       "1  5565  2.0    4.0    2000    16.88     14.4       2.48\n",
       "2  5565  3.0    4.0    2000    17.56     15.6       1.96\n",
       "3  5565  4.0    4.0    2000    17.36     15.0       2.36\n",
       "4  5565  5.0    4.0    2000    17.44     17.2       0.24"
      ]
     },
     "execution_count": 38,
     "metadata": {},
     "output_type": "execute_result"
    }
   ],
   "source": [
    "data2015['temp_diff'] = data2015.hi_temp - data2015.lo_temp;\n",
    "data2015.head()"
   ]
  },
  {
   "cell_type": "code",
   "execution_count": 39,
   "metadata": {
    "scrolled": true
   },
   "outputs": [
    {
     "data": {
      "image/png": "[encoded data removed]",
      "text/plain": [
       "<Figure size 432x288 with 1 Axes>"
      ]
     },
     "metadata": {
      "needs_background": "light"
     },
     "output_type": "display_data"
    }
   ],
   "source": [
    "data2015.boxplot('temp_diff');"
   ]
  },
  {
   "cell_type": "markdown",
   "metadata": {},
   "source": [
    "Let's try to do that systematically: Get difference in average temperature between high and low, and the difference in average population between high and low population density stations within the same cell:\n",
    "\n",
    "🔥 For now, this is only 2015 – need to recalculate the population numbers for the other periods."
   ]
  },
  {
   "cell_type": "code",
   "execution_count": 40,
   "metadata": {
    "scrolled": false
   },
   "outputs": [
    {
     "data": {
      "text/html": [
       "<div>\n",
       "<style scoped>\n",
       "    .dataframe tbody tr th:only-of-type {\n",
       "        vertical-align: middle;\n",
       "    }\n",
       "\n",
       "    .dataframe tbody tr th {\n",
       "        vertical-align: top;\n",
       "    }\n",
       "\n",
       "    .dataframe thead th {\n",
       "        text-align: right;\n",
       "    }\n",
       "</style>\n",
       "<table border=\"1\" class=\"dataframe\">\n",
       "  <thead>\n",
       "    <tr style=\"text-align: right;\">\n",
       "      <th></th>\n",
       "      <th>g50</th>\n",
       "      <th>day</th>\n",
       "      <th>month</th>\n",
       "      <th>period</th>\n",
       "      <th>hi_temp</th>\n",
       "      <th>lo_temp</th>\n",
       "      <th>hi_pop</th>\n",
       "      <th>lo_pop</th>\n",
       "      <th>temp_diff</th>\n",
       "      <th>pop_diff</th>\n",
       "    </tr>\n",
       "  </thead>\n",
       "  <tbody>\n",
       "    <tr>\n",
       "      <th>0</th>\n",
       "      <td>5565</td>\n",
       "      <td>1.0</td>\n",
       "      <td>4.0</td>\n",
       "      <td>2000</td>\n",
       "      <td>16.220000</td>\n",
       "      <td>13.30</td>\n",
       "      <td>43.125462</td>\n",
       "      <td>0.483447</td>\n",
       "      <td>2.920000</td>\n",
       "      <td>42.642015</td>\n",
       "    </tr>\n",
       "    <tr>\n",
       "      <th>1</th>\n",
       "      <td>5565</td>\n",
       "      <td>17.0</td>\n",
       "      <td>4.0</td>\n",
       "      <td>2000</td>\n",
       "      <td>18.883333</td>\n",
       "      <td>17.80</td>\n",
       "      <td>43.125462</td>\n",
       "      <td>0.483447</td>\n",
       "      <td>1.083333</td>\n",
       "      <td>42.642015</td>\n",
       "    </tr>\n",
       "    <tr>\n",
       "      <th>2</th>\n",
       "      <td>5565</td>\n",
       "      <td>18.0</td>\n",
       "      <td>4.0</td>\n",
       "      <td>2000</td>\n",
       "      <td>18.416667</td>\n",
       "      <td>17.20</td>\n",
       "      <td>43.125462</td>\n",
       "      <td>0.483447</td>\n",
       "      <td>1.216667</td>\n",
       "      <td>42.642015</td>\n",
       "    </tr>\n",
       "    <tr>\n",
       "      <th>3</th>\n",
       "      <td>5565</td>\n",
       "      <td>19.0</td>\n",
       "      <td>4.0</td>\n",
       "      <td>2000</td>\n",
       "      <td>18.133333</td>\n",
       "      <td>16.70</td>\n",
       "      <td>43.125462</td>\n",
       "      <td>0.483447</td>\n",
       "      <td>1.433333</td>\n",
       "      <td>42.642015</td>\n",
       "    </tr>\n",
       "    <tr>\n",
       "      <th>4</th>\n",
       "      <td>5565</td>\n",
       "      <td>22.0</td>\n",
       "      <td>4.0</td>\n",
       "      <td>2000</td>\n",
       "      <td>19.533333</td>\n",
       "      <td>18.30</td>\n",
       "      <td>43.125462</td>\n",
       "      <td>0.483447</td>\n",
       "      <td>1.233333</td>\n",
       "      <td>42.642015</td>\n",
       "    </tr>\n",
       "    <tr>\n",
       "      <th>...</th>\n",
       "      <td>...</td>\n",
       "      <td>...</td>\n",
       "      <td>...</td>\n",
       "      <td>...</td>\n",
       "      <td>...</td>\n",
       "      <td>...</td>\n",
       "      <td>...</td>\n",
       "      <td>...</td>\n",
       "      <td>...</td>\n",
       "      <td>...</td>\n",
       "    </tr>\n",
       "    <tr>\n",
       "      <th>18286</th>\n",
       "      <td>77724</td>\n",
       "      <td>25.0</td>\n",
       "      <td>12.0</td>\n",
       "      <td>2000</td>\n",
       "      <td>23.040000</td>\n",
       "      <td>22.55</td>\n",
       "      <td>311.564301</td>\n",
       "      <td>127.144928</td>\n",
       "      <td>0.490000</td>\n",
       "      <td>184.419373</td>\n",
       "    </tr>\n",
       "    <tr>\n",
       "      <th>18287</th>\n",
       "      <td>77724</td>\n",
       "      <td>26.0</td>\n",
       "      <td>12.0</td>\n",
       "      <td>2000</td>\n",
       "      <td>23.160000</td>\n",
       "      <td>22.80</td>\n",
       "      <td>311.564301</td>\n",
       "      <td>127.144928</td>\n",
       "      <td>0.360000</td>\n",
       "      <td>184.419373</td>\n",
       "    </tr>\n",
       "    <tr>\n",
       "      <th>18288</th>\n",
       "      <td>77724</td>\n",
       "      <td>27.0</td>\n",
       "      <td>12.0</td>\n",
       "      <td>2000</td>\n",
       "      <td>22.960000</td>\n",
       "      <td>22.50</td>\n",
       "      <td>311.564301</td>\n",
       "      <td>127.144928</td>\n",
       "      <td>0.460000</td>\n",
       "      <td>184.419373</td>\n",
       "    </tr>\n",
       "    <tr>\n",
       "      <th>18289</th>\n",
       "      <td>77724</td>\n",
       "      <td>28.0</td>\n",
       "      <td>12.0</td>\n",
       "      <td>2000</td>\n",
       "      <td>23.680000</td>\n",
       "      <td>23.20</td>\n",
       "      <td>311.564301</td>\n",
       "      <td>127.144928</td>\n",
       "      <td>0.480000</td>\n",
       "      <td>184.419373</td>\n",
       "    </tr>\n",
       "    <tr>\n",
       "      <th>18290</th>\n",
       "      <td>77724</td>\n",
       "      <td>29.0</td>\n",
       "      <td>12.0</td>\n",
       "      <td>2000</td>\n",
       "      <td>24.060000</td>\n",
       "      <td>23.80</td>\n",
       "      <td>311.564301</td>\n",
       "      <td>127.144928</td>\n",
       "      <td>0.260000</td>\n",
       "      <td>184.419373</td>\n",
       "    </tr>\n",
       "  </tbody>\n",
       "</table>\n",
       "<p>18291 rows × 10 columns</p>\n",
       "</div>"
      ],
      "text/plain": [
       "         g50   day  month  period    hi_temp  lo_temp      hi_pop      lo_pop  \\\n",
       "0       5565   1.0    4.0    2000  16.220000    13.30   43.125462    0.483447   \n",
       "1       5565  17.0    4.0    2000  18.883333    17.80   43.125462    0.483447   \n",
       "2       5565  18.0    4.0    2000  18.416667    17.20   43.125462    0.483447   \n",
       "3       5565  19.0    4.0    2000  18.133333    16.70   43.125462    0.483447   \n",
       "4       5565  22.0    4.0    2000  19.533333    18.30   43.125462    0.483447   \n",
       "...      ...   ...    ...     ...        ...      ...         ...         ...   \n",
       "18286  77724  25.0   12.0    2000  23.040000    22.55  311.564301  127.144928   \n",
       "18287  77724  26.0   12.0    2000  23.160000    22.80  311.564301  127.144928   \n",
       "18288  77724  27.0   12.0    2000  22.960000    22.50  311.564301  127.144928   \n",
       "18289  77724  28.0   12.0    2000  23.680000    23.20  311.564301  127.144928   \n",
       "18290  77724  29.0   12.0    2000  24.060000    23.80  311.564301  127.144928   \n",
       "\n",
       "       temp_diff    pop_diff  \n",
       "0       2.920000   42.642015  \n",
       "1       1.083333   42.642015  \n",
       "2       1.216667   42.642015  \n",
       "3       1.433333   42.642015  \n",
       "4       1.233333   42.642015  \n",
       "...          ...         ...  \n",
       "18286   0.490000  184.419373  \n",
       "18287   0.360000  184.419373  \n",
       "18288   0.460000  184.419373  \n",
       "18289   0.480000  184.419373  \n",
       "18290   0.260000  184.419373  \n",
       "\n",
       "[18291 rows x 10 columns]"
      ]
     },
     "execution_count": 40,
     "metadata": {},
     "output_type": "execute_result"
    }
   ],
   "source": [
    "conn = psycopg2.connect(\"host='{}' port={} dbname='{}' user={} password={}\".format(host, port, dbname, username, pwd))\n",
    "sql = \"\"\"SELECT hi.g50, hi.day, hi.month, hi.period, hi.avg_temp AS hi_temp, lo.avg_temp as lo_temp, \n",
    "                grid50.avg_hi2015 as hi_pop, grid50.avg_lo2015 as lo_pop \n",
    "         FROM averages hi, averages lo, grid50\n",
    "         WHERE hi.g50 = lo.g50\n",
    "         AND hi.g50 = grid50.id\n",
    "         AND hi.period = lo.period\n",
    "         AND hi.month = lo.month\n",
    "         AND hi.day = lo.day\n",
    "         AND hi.pop_dens = 'hi'\n",
    "         AND lo.pop_dens = 'lo'\n",
    "         AND hi.period = 2000;\"\"\"\n",
    "data2015 = pd.read_sql_query(sql, conn)\n",
    "\n",
    "data2015['temp_diff'] = data2015.hi_temp - data2015.lo_temp;\n",
    "data2015['pop_diff'] = data2015.hi_pop - data2015.lo_pop;\n",
    "\n",
    "data2015"
   ]
  },
  {
   "cell_type": "code",
   "execution_count": 41,
   "metadata": {},
   "outputs": [
    {
     "data": {
      "image/png": "[encoded data removed]",
      "text/plain": [
       "<Figure size 432x288 with 1 Axes>"
      ]
     },
     "metadata": {
      "needs_background": "light"
     },
     "output_type": "display_data"
    }
   ],
   "source": [
    "data2015.plot.scatter('pop_diff', 'temp_diff');"
   ]
  },
  {
   "cell_type": "code",
   "execution_count": 42,
   "metadata": {},
   "outputs": [],
   "source": [
    "X = data2015['pop_diff'].values.reshape(-1, 1)  # values converts it into a numpy array\n",
    "Y = data2015['temp_diff'].values.reshape(-1, 1)  # -1 means that calculate the dimension of rows, but have 1 column\n",
    "linear_regressor = LinearRegression()  # create object for the class\n",
    "linear_regressor.fit(X, Y)  # perform linear regression\n",
    "Y_pred = linear_regressor.predict(X)  # make predictions"
   ]
  },
  {
   "cell_type": "code",
   "execution_count": 45,
   "metadata": {},
   "outputs": [
    {
     "data": {
      "image/png": "[encoded data removed]",
      "text/plain": [
       "<Figure size 432x288 with 1 Axes>"
      ]
     },
     "metadata": {
      "needs_background": "light"
     },
     "output_type": "display_data"
    }
   ],
   "source": [
    "plt.scatter(X, Y)\n",
    "plt.plot(X, Y_pred, color='red')\n",
    "plt.show()"
   ]
  },
  {
   "cell_type": "code",
   "execution_count": 46,
   "metadata": {},
   "outputs": [],
   "source": [
    "data2015.to_csv('data2015_50km_cells_tropics.csv')"
   ]
  },
  {
   "cell_type": "code",
   "execution_count": null,
   "metadata": {},
   "outputs": [],
   "source": []
  }
 ],
 "metadata": {
  "kernelspec": {
   "display_name": "Python 3",
   "language": "python",
   "name": "python3"
  },
  "language_info": {
   "codemirror_mode": {
    "name": "ipython",
    "version": 3
   },
   "file_extension": ".py",
   "mimetype": "text/x-python",
   "name": "python",
   "nbconvert_exporter": "python",
   "pygments_lexer": "ipython3",
   "version": "3.7.6"
  }
 },
 "nbformat": 4,
 "nbformat_minor": 4
}
