{
 "cells": [
  {
   "cell_type": "code",
   "execution_count": 3,
   "metadata": {},
   "outputs": [],
   "source": [
    "from multiprocessing import Pool\n",
    "import os\n",
    "import numpy as np"
   ]
  },
  {
   "cell_type": "markdown",
   "metadata": {},
   "source": [
    "Let's make an input array: "
   ]
  },
  {
   "cell_type": "code",
   "execution_count": 9,
   "metadata": {},
   "outputs": [
    {
     "data": {
      "text/plain": [
       "array([[0.7844556 , 0.3649571 , 0.79781585, 0.20578906, 0.30335325,\n",
       "        0.58899879, 0.67576375, 0.96186546, 0.82353776, 0.52508893],\n",
       "       [0.97788854, 0.03800302, 0.5611147 , 0.93147078, 0.47390391,\n",
       "        0.62035283, 0.48421912, 0.80672832, 0.08457726, 0.12521426],\n",
       "       [0.0752155 , 0.27875583, 0.6746412 , 0.89456011, 0.31638405,\n",
       "        0.71535937, 0.07756498, 0.92817422, 0.79096172, 0.86469405],\n",
       "       [0.33341638, 0.2692845 , 0.90382138, 0.13951796, 0.98074376,\n",
       "        0.19230482, 0.41404012, 0.76488874, 0.85874205, 0.21618609],\n",
       "       [0.02020815, 0.49924676, 0.37501254, 0.60865117, 0.60656878,\n",
       "        0.84615153, 0.33697482, 0.27702848, 0.1244202 , 0.91221554],\n",
       "       [0.72837377, 0.24786082, 0.58809446, 0.96994207, 0.03670259,\n",
       "        0.02983731, 0.14787488, 0.15673298, 0.24410712, 0.91165143],\n",
       "       [0.36995528, 0.89255593, 0.16694339, 0.72675647, 0.92729376,\n",
       "        0.72715517, 0.90001788, 0.80106487, 0.74493911, 0.28954462],\n",
       "       [0.8087736 , 0.25439306, 0.87792357, 0.84640072, 0.51770463,\n",
       "        0.14116805, 0.23886097, 0.36047877, 0.03235461, 0.83904541],\n",
       "       [0.21348864, 0.08814286, 0.73944538, 0.34308804, 0.11124429,\n",
       "        0.08922471, 0.6060031 , 0.13504225, 0.89081239, 0.12257763],\n",
       "       [0.14914927, 0.49287089, 0.06062178, 0.39584176, 0.86848775,\n",
       "        0.79846701, 0.43599776, 0.57344652, 0.55201236, 0.46343752]])"
      ]
     },
     "execution_count": 9,
     "metadata": {},
     "output_type": "execute_result"
    }
   ],
   "source": [
    "in_arr = np.random.rand(100).reshape([10,10])\n",
    "in_arr"
   ]
  },
  {
   "cell_type": "markdown",
   "metadata": {
    "inputHidden": false,
    "outputHidden": false
   },
   "source": [
    "And a _zones_ array"
   ]
  },
  {
   "cell_type": "code",
   "execution_count": 22,
   "metadata": {
    "inputHidden": false,
    "outputHidden": false
   },
   "outputs": [
    {
     "data": {
      "text/plain": [
       "array([[0., 0., 0., 0., 0., 0., 0., 0., 0., 0.],\n",
       "       [0., 0., 0., 0., 0., 0., 0., 0., 0., 0.],\n",
       "       [0., 0., 0., 0., 0., 0., 0., 0., 0., 0.],\n",
       "       [0., 0., 0., 3., 3., 3., 3., 3., 0., 0.],\n",
       "       [0., 0., 0., 3., 3., 3., 3., 3., 0., 0.],\n",
       "       [1., 1., 1., 3., 3., 3., 3., 3., 2., 2.],\n",
       "       [1., 1., 1., 3., 3., 3., 3., 3., 2., 2.],\n",
       "       [1., 1., 1., 3., 3., 3., 3., 3., 2., 2.],\n",
       "       [1., 1., 1., 1., 1., 2., 2., 2., 2., 2.],\n",
       "       [1., 1., 1., 1., 1., 2., 2., 2., 2., 2.]])"
      ]
     },
     "execution_count": 22,
     "metadata": {},
     "output_type": "execute_result"
    }
   ],
   "source": [
    "zones = np.zeros(100).reshape([10,10])\n",
    "zones[5:10,0:5] = 1\n",
    "zones[5:10,5:10] = 2\n",
    "zones[3:8,3:8] = 3\n",
    "\n",
    "zones"
   ]
  },
  {
   "cell_type": "markdown",
   "metadata": {
    "inputHidden": false,
    "outputHidden": false
   },
   "source": [
    "Next, we'll try to run a (long) function on each zone and put the changed values back in the original array:"
   ]
  },
  {
   "cell_type": "code",
   "execution_count": 23,
   "metadata": {
    "inputHidden": false,
    "outputHidden": false
   },
   "outputs": [
    {
     "data": {
      "text/plain": [
       "array([0., 1., 2., 3.])"
      ]
     },
     "execution_count": 23,
     "metadata": {},
     "output_type": "execute_result"
    }
   ],
   "source": [
    "np.unique(zones)"
   ]
  },
  {
   "cell_type": "code",
   "execution_count": 38,
   "metadata": {},
   "outputs": [],
   "source": [
    "def split_by_zone(a,z):\n",
    "\n",
    "    \"\"\"Splits a by zones defined in z, and returns:\n",
    "    - the list of unique values from z, and\n",
    "    - the sub-array of a for each of these zones\"\"\"\n",
    "\n",
    "    zone_ids = np.unique(z)\n",
    "    results = list()\n",
    "\n",
    "    for zone in zone_ids:\n",
    "        results.append((zone,a[z == zone]))\n",
    "\n",
    "    return results\n"
   ]
  },
  {
   "cell_type": "code",
   "execution_count": 39,
   "metadata": {
    "inputHidden": false,
    "outputHidden": false
   },
   "outputs": [
    {
     "data": {
      "text/plain": [
       "[(0.0, array([0.7844556 , 0.3649571 , 0.79781585, 0.20578906, 0.30335325,\n",
       "         0.58899879, 0.67576375, 0.96186546, 0.82353776, 0.52508893,\n",
       "         0.97788854, 0.03800302, 0.5611147 , 0.93147078, 0.47390391,\n",
       "         0.62035283, 0.48421912, 0.80672832, 0.08457726, 0.12521426,\n",
       "         0.0752155 , 0.27875583, 0.6746412 , 0.89456011, 0.31638405,\n",
       "         0.71535937, 0.07756498, 0.92817422, 0.79096172, 0.86469405,\n",
       "         0.33341638, 0.2692845 , 0.90382138, 0.85874205, 0.21618609,\n",
       "         0.02020815, 0.49924676, 0.37501254, 0.1244202 , 0.91221554])),\n",
       " (1.0, array([0.72837377, 0.24786082, 0.58809446, 0.36995528, 0.89255593,\n",
       "         0.16694339, 0.8087736 , 0.25439306, 0.87792357, 0.21348864,\n",
       "         0.08814286, 0.73944538, 0.34308804, 0.11124429, 0.14914927,\n",
       "         0.49287089, 0.06062178, 0.39584176, 0.86848775])),\n",
       " (2.0, array([0.24410712, 0.91165143, 0.74493911, 0.28954462, 0.03235461,\n",
       "         0.83904541, 0.08922471, 0.6060031 , 0.13504225, 0.89081239,\n",
       "         0.12257763, 0.79846701, 0.43599776, 0.57344652, 0.55201236,\n",
       "         0.46343752])),\n",
       " (3.0, array([0.13951796, 0.98074376, 0.19230482, 0.41404012, 0.76488874,\n",
       "         0.60865117, 0.60656878, 0.84615153, 0.33697482, 0.27702848,\n",
       "         0.96994207, 0.03670259, 0.02983731, 0.14787488, 0.15673298,\n",
       "         0.72675647, 0.92729376, 0.72715517, 0.90001788, 0.80106487,\n",
       "         0.84640072, 0.51770463, 0.14116805, 0.23886097, 0.36047877]))]"
      ]
     },
     "execution_count": 39,
     "metadata": {},
     "output_type": "execute_result"
    }
   ],
   "source": [
    "split_by_zone(in_arr, zones)"
   ]
  },
  {
   "cell_type": "code",
   "execution_count": null,
   "metadata": {
    "inputHidden": false,
    "outputHidden": false
   },
   "outputs": [],
   "source": []
  }
 ],
 "metadata": {
  "kernel_info": {
   "name": "python3"
  },
  "kernelspec": {
   "display_name": "Python 3",
   "language": "python",
   "name": "python3"
  },
  "language_info": {
   "codemirror_mode": {
    "name": "ipython",
    "version": 3
   },
   "file_extension": ".py",
   "mimetype": "text/x-python",
   "name": "python",
   "nbconvert_exporter": "python",
   "pygments_lexer": "ipython3",
   "version": "3.6.5"
  },
  "nteract": {
   "version": "0.11.6"
  }
 },
 "nbformat": 4,
 "nbformat_minor": 2
}
