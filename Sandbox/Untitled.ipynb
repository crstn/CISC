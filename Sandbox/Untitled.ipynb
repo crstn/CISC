{
 "cells": [
  {
   "cell_type": "code",
   "execution_count": 2,
   "metadata": {
    "collapsed": true
   },
   "outputs": [],
   "source": [
    "import numpy as np\n",
    "\n",
    "# values for analysis\n",
    "country = \"usa\"\n",
    "ruralCell = 1\n",
    "urbanCell = 2\n",
    "# current population\n",
    "populationProjected = [[10, 10, 10, 10, 10, 10, 10, 10, 10, 10],[10, 10, 10, 10, 10, 10, 10, 10, 10, 10],[10, 10, 10, 10, 10, 10, 10, 10, 10, 10],[10, 10, 10, 10, 10, 10, 10, 10, 10, 10]]\n",
    "# population to add\n",
    "pop = 1000\n",
    "# urban -rural classification\n",
    "urbanRural = [[2, 1, 1, 1, 2, 2, 2, 2, 2, 2], [2, 1, 2, 2, 2, 1, 1, 1, 1, 2], [2, 1, 2, 1, 2, 1, 1, 1, 2, 2], [1, 1, 2, 2, 2, 2, 1, 1, 1, 1]]\n",
    "# country classifcation\n",
    "countryList = [[\"usa\", \"gbk\", \"ind\", \"ind\", \"usa\", \"chn\", \"ice\", \"arg\", \"usa\", \"usa\"], [\"usa\", \"gbk\", \"ind\", \"ind\", \"usa\", \"chn\", \"ice\", \"arg\", \"usa\", \"usa\"], [\"usa\", \"gbk\", \"ind\", \"ind\", \"usa\", \"chn\", \"ice\", \"arg\", \"usa\", \"usa\"], [\"usa\", \"gbk\", \"ind\", \"ind\", \"usa\", \"chn\", \"ice\", \"arg\", \"usa\", \"usa\"]]\n"
   ]
  },
  {
   "cell_type": "code",
   "execution_count": 3,
   "metadata": {
    "collapsed": true
   },
   "outputs": [],
   "source": [
    "# make a list of all indices for arrays\n",
    "countryBoundaries = np.array(countryList)\n",
    "allIndexes = np.arange(countryBoundaries.size)\n",
    "\n",
    "# turn all important lists into arrays for numpy analyses\n",
    "countries = np.array(countryList)\n",
    "ur = np.array(urbanRural)\n",
    "pop = np.array(populationProjected)\n",
    "allIds = np.array(allIndexes)"
   ]
  },
  {
   "cell_type": "code",
   "execution_count": 44,
   "metadata": {
    "collapsed": false
   },
   "outputs": [
    {
     "name": "stdout",
     "output_type": "stream",
     "text": [
      "usa\n",
      "usa\n",
      "ind\n",
      "ind\n"
     ]
    }
   ],
   "source": [
    "# Computes the \"raveled\" index from a 2D index. Shape is a tuple (rows, columns).\n",
    "# WARNING: does NOT check whether row and col or outside of shape!\n",
    "def twoDtoOneD(row, col, shape):\n",
    "    return (row * shape[1]) + col\n",
    "\n",
    "# Computes the 2D index as a tuple (row, column) from its \"raveled\" index. \n",
    "# Shape is a tuple (rows, columns).\n",
    "def oneDtoTwoD(index, shape):\n",
    "    return int(index/shape[1]), int(index%shape[1])\n",
    "\n",
    "# print ur.shape\n",
    "    \n",
    "# print twoDtoOneD(2,2,(3,5))\n",
    "# print oneDtoTwoD(12,(3,5)) \n",
    "\n",
    "cR = countries.ravel()\n",
    "\n",
    "print countries[2,9]\n",
    "\n",
    "print cR[twoDtoOneD(2,9,countries.shape)]\n",
    "\n",
    "print cR[23]\n",
    "print countries[oneDtoTwoD(23, countries.shape)]\n",
    "\n"
   ]
  },
  {
   "cell_type": "code",
   "execution_count": 54,
   "metadata": {
    "collapsed": false
   },
   "outputs": [
    {
     "name": "stdout",
     "output_type": "stream",
     "text": [
      "[1, 2, 3, 6, 8, 11, 12, 13]\n"
     ]
    }
   ],
   "source": [
    "# Returns an array of indexes that correspond to the 3x3 neighborhood of the index cell \n",
    "# in a raveled (1D) matrix based on the # shape of the original (2D) matrix.\n",
    "# Returns only neighbors within shape, exlcuding the input cell\n",
    "def getNeighbours(index, shape):\n",
    "    twoDIndex = oneDtoTwoD(index, shape)\n",
    "    row = twoDIndex[0]\n",
    "    col = twoDIndex[1]\n",
    "    \n",
    "    neighbors = []\n",
    "    \n",
    "    for r in range(-1, 2):\n",
    "        for c in range(-1, 2):\n",
    "            rn = row + r\n",
    "            cn = col + c  \n",
    "            if r != 0 or c !=0: # don't add the original cell\n",
    "                if 0 <= rn < shape[0] and 0 <= cn < shape[1]: # don't add neighbors that are outside of the shape!\n",
    "                    neighbors.append(twoDtoOneD(rn, cn, shape))\n",
    "\n",
    "    return neighbors\n",
    "\n",
    "print getNeighbours(7,(3,5))"
   ]
  },
  {
   "cell_type": "code",
   "execution_count": null,
   "metadata": {
    "collapsed": true
   },
   "outputs": [],
   "source": []
  }
 ],
 "metadata": {
  "kernelspec": {
   "display_name": "Python 2",
   "language": "python",
   "name": "python2"
  },
  "language_info": {
   "codemirror_mode": {
    "name": "ipython",
    "version": 2
   },
   "file_extension": ".py",
   "mimetype": "text/x-python",
   "name": "python",
   "nbconvert_exporter": "python",
   "pygments_lexer": "ipython2",
   "version": "2.7.11"
  }
 },
 "nbformat": 4,
 "nbformat_minor": 0
}
