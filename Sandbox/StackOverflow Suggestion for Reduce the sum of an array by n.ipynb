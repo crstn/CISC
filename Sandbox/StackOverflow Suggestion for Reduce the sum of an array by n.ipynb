{
 "cells": [
  {
   "cell_type": "code",
   "execution_count": 1,
   "metadata": {},
   "outputs": [],
   "source": [
    "import numpy as np\n",
    "\n",
    "def remove_random(array, total, probs=None):\n",
    "    if total >= np.sum(array):\n",
    "        return np.zeros_like(array)\n",
    "\n",
    "    if total < 0:\n",
    "        raise ValueError(\"Cannot remove non-positive amount!\")\n",
    "\n",
    "    to_remove = total\n",
    "\n",
    "    while to_remove != 0:\n",
    "        idx = np.random.choice(range(len(array)), p=probs)\n",
    "\n",
    "        removeable = min(array[idx], to_remove)\n",
    "\n",
    "        array[idx] = array[idx] - removeable\n",
    "        to_remove = to_remove - removeable\n",
    "\n",
    "    return array"
   ]
  },
  {
   "cell_type": "code",
   "execution_count": 8,
   "metadata": {},
   "outputs": [
    {
     "data": {
      "text/plain": [
       "array([0, 0, 0, 0])"
      ]
     },
     "execution_count": 8,
     "metadata": {},
     "output_type": "execute_result"
    }
   ],
   "source": [
    "a = np.array([2, 3, 5, 10])\n",
    "pvals = np.array([0.1, 0.1, 0.4, 0.4])\n",
    "n = 10\n",
    "\n",
    "remove_random(a, 20, pvals)"
   ]
  },
  {
   "cell_type": "code",
   "execution_count": null,
   "metadata": {},
   "outputs": [],
   "source": []
  }
 ],
 "metadata": {
  "kernelspec": {
   "display_name": "Python 3",
   "language": "python",
   "name": "python3"
  },
  "language_info": {
   "codemirror_mode": {
    "name": "ipython",
    "version": 3
   },
   "file_extension": ".py",
   "mimetype": "text/x-python",
   "name": "python",
   "nbconvert_exporter": "python",
   "pygments_lexer": "ipython3",
   "version": "3.6.5"
  }
 },
 "nbformat": 4,
 "nbformat_minor": 2
}
