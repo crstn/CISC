{
 "cells": [
  {
   "cell_type": "code",
   "execution_count": 334,
   "metadata": {},
   "outputs": [],
   "source": [
    "import pandas as pd\n",
    "import seaborn as sns\n",
    "import os"
   ]
  },
  {
   "cell_type": "markdown",
   "metadata": {},
   "source": [
    "Which country shall we plot?"
   ]
  },
  {
   "cell_type": "code",
   "execution_count": 337,
   "metadata": {},
   "outputs": [],
   "source": [
    "country = 'DNK'"
   ]
  },
  {
   "cell_type": "markdown",
   "metadata": {},
   "source": [
    "Prepare the dataframe: Read in all 5 SSPs, combine them into one dataframe, and pick out only the rows for the current country:"
   ]
  },
  {
   "cell_type": "code",
   "execution_count": 338,
   "metadata": {},
   "outputs": [
    {
     "data": {
      "text/html": [
       "<div>\n",
       "<style scoped>\n",
       "    .dataframe tbody tr th:only-of-type {\n",
       "        vertical-align: middle;\n",
       "    }\n",
       "\n",
       "    .dataframe tbody tr th {\n",
       "        vertical-align: top;\n",
       "    }\n",
       "\n",
       "    .dataframe thead th {\n",
       "        text-align: right;\n",
       "    }\n",
       "</style>\n",
       "<table border=\"1\" class=\"dataframe\">\n",
       "  <thead>\n",
       "    <tr style=\"text-align: right;\">\n",
       "      <th></th>\n",
       "      <th>2010</th>\n",
       "      <th>2020</th>\n",
       "      <th>2030</th>\n",
       "      <th>2040</th>\n",
       "      <th>2050</th>\n",
       "      <th>2060</th>\n",
       "      <th>2070</th>\n",
       "      <th>2080</th>\n",
       "      <th>2090</th>\n",
       "      <th>2100</th>\n",
       "      <th>Name</th>\n",
       "      <th>SSP</th>\n",
       "    </tr>\n",
       "    <tr>\n",
       "      <th>ISO</th>\n",
       "      <th></th>\n",
       "      <th></th>\n",
       "      <th></th>\n",
       "      <th></th>\n",
       "      <th></th>\n",
       "      <th></th>\n",
       "      <th></th>\n",
       "      <th></th>\n",
       "      <th></th>\n",
       "      <th></th>\n",
       "      <th></th>\n",
       "      <th></th>\n",
       "    </tr>\n",
       "  </thead>\n",
       "  <tbody>\n",
       "    <tr>\n",
       "      <th>DNK</th>\n",
       "      <td>5550142</td>\n",
       "      <td>5836092</td>\n",
       "      <td>6170396</td>\n",
       "      <td>6487935</td>\n",
       "      <td>6793000</td>\n",
       "      <td>7105061</td>\n",
       "      <td>7386269</td>\n",
       "      <td>7601519</td>\n",
       "      <td>7723963</td>\n",
       "      <td>7707959</td>\n",
       "      <td>Denmark</td>\n",
       "      <td>SSP1</td>\n",
       "    </tr>\n",
       "    <tr>\n",
       "      <th>DNK</th>\n",
       "      <td>5550142</td>\n",
       "      <td>5806201</td>\n",
       "      <td>6086939</td>\n",
       "      <td>6337650</td>\n",
       "      <td>6573973</td>\n",
       "      <td>6824660</td>\n",
       "      <td>7046937</td>\n",
       "      <td>7224611</td>\n",
       "      <td>7354193</td>\n",
       "      <td>7425535</td>\n",
       "      <td>Denmark</td>\n",
       "      <td>SSP2</td>\n",
       "    </tr>\n",
       "    <tr>\n",
       "      <th>DNK</th>\n",
       "      <td>5550142</td>\n",
       "      <td>5685568</td>\n",
       "      <td>5693821</td>\n",
       "      <td>5607919</td>\n",
       "      <td>5454155</td>\n",
       "      <td>5257835</td>\n",
       "      <td>5027092</td>\n",
       "      <td>4755509</td>\n",
       "      <td>4435718</td>\n",
       "      <td>4090700</td>\n",
       "      <td>Denmark</td>\n",
       "      <td>SSP3</td>\n",
       "    </tr>\n",
       "    <tr>\n",
       "      <th>DNK</th>\n",
       "      <td>5550142</td>\n",
       "      <td>5760678</td>\n",
       "      <td>5919214</td>\n",
       "      <td>6009885</td>\n",
       "      <td>6036789</td>\n",
       "      <td>6011538</td>\n",
       "      <td>5919506</td>\n",
       "      <td>5756715</td>\n",
       "      <td>5516569</td>\n",
       "      <td>5211779</td>\n",
       "      <td>Denmark</td>\n",
       "      <td>SSP4</td>\n",
       "    </tr>\n",
       "    <tr>\n",
       "      <th>DNK</th>\n",
       "      <td>5550142</td>\n",
       "      <td>5930095</td>\n",
       "      <td>6489382</td>\n",
       "      <td>7092074</td>\n",
       "      <td>7784703</td>\n",
       "      <td>8598445</td>\n",
       "      <td>9436525</td>\n",
       "      <td>10264693</td>\n",
       "      <td>11067483</td>\n",
       "      <td>11755686</td>\n",
       "      <td>Denmark</td>\n",
       "      <td>SSP5</td>\n",
       "    </tr>\n",
       "  </tbody>\n",
       "</table>\n",
       "</div>"
      ],
      "text/plain": [
       "        2010     2020     2030     2040     2050     2060     2070      2080  \\\n",
       "ISO                                                                            \n",
       "DNK  5550142  5836092  6170396  6487935  6793000  7105061  7386269   7601519   \n",
       "DNK  5550142  5806201  6086939  6337650  6573973  6824660  7046937   7224611   \n",
       "DNK  5550142  5685568  5693821  5607919  5454155  5257835  5027092   4755509   \n",
       "DNK  5550142  5760678  5919214  6009885  6036789  6011538  5919506   5756715   \n",
       "DNK  5550142  5930095  6489382  7092074  7784703  8598445  9436525  10264693   \n",
       "\n",
       "         2090      2100     Name   SSP  \n",
       "ISO                                     \n",
       "DNK   7723963   7707959  Denmark  SSP1  \n",
       "DNK   7354193   7425535  Denmark  SSP2  \n",
       "DNK   4435718   4090700  Denmark  SSP3  \n",
       "DNK   5516569   5211779  Denmark  SSP4  \n",
       "DNK  11067483  11755686  Denmark  SSP5  "
      ]
     },
     "execution_count": 338,
     "metadata": {},
     "output_type": "execute_result"
    }
   ],
   "source": [
    "SSP1 = pd.read_csv(os.path.expanduser('~') + '/Dropbox/CISCdata/SSPs/pop-SSP1.csv', index_col=\"ISO\").assign(SSP=\"SSP1\")\n",
    "\n",
    "SSP2 = pd.read_csv(os.path.expanduser('~') + '/Dropbox/CISCdata/SSPs/pop-SSP2.csv', index_col=\"ISO\").assign(SSP=\"SSP2\")\n",
    "\n",
    "SSP3 = pd.read_csv(os.path.expanduser('~') + '/Dropbox/CISCdata/SSPs/pop-SSP3.csv', index_col=\"ISO\").assign(SSP=\"SSP3\")\n",
    "\n",
    "SSP4 = pd.read_csv(os.path.expanduser('~') + '/Dropbox/CISCdata/SSPs/pop-SSP4.csv', index_col=\"ISO\").assign(SSP=\"SSP4\")\n",
    "\n",
    "SSP5 = pd.read_csv(os.path.expanduser('~') + '/Dropbox/CISCdata/SSPs/pop-SSP5.csv', index_col=\"ISO\").assign(SSP=\"SSP5\")\n",
    "\n",
    "SSPs = pd.concat([SSP1, SSP2, SSP3, SSP4, SSP5])\n",
    "SSPs.rename(columns={'Major area, region, country or area':'Name'},inplace=True)\n",
    "SSPs.drop(columns=['Country code'], inplace=True)\n",
    "\n",
    "SSPs.loc[country]"
   ]
  },
  {
   "cell_type": "markdown",
   "metadata": {},
   "source": [
    "To make the plotting easier, we'll pull out the name and then turn then transpose the table, turning rows to columns:"
   ]
  },
  {
   "cell_type": "code",
   "execution_count": 339,
   "metadata": {},
   "outputs": [
    {
     "data": {
      "text/html": [
       "<div>\n",
       "<style scoped>\n",
       "    .dataframe tbody tr th:only-of-type {\n",
       "        vertical-align: middle;\n",
       "    }\n",
       "\n",
       "    .dataframe tbody tr th {\n",
       "        vertical-align: top;\n",
       "    }\n",
       "\n",
       "    .dataframe thead th {\n",
       "        text-align: right;\n",
       "    }\n",
       "</style>\n",
       "<table border=\"1\" class=\"dataframe\">\n",
       "  <thead>\n",
       "    <tr style=\"text-align: right;\">\n",
       "      <th>Index</th>\n",
       "      <th>SSP1</th>\n",
       "      <th>SSP2</th>\n",
       "      <th>SSP3</th>\n",
       "      <th>SSP4</th>\n",
       "      <th>SSP5</th>\n",
       "    </tr>\n",
       "  </thead>\n",
       "  <tbody>\n",
       "    <tr>\n",
       "      <th>2010</th>\n",
       "      <td>5550142</td>\n",
       "      <td>5550142</td>\n",
       "      <td>5550142</td>\n",
       "      <td>5550142</td>\n",
       "      <td>5550142</td>\n",
       "    </tr>\n",
       "    <tr>\n",
       "      <th>2020</th>\n",
       "      <td>5836092</td>\n",
       "      <td>5806201</td>\n",
       "      <td>5685568</td>\n",
       "      <td>5760678</td>\n",
       "      <td>5930095</td>\n",
       "    </tr>\n",
       "    <tr>\n",
       "      <th>2030</th>\n",
       "      <td>6170396</td>\n",
       "      <td>6086939</td>\n",
       "      <td>5693821</td>\n",
       "      <td>5919214</td>\n",
       "      <td>6489382</td>\n",
       "    </tr>\n",
       "    <tr>\n",
       "      <th>2040</th>\n",
       "      <td>6487935</td>\n",
       "      <td>6337650</td>\n",
       "      <td>5607919</td>\n",
       "      <td>6009885</td>\n",
       "      <td>7092074</td>\n",
       "    </tr>\n",
       "    <tr>\n",
       "      <th>2050</th>\n",
       "      <td>6793000</td>\n",
       "      <td>6573973</td>\n",
       "      <td>5454155</td>\n",
       "      <td>6036789</td>\n",
       "      <td>7784703</td>\n",
       "    </tr>\n",
       "    <tr>\n",
       "      <th>2060</th>\n",
       "      <td>7105061</td>\n",
       "      <td>6824660</td>\n",
       "      <td>5257835</td>\n",
       "      <td>6011538</td>\n",
       "      <td>8598445</td>\n",
       "    </tr>\n",
       "    <tr>\n",
       "      <th>2070</th>\n",
       "      <td>7386269</td>\n",
       "      <td>7046937</td>\n",
       "      <td>5027092</td>\n",
       "      <td>5919506</td>\n",
       "      <td>9436525</td>\n",
       "    </tr>\n",
       "    <tr>\n",
       "      <th>2080</th>\n",
       "      <td>7601519</td>\n",
       "      <td>7224611</td>\n",
       "      <td>4755509</td>\n",
       "      <td>5756715</td>\n",
       "      <td>10264693</td>\n",
       "    </tr>\n",
       "    <tr>\n",
       "      <th>2090</th>\n",
       "      <td>7723963</td>\n",
       "      <td>7354193</td>\n",
       "      <td>4435718</td>\n",
       "      <td>5516569</td>\n",
       "      <td>11067483</td>\n",
       "    </tr>\n",
       "    <tr>\n",
       "      <th>2100</th>\n",
       "      <td>7707959</td>\n",
       "      <td>7425535</td>\n",
       "      <td>4090700</td>\n",
       "      <td>5211779</td>\n",
       "      <td>11755686</td>\n",
       "    </tr>\n",
       "    <tr>\n",
       "      <th>Name</th>\n",
       "      <td>Denmark</td>\n",
       "      <td>Denmark</td>\n",
       "      <td>Denmark</td>\n",
       "      <td>Denmark</td>\n",
       "      <td>Denmark</td>\n",
       "    </tr>\n",
       "  </tbody>\n",
       "</table>\n",
       "</div>"
      ],
      "text/plain": [
       "Index     SSP1     SSP2     SSP3     SSP4      SSP5\n",
       "2010   5550142  5550142  5550142  5550142   5550142\n",
       "2020   5836092  5806201  5685568  5760678   5930095\n",
       "2030   6170396  6086939  5693821  5919214   6489382\n",
       "2040   6487935  6337650  5607919  6009885   7092074\n",
       "2050   6793000  6573973  5454155  6036789   7784703\n",
       "2060   7105061  6824660  5257835  6011538   8598445\n",
       "2070   7386269  7046937  5027092  5919506   9436525\n",
       "2080   7601519  7224611  4755509  5756715  10264693\n",
       "2090   7723963  7354193  4435718  5516569  11067483\n",
       "2100   7707959  7425535  4090700  5211779  11755686\n",
       "Name   Denmark  Denmark  Denmark  Denmark   Denmark"
      ]
     },
     "execution_count": 339,
     "metadata": {},
     "output_type": "execute_result"
    }
   ],
   "source": [
    "filtered=SSPs.loc[country]\n",
    "filtered.set_index('SSP',inplace=True)\n",
    "filtered.index.names = ['Index']\n",
    "plotframe = filtered.transpose()\n",
    "plotframe"
   ]
  },
  {
   "cell_type": "markdown",
   "metadata": {},
   "source": [
    "Pick up the country name:"
   ]
  },
  {
   "cell_type": "code",
   "execution_count": 340,
   "metadata": {},
   "outputs": [
    {
     "data": {
      "text/plain": [
       "'Denmark'"
      ]
     },
     "execution_count": 340,
     "metadata": {},
     "output_type": "execute_result"
    }
   ],
   "source": [
    "country_name = plotframe.iloc[10,1]\n",
    "country_name"
   ]
  },
  {
   "cell_type": "markdown",
   "metadata": {},
   "source": [
    "… and remove that last row:"
   ]
  },
  {
   "cell_type": "code",
   "execution_count": 341,
   "metadata": {},
   "outputs": [
    {
     "data": {
      "text/html": [
       "<div>\n",
       "<style scoped>\n",
       "    .dataframe tbody tr th:only-of-type {\n",
       "        vertical-align: middle;\n",
       "    }\n",
       "\n",
       "    .dataframe tbody tr th {\n",
       "        vertical-align: top;\n",
       "    }\n",
       "\n",
       "    .dataframe thead th {\n",
       "        text-align: right;\n",
       "    }\n",
       "</style>\n",
       "<table border=\"1\" class=\"dataframe\">\n",
       "  <thead>\n",
       "    <tr style=\"text-align: right;\">\n",
       "      <th>Index</th>\n",
       "      <th>SSP1</th>\n",
       "      <th>SSP2</th>\n",
       "      <th>SSP3</th>\n",
       "      <th>SSP4</th>\n",
       "      <th>SSP5</th>\n",
       "    </tr>\n",
       "  </thead>\n",
       "  <tbody>\n",
       "    <tr>\n",
       "      <th>2010</th>\n",
       "      <td>5550142</td>\n",
       "      <td>5550142</td>\n",
       "      <td>5550142</td>\n",
       "      <td>5550142</td>\n",
       "      <td>5550142</td>\n",
       "    </tr>\n",
       "    <tr>\n",
       "      <th>2020</th>\n",
       "      <td>5836092</td>\n",
       "      <td>5806201</td>\n",
       "      <td>5685568</td>\n",
       "      <td>5760678</td>\n",
       "      <td>5930095</td>\n",
       "    </tr>\n",
       "    <tr>\n",
       "      <th>2030</th>\n",
       "      <td>6170396</td>\n",
       "      <td>6086939</td>\n",
       "      <td>5693821</td>\n",
       "      <td>5919214</td>\n",
       "      <td>6489382</td>\n",
       "    </tr>\n",
       "    <tr>\n",
       "      <th>2040</th>\n",
       "      <td>6487935</td>\n",
       "      <td>6337650</td>\n",
       "      <td>5607919</td>\n",
       "      <td>6009885</td>\n",
       "      <td>7092074</td>\n",
       "    </tr>\n",
       "    <tr>\n",
       "      <th>2050</th>\n",
       "      <td>6793000</td>\n",
       "      <td>6573973</td>\n",
       "      <td>5454155</td>\n",
       "      <td>6036789</td>\n",
       "      <td>7784703</td>\n",
       "    </tr>\n",
       "    <tr>\n",
       "      <th>2060</th>\n",
       "      <td>7105061</td>\n",
       "      <td>6824660</td>\n",
       "      <td>5257835</td>\n",
       "      <td>6011538</td>\n",
       "      <td>8598445</td>\n",
       "    </tr>\n",
       "    <tr>\n",
       "      <th>2070</th>\n",
       "      <td>7386269</td>\n",
       "      <td>7046937</td>\n",
       "      <td>5027092</td>\n",
       "      <td>5919506</td>\n",
       "      <td>9436525</td>\n",
       "    </tr>\n",
       "    <tr>\n",
       "      <th>2080</th>\n",
       "      <td>7601519</td>\n",
       "      <td>7224611</td>\n",
       "      <td>4755509</td>\n",
       "      <td>5756715</td>\n",
       "      <td>10264693</td>\n",
       "    </tr>\n",
       "    <tr>\n",
       "      <th>2090</th>\n",
       "      <td>7723963</td>\n",
       "      <td>7354193</td>\n",
       "      <td>4435718</td>\n",
       "      <td>5516569</td>\n",
       "      <td>11067483</td>\n",
       "    </tr>\n",
       "    <tr>\n",
       "      <th>2100</th>\n",
       "      <td>7707959</td>\n",
       "      <td>7425535</td>\n",
       "      <td>4090700</td>\n",
       "      <td>5211779</td>\n",
       "      <td>11755686</td>\n",
       "    </tr>\n",
       "  </tbody>\n",
       "</table>\n",
       "</div>"
      ],
      "text/plain": [
       "Index     SSP1     SSP2     SSP3     SSP4      SSP5\n",
       "2010   5550142  5550142  5550142  5550142   5550142\n",
       "2020   5836092  5806201  5685568  5760678   5930095\n",
       "2030   6170396  6086939  5693821  5919214   6489382\n",
       "2040   6487935  6337650  5607919  6009885   7092074\n",
       "2050   6793000  6573973  5454155  6036789   7784703\n",
       "2060   7105061  6824660  5257835  6011538   8598445\n",
       "2070   7386269  7046937  5027092  5919506   9436525\n",
       "2080   7601519  7224611  4755509  5756715  10264693\n",
       "2090   7723963  7354193  4435718  5516569  11067483\n",
       "2100   7707959  7425535  4090700  5211779  11755686"
      ]
     },
     "execution_count": 341,
     "metadata": {},
     "output_type": "execute_result"
    }
   ],
   "source": [
    "plotframe = plotframe[:-1]\n",
    "plotframe"
   ]
  },
  {
   "cell_type": "markdown",
   "metadata": {},
   "source": [
    "Currently, the year is the index; we need to make it a regular column before plotting:"
   ]
  },
  {
   "cell_type": "code",
   "execution_count": 342,
   "metadata": {},
   "outputs": [
    {
     "data": {
      "text/html": [
       "<div>\n",
       "<style scoped>\n",
       "    .dataframe tbody tr th:only-of-type {\n",
       "        vertical-align: middle;\n",
       "    }\n",
       "\n",
       "    .dataframe tbody tr th {\n",
       "        vertical-align: top;\n",
       "    }\n",
       "\n",
       "    .dataframe thead th {\n",
       "        text-align: right;\n",
       "    }\n",
       "</style>\n",
       "<table border=\"1\" class=\"dataframe\">\n",
       "  <thead>\n",
       "    <tr style=\"text-align: right;\">\n",
       "      <th>Index</th>\n",
       "      <th>SSP1</th>\n",
       "      <th>SSP2</th>\n",
       "      <th>SSP3</th>\n",
       "      <th>SSP4</th>\n",
       "      <th>SSP5</th>\n",
       "    </tr>\n",
       "  </thead>\n",
       "  <tbody>\n",
       "    <tr>\n",
       "      <th>2010</th>\n",
       "      <td>5550142</td>\n",
       "      <td>5550142</td>\n",
       "      <td>5550142</td>\n",
       "      <td>5550142</td>\n",
       "      <td>5550142</td>\n",
       "    </tr>\n",
       "    <tr>\n",
       "      <th>2020</th>\n",
       "      <td>5836092</td>\n",
       "      <td>5806201</td>\n",
       "      <td>5685568</td>\n",
       "      <td>5760678</td>\n",
       "      <td>5930095</td>\n",
       "    </tr>\n",
       "    <tr>\n",
       "      <th>2030</th>\n",
       "      <td>6170396</td>\n",
       "      <td>6086939</td>\n",
       "      <td>5693821</td>\n",
       "      <td>5919214</td>\n",
       "      <td>6489382</td>\n",
       "    </tr>\n",
       "    <tr>\n",
       "      <th>2040</th>\n",
       "      <td>6487935</td>\n",
       "      <td>6337650</td>\n",
       "      <td>5607919</td>\n",
       "      <td>6009885</td>\n",
       "      <td>7092074</td>\n",
       "    </tr>\n",
       "    <tr>\n",
       "      <th>2050</th>\n",
       "      <td>6793000</td>\n",
       "      <td>6573973</td>\n",
       "      <td>5454155</td>\n",
       "      <td>6036789</td>\n",
       "      <td>7784703</td>\n",
       "    </tr>\n",
       "    <tr>\n",
       "      <th>2060</th>\n",
       "      <td>7105061</td>\n",
       "      <td>6824660</td>\n",
       "      <td>5257835</td>\n",
       "      <td>6011538</td>\n",
       "      <td>8598445</td>\n",
       "    </tr>\n",
       "    <tr>\n",
       "      <th>2070</th>\n",
       "      <td>7386269</td>\n",
       "      <td>7046937</td>\n",
       "      <td>5027092</td>\n",
       "      <td>5919506</td>\n",
       "      <td>9436525</td>\n",
       "    </tr>\n",
       "    <tr>\n",
       "      <th>2080</th>\n",
       "      <td>7601519</td>\n",
       "      <td>7224611</td>\n",
       "      <td>4755509</td>\n",
       "      <td>5756715</td>\n",
       "      <td>10264693</td>\n",
       "    </tr>\n",
       "    <tr>\n",
       "      <th>2090</th>\n",
       "      <td>7723963</td>\n",
       "      <td>7354193</td>\n",
       "      <td>4435718</td>\n",
       "      <td>5516569</td>\n",
       "      <td>11067483</td>\n",
       "    </tr>\n",
       "    <tr>\n",
       "      <th>2100</th>\n",
       "      <td>7707959</td>\n",
       "      <td>7425535</td>\n",
       "      <td>4090700</td>\n",
       "      <td>5211779</td>\n",
       "      <td>11755686</td>\n",
       "    </tr>\n",
       "  </tbody>\n",
       "</table>\n",
       "</div>"
      ],
      "text/plain": [
       "Index     SSP1     SSP2     SSP3     SSP4      SSP5\n",
       "2010   5550142  5550142  5550142  5550142   5550142\n",
       "2020   5836092  5806201  5685568  5760678   5930095\n",
       "2030   6170396  6086939  5693821  5919214   6489382\n",
       "2040   6487935  6337650  5607919  6009885   7092074\n",
       "2050   6793000  6573973  5454155  6036789   7784703\n",
       "2060   7105061  6824660  5257835  6011538   8598445\n",
       "2070   7386269  7046937  5027092  5919506   9436525\n",
       "2080   7601519  7224611  4755509  5756715  10264693\n",
       "2090   7723963  7354193  4435718  5516569  11067483\n",
       "2100   7707959  7425535  4090700  5211779  11755686"
      ]
     },
     "execution_count": 342,
     "metadata": {},
     "output_type": "execute_result"
    }
   ],
   "source": [
    "#plotframe = plotframe.reset_index()\n",
    "#plotframe = plotframe.rename(columns={'index':'Year'})\n",
    "plotframe"
   ]
  },
  {
   "cell_type": "markdown",
   "metadata": {},
   "source": [
    "If we try to plot, now this won't work. Here's why:"
   ]
  },
  {
   "cell_type": "code",
   "execution_count": 343,
   "metadata": {},
   "outputs": [
    {
     "data": {
      "text/plain": [
       "Index\n",
       "SSP1    object\n",
       "SSP2    object\n",
       "SSP3    object\n",
       "SSP4    object\n",
       "SSP5    object\n",
       "dtype: object"
      ]
     },
     "execution_count": 343,
     "metadata": {},
     "output_type": "execute_result"
    }
   ],
   "source": [
    "plotframe.dtypes"
   ]
  },
  {
   "cell_type": "markdown",
   "metadata": {},
   "source": [
    "Let's fix that: Convert all columns to integers."
   ]
  },
  {
   "cell_type": "code",
   "execution_count": 344,
   "metadata": {},
   "outputs": [
    {
     "name": "stderr",
     "output_type": "stream",
     "text": [
      "/Users/carsten/miniconda3/lib/python3.6/site-packages/ipykernel_launcher.py:2: SettingWithCopyWarning: \n",
      "A value is trying to be set on a copy of a slice from a DataFrame.\n",
      "Try using .loc[row_indexer,col_indexer] = value instead\n",
      "\n",
      "See the caveats in the documentation: http://pandas.pydata.org/pandas-docs/stable/indexing.html#indexing-view-versus-copy\n",
      "  \n"
     ]
    }
   ],
   "source": [
    "for col in plotframe.columns:\n",
    "    plotframe[col] = plotframe[col].astype(str).astype(int)\n",
    "\n",
    "# plotframe.dtypes"
   ]
  },
  {
   "cell_type": "markdown",
   "metadata": {},
   "source": [
    "To make plotting easier, let's stack them up:"
   ]
  },
  {
   "cell_type": "code",
   "execution_count": 345,
   "metadata": {
    "scrolled": true
   },
   "outputs": [],
   "source": [
    "plotframe = plotframe.stack()\n",
    "plotframe = plotframe.reset_index()\n",
    "# plotframe"
   ]
  },
  {
   "cell_type": "markdown",
   "metadata": {},
   "source": [
    "Fix the column names once more, and turn the population column into millions:"
   ]
  },
  {
   "cell_type": "code",
   "execution_count": 346,
   "metadata": {},
   "outputs": [],
   "source": [
    "plotframe.rename(columns={'level_0':'Year', 'Index':'SSP', 0:'Population (millions)'},inplace=True)\n",
    "plotframe['Population (millions)'] = plotframe['Population (millions)'] / 1000000.0\n",
    "# plotframe"
   ]
  },
  {
   "cell_type": "markdown",
   "metadata": {},
   "source": [
    "Now plotting is as easy as:"
   ]
  },
  {
   "cell_type": "code",
   "execution_count": 347,
   "metadata": {
    "scrolled": false
   },
   "outputs": [
    {
     "data": {
      "text/plain": [
       "Text(0.5,1,'Denmark')"
      ]
     },
     "execution_count": 347,
     "metadata": {},
     "output_type": "execute_result"
    },
    {
     "data": {
      "image/png": "[encoded data removed]",
      "text/plain": [
       "<Figure size 432x288 with 1 Axes>"
      ]
     },
     "metadata": {},
     "output_type": "display_data"
    }
   ],
   "source": [
    "sns.set() # switch to standard 'dark' Seaborn style \n",
    "sns.set_context(\"paper\")\n",
    "#sns.lineplot(data=plotframe, x=\"Year\", y=\"Population (millions)\")\n",
    "plot = sns.lineplot(data=plotframe, x=\"Year\", y=\"Population (millions)\", hue=\"SSP\")\n",
    "plot.set_title(country_name)\n"
   ]
  },
  {
   "cell_type": "markdown",
   "metadata": {},
   "source": [
    "Save a PDF of the plot"
   ]
  },
  {
   "cell_type": "code",
   "execution_count": 348,
   "metadata": {},
   "outputs": [],
   "source": [
    "fig = plot.get_figure()\n",
    "fig.savefig('plots/'+country_name+'.pdf') "
   ]
  },
  {
   "cell_type": "code",
   "execution_count": null,
   "metadata": {},
   "outputs": [],
   "source": []
  }
 ],
 "metadata": {
  "kernelspec": {
   "display_name": "Python 3",
   "language": "python",
   "name": "python3"
  },
  "language_info": {
   "codemirror_mode": {
    "name": "ipython",
    "version": 3
   },
   "file_extension": ".py",
   "mimetype": "text/x-python",
   "name": "python",
   "nbconvert_exporter": "python",
   "pygments_lexer": "ipython3",
   "version": "3.6.5"
  }
 },
 "nbformat": 4,
 "nbformat_minor": 2
}
