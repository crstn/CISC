{
 "cells": [
  {
   "cell_type": "markdown",
   "metadata": {},
   "source": [
    "# Explaining urbanization, step by step"
   ]
  },
  {
   "cell_type": "code",
   "execution_count": 22,
   "metadata": {
    "collapsed": true
   },
   "outputs": [],
   "source": [
    "%matplotlib inline\n",
    "\n",
    "import matplotlib\n",
    "import numpy as np\n",
    "import matplotlib.pyplot as plt"
   ]
  },
  {
   "cell_type": "markdown",
   "metadata": {},
   "source": [
    "This function gives us the indices of the N cells with the highest values from arrray (not necessarily ordered, but that doesn't matter for our purposes):"
   ]
  },
  {
   "cell_type": "code",
   "execution_count": null,
   "metadata": {
    "collapsed": true
   },
   "outputs": [],
   "source": [
    "def getIndicesOfTopNCells(N, arrrray):\n",
    "    return np.argpartition(arrrray, -N)[-N:]"
   ]
  },
  {
   "cell_type": "markdown",
   "metadata": {},
   "source": [
    "Construct a 10x10 matrix with random values as our urbanRural layer. As usual, 0=water, 1=rural, 2=urban:"
   ]
  },
  {
   "cell_type": "code",
   "execution_count": 58,
   "metadata": {
    "collapsed": false,
    "scrolled": true
   },
   "outputs": [
    {
     "name": "stdout",
     "output_type": "stream",
     "text": [
      "[[1 1 1 2 2 1 1 2 1 1]\n",
      " [0 2 2 1 2 0 0 0 0 2]\n",
      " [1 1 0 1 1 2 2 2 0 0]\n",
      " [0 0 0 2 2 2 1 0 0 0]\n",
      " [2 2 0 1 1 2 0 1 2 2]\n",
      " [0 0 1 2 0 0 2 0 2 1]\n",
      " [1 1 2 2 0 0 0 0 2 0]\n",
      " [2 2 0 0 2 1 2 2 1 1]\n",
      " [1 0 1 1 1 2 2 0 0 2]\n",
      " [1 2 2 2 0 1 0 1 2 0]]\n"
     ]
    }
   ],
   "source": [
    "urbanRural = np.random.random_integers(0,2,(10,10))\n",
    "print urbanRural"
   ]
  },
  {
   "cell_type": "markdown",
   "metadata": {},
   "source": [
    "In the following map, blue is water, white is rural, red is urban:"
   ]
  },
  {
   "cell_type": "code",
   "execution_count": 67,
   "metadata": {
    "collapsed": false
   },
   "outputs": [
    {
     "data": {
      "image/png": "[encoded data removed]",
      "text/plain": [
       "<matplotlib.figure.Figure at 0x1095d4310>"
      ]
     },
     "metadata": {},
     "output_type": "display_data"
    }
   ],
   "source": [
    "plt.imshow(urbanRural, cmap=\"seismic\")\n",
    "plt.show()"
   ]
  },
  {
   "cell_type": "markdown",
   "metadata": {},
   "source": [
    "Do the same for population. We'll just assume population between 0 and 100 here, the actual numbers don't matter. We'll also set the population in water cells to 0, since nobody lives there:"
   ]
  },
  {
   "cell_type": "code",
   "execution_count": 60,
   "metadata": {
    "collapsed": false,
    "scrolled": true
   },
   "outputs": [
    {
     "name": "stdout",
     "output_type": "stream",
     "text": [
      "[[ 45  49  93  96  41   9  33  39  87  48]\n",
      " [  0  62  58  58  78   0   0   0   0  82]\n",
      " [ 72  58   0   9  41  85  84  72   0   0]\n",
      " [  0   0   0   0  26  30  35   0   0   0]\n",
      " [ 34   6   0  35  79  53   0  33 100  58]\n",
      " [  0   0  44  43   0   0  97   0  31  75]\n",
      " [ 17   2  27  65   0   0   0   0  96   0]\n",
      " [ 14  57   0   0   2  24  22  87   7  84]\n",
      " [ 70   0  92  90  76  71  28   0   0  12]\n",
      " [ 68  67  70  17   0   1   0  77  66   0]]\n"
     ]
    }
   ],
   "source": [
    "population = np.random.random_integers(0,100,(10,10))\n",
    "population[urbanRural == 0] = 0\n",
    "print population"
   ]
  },
  {
   "cell_type": "code",
   "execution_count": 61,
   "metadata": {
    "collapsed": false
   },
   "outputs": [
    {
     "data": {
      "image/png": "[encoded data removed]",
      "text/plain": [
       "<matplotlib.figure.Figure at 0x109a0a750>"
      ]
     },
     "metadata": {},
     "output_type": "display_data"
    }
   ],
   "source": [
    "plt.imshow(population, cmap=\"OrRd\")\n",
    "plt.show()"
   ]
  },
  {
   "cell_type": "markdown",
   "metadata": {},
   "source": [
    "Let's set some constants:"
   ]
  },
  {
   "cell_type": "code",
   "execution_count": 62,
   "metadata": {
    "collapsed": true
   },
   "outputs": [],
   "source": [
    "ruralCell = 1\n",
    "urbanCell = 2"
   ]
  },
  {
   "cell_type": "markdown",
   "metadata": {},
   "source": [
    "Next, we'll turn both of our layers into 1D arrays, because that's how we process our data in the actual code:"
   ]
  },
  {
   "cell_type": "code",
   "execution_count": 63,
   "metadata": {
    "collapsed": false
   },
   "outputs": [],
   "source": [
    "urbanRuralFlat = urbanRural.ravel()\n",
    "populationFlat = population.ravel()"
   ]
  },
  {
   "cell_type": "markdown",
   "metadata": {},
   "source": [
    "**Here's the trick**: We make a copy of the population raster, *where the population of all urban cells is set to 0*, so that they get ignored when we look for the n rural cells with the highest population number in the next step:"
   ]
  },
  {
   "cell_type": "code",
   "execution_count": 64,
   "metadata": {
    "collapsed": false
   },
   "outputs": [],
   "source": [
    "popCopy = np.copy(populationFlat)\n",
    "popCopy[urbanRuralFlat == urbanCell] = 0"
   ]
  },
  {
   "cell_type": "code",
   "execution_count": 65,
   "metadata": {
    "collapsed": false
   },
   "outputs": [
    {
     "data": {
      "image/png": "[encoded data removed]",
      "text/plain": [
       "<matplotlib.figure.Figure at 0x109a9ac50>"
      ]
     },
     "metadata": {},
     "output_type": "display_data"
    }
   ],
   "source": [
    "plt.imshow(popCopy.reshape(10,10), cmap=\"OrRd\")\n",
    "plt.show()"
   ]
  },
  {
   "cell_type": "markdown",
   "metadata": {},
   "source": [
    "Now we can safely go ahead and pick the N cells with the highest values, because we know that the urban cells will be ignored because their population has been set to 0.\n",
    "\n",
    "We'll use 5 cells here for the sake of demonstration; in the actual code, the number is based on the percentage of population increase."
   ]
  },
  {
   "cell_type": "code",
   "execution_count": 66,
   "metadata": {
    "collapsed": false
   },
   "outputs": [
    {
     "data": {
      "text/plain": [
       "array([79,  8, 83,  2, 82])"
      ]
     },
     "execution_count": 66,
     "metadata": {},
     "output_type": "execute_result"
    }
   ],
   "source": [
    "convert = getIndicesOfTopNCells(5, popCopy)\n",
    "convert"
   ]
  },
  {
   "cell_type": "markdown",
   "metadata": {},
   "source": [
    "Now we just need to take those indeces and turn the cells at those locations in the urbanRural layer from rural to urban. We'll plot the layer before and after to show the effect."
   ]
  },
  {
   "cell_type": "code",
   "execution_count": 68,
   "metadata": {
    "collapsed": false
   },
   "outputs": [
    {
     "data": {
      "image/png": "[encoded data removed]",
      "text/plain": [
       "<matplotlib.figure.Figure at 0x10916e7d0>"
      ]
     },
     "metadata": {},
     "output_type": "display_data"
    },
    {
     "data": {
      "image/png": "[encoded data removed]",
      "text/plain": [
       "<matplotlib.figure.Figure at 0x10959a510>"
      ]
     },
     "metadata": {},
     "output_type": "display_data"
    }
   ],
   "source": [
    "plt.imshow(urbanRural, cmap=\"seismic\")\n",
    "plt.show()\n",
    "\n",
    "urbanRuralFlat[convert] = urbanCell\n",
    "\n",
    "plt.imshow(urbanRural, cmap=\"seismic\")\n",
    "plt.show()"
   ]
  },
  {
   "cell_type": "markdown",
   "metadata": {},
   "source": [
    "That's all folks ¯\\_(ツ)_/¯"
   ]
  },
  {
   "cell_type": "code",
   "execution_count": null,
   "metadata": {
    "collapsed": true
   },
   "outputs": [],
   "source": []
  }
 ],
 "metadata": {
  "kernelspec": {
   "display_name": "Python 2",
   "language": "python",
   "name": "python2"
  },
  "language_info": {
   "codemirror_mode": {
    "name": "ipython",
    "version": 2
   },
   "file_extension": ".py",
   "mimetype": "text/x-python",
   "name": "python",
   "nbconvert_exporter": "python",
   "pygments_lexer": "ipython2",
   "version": "2.7.11"
  }
 },
 "nbformat": 4,
 "nbformat_minor": 0
}
