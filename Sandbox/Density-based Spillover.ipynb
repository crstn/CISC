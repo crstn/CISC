{
 "cells": [
  {
   "cell_type": "markdown",
   "metadata": {},
   "source": [
    "First we'll generate an urba-rural layer, an areas grid, a population grid, and then calculate a density from the latter two:"
   ]
  },
  {
   "cell_type": "code",
   "execution_count": 1,
   "metadata": {
    "collapsed": true
   },
   "outputs": [],
   "source": [
    "%matplotlib inline\n",
    "\n",
    "import matplotlib\n",
    "import numpy as np\n",
    "import matplotlib.pyplot as plt"
   ]
  },
  {
   "cell_type": "code",
   "execution_count": 4,
   "metadata": {
    "collapsed": false
   },
   "outputs": [
    {
     "name": "stdout",
     "output_type": "stream",
     "text": [
      "[[2 2 0 2 0 2 2 2 1 1]\n",
      " [0 1 2 2 1 0 2 2 0 2]\n",
      " [1 0 0 0 0 1 0 1 2 2]\n",
      " [1 0 1 2 1 0 1 2 0 1]\n",
      " [0 2 2 0 2 0 0 1 0 2]\n",
      " [2 2 0 1 0 0 2 0 2 1]\n",
      " [2 0 1 1 1 1 0 1 2 0]\n",
      " [1 0 0 2 2 0 0 2 1 1]\n",
      " [2 1 1 0 1 1 2 1 2 1]\n",
      " [1 2 1 0 1 0 2 1 1 1]]\n"
     ]
    }
   ],
   "source": [
    "urbanRural = np.random.randint(0,3,(10,10))\n",
    "print urbanRural"
   ]
  },
  {
   "cell_type": "code",
   "execution_count": 5,
   "metadata": {
    "collapsed": false
   },
   "outputs": [
    {
     "data": {
      "image/png": "[encoded data removed]",
      "text/plain": [
       "<matplotlib.figure.Figure at 0x10b352690>"
      ]
     },
     "metadata": {},
     "output_type": "display_data"
    }
   ],
   "source": [
    "plt.imshow(urbanRural, cmap=\"seismic\")\n",
    "plt.show()"
   ]
  },
  {
   "cell_type": "code",
   "execution_count": 19,
   "metadata": {
    "collapsed": false
   },
   "outputs": [
    {
     "name": "stdout",
     "output_type": "stream",
     "text": [
      "[[ 0.1  0.1  0.1  0.1  0.1  0.1  0.1  0.1  0.1  0.1]\n",
      " [ 0.2  0.2  0.2  0.2  0.2  0.2  0.2  0.2  0.2  0.2]\n",
      " [ 0.3  0.3  0.3  0.3  0.3  0.3  0.3  0.3  0.3  0.3]\n",
      " [ 0.4  0.4  0.4  0.4  0.4  0.4  0.4  0.4  0.4  0.4]\n",
      " [ 0.5  0.5  0.5  0.5  0.5  0.5  0.5  0.5  0.5  0.5]\n",
      " [ 0.5  0.5  0.5  0.5  0.5  0.5  0.5  0.5  0.5  0.5]\n",
      " [ 0.4  0.4  0.4  0.4  0.4  0.4  0.4  0.4  0.4  0.4]\n",
      " [ 0.3  0.3  0.3  0.3  0.3  0.3  0.3  0.3  0.3  0.3]\n",
      " [ 0.2  0.2  0.2  0.2  0.2  0.2  0.2  0.2  0.2  0.2]\n",
      " [ 0.1  0.1  0.1  0.1  0.1  0.1  0.1  0.1  0.1  0.1]]\n"
     ]
    }
   ],
   "source": [
    "# make exegarrated areas grid:\n",
    "r = np.array([0.1,0.2,0.3,0.4,0.5,0.5,0.4,0.3,0.2,0.1])\n",
    "c = np.array([1,1,1,1,1,1,1,1,1,1])\n",
    "areas = np.outer(r,c)\n",
    "print areas"
   ]
  },
  {
   "cell_type": "code",
   "execution_count": 20,
   "metadata": {
    "collapsed": false
   },
   "outputs": [
    {
     "data": {
      "image/png": "[encoded data removed]",
      "text/plain": [
       "<matplotlib.figure.Figure at 0x10b499710>"
      ]
     },
     "metadata": {},
     "output_type": "display_data"
    }
   ],
   "source": [
    "plt.imshow(areas, cmap=\"OrRd\")\n",
    "plt.show()"
   ]
  },
  {
   "cell_type": "code",
   "execution_count": 22,
   "metadata": {
    "collapsed": false
   },
   "outputs": [
    {
     "name": "stdout",
     "output_type": "stream",
     "text": [
      "[[24 65  0 97  0 54 28  1  4 57]\n",
      " [ 0 33 91  4 44  0 91 46  0 99]\n",
      " [77  0  0  0  0 59  0 82 62 22]\n",
      " [11  0 32 14  6  0 95 61  0 70]\n",
      " [ 0 81 96  0 83  0  0 65  0 14]\n",
      " [25 56  0 10  0  0 51  0 87 68]\n",
      " [56  0 38 21 52 73  0 59 22  0]\n",
      " [40  0  0 43 59  0  0 43 55 65]\n",
      " [51 61 54  0 29 61 16 48 87 54]\n",
      " [37 34 19  0 69  0 27 97 78 95]]\n"
     ]
    }
   ],
   "source": [
    "# make a random population grid\n",
    "population = np.random.randint(0,100,(10,10))\n",
    "population[urbanRural == 0] = 0\n",
    "print population"
   ]
  },
  {
   "cell_type": "code",
   "execution_count": 25,
   "metadata": {
    "collapsed": false
   },
   "outputs": [
    {
     "data": {
      "image/png": "[encoded data removed]",
      "text/plain": [
       "<matplotlib.figure.Figure at 0x10b8e1550>"
      ]
     },
     "metadata": {},
     "output_type": "display_data"
    }
   ],
   "source": [
    "plt.imshow(population, cmap=\"OrRd\")\n",
    "plt.show()"
   ]
  },
  {
   "cell_type": "code",
   "execution_count": 26,
   "metadata": {
    "collapsed": false
   },
   "outputs": [
    {
     "name": "stdout",
     "output_type": "stream",
     "text": [
      "[[ 240.          650.            0.          970.            0.          540.\n",
      "   280.           10.           40.          570.        ]\n",
      " [   0.          165.          455.           20.          220.            0.\n",
      "   455.          230.            0.          495.        ]\n",
      " [ 256.66666667    0.            0.            0.            0.\n",
      "   196.66666667    0.          273.33333333  206.66666667   73.33333333]\n",
      " [  27.5           0.           80.           35.           15.            0.\n",
      "   237.5         152.5           0.          175.        ]\n",
      " [   0.          162.          192.            0.          166.            0.\n",
      "     0.          130.            0.           28.        ]\n",
      " [  50.          112.            0.           20.            0.            0.\n",
      "   102.            0.          174.          136.        ]\n",
      " [ 140.            0.           95.           52.5         130.          182.5\n",
      "     0.          147.5          55.            0.        ]\n",
      " [ 133.33333333    0.            0.          143.33333333  196.66666667\n",
      "     0.            0.          143.33333333  183.33333333  216.66666667]\n",
      " [ 255.          305.          270.            0.          145.          305.\n",
      "    80.          240.          435.          270.        ]\n",
      " [ 370.          340.          190.            0.          690.            0.\n",
      "   270.          970.          780.          950.        ]]\n"
     ]
    }
   ],
   "source": [
    "densities = np.divide(population, areas)\n",
    "print densities"
   ]
  },
  {
   "cell_type": "code",
   "execution_count": 27,
   "metadata": {
    "collapsed": false
   },
   "outputs": [
    {
     "data": {
      "image/png": "[encoded data removed]",
      "text/plain": [
       "<matplotlib.figure.Figure at 0x10b955910>"
      ]
     },
     "metadata": {},
     "output_type": "display_data"
    }
   ],
   "source": [
    "plt.imshow(densities, cmap=\"OrRd\")\n",
    "plt.show()"
   ]
  },
  {
   "cell_type": "markdown",
   "metadata": {},
   "source": [
    "Now we're ready to go. Next, we'll calculate the density limit at which we begin to spill over. For that, we need a thinning factor, which is used to simulate urban areas getting less dense over time, and the number of cells we take into account to calculate the threshold. In the actual script, the number will be higher (e.g., 50), but we'll go with 3 here. "
   ]
  },
  {
   "cell_type": "code",
   "execution_count": 29,
   "metadata": {
    "collapsed": true
   },
   "outputs": [],
   "source": [
    "# Factor to simulate densities in the highest density areas going down.\n",
    "thinningFactor = 0.95\n",
    "topNcells = 3\n",
    "\n",
    "ruralCell = 1\n",
    "urbanCell = 2\n",
    "\n",
    "# copied from PopFuntions.py\n",
    "def getTopNCells(N, arrrray):\n",
    "\n",
    "    \"\"\"Returns the highest N values from an array\"\"\"\n",
    "\n",
    "    p = np.partition(-arrrray, N)\n",
    "    pp = -p[:N]\n",
    "\n",
    "    return pp"
   ]
  },
  {
   "cell_type": "markdown",
   "metadata": {},
   "source": [
    "Now we calculate the limit from that:"
   ]
  },
  {
   "cell_type": "code",
   "execution_count": 32,
   "metadata": {
    "collapsed": false
   },
   "outputs": [
    {
     "name": "stdout",
     "output_type": "stream",
     "text": [
      "[ 240.          650.          970.          540.          280.           10.\n",
      "  455.           20.          455.          230.          495.\n",
      "  206.66666667   73.33333333   35.          152.5         162.          192.\n",
      "  166.           28.           50.          112.          102.          174.\n",
      "  140.           55.          143.33333333  196.66666667  143.33333333\n",
      "  255.           80.          435.          340.          270.        ]\n"
     ]
    }
   ],
   "source": [
    "urbanDensities = densities[urbanRural == urbanCell]\n",
    "\n",
    "print urbanDensities"
   ]
  },
  {
   "cell_type": "markdown",
   "metadata": {},
   "source": [
    "Let's get the N densest cells (covering cases with few or no urban calls in a country):"
   ]
  },
  {
   "cell_type": "code",
   "execution_count": 34,
   "metadata": {
    "collapsed": false
   },
   "outputs": [
    {
     "name": "stdout",
     "output_type": "stream",
     "text": [
      "[ 540.  650.  970.]\n"
     ]
    }
   ],
   "source": [
    "if urbanDensities.size > 0:\n",
    "    if urbanDensities.size >= topNcells:  # this is the common case\n",
    "        topN = getTopNCells(topNcells, urbanDensities)\n",
    "    # this catches countries which have urban cells, b ut very few\n",
    "    # (not sure this is actually an issue, just in case)\n",
    "    else:\n",
    "        topN = urbanDensities\n",
    "else:  # if there are no urban cells, \n",
    "    # take any cells in the densities raster:\n",
    "    topN = densities\n",
    "\n",
    "    \n",
    "print topN"
   ]
  },
  {
   "cell_type": "markdown",
   "metadata": {},
   "source": [
    "Now we can calculate the limit:"
   ]
  },
  {
   "cell_type": "code",
   "execution_count": 36,
   "metadata": {
    "collapsed": false
   },
   "outputs": [
    {
     "name": "stdout",
     "output_type": "stream",
     "text": [
      "684.0\n"
     ]
    }
   ],
   "source": [
    "# we'll use the mean of the top n cells of each country as the\n",
    "# maximum\n",
    "mx = np.nansum(topN) / topN.size\n",
    "# ... considering the thinning factor\n",
    "limit = mx * thinningFactor\n",
    "\n",
    "print limit"
   ]
  },
  {
   "cell_type": "markdown",
   "metadata": {},
   "source": [
    "Next, we'll select all cells where the density is above the limit:"
   ]
  },
  {
   "cell_type": "code",
   "execution_count": 37,
   "metadata": {
    "collapsed": false
   },
   "outputs": [
    {
     "name": "stdout",
     "output_type": "stream",
     "text": [
      "[[False False False  True False False False False False False]\n",
      " [False False False False False False False False False False]\n",
      " [False False False False False False False False False False]\n",
      " [False False False False False False False False False False]\n",
      " [False False False False False False False False False False]\n",
      " [False False False False False False False False False False]\n",
      " [False False False False False False False False False False]\n",
      " [False False False False False False False False False False]\n",
      " [False False False False False False False False False False]\n",
      " [False False False False  True False False  True  True  True]]\n"
     ]
    }
   ],
   "source": [
    "aboveLimit = densities > limit\n"
   ]
  },
  {
   "cell_type": "markdown",
   "metadata": {},
   "source": [
    "For those cells, we need to know how many people they can hold without exceeding the density limit. To calculate that, we just multiply the density limit with the area of the corresponding cell, this will give us the number of people that cell can hold without going over the density limit.\n",
    "\n",
    "We'll calculate the total number of people"
   ]
  },
  {
   "cell_type": "code",
   "execution_count": null,
   "metadata": {
    "collapsed": true
   },
   "outputs": [],
   "source": []
  }
 ],
 "metadata": {
  "kernelspec": {
   "display_name": "Python 2",
   "language": "python",
   "name": "python2"
  },
  "language_info": {
   "codemirror_mode": {
    "name": "ipython",
    "version": 2
   },
   "file_extension": ".py",
   "mimetype": "text/x-python",
   "name": "python",
   "nbconvert_exporter": "python",
   "pygments_lexer": "ipython2",
   "version": "2.7.11"
  }
 },
 "nbformat": 4,
 "nbformat_minor": 0
}
