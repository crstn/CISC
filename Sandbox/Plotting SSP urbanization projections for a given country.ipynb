{
  "cells": [
    {
      "cell_type": "code",
      "source": [
        "import pandas as pd\n",
        "import seaborn as sns\n",
        "import os"
      ],
      "outputs": [],
      "execution_count": 65,
      "metadata": {}
    },
    {
      "cell_type": "markdown",
      "source": [
        "Which country shall we plot?"
      ],
      "metadata": {}
    },
    {
      "cell_type": "code",
      "source": [
        "country = 'IND'"
      ],
      "outputs": [],
      "execution_count": 66,
      "metadata": {}
    },
    {
      "cell_type": "markdown",
      "source": [
        "Prepare the dataframe: Read in all 5 SSPs, combine them into one dataframe, and pick out only the rows for the current country:"
      ],
      "metadata": {}
    },
    {
      "cell_type": "code",
      "source": [
        "SSP1 = pd.read_csv(os.path.expanduser('~') + '/Dropbox/CISCdata/SSPs/pop-SSP1.csv', index_col=\"ISO\").assign(SSP=\"SSP1\")\n",
        "\n",
        "SSP2 = pd.read_csv(os.path.expanduser('~') + '/Dropbox/CISCdata/SSPs/pop-SSP2.csv', index_col=\"ISO\").assign(SSP=\"SSP2\")\n",
        "\n",
        "SSP3 = pd.read_csv(os.path.expanduser('~') + '/Dropbox/CISCdata/SSPs/pop-SSP3.csv', index_col=\"ISO\").assign(SSP=\"SSP3\")\n",
        "\n",
        "SSP4 = pd.read_csv(os.path.expanduser('~') + '/Dropbox/CISCdata/SSPs/pop-SSP4.csv', index_col=\"ISO\").assign(SSP=\"SSP4\")\n",
        "\n",
        "SSP5 = pd.read_csv(os.path.expanduser('~') + '/Dropbox/CISCdata/SSPs/pop-SSP5.csv', index_col=\"ISO\").assign(SSP=\"SSP5\")\n",
        "\n",
        "SSPs = pd.concat([SSP1, SSP2, SSP3, SSP4, SSP5])\n",
        "SSPs.rename(columns={'Major area, region, country or area':'Name'},inplace=True)\n",
        "SSPs.drop(columns=['Country code'], inplace=True)\n",
        "\nSSPs.loc[country]"
      ],
      "outputs": [
        {
          "output_type": "execute_result",
          "execution_count": 67,
          "data": {
            "text/html": [
              "<div>\n",
              "<style scoped>\n",
              "    .dataframe tbody tr th:only-of-type {\n",
              "        vertical-align: middle;\n",
              "    }\n",
              "\n",
              "    .dataframe tbody tr th {\n",
              "        vertical-align: top;\n",
              "    }\n",
              "\n",
              "    .dataframe thead th {\n",
              "        text-align: right;\n",
              "    }\n",
              "</style>\n",
              "<table border=\"1\" class=\"dataframe\">\n",
              "  <thead>\n",
              "    <tr style=\"text-align: right;\">\n",
              "      <th></th>\n",
              "      <th>2010</th>\n",
              "      <th>2020</th>\n",
              "      <th>2030</th>\n",
              "      <th>2040</th>\n",
              "      <th>2050</th>\n",
              "      <th>2060</th>\n",
              "      <th>2070</th>\n",
              "      <th>2080</th>\n",
              "      <th>2090</th>\n",
              "      <th>2100</th>\n",
              "      <th>Name</th>\n",
              "      <th>SSP</th>\n",
              "    </tr>\n",
              "    <tr>\n",
              "      <th>ISO</th>\n",
              "      <th></th>\n",
              "      <th></th>\n",
              "      <th></th>\n",
              "      <th></th>\n",
              "      <th></th>\n",
              "      <th></th>\n",
              "      <th></th>\n",
              "      <th></th>\n",
              "      <th></th>\n",
              "      <th></th>\n",
              "      <th></th>\n",
              "      <th></th>\n",
              "    </tr>\n",
              "  </thead>\n",
              "  <tbody>\n",
              "    <tr>\n",
              "      <th>FRA</th>\n",
              "      <td>62787416</td>\n",
              "      <td>66866930</td>\n",
              "      <td>71021614</td>\n",
              "      <td>75060076</td>\n",
              "      <td>78665302</td>\n",
              "      <td>81716712</td>\n",
              "      <td>83714163</td>\n",
              "      <td>84817937</td>\n",
              "      <td>84530884</td>\n",
              "      <td>83157542</td>\n",
              "      <td>France</td>\n",
              "      <td>SSP1</td>\n",
              "    </tr>\n",
              "    <tr>\n",
              "      <th>FRA</th>\n",
              "      <td>62787416</td>\n",
              "      <td>66609124</td>\n",
              "      <td>70324320</td>\n",
              "      <td>73707429</td>\n",
              "      <td>76503876</td>\n",
              "      <td>78866247</td>\n",
              "      <td>80865224</td>\n",
              "      <td>82440492</td>\n",
              "      <td>83226046</td>\n",
              "      <td>82969660</td>\n",
              "      <td>France</td>\n",
              "      <td>SSP2</td>\n",
              "    </tr>\n",
              "    <tr>\n",
              "      <th>FRA</th>\n",
              "      <td>62787416</td>\n",
              "      <td>65446500</td>\n",
              "      <td>66506237</td>\n",
              "      <td>66526692</td>\n",
              "      <td>65333938</td>\n",
              "      <td>63195046</td>\n",
              "      <td>60569317</td>\n",
              "      <td>57522920</td>\n",
              "      <td>53935317</td>\n",
              "      <td>49989253</td>\n",
              "      <td>France</td>\n",
              "      <td>SSP3</td>\n",
              "    </tr>\n",
              "    <tr>\n",
              "      <th>FRA</th>\n",
              "      <td>62787416</td>\n",
              "      <td>66144646</td>\n",
              "      <td>68774662</td>\n",
              "      <td>70731572</td>\n",
              "      <td>71650093</td>\n",
              "      <td>71671193</td>\n",
              "      <td>70996793</td>\n",
              "      <td>69624915</td>\n",
              "      <td>67238217</td>\n",
              "      <td>63734688</td>\n",
              "      <td>France</td>\n",
              "      <td>SSP4</td>\n",
              "    </tr>\n",
              "    <tr>\n",
              "      <th>FRA</th>\n",
              "      <td>62787416</td>\n",
              "      <td>67818320</td>\n",
              "      <td>74246966</td>\n",
              "      <td>81193136</td>\n",
              "      <td>88708683</td>\n",
              "      <td>96744404</td>\n",
              "      <td>104338944</td>\n",
              "      <td>111615438</td>\n",
              "      <td>118041209</td>\n",
              "      <td>123650857</td>\n",
              "      <td>France</td>\n",
              "      <td>SSP5</td>\n",
              "    </tr>\n",
              "  </tbody>\n",
              "</table>\n",
              "</div>"
            ],
            "text/plain": [
              "         2010      2020      2030      2040      2050      2060       2070  \\\n",
              "ISO                                                                          \n",
              "FRA  62787416  66866930  71021614  75060076  78665302  81716712   83714163   \n",
              "FRA  62787416  66609124  70324320  73707429  76503876  78866247   80865224   \n",
              "FRA  62787416  65446500  66506237  66526692  65333938  63195046   60569317   \n",
              "FRA  62787416  66144646  68774662  70731572  71650093  71671193   70996793   \n",
              "FRA  62787416  67818320  74246966  81193136  88708683  96744404  104338944   \n",
              "\n",
              "          2080       2090       2100    Name   SSP  \n",
              "ISO                                                 \n",
              "FRA   84817937   84530884   83157542  France  SSP1  \n",
              "FRA   82440492   83226046   82969660  France  SSP2  \n",
              "FRA   57522920   53935317   49989253  France  SSP3  \n",
              "FRA   69624915   67238217   63734688  France  SSP4  \n",
              "FRA  111615438  118041209  123650857  France  SSP5  "
            ]
          },
          "metadata": {}
        }
      ],
      "execution_count": 67,
      "metadata": {}
    },
    {
      "cell_type": "markdown",
      "source": [
        "To make the plotting easier, we'll pull out the name and then turn then transpose the table, turning rows to columns:"
      ],
      "metadata": {}
    },
    {
      "cell_type": "code",
      "source": [
        "filtered=SSPs.loc[country]\n",
        "filtered.set_index('SSP',inplace=True)\n",
        "filtered.index.names = ['Index']\n",
        "plotframe = filtered.transpose()\n",
        "plotframe"
      ],
      "outputs": [
        {
          "output_type": "execute_result",
          "execution_count": 68,
          "data": {
            "text/html": [
              "<div>\n",
              "<style scoped>\n",
              "    .dataframe tbody tr th:only-of-type {\n",
              "        vertical-align: middle;\n",
              "    }\n",
              "\n",
              "    .dataframe tbody tr th {\n",
              "        vertical-align: top;\n",
              "    }\n",
              "\n",
              "    .dataframe thead th {\n",
              "        text-align: right;\n",
              "    }\n",
              "</style>\n",
              "<table border=\"1\" class=\"dataframe\">\n",
              "  <thead>\n",
              "    <tr style=\"text-align: right;\">\n",
              "      <th>Index</th>\n",
              "      <th>SSP1</th>\n",
              "      <th>SSP2</th>\n",
              "      <th>SSP3</th>\n",
              "      <th>SSP4</th>\n",
              "      <th>SSP5</th>\n",
              "    </tr>\n",
              "  </thead>\n",
              "  <tbody>\n",
              "    <tr>\n",
              "      <th>2010</th>\n",
              "      <td>62787416</td>\n",
              "      <td>62787416</td>\n",
              "      <td>62787416</td>\n",
              "      <td>62787416</td>\n",
              "      <td>62787416</td>\n",
              "    </tr>\n",
              "    <tr>\n",
              "      <th>2020</th>\n",
              "      <td>66866930</td>\n",
              "      <td>66609124</td>\n",
              "      <td>65446500</td>\n",
              "      <td>66144646</td>\n",
              "      <td>67818320</td>\n",
              "    </tr>\n",
              "    <tr>\n",
              "      <th>2030</th>\n",
              "      <td>71021614</td>\n",
              "      <td>70324320</td>\n",
              "      <td>66506237</td>\n",
              "      <td>68774662</td>\n",
              "      <td>74246966</td>\n",
              "    </tr>\n",
              "    <tr>\n",
              "      <th>2040</th>\n",
              "      <td>75060076</td>\n",
              "      <td>73707429</td>\n",
              "      <td>66526692</td>\n",
              "      <td>70731572</td>\n",
              "      <td>81193136</td>\n",
              "    </tr>\n",
              "    <tr>\n",
              "      <th>2050</th>\n",
              "      <td>78665302</td>\n",
              "      <td>76503876</td>\n",
              "      <td>65333938</td>\n",
              "      <td>71650093</td>\n",
              "      <td>88708683</td>\n",
              "    </tr>\n",
              "    <tr>\n",
              "      <th>2060</th>\n",
              "      <td>81716712</td>\n",
              "      <td>78866247</td>\n",
              "      <td>63195046</td>\n",
              "      <td>71671193</td>\n",
              "      <td>96744404</td>\n",
              "    </tr>\n",
              "    <tr>\n",
              "      <th>2070</th>\n",
              "      <td>83714163</td>\n",
              "      <td>80865224</td>\n",
              "      <td>60569317</td>\n",
              "      <td>70996793</td>\n",
              "      <td>104338944</td>\n",
              "    </tr>\n",
              "    <tr>\n",
              "      <th>2080</th>\n",
              "      <td>84817937</td>\n",
              "      <td>82440492</td>\n",
              "      <td>57522920</td>\n",
              "      <td>69624915</td>\n",
              "      <td>111615438</td>\n",
              "    </tr>\n",
              "    <tr>\n",
              "      <th>2090</th>\n",
              "      <td>84530884</td>\n",
              "      <td>83226046</td>\n",
              "      <td>53935317</td>\n",
              "      <td>67238217</td>\n",
              "      <td>118041209</td>\n",
              "    </tr>\n",
              "    <tr>\n",
              "      <th>2100</th>\n",
              "      <td>83157542</td>\n",
              "      <td>82969660</td>\n",
              "      <td>49989253</td>\n",
              "      <td>63734688</td>\n",
              "      <td>123650857</td>\n",
              "    </tr>\n",
              "    <tr>\n",
              "      <th>Name</th>\n",
              "      <td>France</td>\n",
              "      <td>France</td>\n",
              "      <td>France</td>\n",
              "      <td>France</td>\n",
              "      <td>France</td>\n",
              "    </tr>\n",
              "  </tbody>\n",
              "</table>\n",
              "</div>"
            ],
            "text/plain": [
              "Index      SSP1      SSP2      SSP3      SSP4       SSP5\n",
              "2010   62787416  62787416  62787416  62787416   62787416\n",
              "2020   66866930  66609124  65446500  66144646   67818320\n",
              "2030   71021614  70324320  66506237  68774662   74246966\n",
              "2040   75060076  73707429  66526692  70731572   81193136\n",
              "2050   78665302  76503876  65333938  71650093   88708683\n",
              "2060   81716712  78866247  63195046  71671193   96744404\n",
              "2070   83714163  80865224  60569317  70996793  104338944\n",
              "2080   84817937  82440492  57522920  69624915  111615438\n",
              "2090   84530884  83226046  53935317  67238217  118041209\n",
              "2100   83157542  82969660  49989253  63734688  123650857\n",
              "Name     France    France    France    France     France"
            ]
          },
          "metadata": {}
        }
      ],
      "execution_count": 68,
      "metadata": {}
    },
    {
      "cell_type": "markdown",
      "source": [
        "Pick up the country name:"
      ],
      "metadata": {}
    },
    {
      "cell_type": "code",
      "source": [
        "country_name = plotframe.iloc[10,1]\n",
        "country_name"
      ],
      "outputs": [
        {
          "output_type": "execute_result",
          "execution_count": 69,
          "data": {
            "text/plain": [
              "'France'"
            ]
          },
          "metadata": {}
        }
      ],
      "execution_count": 69,
      "metadata": {}
    },
    {
      "cell_type": "markdown",
      "source": [
        "… and remove that last row:"
      ],
      "metadata": {}
    },
    {
      "cell_type": "code",
      "source": [
        "plotframe = plotframe[:-1]\n",
        "plotframe"
      ],
      "outputs": [
        {
          "output_type": "execute_result",
          "execution_count": 70,
          "data": {
            "text/html": [
              "<div>\n",
              "<style scoped>\n",
              "    .dataframe tbody tr th:only-of-type {\n",
              "        vertical-align: middle;\n",
              "    }\n",
              "\n",
              "    .dataframe tbody tr th {\n",
              "        vertical-align: top;\n",
              "    }\n",
              "\n",
              "    .dataframe thead th {\n",
              "        text-align: right;\n",
              "    }\n",
              "</style>\n",
              "<table border=\"1\" class=\"dataframe\">\n",
              "  <thead>\n",
              "    <tr style=\"text-align: right;\">\n",
              "      <th>Index</th>\n",
              "      <th>SSP1</th>\n",
              "      <th>SSP2</th>\n",
              "      <th>SSP3</th>\n",
              "      <th>SSP4</th>\n",
              "      <th>SSP5</th>\n",
              "    </tr>\n",
              "  </thead>\n",
              "  <tbody>\n",
              "    <tr>\n",
              "      <th>2010</th>\n",
              "      <td>62787416</td>\n",
              "      <td>62787416</td>\n",
              "      <td>62787416</td>\n",
              "      <td>62787416</td>\n",
              "      <td>62787416</td>\n",
              "    </tr>\n",
              "    <tr>\n",
              "      <th>2020</th>\n",
              "      <td>66866930</td>\n",
              "      <td>66609124</td>\n",
              "      <td>65446500</td>\n",
              "      <td>66144646</td>\n",
              "      <td>67818320</td>\n",
              "    </tr>\n",
              "    <tr>\n",
              "      <th>2030</th>\n",
              "      <td>71021614</td>\n",
              "      <td>70324320</td>\n",
              "      <td>66506237</td>\n",
              "      <td>68774662</td>\n",
              "      <td>74246966</td>\n",
              "    </tr>\n",
              "    <tr>\n",
              "      <th>2040</th>\n",
              "      <td>75060076</td>\n",
              "      <td>73707429</td>\n",
              "      <td>66526692</td>\n",
              "      <td>70731572</td>\n",
              "      <td>81193136</td>\n",
              "    </tr>\n",
              "    <tr>\n",
              "      <th>2050</th>\n",
              "      <td>78665302</td>\n",
              "      <td>76503876</td>\n",
              "      <td>65333938</td>\n",
              "      <td>71650093</td>\n",
              "      <td>88708683</td>\n",
              "    </tr>\n",
              "    <tr>\n",
              "      <th>2060</th>\n",
              "      <td>81716712</td>\n",
              "      <td>78866247</td>\n",
              "      <td>63195046</td>\n",
              "      <td>71671193</td>\n",
              "      <td>96744404</td>\n",
              "    </tr>\n",
              "    <tr>\n",
              "      <th>2070</th>\n",
              "      <td>83714163</td>\n",
              "      <td>80865224</td>\n",
              "      <td>60569317</td>\n",
              "      <td>70996793</td>\n",
              "      <td>104338944</td>\n",
              "    </tr>\n",
              "    <tr>\n",
              "      <th>2080</th>\n",
              "      <td>84817937</td>\n",
              "      <td>82440492</td>\n",
              "      <td>57522920</td>\n",
              "      <td>69624915</td>\n",
              "      <td>111615438</td>\n",
              "    </tr>\n",
              "    <tr>\n",
              "      <th>2090</th>\n",
              "      <td>84530884</td>\n",
              "      <td>83226046</td>\n",
              "      <td>53935317</td>\n",
              "      <td>67238217</td>\n",
              "      <td>118041209</td>\n",
              "    </tr>\n",
              "    <tr>\n",
              "      <th>2100</th>\n",
              "      <td>83157542</td>\n",
              "      <td>82969660</td>\n",
              "      <td>49989253</td>\n",
              "      <td>63734688</td>\n",
              "      <td>123650857</td>\n",
              "    </tr>\n",
              "  </tbody>\n",
              "</table>\n",
              "</div>"
            ],
            "text/plain": [
              "Index      SSP1      SSP2      SSP3      SSP4       SSP5\n",
              "2010   62787416  62787416  62787416  62787416   62787416\n",
              "2020   66866930  66609124  65446500  66144646   67818320\n",
              "2030   71021614  70324320  66506237  68774662   74246966\n",
              "2040   75060076  73707429  66526692  70731572   81193136\n",
              "2050   78665302  76503876  65333938  71650093   88708683\n",
              "2060   81716712  78866247  63195046  71671193   96744404\n",
              "2070   83714163  80865224  60569317  70996793  104338944\n",
              "2080   84817937  82440492  57522920  69624915  111615438\n",
              "2090   84530884  83226046  53935317  67238217  118041209\n",
              "2100   83157542  82969660  49989253  63734688  123650857"
            ]
          },
          "metadata": {}
        }
      ],
      "execution_count": 70,
      "metadata": {}
    },
    {
      "cell_type": "markdown",
      "source": [
        "Currently, the year is the index; we need to make it a regular column before plotting:"
      ],
      "metadata": {}
    },
    {
      "cell_type": "code",
      "source": [
        "#plotframe = plotframe.reset_index()\n",
        "#plotframe = plotframe.rename(columns={'index':'Year'})\n",
        "plotframe"
      ],
      "outputs": [
        {
          "output_type": "execute_result",
          "execution_count": 71,
          "data": {
            "text/html": [
              "<div>\n",
              "<style scoped>\n",
              "    .dataframe tbody tr th:only-of-type {\n",
              "        vertical-align: middle;\n",
              "    }\n",
              "\n",
              "    .dataframe tbody tr th {\n",
              "        vertical-align: top;\n",
              "    }\n",
              "\n",
              "    .dataframe thead th {\n",
              "        text-align: right;\n",
              "    }\n",
              "</style>\n",
              "<table border=\"1\" class=\"dataframe\">\n",
              "  <thead>\n",
              "    <tr style=\"text-align: right;\">\n",
              "      <th>Index</th>\n",
              "      <th>SSP1</th>\n",
              "      <th>SSP2</th>\n",
              "      <th>SSP3</th>\n",
              "      <th>SSP4</th>\n",
              "      <th>SSP5</th>\n",
              "    </tr>\n",
              "  </thead>\n",
              "  <tbody>\n",
              "    <tr>\n",
              "      <th>2010</th>\n",
              "      <td>62787416</td>\n",
              "      <td>62787416</td>\n",
              "      <td>62787416</td>\n",
              "      <td>62787416</td>\n",
              "      <td>62787416</td>\n",
              "    </tr>\n",
              "    <tr>\n",
              "      <th>2020</th>\n",
              "      <td>66866930</td>\n",
              "      <td>66609124</td>\n",
              "      <td>65446500</td>\n",
              "      <td>66144646</td>\n",
              "      <td>67818320</td>\n",
              "    </tr>\n",
              "    <tr>\n",
              "      <th>2030</th>\n",
              "      <td>71021614</td>\n",
              "      <td>70324320</td>\n",
              "      <td>66506237</td>\n",
              "      <td>68774662</td>\n",
              "      <td>74246966</td>\n",
              "    </tr>\n",
              "    <tr>\n",
              "      <th>2040</th>\n",
              "      <td>75060076</td>\n",
              "      <td>73707429</td>\n",
              "      <td>66526692</td>\n",
              "      <td>70731572</td>\n",
              "      <td>81193136</td>\n",
              "    </tr>\n",
              "    <tr>\n",
              "      <th>2050</th>\n",
              "      <td>78665302</td>\n",
              "      <td>76503876</td>\n",
              "      <td>65333938</td>\n",
              "      <td>71650093</td>\n",
              "      <td>88708683</td>\n",
              "    </tr>\n",
              "    <tr>\n",
              "      <th>2060</th>\n",
              "      <td>81716712</td>\n",
              "      <td>78866247</td>\n",
              "      <td>63195046</td>\n",
              "      <td>71671193</td>\n",
              "      <td>96744404</td>\n",
              "    </tr>\n",
              "    <tr>\n",
              "      <th>2070</th>\n",
              "      <td>83714163</td>\n",
              "      <td>80865224</td>\n",
              "      <td>60569317</td>\n",
              "      <td>70996793</td>\n",
              "      <td>104338944</td>\n",
              "    </tr>\n",
              "    <tr>\n",
              "      <th>2080</th>\n",
              "      <td>84817937</td>\n",
              "      <td>82440492</td>\n",
              "      <td>57522920</td>\n",
              "      <td>69624915</td>\n",
              "      <td>111615438</td>\n",
              "    </tr>\n",
              "    <tr>\n",
              "      <th>2090</th>\n",
              "      <td>84530884</td>\n",
              "      <td>83226046</td>\n",
              "      <td>53935317</td>\n",
              "      <td>67238217</td>\n",
              "      <td>118041209</td>\n",
              "    </tr>\n",
              "    <tr>\n",
              "      <th>2100</th>\n",
              "      <td>83157542</td>\n",
              "      <td>82969660</td>\n",
              "      <td>49989253</td>\n",
              "      <td>63734688</td>\n",
              "      <td>123650857</td>\n",
              "    </tr>\n",
              "  </tbody>\n",
              "</table>\n",
              "</div>"
            ],
            "text/plain": [
              "Index      SSP1      SSP2      SSP3      SSP4       SSP5\n",
              "2010   62787416  62787416  62787416  62787416   62787416\n",
              "2020   66866930  66609124  65446500  66144646   67818320\n",
              "2030   71021614  70324320  66506237  68774662   74246966\n",
              "2040   75060076  73707429  66526692  70731572   81193136\n",
              "2050   78665302  76503876  65333938  71650093   88708683\n",
              "2060   81716712  78866247  63195046  71671193   96744404\n",
              "2070   83714163  80865224  60569317  70996793  104338944\n",
              "2080   84817937  82440492  57522920  69624915  111615438\n",
              "2090   84530884  83226046  53935317  67238217  118041209\n",
              "2100   83157542  82969660  49989253  63734688  123650857"
            ]
          },
          "metadata": {}
        }
      ],
      "execution_count": 71,
      "metadata": {}
    },
    {
      "cell_type": "markdown",
      "source": [
        "If we try to plot, now this won't work. Here's why:"
      ],
      "metadata": {}
    },
    {
      "cell_type": "code",
      "source": [
        "plotframe.dtypes"
      ],
      "outputs": [
        {
          "output_type": "execute_result",
          "execution_count": 72,
          "data": {
            "text/plain": [
              "Index\n",
              "SSP1    object\n",
              "SSP2    object\n",
              "SSP3    object\n",
              "SSP4    object\n",
              "SSP5    object\n",
              "dtype: object"
            ]
          },
          "metadata": {}
        }
      ],
      "execution_count": 72,
      "metadata": {}
    },
    {
      "cell_type": "markdown",
      "source": [
        "Let's fix that: Convert all columns to integers."
      ],
      "metadata": {}
    },
    {
      "cell_type": "code",
      "source": [
        "for col in plotframe.columns:\n",
        "    plotframe[col] = plotframe[col].astype(str).astype(int)\n",
        "\n# plotframe.dtypes"
      ],
      "outputs": [
        {
          "output_type": "stream",
          "name": "stderr",
          "text": [
            "/Users/carsten/miniconda3/lib/python3.6/site-packages/ipykernel_launcher.py:2: SettingWithCopyWarning: \n",
            "A value is trying to be set on a copy of a slice from a DataFrame.\n",
            "Try using .loc[row_indexer,col_indexer] = value instead\n",
            "\n",
            "See the caveats in the documentation: http://pandas.pydata.org/pandas-docs/stable/indexing.html#indexing-view-versus-copy\n",
            "  \n"
          ]
        }
      ],
      "execution_count": 73,
      "metadata": {}
    },
    {
      "cell_type": "markdown",
      "source": [
        "To make plotting easier, let's stack them up:"
      ],
      "metadata": {}
    },
    {
      "cell_type": "code",
      "source": [
        "plotframe = plotframe.stack()\n",
        "plotframe = plotframe.reset_index()\n",
        "# plotframe"
      ],
      "outputs": [],
      "execution_count": 74,
      "metadata": {
        "scrolled": true
      }
    },
    {
      "cell_type": "markdown",
      "source": [
        "Fix the column names once more, and turn the population column into millions:"
      ],
      "metadata": {}
    },
    {
      "cell_type": "code",
      "source": [
        "plotframe.rename(columns={'level_0':'Year', 'Index':'SSP', 0:'Population (millions)'},inplace=True)\n",
        "plotframe['Population (millions)'] = plotframe['Population (millions)'] / 1000000.0\n",
        "# plotframe"
      ],
      "outputs": [],
      "execution_count": 75,
      "metadata": {}
    },
    {
      "cell_type": "markdown",
      "source": [
        "Before we plot, let's make a nice color palette:"
      ],
      "metadata": {}
    },
    {
      "cell_type": "code",
      "source": [
        "flatui = [\"#9b59b6\", \"#34495e\", \"#3498db\", \"#e74c3c\", \"#2ecc71\"]\n",
        "sns.set_palette(flatui)\n",
        "sns.palplot(sns.color_palette())"
      ],
      "outputs": [
        {
          "output_type": "display_data",
          "data": {
            "image/png": "[encoded data removed]",
            "text/plain": [
              "<Figure size 360x72 with 1 Axes>"
            ]
          },
          "metadata": {}
        }
      ],
      "execution_count": 76,
      "metadata": {}
    },
    {
      "cell_type": "markdown",
      "source": [
        "Make some adjustments to the seaborn settings: larger figure (\"paper\"), white background with grid:"
      ],
      "metadata": {}
    },
    {
      "cell_type": "code",
      "source": [
        "sns.set(context=\"paper\", style=\"whitegrid\") \n",
        "sns.set_palette(flatui)"
      ],
      "outputs": [],
      "execution_count": 77,
      "metadata": {}
    },
    {
      "cell_type": "markdown",
      "source": [
        "Now plotting is as easy as:"
      ],
      "metadata": {}
    },
    {
      "cell_type": "code",
      "source": [
        "plot = sns.lineplot(data=plotframe, x=\"Year\", y=\"Population (millions)\", hue=\"SSP\")\n",
        "plot.set_title(country_name)"
      ],
      "outputs": [
        {
          "output_type": "execute_result",
          "execution_count": 78,
          "data": {
            "text/plain": [
              "Text(0.5,1,'France')"
            ]
          },
          "metadata": {}
        },
        {
          "output_type": "display_data",
          "data": {
            "image/png": "[encoded data removed]",
            "text/plain": [
              "<Figure size 432x288 with 1 Axes>"
            ]
          },
          "metadata": {}
        }
      ],
      "execution_count": 78,
      "metadata": {
        "scrolled": false
      }
    },
    {
      "cell_type": "markdown",
      "source": [
        "Save a PDF of the plot"
      ],
      "metadata": {}
    },
    {
      "cell_type": "code",
      "source": [
        "fig = plot.get_figure()\n",
        "fig.savefig('plots/'+country_name+'.pdf') "
      ],
      "outputs": [],
      "execution_count": 79,
      "metadata": {}
    },
    {
      "cell_type": "code",
      "source": [],
      "outputs": [],
      "execution_count": null,
      "metadata": {}
    },
    {
      "cell_type": "code",
      "source": [],
      "outputs": [],
      "execution_count": null,
      "metadata": {}
    }
  ],
  "metadata": {
    "kernelspec": {
      "name": "python3",
      "language": "python",
      "display_name": "Python 3"
    },
    "language_info": {
      "name": "python",
      "version": "3.6.5",
      "mimetype": "text/x-python",
      "codemirror_mode": {
        "name": "ipython",
        "version": 3
      },
      "pygments_lexer": "ipython3",
      "nbconvert_exporter": "python",
      "file_extension": ".py"
    },
    "kernel_info": {
      "name": "python3"
    },
    "nteract": {
      "version": "0.11.7"
    }
  },
  "nbformat": 4,
  "nbformat_minor": 2
}